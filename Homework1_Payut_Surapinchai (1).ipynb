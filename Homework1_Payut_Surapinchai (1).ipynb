{
  "nbformat": 4,
  "nbformat_minor": 0,
  "metadata": {
    "colab": {
      "provenance": []
    },
    "kernelspec": {
      "name": "ir",
      "display_name": "R"
    },
    "language_info": {
      "name": "R"
    }
  },
  "cells": [
    {
      "cell_type": "markdown",
      "source": [
        "# <a name=\"HW1intro\">Homework 1: Due Wednesday, February 5 at 11:59 PM</a>\n",
        "\n",
        "---"
      ],
      "metadata": {
        "id": "TLH2NCL-V8J_"
      }
    },
    {
      "cell_type": "markdown",
      "source": [
        "## <a name=\"HW1Inst\">Instructions:</a>\n",
        "---\n",
        "\n",
        "1. <font color=\"tomato\">Either click the COPY TO DRIVE button or use the menu File/Save/Save a Copy to save your own version of the notebook in your own folder in Google Drive.</font>\n",
        "\n",
        "  - If you do not have a Google account, you will need to create a Google account in order to create your own individual copy of this notebook.\n",
        "  - By default, the notebook will be saved in a folder named **Colab Notebooks** in your drive.\n",
        "  - Feel free to name and store the notebook wherever you like!\n",
        "\n",
        "2. <font color=\"mediumseagreen\">After you have copied the notebook into your Drive, you can begin editing and saving your work.</font>\n",
        "\n",
        "**Upload your completed assignment into Canvas as a Google Colab (or Jupyter) Notebook with file extension `.ipynb`.**\n",
        "\n",
        "Upload your file into the Homework 1 assignment in Canvas before <font color=\"dodgerblue\">**11:59PM on Wednesday, February 5.**</font>\n",
        "\n",
        "**You must provide supporting work for your all of your answers.**\n",
        "\n",
        "  - <font color=\"dodgerblue\">That work will include using R code cells.</font>\n",
        "    - **Feel free to insert as much R code as you like.**\n",
        "    - You must interpret or explain how the output of a code cell is being utilized to solve the problem.\n",
        "    - **Code with incomplete or missing explanations of why the output is useful may not receive full credit.**\n",
        "  - <font color=\"dodgerblue\">Your work will also involve writing explanations and justifications in text cells.</font>\n",
        "    - **Be sure to type/write out the steps of your work/explanation so I can see how you arrived at your answer.**\n",
        "\n",
        "\n",
        "## Important Academic Policies:\n",
        "---\n",
        "\n",
        "- **Be your own work.** Though you may collaborate with others, everyone is responsible for writing up the work in their own way using their own methods. Plagiarism of any form is not tolerated.\n",
        "- **Be complete.** You must provide all work and/or explanations needed to find the solution. Answers with insufficient or incomplete supporting work may lose credit.\n",
        "- **Adhere to the Code of Academic Honesty.**\n",
        "- **Be clearly written (and legible if written).** Your solution to a problem must be clear, written in complete sentences. You may lose credit for work that is unclear or hard to follow.\n",
        "\n",
        "## <font color=\"dodgerblue\">Let me know if you need help, and **GOOD LUCK!!!**</font>\n",
        "\n",
        "----"
      ],
      "metadata": {
        "id": "gr9nGY7MSp23"
      }
    },
    {
      "cell_type": "markdown",
      "source": [
        "# <a name=\"HW1Qsample\">Sample Question</a>\n",
        "\n",
        "---\n",
        "\n",
        "Compute the standard deviation of the sequence $1, 2, 3, 4, 5$ and the sequence $10, 11, 12, 13, 14, 15$. Which sequence has a larger standard deviation?\n",
        "\n",
        "Note: Insert text and code cells to enter your code and type text to answer the question."
      ],
      "metadata": {
        "id": "KQUBpK0uARfs"
      }
    },
    {
      "cell_type": "code",
      "source": [
        "sd(1:5)  # standard deviation of first sequence\n",
        "sd(10:15)  # compared to standard deviation of second sequence"
      ],
      "metadata": {
        "colab": {
          "base_uri": "https://localhost:8080/",
          "height": 52
        },
        "id": "dRCKgPMEAozW",
        "outputId": "5236dbae-f9af-4a10-bccc-5c4cb01301d9"
      },
      "execution_count": null,
      "outputs": [
        {
          "output_type": "display_data",
          "data": {
            "text/html": [
              "1.58113883008419"
            ],
            "text/markdown": "1.58113883008419",
            "text/latex": "1.58113883008419",
            "text/plain": [
              "[1] 1.581139"
            ]
          },
          "metadata": {}
        },
        {
          "output_type": "display_data",
          "data": {
            "text/html": [
              "1.87082869338697"
            ],
            "text/markdown": "1.87082869338697",
            "text/latex": "1.87082869338697",
            "text/plain": [
              "[1] 1.870829"
            ]
          },
          "metadata": {}
        }
      ]
    },
    {
      "cell_type": "markdown",
      "source": [
        "## <a name=\"HW1Qsolution\">Solution to Sample Question</a>\n",
        "\n",
        "---\n",
        "\n",
        "In the code cell above, we see the standard deviation of $\\color{dodgerblue}{1, 2, 3, 4, 5}$ is $\\color{dodgerblue}{1.58}$ while the standard deviation of the $\\color{tomato}{10, 11, 12, 13, 14, 15}$ is $\\color{tomato}{1.87}$. Thus, the second sequence has a larger standard deviation."
      ],
      "metadata": {
        "id": "fBlhXDA7AbAj"
      }
    },
    {
      "cell_type": "markdown",
      "source": [
        "# <a name=\"quest0\">Question 0</a>\n",
        "\n",
        "---\n",
        "\n",
        "I need to know the email address associated with your Google account in order to return your work with grading comments. Please type the email address linked with your Google account in the space below.\n",
        "\n",
        "<br>\n",
        "\n",
        "## Enter Your Google Linked Email Below\n",
        "\n",
        "---\n",
        "\n",
        "<br>  \n",
        "\n",
        "\n",
        "Email: payut.surapinchai2005@gmail.com\n",
        "\n",
        "<br>  \n",
        "<br>  \n"
      ],
      "metadata": {
        "id": "HgcC8uNpVdVJ"
      }
    },
    {
      "cell_type": "markdown",
      "source": [
        "# <a name=\"HW1Q1\">Question 1</a>\n",
        "\n",
        "---\n",
        "\n",
        "If possible, create a possible data structure that satisfies each of the given conditions.\n",
        "\n",
        "- Be sure assign each data structure to an object that you name using the `snake_case` method.\n",
        "- In addition to storing each data structure to an object, print the contents of each to the screen so they can be viewed.\n",
        "\n",
        "If it is not possible to create such a data structure, instead of creating the data structure, write a complete sentence to explain why not in a text cell.\n",
        "\n",
        "Note: You will need to insert text and/or code cells **below each question** to enter your code and/or type text to answer each question.\n",
        "- Below the text cell where Question 1a is asked, insert a code cell or text cell to show your work to answer Question 1a.\n",
        "- Below the text cell for Question 1b, insert a code cell or text cell to show your work to answer Question 1b.\n",
        "- And so on.\n",
        "\n"
      ],
      "metadata": {
        "id": "5KL-2xeKRU9T"
      }
    },
    {
      "cell_type": "markdown",
      "source": [
        "## <a name=\"HW1Q1a\">Question 1a</a>\n",
        "\n",
        "---\n",
        "\n",
        "A vector of all even integers between 4 and 16.\n"
      ],
      "metadata": {
        "id": "g6Nautep4zf5"
      }
    },
    {
      "cell_type": "code",
      "source": [
        "(even_integers <- seq(4L,16L,2L))  # I made a sequence from 4 to 16 increasing by 2 and print it using parantheses, make sure to put L behind 4 and 16 because that's what makes the number becomes an integer in R"
      ],
      "metadata": {
        "colab": {
          "base_uri": "https://localhost:8080/",
          "height": 34
        },
        "id": "fVmU_2XAAD72",
        "outputId": "39c5af3a-1bd1-4df2-8fba-7ddb58a84b64"
      },
      "execution_count": null,
      "outputs": [
        {
          "output_type": "display_data",
          "data": {
            "text/html": [
              "<style>\n",
              ".list-inline {list-style: none; margin:0; padding: 0}\n",
              ".list-inline>li {display: inline-block}\n",
              ".list-inline>li:not(:last-child)::after {content: \"\\00b7\"; padding: 0 .5ex}\n",
              "</style>\n",
              "<ol class=list-inline><li>4</li><li>6</li><li>8</li><li>10</li><li>12</li><li>14</li><li>16</li></ol>\n"
            ],
            "text/markdown": "1. 4\n2. 6\n3. 8\n4. 10\n5. 12\n6. 14\n7. 16\n\n\n",
            "text/latex": "\\begin{enumerate*}\n\\item 4\n\\item 6\n\\item 8\n\\item 10\n\\item 12\n\\item 14\n\\item 16\n\\end{enumerate*}\n",
            "text/plain": [
              "[1]  4  6  8 10 12 14 16"
            ]
          },
          "metadata": {}
        }
      ]
    },
    {
      "cell_type": "markdown",
      "source": [
        "## <a name=\"HW1Q1b\">Question 1b</a>\n",
        "\n",
        "---\n",
        "\n",
        "A vector of 7 evenly spaced values between any two numbers of your choice.\n"
      ],
      "metadata": {
        "id": "dD6Ei9Dq7Ebl"
      }
    },
    {
      "cell_type": "code",
      "source": [
        "(evenly_spaced <- seq(2,14,2))  # I made a sequence from 2 to 14 with increment of 2 to make 7 evenly spaced values"
      ],
      "metadata": {
        "colab": {
          "base_uri": "https://localhost:8080/",
          "height": 34
        },
        "id": "3IqYjqkgAj-7",
        "outputId": "f25051a6-8da6-47fc-c0f2-3f380026089e"
      },
      "execution_count": null,
      "outputs": [
        {
          "output_type": "display_data",
          "data": {
            "text/html": [
              "<style>\n",
              ".list-inline {list-style: none; margin:0; padding: 0}\n",
              ".list-inline>li {display: inline-block}\n",
              ".list-inline>li:not(:last-child)::after {content: \"\\00b7\"; padding: 0 .5ex}\n",
              "</style>\n",
              "<ol class=list-inline><li>2</li><li>4</li><li>6</li><li>8</li><li>10</li><li>12</li><li>14</li></ol>\n"
            ],
            "text/markdown": "1. 2\n2. 4\n3. 6\n4. 8\n5. 10\n6. 12\n7. 14\n\n\n",
            "text/latex": "\\begin{enumerate*}\n\\item 2\n\\item 4\n\\item 6\n\\item 8\n\\item 10\n\\item 12\n\\item 14\n\\end{enumerate*}\n",
            "text/plain": [
              "[1]  2  4  6  8 10 12 14"
            ]
          },
          "metadata": {}
        }
      ]
    },
    {
      "cell_type": "markdown",
      "source": [
        "## <a name=\"HW1Q1c\">Question 1c</a>\n",
        "\n",
        "---\n",
        "\n",
        "A vector that contains four elements, all of which are character data type. You can determine whatever you want each element to be, just be sure each is a character data type.\n"
      ],
      "metadata": {
        "id": "vzuvUFwJ6r94"
      }
    },
    {
      "cell_type": "code",
      "source": [
        "(four_elements <- c(\"hi\",\"hello\",\"bonjour\",\"hey\"))  # I made a vector using c() with four character data type elements"
      ],
      "metadata": {
        "colab": {
          "base_uri": "https://localhost:8080/",
          "height": 34
        },
        "id": "UUZUCR6rBNfD",
        "outputId": "91342b17-51c9-405c-c576-b5af72b19687"
      },
      "execution_count": null,
      "outputs": [
        {
          "output_type": "display_data",
          "data": {
            "text/html": [
              "<style>\n",
              ".list-inline {list-style: none; margin:0; padding: 0}\n",
              ".list-inline>li {display: inline-block}\n",
              ".list-inline>li:not(:last-child)::after {content: \"\\00b7\"; padding: 0 .5ex}\n",
              "</style>\n",
              "<ol class=list-inline><li>'hi'</li><li>'hello'</li><li>'bonjour'</li><li>'hey'</li></ol>\n"
            ],
            "text/markdown": "1. 'hi'\n2. 'hello'\n3. 'bonjour'\n4. 'hey'\n\n\n",
            "text/latex": "\\begin{enumerate*}\n\\item 'hi'\n\\item 'hello'\n\\item 'bonjour'\n\\item 'hey'\n\\end{enumerate*}\n",
            "text/plain": [
              "[1] \"hi\"      \"hello\"   \"bonjour\" \"hey\"    "
            ]
          },
          "metadata": {}
        }
      ]
    },
    {
      "cell_type": "markdown",
      "source": [
        "## <a name=\"HW1Q1d\">Question 1d</a>\n",
        "\n",
        "---\n",
        "\n",
        "A vector that contains four elements, one of which is a character, one of which is a decimal (double), one of which is an integer, and one of which is a logical.\n",
        "\n"
      ],
      "metadata": {
        "id": "qStOWUyB8pel"
      }
    },
    {
      "cell_type": "markdown",
      "source": [
        "This is technically possible, but not in a way that you are thinking of because a vector can only contain single data type. By combining different data types, when you check the type of the vector (using typeof()), the vector's type would be appeared as character because every element in the vector will be treated as a character. (just wanted to explain more on the matter, but technically is possible)"
      ],
      "metadata": {
        "id": "0mtsQEP5Be1c"
      }
    },
    {
      "cell_type": "code",
      "source": [
        "(four_diff_elements <- c(\"hello\",1.13,15L,TRUE))  # will use this code section to demonstrate what I was trying to explain\n",
        "typeof(four_diff_elements)  # used to check the type of the vector and it will appear as character"
      ],
      "metadata": {
        "colab": {
          "base_uri": "https://localhost:8080/",
          "height": 52
        },
        "id": "M45nxMddBetC",
        "outputId": "a3b80b54-feb8-4b44-8e14-4aa07012d76d"
      },
      "execution_count": null,
      "outputs": [
        {
          "output_type": "display_data",
          "data": {
            "text/html": [
              "<style>\n",
              ".list-inline {list-style: none; margin:0; padding: 0}\n",
              ".list-inline>li {display: inline-block}\n",
              ".list-inline>li:not(:last-child)::after {content: \"\\00b7\"; padding: 0 .5ex}\n",
              "</style>\n",
              "<ol class=list-inline><li>'hello'</li><li>'1.13'</li><li>'15'</li><li>'TRUE'</li></ol>\n"
            ],
            "text/markdown": "1. 'hello'\n2. '1.13'\n3. '15'\n4. 'TRUE'\n\n\n",
            "text/latex": "\\begin{enumerate*}\n\\item 'hello'\n\\item '1.13'\n\\item '15'\n\\item 'TRUE'\n\\end{enumerate*}\n",
            "text/plain": [
              "[1] \"hello\" \"1.13\"  \"15\"    \"TRUE\" "
            ]
          },
          "metadata": {}
        },
        {
          "output_type": "display_data",
          "data": {
            "text/html": [
              "'character'"
            ],
            "text/markdown": "'character'",
            "text/latex": "'character'",
            "text/plain": [
              "[1] \"character\""
            ]
          },
          "metadata": {}
        }
      ]
    },
    {
      "cell_type": "markdown",
      "source": [
        "## <a name=\"HW1Q1e\">Question 1e</a>\n",
        "\n",
        "---\n",
        "\n",
        "A list that contains four elements, one of which is a character, one of which is a decimal (double), one of which is an integer, and one of which is a logical.\n"
      ],
      "metadata": {
        "id": "ZJYxh5MP7-QL"
      }
    },
    {
      "cell_type": "code",
      "source": [
        "(my_list <- list(\"hi\",4.3,13L,TRUE))  # I made a list consisting of 4 elements with different data types"
      ],
      "metadata": {
        "colab": {
          "base_uri": "https://localhost:8080/",
          "height": 114
        },
        "id": "07Ip4shMDIDf",
        "outputId": "f7729e61-eb3d-47d9-8258-9bd65340e9bb"
      },
      "execution_count": null,
      "outputs": [
        {
          "output_type": "display_data",
          "data": {
            "text/html": [
              "<ol>\n",
              "\t<li>'hi'</li>\n",
              "\t<li>4.3</li>\n",
              "\t<li>13</li>\n",
              "\t<li>TRUE</li>\n",
              "</ol>\n"
            ],
            "text/markdown": "1. 'hi'\n2. 4.3\n3. 13\n4. TRUE\n\n\n",
            "text/latex": "\\begin{enumerate}\n\\item 'hi'\n\\item 4.3\n\\item 13\n\\item TRUE\n\\end{enumerate}\n",
            "text/plain": [
              "[[1]]\n",
              "[1] \"hi\"\n",
              "\n",
              "[[2]]\n",
              "[1] 4.3\n",
              "\n",
              "[[3]]\n",
              "[1] 13\n",
              "\n",
              "[[4]]\n",
              "[1] TRUE\n"
            ]
          },
          "metadata": {}
        }
      ]
    },
    {
      "cell_type": "markdown",
      "source": [
        "# <a name=\"HW1Q2\">Question 2</a>\n",
        "\n",
        "---\n",
        "\n",
        "The data set `airquality` is already loaded in Colab by default. No pacakges need to be loaded to access the data set.\n",
        "\n",
        "- Insert a code cell below and run a command to access the help documentation for the `airquality` data set.\n",
        "\n",
        "- Then insert a text cell and answer the following questions:\n",
        "  - In what R package is the data set `airquality` contained?\n",
        "  - In what city are the measurements from?\n",
        "  - In what year were the measurements made?\n",
        "  - How many observations are in the data set?\n",
        "  - How many variables are in the data set?\n",
        "- When you answer the questions above, be sure to answer using complete sentences."
      ],
      "metadata": {
        "id": "j4dxN8qrska4"
      }
    },
    {
      "cell_type": "code",
      "source": [
        "?airquality"
      ],
      "metadata": {
        "id": "QOfKpnBeDbjw"
      },
      "execution_count": null,
      "outputs": []
    },
    {
      "cell_type": "markdown",
      "source": [
        "Answers:\n",
        "- The airquality is in the datasets package.\n",
        "- The measurements are from New York.\n",
        "- The measurements were made in 1973.\n",
        "- There are 153 observations in this data set.\n",
        "- There are 6 variables in the data set: Ozone, Solar.R, Wind, Temp, Month, and Day."
      ],
      "metadata": {
        "id": "FDk0VxH-DdTd"
      }
    },
    {
      "cell_type": "markdown",
      "source": [
        "# <a name=\"HW1Q3\">Question 3</a>\n",
        "\n",
        "---\n",
        "\n",
        "Insert a code cell(s) below to run a command(s) to answer the following questions.\n",
        "\n",
        "- For which variable(s) (if any) are there any missing values?\n",
        "- Which variable(s) (if any) are being stored as integers?\n",
        "- Which variable(s) (if any) are being stored as decimals?\n",
        "- Which variable(s) (if any) are being stored as characters?\n",
        "- Which variable(s) (if any) are being stored as factors?\n",
        "- Which variable(s) (if any) are being stored as logicals?\n",
        "\n",
        "Insert code cell(s) below and be sure to display the output from the commands relevant to answer the questions. Then type your answers in the solution text cell below."
      ],
      "metadata": {
        "id": "bRfBXuMgt3E7"
      }
    },
    {
      "cell_type": "code",
      "source": [
        "airquality$Day  # no missing values in Day"
      ],
      "metadata": {
        "colab": {
          "base_uri": "https://localhost:8080/",
          "height": 69
        },
        "id": "AOQc_5d46_Qr",
        "outputId": "68e497b5-9fef-4381-f60e-b7477209c59f"
      },
      "execution_count": null,
      "outputs": [
        {
          "output_type": "display_data",
          "data": {
            "text/html": [
              "<style>\n",
              ".list-inline {list-style: none; margin:0; padding: 0}\n",
              ".list-inline>li {display: inline-block}\n",
              ".list-inline>li:not(:last-child)::after {content: \"\\00b7\"; padding: 0 .5ex}\n",
              "</style>\n",
              "<ol class=list-inline><li>1</li><li>2</li><li>3</li><li>4</li><li>5</li><li>6</li><li>7</li><li>8</li><li>9</li><li>10</li><li>11</li><li>12</li><li>13</li><li>14</li><li>15</li><li>16</li><li>17</li><li>18</li><li>19</li><li>20</li><li>21</li><li>22</li><li>23</li><li>24</li><li>25</li><li>26</li><li>27</li><li>28</li><li>29</li><li>30</li><li>31</li><li>1</li><li>2</li><li>3</li><li>4</li><li>5</li><li>6</li><li>7</li><li>8</li><li>9</li><li>10</li><li>11</li><li>12</li><li>13</li><li>14</li><li>15</li><li>16</li><li>17</li><li>18</li><li>19</li><li>20</li><li>21</li><li>22</li><li>23</li><li>24</li><li>25</li><li>26</li><li>27</li><li>28</li><li>29</li><li>30</li><li>1</li><li>2</li><li>3</li><li>4</li><li>5</li><li>6</li><li>7</li><li>8</li><li>9</li><li>10</li><li>11</li><li>12</li><li>13</li><li>14</li><li>15</li><li>16</li><li>17</li><li>18</li><li>19</li><li>20</li><li>21</li><li>22</li><li>23</li><li>24</li><li>25</li><li>26</li><li>27</li><li>28</li><li>29</li><li>30</li><li>31</li><li>1</li><li>2</li><li>3</li><li>4</li><li>5</li><li>6</li><li>7</li><li>8</li><li>9</li><li>10</li><li>11</li><li>12</li><li>13</li><li>14</li><li>15</li><li>16</li><li>17</li><li>18</li><li>19</li><li>20</li><li>21</li><li>22</li><li>23</li><li>24</li><li>25</li><li>26</li><li>27</li><li>28</li><li>29</li><li>30</li><li>31</li><li>1</li><li>2</li><li>3</li><li>4</li><li>5</li><li>6</li><li>7</li><li>8</li><li>9</li><li>10</li><li>11</li><li>12</li><li>13</li><li>14</li><li>15</li><li>16</li><li>17</li><li>18</li><li>19</li><li>20</li><li>21</li><li>22</li><li>23</li><li>24</li><li>25</li><li>26</li><li>27</li><li>28</li><li>29</li><li>30</li></ol>\n"
            ],
            "text/markdown": "1. 1\n2. 2\n3. 3\n4. 4\n5. 5\n6. 6\n7. 7\n8. 8\n9. 9\n10. 10\n11. 11\n12. 12\n13. 13\n14. 14\n15. 15\n16. 16\n17. 17\n18. 18\n19. 19\n20. 20\n21. 21\n22. 22\n23. 23\n24. 24\n25. 25\n26. 26\n27. 27\n28. 28\n29. 29\n30. 30\n31. 31\n32. 1\n33. 2\n34. 3\n35. 4\n36. 5\n37. 6\n38. 7\n39. 8\n40. 9\n41. 10\n42. 11\n43. 12\n44. 13\n45. 14\n46. 15\n47. 16\n48. 17\n49. 18\n50. 19\n51. 20\n52. 21\n53. 22\n54. 23\n55. 24\n56. 25\n57. 26\n58. 27\n59. 28\n60. 29\n61. 30\n62. 1\n63. 2\n64. 3\n65. 4\n66. 5\n67. 6\n68. 7\n69. 8\n70. 9\n71. 10\n72. 11\n73. 12\n74. 13\n75. 14\n76. 15\n77. 16\n78. 17\n79. 18\n80. 19\n81. 20\n82. 21\n83. 22\n84. 23\n85. 24\n86. 25\n87. 26\n88. 27\n89. 28\n90. 29\n91. 30\n92. 31\n93. 1\n94. 2\n95. 3\n96. 4\n97. 5\n98. 6\n99. 7\n100. 8\n101. 9\n102. 10\n103. 11\n104. 12\n105. 13\n106. 14\n107. 15\n108. 16\n109. 17\n110. 18\n111. 19\n112. 20\n113. 21\n114. 22\n115. 23\n116. 24\n117. 25\n118. 26\n119. 27\n120. 28\n121. 29\n122. 30\n123. 31\n124. 1\n125. 2\n126. 3\n127. 4\n128. 5\n129. 6\n130. 7\n131. 8\n132. 9\n133. 10\n134. 11\n135. 12\n136. 13\n137. 14\n138. 15\n139. 16\n140. 17\n141. 18\n142. 19\n143. 20\n144. 21\n145. 22\n146. 23\n147. 24\n148. 25\n149. 26\n150. 27\n151. 28\n152. 29\n153. 30\n\n\n",
            "text/latex": "\\begin{enumerate*}\n\\item 1\n\\item 2\n\\item 3\n\\item 4\n\\item 5\n\\item 6\n\\item 7\n\\item 8\n\\item 9\n\\item 10\n\\item 11\n\\item 12\n\\item 13\n\\item 14\n\\item 15\n\\item 16\n\\item 17\n\\item 18\n\\item 19\n\\item 20\n\\item 21\n\\item 22\n\\item 23\n\\item 24\n\\item 25\n\\item 26\n\\item 27\n\\item 28\n\\item 29\n\\item 30\n\\item 31\n\\item 1\n\\item 2\n\\item 3\n\\item 4\n\\item 5\n\\item 6\n\\item 7\n\\item 8\n\\item 9\n\\item 10\n\\item 11\n\\item 12\n\\item 13\n\\item 14\n\\item 15\n\\item 16\n\\item 17\n\\item 18\n\\item 19\n\\item 20\n\\item 21\n\\item 22\n\\item 23\n\\item 24\n\\item 25\n\\item 26\n\\item 27\n\\item 28\n\\item 29\n\\item 30\n\\item 1\n\\item 2\n\\item 3\n\\item 4\n\\item 5\n\\item 6\n\\item 7\n\\item 8\n\\item 9\n\\item 10\n\\item 11\n\\item 12\n\\item 13\n\\item 14\n\\item 15\n\\item 16\n\\item 17\n\\item 18\n\\item 19\n\\item 20\n\\item 21\n\\item 22\n\\item 23\n\\item 24\n\\item 25\n\\item 26\n\\item 27\n\\item 28\n\\item 29\n\\item 30\n\\item 31\n\\item 1\n\\item 2\n\\item 3\n\\item 4\n\\item 5\n\\item 6\n\\item 7\n\\item 8\n\\item 9\n\\item 10\n\\item 11\n\\item 12\n\\item 13\n\\item 14\n\\item 15\n\\item 16\n\\item 17\n\\item 18\n\\item 19\n\\item 20\n\\item 21\n\\item 22\n\\item 23\n\\item 24\n\\item 25\n\\item 26\n\\item 27\n\\item 28\n\\item 29\n\\item 30\n\\item 31\n\\item 1\n\\item 2\n\\item 3\n\\item 4\n\\item 5\n\\item 6\n\\item 7\n\\item 8\n\\item 9\n\\item 10\n\\item 11\n\\item 12\n\\item 13\n\\item 14\n\\item 15\n\\item 16\n\\item 17\n\\item 18\n\\item 19\n\\item 20\n\\item 21\n\\item 22\n\\item 23\n\\item 24\n\\item 25\n\\item 26\n\\item 27\n\\item 28\n\\item 29\n\\item 30\n\\end{enumerate*}\n",
            "text/plain": [
              "  [1]  1  2  3  4  5  6  7  8  9 10 11 12 13 14 15 16 17 18 19 20 21 22 23 24 25\n",
              " [26] 26 27 28 29 30 31  1  2  3  4  5  6  7  8  9 10 11 12 13 14 15 16 17 18 19\n",
              " [51] 20 21 22 23 24 25 26 27 28 29 30  1  2  3  4  5  6  7  8  9 10 11 12 13 14\n",
              " [76] 15 16 17 18 19 20 21 22 23 24 25 26 27 28 29 30 31  1  2  3  4  5  6  7  8\n",
              "[101]  9 10 11 12 13 14 15 16 17 18 19 20 21 22 23 24 25 26 27 28 29 30 31  1  2\n",
              "[126]  3  4  5  6  7  8  9 10 11 12 13 14 15 16 17 18 19 20 21 22 23 24 25 26 27\n",
              "[151] 28 29 30"
            ]
          },
          "metadata": {}
        }
      ]
    },
    {
      "cell_type": "code",
      "source": [
        "airquality$Month  # no missing values in Month"
      ],
      "metadata": {
        "colab": {
          "base_uri": "https://localhost:8080/",
          "height": 52
        },
        "id": "lP19BmPs7N8B",
        "outputId": "5951b31d-5ec9-4612-c5d6-c6e4af6470a4"
      },
      "execution_count": null,
      "outputs": [
        {
          "output_type": "display_data",
          "data": {
            "text/html": [
              "<style>\n",
              ".list-inline {list-style: none; margin:0; padding: 0}\n",
              ".list-inline>li {display: inline-block}\n",
              ".list-inline>li:not(:last-child)::after {content: \"\\00b7\"; padding: 0 .5ex}\n",
              "</style>\n",
              "<ol class=list-inline><li>5</li><li>5</li><li>5</li><li>5</li><li>5</li><li>5</li><li>5</li><li>5</li><li>5</li><li>5</li><li>5</li><li>5</li><li>5</li><li>5</li><li>5</li><li>5</li><li>5</li><li>5</li><li>5</li><li>5</li><li>5</li><li>5</li><li>5</li><li>5</li><li>5</li><li>5</li><li>5</li><li>5</li><li>5</li><li>5</li><li>5</li><li>6</li><li>6</li><li>6</li><li>6</li><li>6</li><li>6</li><li>6</li><li>6</li><li>6</li><li>6</li><li>6</li><li>6</li><li>6</li><li>6</li><li>6</li><li>6</li><li>6</li><li>6</li><li>6</li><li>6</li><li>6</li><li>6</li><li>6</li><li>6</li><li>6</li><li>6</li><li>6</li><li>6</li><li>6</li><li>6</li><li>7</li><li>7</li><li>7</li><li>7</li><li>7</li><li>7</li><li>7</li><li>7</li><li>7</li><li>7</li><li>7</li><li>7</li><li>7</li><li>7</li><li>7</li><li>7</li><li>7</li><li>7</li><li>7</li><li>7</li><li>7</li><li>7</li><li>7</li><li>7</li><li>7</li><li>7</li><li>7</li><li>7</li><li>7</li><li>7</li><li>7</li><li>8</li><li>8</li><li>8</li><li>8</li><li>8</li><li>8</li><li>8</li><li>8</li><li>8</li><li>8</li><li>8</li><li>8</li><li>8</li><li>8</li><li>8</li><li>8</li><li>8</li><li>8</li><li>8</li><li>8</li><li>8</li><li>8</li><li>8</li><li>8</li><li>8</li><li>8</li><li>8</li><li>8</li><li>8</li><li>8</li><li>8</li><li>9</li><li>9</li><li>9</li><li>9</li><li>9</li><li>9</li><li>9</li><li>9</li><li>9</li><li>9</li><li>9</li><li>9</li><li>9</li><li>9</li><li>9</li><li>9</li><li>9</li><li>9</li><li>9</li><li>9</li><li>9</li><li>9</li><li>9</li><li>9</li><li>9</li><li>9</li><li>9</li><li>9</li><li>9</li><li>9</li></ol>\n"
            ],
            "text/markdown": "1. 5\n2. 5\n3. 5\n4. 5\n5. 5\n6. 5\n7. 5\n8. 5\n9. 5\n10. 5\n11. 5\n12. 5\n13. 5\n14. 5\n15. 5\n16. 5\n17. 5\n18. 5\n19. 5\n20. 5\n21. 5\n22. 5\n23. 5\n24. 5\n25. 5\n26. 5\n27. 5\n28. 5\n29. 5\n30. 5\n31. 5\n32. 6\n33. 6\n34. 6\n35. 6\n36. 6\n37. 6\n38. 6\n39. 6\n40. 6\n41. 6\n42. 6\n43. 6\n44. 6\n45. 6\n46. 6\n47. 6\n48. 6\n49. 6\n50. 6\n51. 6\n52. 6\n53. 6\n54. 6\n55. 6\n56. 6\n57. 6\n58. 6\n59. 6\n60. 6\n61. 6\n62. 7\n63. 7\n64. 7\n65. 7\n66. 7\n67. 7\n68. 7\n69. 7\n70. 7\n71. 7\n72. 7\n73. 7\n74. 7\n75. 7\n76. 7\n77. 7\n78. 7\n79. 7\n80. 7\n81. 7\n82. 7\n83. 7\n84. 7\n85. 7\n86. 7\n87. 7\n88. 7\n89. 7\n90. 7\n91. 7\n92. 7\n93. 8\n94. 8\n95. 8\n96. 8\n97. 8\n98. 8\n99. 8\n100. 8\n101. 8\n102. 8\n103. 8\n104. 8\n105. 8\n106. 8\n107. 8\n108. 8\n109. 8\n110. 8\n111. 8\n112. 8\n113. 8\n114. 8\n115. 8\n116. 8\n117. 8\n118. 8\n119. 8\n120. 8\n121. 8\n122. 8\n123. 8\n124. 9\n125. 9\n126. 9\n127. 9\n128. 9\n129. 9\n130. 9\n131. 9\n132. 9\n133. 9\n134. 9\n135. 9\n136. 9\n137. 9\n138. 9\n139. 9\n140. 9\n141. 9\n142. 9\n143. 9\n144. 9\n145. 9\n146. 9\n147. 9\n148. 9\n149. 9\n150. 9\n151. 9\n152. 9\n153. 9\n\n\n",
            "text/latex": "\\begin{enumerate*}\n\\item 5\n\\item 5\n\\item 5\n\\item 5\n\\item 5\n\\item 5\n\\item 5\n\\item 5\n\\item 5\n\\item 5\n\\item 5\n\\item 5\n\\item 5\n\\item 5\n\\item 5\n\\item 5\n\\item 5\n\\item 5\n\\item 5\n\\item 5\n\\item 5\n\\item 5\n\\item 5\n\\item 5\n\\item 5\n\\item 5\n\\item 5\n\\item 5\n\\item 5\n\\item 5\n\\item 5\n\\item 6\n\\item 6\n\\item 6\n\\item 6\n\\item 6\n\\item 6\n\\item 6\n\\item 6\n\\item 6\n\\item 6\n\\item 6\n\\item 6\n\\item 6\n\\item 6\n\\item 6\n\\item 6\n\\item 6\n\\item 6\n\\item 6\n\\item 6\n\\item 6\n\\item 6\n\\item 6\n\\item 6\n\\item 6\n\\item 6\n\\item 6\n\\item 6\n\\item 6\n\\item 6\n\\item 7\n\\item 7\n\\item 7\n\\item 7\n\\item 7\n\\item 7\n\\item 7\n\\item 7\n\\item 7\n\\item 7\n\\item 7\n\\item 7\n\\item 7\n\\item 7\n\\item 7\n\\item 7\n\\item 7\n\\item 7\n\\item 7\n\\item 7\n\\item 7\n\\item 7\n\\item 7\n\\item 7\n\\item 7\n\\item 7\n\\item 7\n\\item 7\n\\item 7\n\\item 7\n\\item 7\n\\item 8\n\\item 8\n\\item 8\n\\item 8\n\\item 8\n\\item 8\n\\item 8\n\\item 8\n\\item 8\n\\item 8\n\\item 8\n\\item 8\n\\item 8\n\\item 8\n\\item 8\n\\item 8\n\\item 8\n\\item 8\n\\item 8\n\\item 8\n\\item 8\n\\item 8\n\\item 8\n\\item 8\n\\item 8\n\\item 8\n\\item 8\n\\item 8\n\\item 8\n\\item 8\n\\item 8\n\\item 9\n\\item 9\n\\item 9\n\\item 9\n\\item 9\n\\item 9\n\\item 9\n\\item 9\n\\item 9\n\\item 9\n\\item 9\n\\item 9\n\\item 9\n\\item 9\n\\item 9\n\\item 9\n\\item 9\n\\item 9\n\\item 9\n\\item 9\n\\item 9\n\\item 9\n\\item 9\n\\item 9\n\\item 9\n\\item 9\n\\item 9\n\\item 9\n\\item 9\n\\item 9\n\\end{enumerate*}\n",
            "text/plain": [
              "  [1] 5 5 5 5 5 5 5 5 5 5 5 5 5 5 5 5 5 5 5 5 5 5 5 5 5 5 5 5 5 5 5 6 6 6 6 6 6\n",
              " [38] 6 6 6 6 6 6 6 6 6 6 6 6 6 6 6 6 6 6 6 6 6 6 6 6 7 7 7 7 7 7 7 7 7 7 7 7 7\n",
              " [75] 7 7 7 7 7 7 7 7 7 7 7 7 7 7 7 7 7 7 8 8 8 8 8 8 8 8 8 8 8 8 8 8 8 8 8 8 8\n",
              "[112] 8 8 8 8 8 8 8 8 8 8 8 8 9 9 9 9 9 9 9 9 9 9 9 9 9 9 9 9 9 9 9 9 9 9 9 9 9\n",
              "[149] 9 9 9 9 9"
            ]
          },
          "metadata": {}
        }
      ]
    },
    {
      "cell_type": "code",
      "source": [
        "airquality$Ozone  # there are missing values (<NA>) in Ozone"
      ],
      "metadata": {
        "colab": {
          "base_uri": "https://localhost:8080/",
          "height": 69
        },
        "id": "jmU94xd-7UTp",
        "outputId": "22147aef-d0dd-483c-cabf-73d733262198"
      },
      "execution_count": null,
      "outputs": [
        {
          "output_type": "display_data",
          "data": {
            "text/html": [
              "<style>\n",
              ".list-inline {list-style: none; margin:0; padding: 0}\n",
              ".list-inline>li {display: inline-block}\n",
              ".list-inline>li:not(:last-child)::after {content: \"\\00b7\"; padding: 0 .5ex}\n",
              "</style>\n",
              "<ol class=list-inline><li>41</li><li>36</li><li>12</li><li>18</li><li>&lt;NA&gt;</li><li>28</li><li>23</li><li>19</li><li>8</li><li>&lt;NA&gt;</li><li>7</li><li>16</li><li>11</li><li>14</li><li>18</li><li>14</li><li>34</li><li>6</li><li>30</li><li>11</li><li>1</li><li>11</li><li>4</li><li>32</li><li>&lt;NA&gt;</li><li>&lt;NA&gt;</li><li>&lt;NA&gt;</li><li>23</li><li>45</li><li>115</li><li>37</li><li>&lt;NA&gt;</li><li>&lt;NA&gt;</li><li>&lt;NA&gt;</li><li>&lt;NA&gt;</li><li>&lt;NA&gt;</li><li>&lt;NA&gt;</li><li>29</li><li>&lt;NA&gt;</li><li>71</li><li>39</li><li>&lt;NA&gt;</li><li>&lt;NA&gt;</li><li>23</li><li>&lt;NA&gt;</li><li>&lt;NA&gt;</li><li>21</li><li>37</li><li>20</li><li>12</li><li>13</li><li>&lt;NA&gt;</li><li>&lt;NA&gt;</li><li>&lt;NA&gt;</li><li>&lt;NA&gt;</li><li>&lt;NA&gt;</li><li>&lt;NA&gt;</li><li>&lt;NA&gt;</li><li>&lt;NA&gt;</li><li>&lt;NA&gt;</li><li>&lt;NA&gt;</li><li>135</li><li>49</li><li>32</li><li>&lt;NA&gt;</li><li>64</li><li>40</li><li>77</li><li>97</li><li>97</li><li>85</li><li>&lt;NA&gt;</li><li>10</li><li>27</li><li>&lt;NA&gt;</li><li>7</li><li>48</li><li>35</li><li>61</li><li>79</li><li>63</li><li>16</li><li>&lt;NA&gt;</li><li>&lt;NA&gt;</li><li>80</li><li>108</li><li>20</li><li>52</li><li>82</li><li>50</li><li>64</li><li>59</li><li>39</li><li>9</li><li>16</li><li>78</li><li>35</li><li>66</li><li>122</li><li>89</li><li>110</li><li>&lt;NA&gt;</li><li>&lt;NA&gt;</li><li>44</li><li>28</li><li>65</li><li>&lt;NA&gt;</li><li>22</li><li>59</li><li>23</li><li>31</li><li>44</li><li>21</li><li>9</li><li>&lt;NA&gt;</li><li>45</li><li>168</li><li>73</li><li>&lt;NA&gt;</li><li>76</li><li>118</li><li>84</li><li>85</li><li>96</li><li>78</li><li>73</li><li>91</li><li>47</li><li>32</li><li>20</li><li>23</li><li>21</li><li>24</li><li>44</li><li>21</li><li>28</li><li>9</li><li>13</li><li>46</li><li>18</li><li>13</li><li>24</li><li>16</li><li>13</li><li>23</li><li>36</li><li>7</li><li>14</li><li>30</li><li>&lt;NA&gt;</li><li>14</li><li>18</li><li>20</li></ol>\n"
            ],
            "text/markdown": "1. 41\n2. 36\n3. 12\n4. 18\n5. &lt;NA&gt;\n6. 28\n7. 23\n8. 19\n9. 8\n10. &lt;NA&gt;\n11. 7\n12. 16\n13. 11\n14. 14\n15. 18\n16. 14\n17. 34\n18. 6\n19. 30\n20. 11\n21. 1\n22. 11\n23. 4\n24. 32\n25. &lt;NA&gt;\n26. &lt;NA&gt;\n27. &lt;NA&gt;\n28. 23\n29. 45\n30. 115\n31. 37\n32. &lt;NA&gt;\n33. &lt;NA&gt;\n34. &lt;NA&gt;\n35. &lt;NA&gt;\n36. &lt;NA&gt;\n37. &lt;NA&gt;\n38. 29\n39. &lt;NA&gt;\n40. 71\n41. 39\n42. &lt;NA&gt;\n43. &lt;NA&gt;\n44. 23\n45. &lt;NA&gt;\n46. &lt;NA&gt;\n47. 21\n48. 37\n49. 20\n50. 12\n51. 13\n52. &lt;NA&gt;\n53. &lt;NA&gt;\n54. &lt;NA&gt;\n55. &lt;NA&gt;\n56. &lt;NA&gt;\n57. &lt;NA&gt;\n58. &lt;NA&gt;\n59. &lt;NA&gt;\n60. &lt;NA&gt;\n61. &lt;NA&gt;\n62. 135\n63. 49\n64. 32\n65. &lt;NA&gt;\n66. 64\n67. 40\n68. 77\n69. 97\n70. 97\n71. 85\n72. &lt;NA&gt;\n73. 10\n74. 27\n75. &lt;NA&gt;\n76. 7\n77. 48\n78. 35\n79. 61\n80. 79\n81. 63\n82. 16\n83. &lt;NA&gt;\n84. &lt;NA&gt;\n85. 80\n86. 108\n87. 20\n88. 52\n89. 82\n90. 50\n91. 64\n92. 59\n93. 39\n94. 9\n95. 16\n96. 78\n97. 35\n98. 66\n99. 122\n100. 89\n101. 110\n102. &lt;NA&gt;\n103. &lt;NA&gt;\n104. 44\n105. 28\n106. 65\n107. &lt;NA&gt;\n108. 22\n109. 59\n110. 23\n111. 31\n112. 44\n113. 21\n114. 9\n115. &lt;NA&gt;\n116. 45\n117. 168\n118. 73\n119. &lt;NA&gt;\n120. 76\n121. 118\n122. 84\n123. 85\n124. 96\n125. 78\n126. 73\n127. 91\n128. 47\n129. 32\n130. 20\n131. 23\n132. 21\n133. 24\n134. 44\n135. 21\n136. 28\n137. 9\n138. 13\n139. 46\n140. 18\n141. 13\n142. 24\n143. 16\n144. 13\n145. 23\n146. 36\n147. 7\n148. 14\n149. 30\n150. &lt;NA&gt;\n151. 14\n152. 18\n153. 20\n\n\n",
            "text/latex": "\\begin{enumerate*}\n\\item 41\n\\item 36\n\\item 12\n\\item 18\n\\item <NA>\n\\item 28\n\\item 23\n\\item 19\n\\item 8\n\\item <NA>\n\\item 7\n\\item 16\n\\item 11\n\\item 14\n\\item 18\n\\item 14\n\\item 34\n\\item 6\n\\item 30\n\\item 11\n\\item 1\n\\item 11\n\\item 4\n\\item 32\n\\item <NA>\n\\item <NA>\n\\item <NA>\n\\item 23\n\\item 45\n\\item 115\n\\item 37\n\\item <NA>\n\\item <NA>\n\\item <NA>\n\\item <NA>\n\\item <NA>\n\\item <NA>\n\\item 29\n\\item <NA>\n\\item 71\n\\item 39\n\\item <NA>\n\\item <NA>\n\\item 23\n\\item <NA>\n\\item <NA>\n\\item 21\n\\item 37\n\\item 20\n\\item 12\n\\item 13\n\\item <NA>\n\\item <NA>\n\\item <NA>\n\\item <NA>\n\\item <NA>\n\\item <NA>\n\\item <NA>\n\\item <NA>\n\\item <NA>\n\\item <NA>\n\\item 135\n\\item 49\n\\item 32\n\\item <NA>\n\\item 64\n\\item 40\n\\item 77\n\\item 97\n\\item 97\n\\item 85\n\\item <NA>\n\\item 10\n\\item 27\n\\item <NA>\n\\item 7\n\\item 48\n\\item 35\n\\item 61\n\\item 79\n\\item 63\n\\item 16\n\\item <NA>\n\\item <NA>\n\\item 80\n\\item 108\n\\item 20\n\\item 52\n\\item 82\n\\item 50\n\\item 64\n\\item 59\n\\item 39\n\\item 9\n\\item 16\n\\item 78\n\\item 35\n\\item 66\n\\item 122\n\\item 89\n\\item 110\n\\item <NA>\n\\item <NA>\n\\item 44\n\\item 28\n\\item 65\n\\item <NA>\n\\item 22\n\\item 59\n\\item 23\n\\item 31\n\\item 44\n\\item 21\n\\item 9\n\\item <NA>\n\\item 45\n\\item 168\n\\item 73\n\\item <NA>\n\\item 76\n\\item 118\n\\item 84\n\\item 85\n\\item 96\n\\item 78\n\\item 73\n\\item 91\n\\item 47\n\\item 32\n\\item 20\n\\item 23\n\\item 21\n\\item 24\n\\item 44\n\\item 21\n\\item 28\n\\item 9\n\\item 13\n\\item 46\n\\item 18\n\\item 13\n\\item 24\n\\item 16\n\\item 13\n\\item 23\n\\item 36\n\\item 7\n\\item 14\n\\item 30\n\\item <NA>\n\\item 14\n\\item 18\n\\item 20\n\\end{enumerate*}\n",
            "text/plain": [
              "  [1]  41  36  12  18  NA  28  23  19   8  NA   7  16  11  14  18  14  34   6\n",
              " [19]  30  11   1  11   4  32  NA  NA  NA  23  45 115  37  NA  NA  NA  NA  NA\n",
              " [37]  NA  29  NA  71  39  NA  NA  23  NA  NA  21  37  20  12  13  NA  NA  NA\n",
              " [55]  NA  NA  NA  NA  NA  NA  NA 135  49  32  NA  64  40  77  97  97  85  NA\n",
              " [73]  10  27  NA   7  48  35  61  79  63  16  NA  NA  80 108  20  52  82  50\n",
              " [91]  64  59  39   9  16  78  35  66 122  89 110  NA  NA  44  28  65  NA  22\n",
              "[109]  59  23  31  44  21   9  NA  45 168  73  NA  76 118  84  85  96  78  73\n",
              "[127]  91  47  32  20  23  21  24  44  21  28   9  13  46  18  13  24  16  13\n",
              "[145]  23  36   7  14  30  NA  14  18  20"
            ]
          },
          "metadata": {}
        }
      ]
    },
    {
      "cell_type": "code",
      "source": [
        "airquality$Solar.R  # there are missing values in Solar.R"
      ],
      "metadata": {
        "colab": {
          "base_uri": "https://localhost:8080/",
          "height": 69
        },
        "id": "tqvPjXHP7bpX",
        "outputId": "25b628f0-6c1c-452e-e24b-9fb84fa9f85a"
      },
      "execution_count": null,
      "outputs": [
        {
          "output_type": "display_data",
          "data": {
            "text/html": [
              "<style>\n",
              ".list-inline {list-style: none; margin:0; padding: 0}\n",
              ".list-inline>li {display: inline-block}\n",
              ".list-inline>li:not(:last-child)::after {content: \"\\00b7\"; padding: 0 .5ex}\n",
              "</style>\n",
              "<ol class=list-inline><li>190</li><li>118</li><li>149</li><li>313</li><li>&lt;NA&gt;</li><li>&lt;NA&gt;</li><li>299</li><li>99</li><li>19</li><li>194</li><li>&lt;NA&gt;</li><li>256</li><li>290</li><li>274</li><li>65</li><li>334</li><li>307</li><li>78</li><li>322</li><li>44</li><li>8</li><li>320</li><li>25</li><li>92</li><li>66</li><li>266</li><li>&lt;NA&gt;</li><li>13</li><li>252</li><li>223</li><li>279</li><li>286</li><li>287</li><li>242</li><li>186</li><li>220</li><li>264</li><li>127</li><li>273</li><li>291</li><li>323</li><li>259</li><li>250</li><li>148</li><li>332</li><li>322</li><li>191</li><li>284</li><li>37</li><li>120</li><li>137</li><li>150</li><li>59</li><li>91</li><li>250</li><li>135</li><li>127</li><li>47</li><li>98</li><li>31</li><li>138</li><li>269</li><li>248</li><li>236</li><li>101</li><li>175</li><li>314</li><li>276</li><li>267</li><li>272</li><li>175</li><li>139</li><li>264</li><li>175</li><li>291</li><li>48</li><li>260</li><li>274</li><li>285</li><li>187</li><li>220</li><li>7</li><li>258</li><li>295</li><li>294</li><li>223</li><li>81</li><li>82</li><li>213</li><li>275</li><li>253</li><li>254</li><li>83</li><li>24</li><li>77</li><li>&lt;NA&gt;</li><li>&lt;NA&gt;</li><li>&lt;NA&gt;</li><li>255</li><li>229</li><li>207</li><li>222</li><li>137</li><li>192</li><li>273</li><li>157</li><li>64</li><li>71</li><li>51</li><li>115</li><li>244</li><li>190</li><li>259</li><li>36</li><li>255</li><li>212</li><li>238</li><li>215</li><li>153</li><li>203</li><li>225</li><li>237</li><li>188</li><li>167</li><li>197</li><li>183</li><li>189</li><li>95</li><li>92</li><li>252</li><li>220</li><li>230</li><li>259</li><li>236</li><li>259</li><li>238</li><li>24</li><li>112</li><li>237</li><li>224</li><li>27</li><li>238</li><li>201</li><li>238</li><li>14</li><li>139</li><li>49</li><li>20</li><li>193</li><li>145</li><li>191</li><li>131</li><li>223</li></ol>\n"
            ],
            "text/markdown": "1. 190\n2. 118\n3. 149\n4. 313\n5. &lt;NA&gt;\n6. &lt;NA&gt;\n7. 299\n8. 99\n9. 19\n10. 194\n11. &lt;NA&gt;\n12. 256\n13. 290\n14. 274\n15. 65\n16. 334\n17. 307\n18. 78\n19. 322\n20. 44\n21. 8\n22. 320\n23. 25\n24. 92\n25. 66\n26. 266\n27. &lt;NA&gt;\n28. 13\n29. 252\n30. 223\n31. 279\n32. 286\n33. 287\n34. 242\n35. 186\n36. 220\n37. 264\n38. 127\n39. 273\n40. 291\n41. 323\n42. 259\n43. 250\n44. 148\n45. 332\n46. 322\n47. 191\n48. 284\n49. 37\n50. 120\n51. 137\n52. 150\n53. 59\n54. 91\n55. 250\n56. 135\n57. 127\n58. 47\n59. 98\n60. 31\n61. 138\n62. 269\n63. 248\n64. 236\n65. 101\n66. 175\n67. 314\n68. 276\n69. 267\n70. 272\n71. 175\n72. 139\n73. 264\n74. 175\n75. 291\n76. 48\n77. 260\n78. 274\n79. 285\n80. 187\n81. 220\n82. 7\n83. 258\n84. 295\n85. 294\n86. 223\n87. 81\n88. 82\n89. 213\n90. 275\n91. 253\n92. 254\n93. 83\n94. 24\n95. 77\n96. &lt;NA&gt;\n97. &lt;NA&gt;\n98. &lt;NA&gt;\n99. 255\n100. 229\n101. 207\n102. 222\n103. 137\n104. 192\n105. 273\n106. 157\n107. 64\n108. 71\n109. 51\n110. 115\n111. 244\n112. 190\n113. 259\n114. 36\n115. 255\n116. 212\n117. 238\n118. 215\n119. 153\n120. 203\n121. 225\n122. 237\n123. 188\n124. 167\n125. 197\n126. 183\n127. 189\n128. 95\n129. 92\n130. 252\n131. 220\n132. 230\n133. 259\n134. 236\n135. 259\n136. 238\n137. 24\n138. 112\n139. 237\n140. 224\n141. 27\n142. 238\n143. 201\n144. 238\n145. 14\n146. 139\n147. 49\n148. 20\n149. 193\n150. 145\n151. 191\n152. 131\n153. 223\n\n\n",
            "text/latex": "\\begin{enumerate*}\n\\item 190\n\\item 118\n\\item 149\n\\item 313\n\\item <NA>\n\\item <NA>\n\\item 299\n\\item 99\n\\item 19\n\\item 194\n\\item <NA>\n\\item 256\n\\item 290\n\\item 274\n\\item 65\n\\item 334\n\\item 307\n\\item 78\n\\item 322\n\\item 44\n\\item 8\n\\item 320\n\\item 25\n\\item 92\n\\item 66\n\\item 266\n\\item <NA>\n\\item 13\n\\item 252\n\\item 223\n\\item 279\n\\item 286\n\\item 287\n\\item 242\n\\item 186\n\\item 220\n\\item 264\n\\item 127\n\\item 273\n\\item 291\n\\item 323\n\\item 259\n\\item 250\n\\item 148\n\\item 332\n\\item 322\n\\item 191\n\\item 284\n\\item 37\n\\item 120\n\\item 137\n\\item 150\n\\item 59\n\\item 91\n\\item 250\n\\item 135\n\\item 127\n\\item 47\n\\item 98\n\\item 31\n\\item 138\n\\item 269\n\\item 248\n\\item 236\n\\item 101\n\\item 175\n\\item 314\n\\item 276\n\\item 267\n\\item 272\n\\item 175\n\\item 139\n\\item 264\n\\item 175\n\\item 291\n\\item 48\n\\item 260\n\\item 274\n\\item 285\n\\item 187\n\\item 220\n\\item 7\n\\item 258\n\\item 295\n\\item 294\n\\item 223\n\\item 81\n\\item 82\n\\item 213\n\\item 275\n\\item 253\n\\item 254\n\\item 83\n\\item 24\n\\item 77\n\\item <NA>\n\\item <NA>\n\\item <NA>\n\\item 255\n\\item 229\n\\item 207\n\\item 222\n\\item 137\n\\item 192\n\\item 273\n\\item 157\n\\item 64\n\\item 71\n\\item 51\n\\item 115\n\\item 244\n\\item 190\n\\item 259\n\\item 36\n\\item 255\n\\item 212\n\\item 238\n\\item 215\n\\item 153\n\\item 203\n\\item 225\n\\item 237\n\\item 188\n\\item 167\n\\item 197\n\\item 183\n\\item 189\n\\item 95\n\\item 92\n\\item 252\n\\item 220\n\\item 230\n\\item 259\n\\item 236\n\\item 259\n\\item 238\n\\item 24\n\\item 112\n\\item 237\n\\item 224\n\\item 27\n\\item 238\n\\item 201\n\\item 238\n\\item 14\n\\item 139\n\\item 49\n\\item 20\n\\item 193\n\\item 145\n\\item 191\n\\item 131\n\\item 223\n\\end{enumerate*}\n",
            "text/plain": [
              "  [1] 190 118 149 313  NA  NA 299  99  19 194  NA 256 290 274  65 334 307  78\n",
              " [19] 322  44   8 320  25  92  66 266  NA  13 252 223 279 286 287 242 186 220\n",
              " [37] 264 127 273 291 323 259 250 148 332 322 191 284  37 120 137 150  59  91\n",
              " [55] 250 135 127  47  98  31 138 269 248 236 101 175 314 276 267 272 175 139\n",
              " [73] 264 175 291  48 260 274 285 187 220   7 258 295 294 223  81  82 213 275\n",
              " [91] 253 254  83  24  77  NA  NA  NA 255 229 207 222 137 192 273 157  64  71\n",
              "[109]  51 115 244 190 259  36 255 212 238 215 153 203 225 237 188 167 197 183\n",
              "[127] 189  95  92 252 220 230 259 236 259 238  24 112 237 224  27 238 201 238\n",
              "[145]  14 139  49  20 193 145 191 131 223"
            ]
          },
          "metadata": {}
        }
      ]
    },
    {
      "cell_type": "code",
      "source": [
        "airquality$Wind  # no missing values in wind"
      ],
      "metadata": {
        "colab": {
          "base_uri": "https://localhost:8080/",
          "height": 69
        },
        "id": "FYhLhKtH7lP4",
        "outputId": "405373d7-872f-4fe2-e608-3d978567c353"
      },
      "execution_count": null,
      "outputs": [
        {
          "output_type": "display_data",
          "data": {
            "text/html": [
              "<style>\n",
              ".list-inline {list-style: none; margin:0; padding: 0}\n",
              ".list-inline>li {display: inline-block}\n",
              ".list-inline>li:not(:last-child)::after {content: \"\\00b7\"; padding: 0 .5ex}\n",
              "</style>\n",
              "<ol class=list-inline><li>7.4</li><li>8</li><li>12.6</li><li>11.5</li><li>14.3</li><li>14.9</li><li>8.6</li><li>13.8</li><li>20.1</li><li>8.6</li><li>6.9</li><li>9.7</li><li>9.2</li><li>10.9</li><li>13.2</li><li>11.5</li><li>12</li><li>18.4</li><li>11.5</li><li>9.7</li><li>9.7</li><li>16.6</li><li>9.7</li><li>12</li><li>16.6</li><li>14.9</li><li>8</li><li>12</li><li>14.9</li><li>5.7</li><li>7.4</li><li>8.6</li><li>9.7</li><li>16.1</li><li>9.2</li><li>8.6</li><li>14.3</li><li>9.7</li><li>6.9</li><li>13.8</li><li>11.5</li><li>10.9</li><li>9.2</li><li>8</li><li>13.8</li><li>11.5</li><li>14.9</li><li>20.7</li><li>9.2</li><li>11.5</li><li>10.3</li><li>6.3</li><li>1.7</li><li>4.6</li><li>6.3</li><li>8</li><li>8</li><li>10.3</li><li>11.5</li><li>14.9</li><li>8</li><li>4.1</li><li>9.2</li><li>9.2</li><li>10.9</li><li>4.6</li><li>10.9</li><li>5.1</li><li>6.3</li><li>5.7</li><li>7.4</li><li>8.6</li><li>14.3</li><li>14.9</li><li>14.9</li><li>14.3</li><li>6.9</li><li>10.3</li><li>6.3</li><li>5.1</li><li>11.5</li><li>6.9</li><li>9.7</li><li>11.5</li><li>8.6</li><li>8</li><li>8.6</li><li>12</li><li>7.4</li><li>7.4</li><li>7.4</li><li>9.2</li><li>6.9</li><li>13.8</li><li>7.4</li><li>6.9</li><li>7.4</li><li>4.6</li><li>4</li><li>10.3</li><li>8</li><li>8.6</li><li>11.5</li><li>11.5</li><li>11.5</li><li>9.7</li><li>11.5</li><li>10.3</li><li>6.3</li><li>7.4</li><li>10.9</li><li>10.3</li><li>15.5</li><li>14.3</li><li>12.6</li><li>9.7</li><li>3.4</li><li>8</li><li>5.7</li><li>9.7</li><li>2.3</li><li>6.3</li><li>6.3</li><li>6.9</li><li>5.1</li><li>2.8</li><li>4.6</li><li>7.4</li><li>15.5</li><li>10.9</li><li>10.3</li><li>10.9</li><li>9.7</li><li>14.9</li><li>15.5</li><li>6.3</li><li>10.9</li><li>11.5</li><li>6.9</li><li>13.8</li><li>10.3</li><li>10.3</li><li>8</li><li>12.6</li><li>9.2</li><li>10.3</li><li>10.3</li><li>16.6</li><li>6.9</li><li>13.2</li><li>14.3</li><li>8</li><li>11.5</li></ol>\n"
            ],
            "text/markdown": "1. 7.4\n2. 8\n3. 12.6\n4. 11.5\n5. 14.3\n6. 14.9\n7. 8.6\n8. 13.8\n9. 20.1\n10. 8.6\n11. 6.9\n12. 9.7\n13. 9.2\n14. 10.9\n15. 13.2\n16. 11.5\n17. 12\n18. 18.4\n19. 11.5\n20. 9.7\n21. 9.7\n22. 16.6\n23. 9.7\n24. 12\n25. 16.6\n26. 14.9\n27. 8\n28. 12\n29. 14.9\n30. 5.7\n31. 7.4\n32. 8.6\n33. 9.7\n34. 16.1\n35. 9.2\n36. 8.6\n37. 14.3\n38. 9.7\n39. 6.9\n40. 13.8\n41. 11.5\n42. 10.9\n43. 9.2\n44. 8\n45. 13.8\n46. 11.5\n47. 14.9\n48. 20.7\n49. 9.2\n50. 11.5\n51. 10.3\n52. 6.3\n53. 1.7\n54. 4.6\n55. 6.3\n56. 8\n57. 8\n58. 10.3\n59. 11.5\n60. 14.9\n61. 8\n62. 4.1\n63. 9.2\n64. 9.2\n65. 10.9\n66. 4.6\n67. 10.9\n68. 5.1\n69. 6.3\n70. 5.7\n71. 7.4\n72. 8.6\n73. 14.3\n74. 14.9\n75. 14.9\n76. 14.3\n77. 6.9\n78. 10.3\n79. 6.3\n80. 5.1\n81. 11.5\n82. 6.9\n83. 9.7\n84. 11.5\n85. 8.6\n86. 8\n87. 8.6\n88. 12\n89. 7.4\n90. 7.4\n91. 7.4\n92. 9.2\n93. 6.9\n94. 13.8\n95. 7.4\n96. 6.9\n97. 7.4\n98. 4.6\n99. 4\n100. 10.3\n101. 8\n102. 8.6\n103. 11.5\n104. 11.5\n105. 11.5\n106. 9.7\n107. 11.5\n108. 10.3\n109. 6.3\n110. 7.4\n111. 10.9\n112. 10.3\n113. 15.5\n114. 14.3\n115. 12.6\n116. 9.7\n117. 3.4\n118. 8\n119. 5.7\n120. 9.7\n121. 2.3\n122. 6.3\n123. 6.3\n124. 6.9\n125. 5.1\n126. 2.8\n127. 4.6\n128. 7.4\n129. 15.5\n130. 10.9\n131. 10.3\n132. 10.9\n133. 9.7\n134. 14.9\n135. 15.5\n136. 6.3\n137. 10.9\n138. 11.5\n139. 6.9\n140. 13.8\n141. 10.3\n142. 10.3\n143. 8\n144. 12.6\n145. 9.2\n146. 10.3\n147. 10.3\n148. 16.6\n149. 6.9\n150. 13.2\n151. 14.3\n152. 8\n153. 11.5\n\n\n",
            "text/latex": "\\begin{enumerate*}\n\\item 7.4\n\\item 8\n\\item 12.6\n\\item 11.5\n\\item 14.3\n\\item 14.9\n\\item 8.6\n\\item 13.8\n\\item 20.1\n\\item 8.6\n\\item 6.9\n\\item 9.7\n\\item 9.2\n\\item 10.9\n\\item 13.2\n\\item 11.5\n\\item 12\n\\item 18.4\n\\item 11.5\n\\item 9.7\n\\item 9.7\n\\item 16.6\n\\item 9.7\n\\item 12\n\\item 16.6\n\\item 14.9\n\\item 8\n\\item 12\n\\item 14.9\n\\item 5.7\n\\item 7.4\n\\item 8.6\n\\item 9.7\n\\item 16.1\n\\item 9.2\n\\item 8.6\n\\item 14.3\n\\item 9.7\n\\item 6.9\n\\item 13.8\n\\item 11.5\n\\item 10.9\n\\item 9.2\n\\item 8\n\\item 13.8\n\\item 11.5\n\\item 14.9\n\\item 20.7\n\\item 9.2\n\\item 11.5\n\\item 10.3\n\\item 6.3\n\\item 1.7\n\\item 4.6\n\\item 6.3\n\\item 8\n\\item 8\n\\item 10.3\n\\item 11.5\n\\item 14.9\n\\item 8\n\\item 4.1\n\\item 9.2\n\\item 9.2\n\\item 10.9\n\\item 4.6\n\\item 10.9\n\\item 5.1\n\\item 6.3\n\\item 5.7\n\\item 7.4\n\\item 8.6\n\\item 14.3\n\\item 14.9\n\\item 14.9\n\\item 14.3\n\\item 6.9\n\\item 10.3\n\\item 6.3\n\\item 5.1\n\\item 11.5\n\\item 6.9\n\\item 9.7\n\\item 11.5\n\\item 8.6\n\\item 8\n\\item 8.6\n\\item 12\n\\item 7.4\n\\item 7.4\n\\item 7.4\n\\item 9.2\n\\item 6.9\n\\item 13.8\n\\item 7.4\n\\item 6.9\n\\item 7.4\n\\item 4.6\n\\item 4\n\\item 10.3\n\\item 8\n\\item 8.6\n\\item 11.5\n\\item 11.5\n\\item 11.5\n\\item 9.7\n\\item 11.5\n\\item 10.3\n\\item 6.3\n\\item 7.4\n\\item 10.9\n\\item 10.3\n\\item 15.5\n\\item 14.3\n\\item 12.6\n\\item 9.7\n\\item 3.4\n\\item 8\n\\item 5.7\n\\item 9.7\n\\item 2.3\n\\item 6.3\n\\item 6.3\n\\item 6.9\n\\item 5.1\n\\item 2.8\n\\item 4.6\n\\item 7.4\n\\item 15.5\n\\item 10.9\n\\item 10.3\n\\item 10.9\n\\item 9.7\n\\item 14.9\n\\item 15.5\n\\item 6.3\n\\item 10.9\n\\item 11.5\n\\item 6.9\n\\item 13.8\n\\item 10.3\n\\item 10.3\n\\item 8\n\\item 12.6\n\\item 9.2\n\\item 10.3\n\\item 10.3\n\\item 16.6\n\\item 6.9\n\\item 13.2\n\\item 14.3\n\\item 8\n\\item 11.5\n\\end{enumerate*}\n",
            "text/plain": [
              "  [1]  7.4  8.0 12.6 11.5 14.3 14.9  8.6 13.8 20.1  8.6  6.9  9.7  9.2 10.9 13.2\n",
              " [16] 11.5 12.0 18.4 11.5  9.7  9.7 16.6  9.7 12.0 16.6 14.9  8.0 12.0 14.9  5.7\n",
              " [31]  7.4  8.6  9.7 16.1  9.2  8.6 14.3  9.7  6.9 13.8 11.5 10.9  9.2  8.0 13.8\n",
              " [46] 11.5 14.9 20.7  9.2 11.5 10.3  6.3  1.7  4.6  6.3  8.0  8.0 10.3 11.5 14.9\n",
              " [61]  8.0  4.1  9.2  9.2 10.9  4.6 10.9  5.1  6.3  5.7  7.4  8.6 14.3 14.9 14.9\n",
              " [76] 14.3  6.9 10.3  6.3  5.1 11.5  6.9  9.7 11.5  8.6  8.0  8.6 12.0  7.4  7.4\n",
              " [91]  7.4  9.2  6.9 13.8  7.4  6.9  7.4  4.6  4.0 10.3  8.0  8.6 11.5 11.5 11.5\n",
              "[106]  9.7 11.5 10.3  6.3  7.4 10.9 10.3 15.5 14.3 12.6  9.7  3.4  8.0  5.7  9.7\n",
              "[121]  2.3  6.3  6.3  6.9  5.1  2.8  4.6  7.4 15.5 10.9 10.3 10.9  9.7 14.9 15.5\n",
              "[136]  6.3 10.9 11.5  6.9 13.8 10.3 10.3  8.0 12.6  9.2 10.3 10.3 16.6  6.9 13.2\n",
              "[151] 14.3  8.0 11.5"
            ]
          },
          "metadata": {}
        }
      ]
    },
    {
      "cell_type": "code",
      "source": [
        "airquality$Temp  # no missing values in Temp"
      ],
      "metadata": {
        "colab": {
          "base_uri": "https://localhost:8080/",
          "height": 69
        },
        "id": "leFebP7b7spR",
        "outputId": "35f21d9e-e6a1-4f58-e4fa-03bd3e2fe729"
      },
      "execution_count": null,
      "outputs": [
        {
          "output_type": "display_data",
          "data": {
            "text/html": [
              "<style>\n",
              ".list-inline {list-style: none; margin:0; padding: 0}\n",
              ".list-inline>li {display: inline-block}\n",
              ".list-inline>li:not(:last-child)::after {content: \"\\00b7\"; padding: 0 .5ex}\n",
              "</style>\n",
              "<ol class=list-inline><li>67</li><li>72</li><li>74</li><li>62</li><li>56</li><li>66</li><li>65</li><li>59</li><li>61</li><li>69</li><li>74</li><li>69</li><li>66</li><li>68</li><li>58</li><li>64</li><li>66</li><li>57</li><li>68</li><li>62</li><li>59</li><li>73</li><li>61</li><li>61</li><li>57</li><li>58</li><li>57</li><li>67</li><li>81</li><li>79</li><li>76</li><li>78</li><li>74</li><li>67</li><li>84</li><li>85</li><li>79</li><li>82</li><li>87</li><li>90</li><li>87</li><li>93</li><li>92</li><li>82</li><li>80</li><li>79</li><li>77</li><li>72</li><li>65</li><li>73</li><li>76</li><li>77</li><li>76</li><li>76</li><li>76</li><li>75</li><li>78</li><li>73</li><li>80</li><li>77</li><li>83</li><li>84</li><li>85</li><li>81</li><li>84</li><li>83</li><li>83</li><li>88</li><li>92</li><li>92</li><li>89</li><li>82</li><li>73</li><li>81</li><li>91</li><li>80</li><li>81</li><li>82</li><li>84</li><li>87</li><li>85</li><li>74</li><li>81</li><li>82</li><li>86</li><li>85</li><li>82</li><li>86</li><li>88</li><li>86</li><li>83</li><li>81</li><li>81</li><li>81</li><li>82</li><li>86</li><li>85</li><li>87</li><li>89</li><li>90</li><li>90</li><li>92</li><li>86</li><li>86</li><li>82</li><li>80</li><li>79</li><li>77</li><li>79</li><li>76</li><li>78</li><li>78</li><li>77</li><li>72</li><li>75</li><li>79</li><li>81</li><li>86</li><li>88</li><li>97</li><li>94</li><li>96</li><li>94</li><li>91</li><li>92</li><li>93</li><li>93</li><li>87</li><li>84</li><li>80</li><li>78</li><li>75</li><li>73</li><li>81</li><li>76</li><li>77</li><li>71</li><li>71</li><li>78</li><li>67</li><li>76</li><li>68</li><li>82</li><li>64</li><li>71</li><li>81</li><li>69</li><li>63</li><li>70</li><li>77</li><li>75</li><li>76</li><li>68</li></ol>\n"
            ],
            "text/markdown": "1. 67\n2. 72\n3. 74\n4. 62\n5. 56\n6. 66\n7. 65\n8. 59\n9. 61\n10. 69\n11. 74\n12. 69\n13. 66\n14. 68\n15. 58\n16. 64\n17. 66\n18. 57\n19. 68\n20. 62\n21. 59\n22. 73\n23. 61\n24. 61\n25. 57\n26. 58\n27. 57\n28. 67\n29. 81\n30. 79\n31. 76\n32. 78\n33. 74\n34. 67\n35. 84\n36. 85\n37. 79\n38. 82\n39. 87\n40. 90\n41. 87\n42. 93\n43. 92\n44. 82\n45. 80\n46. 79\n47. 77\n48. 72\n49. 65\n50. 73\n51. 76\n52. 77\n53. 76\n54. 76\n55. 76\n56. 75\n57. 78\n58. 73\n59. 80\n60. 77\n61. 83\n62. 84\n63. 85\n64. 81\n65. 84\n66. 83\n67. 83\n68. 88\n69. 92\n70. 92\n71. 89\n72. 82\n73. 73\n74. 81\n75. 91\n76. 80\n77. 81\n78. 82\n79. 84\n80. 87\n81. 85\n82. 74\n83. 81\n84. 82\n85. 86\n86. 85\n87. 82\n88. 86\n89. 88\n90. 86\n91. 83\n92. 81\n93. 81\n94. 81\n95. 82\n96. 86\n97. 85\n98. 87\n99. 89\n100. 90\n101. 90\n102. 92\n103. 86\n104. 86\n105. 82\n106. 80\n107. 79\n108. 77\n109. 79\n110. 76\n111. 78\n112. 78\n113. 77\n114. 72\n115. 75\n116. 79\n117. 81\n118. 86\n119. 88\n120. 97\n121. 94\n122. 96\n123. 94\n124. 91\n125. 92\n126. 93\n127. 93\n128. 87\n129. 84\n130. 80\n131. 78\n132. 75\n133. 73\n134. 81\n135. 76\n136. 77\n137. 71\n138. 71\n139. 78\n140. 67\n141. 76\n142. 68\n143. 82\n144. 64\n145. 71\n146. 81\n147. 69\n148. 63\n149. 70\n150. 77\n151. 75\n152. 76\n153. 68\n\n\n",
            "text/latex": "\\begin{enumerate*}\n\\item 67\n\\item 72\n\\item 74\n\\item 62\n\\item 56\n\\item 66\n\\item 65\n\\item 59\n\\item 61\n\\item 69\n\\item 74\n\\item 69\n\\item 66\n\\item 68\n\\item 58\n\\item 64\n\\item 66\n\\item 57\n\\item 68\n\\item 62\n\\item 59\n\\item 73\n\\item 61\n\\item 61\n\\item 57\n\\item 58\n\\item 57\n\\item 67\n\\item 81\n\\item 79\n\\item 76\n\\item 78\n\\item 74\n\\item 67\n\\item 84\n\\item 85\n\\item 79\n\\item 82\n\\item 87\n\\item 90\n\\item 87\n\\item 93\n\\item 92\n\\item 82\n\\item 80\n\\item 79\n\\item 77\n\\item 72\n\\item 65\n\\item 73\n\\item 76\n\\item 77\n\\item 76\n\\item 76\n\\item 76\n\\item 75\n\\item 78\n\\item 73\n\\item 80\n\\item 77\n\\item 83\n\\item 84\n\\item 85\n\\item 81\n\\item 84\n\\item 83\n\\item 83\n\\item 88\n\\item 92\n\\item 92\n\\item 89\n\\item 82\n\\item 73\n\\item 81\n\\item 91\n\\item 80\n\\item 81\n\\item 82\n\\item 84\n\\item 87\n\\item 85\n\\item 74\n\\item 81\n\\item 82\n\\item 86\n\\item 85\n\\item 82\n\\item 86\n\\item 88\n\\item 86\n\\item 83\n\\item 81\n\\item 81\n\\item 81\n\\item 82\n\\item 86\n\\item 85\n\\item 87\n\\item 89\n\\item 90\n\\item 90\n\\item 92\n\\item 86\n\\item 86\n\\item 82\n\\item 80\n\\item 79\n\\item 77\n\\item 79\n\\item 76\n\\item 78\n\\item 78\n\\item 77\n\\item 72\n\\item 75\n\\item 79\n\\item 81\n\\item 86\n\\item 88\n\\item 97\n\\item 94\n\\item 96\n\\item 94\n\\item 91\n\\item 92\n\\item 93\n\\item 93\n\\item 87\n\\item 84\n\\item 80\n\\item 78\n\\item 75\n\\item 73\n\\item 81\n\\item 76\n\\item 77\n\\item 71\n\\item 71\n\\item 78\n\\item 67\n\\item 76\n\\item 68\n\\item 82\n\\item 64\n\\item 71\n\\item 81\n\\item 69\n\\item 63\n\\item 70\n\\item 77\n\\item 75\n\\item 76\n\\item 68\n\\end{enumerate*}\n",
            "text/plain": [
              "  [1] 67 72 74 62 56 66 65 59 61 69 74 69 66 68 58 64 66 57 68 62 59 73 61 61 57\n",
              " [26] 58 57 67 81 79 76 78 74 67 84 85 79 82 87 90 87 93 92 82 80 79 77 72 65 73\n",
              " [51] 76 77 76 76 76 75 78 73 80 77 83 84 85 81 84 83 83 88 92 92 89 82 73 81 91\n",
              " [76] 80 81 82 84 87 85 74 81 82 86 85 82 86 88 86 83 81 81 81 82 86 85 87 89 90\n",
              "[101] 90 92 86 86 82 80 79 77 79 76 78 78 77 72 75 79 81 86 88 97 94 96 94 91 92\n",
              "[126] 93 93 87 84 80 78 75 73 81 76 77 71 71 78 67 76 68 82 64 71 81 69 63 70 77\n",
              "[151] 75 76 68"
            ]
          },
          "metadata": {}
        }
      ]
    },
    {
      "cell_type": "code",
      "source": [
        "# I use typeof() on each variable in airquality to find out their data types\n",
        "(typeof(airquality$Day))\n",
        "(typeof(airquality$Month))\n",
        "(typeof(airquality$Ozone))\n",
        "(typeof(airquality$Solar.R))\n",
        "(typeof(airquality$Wind))\n",
        "(typeof(airquality$Temp))"
      ],
      "metadata": {
        "colab": {
          "base_uri": "https://localhost:8080/",
          "height": 121
        },
        "id": "KtBECC3uEAuk",
        "outputId": "84181a95-e89b-45f4-e006-6b95eac74da9"
      },
      "execution_count": null,
      "outputs": [
        {
          "output_type": "display_data",
          "data": {
            "text/html": [
              "'integer'"
            ],
            "text/markdown": "'integer'",
            "text/latex": "'integer'",
            "text/plain": [
              "[1] \"integer\""
            ]
          },
          "metadata": {}
        },
        {
          "output_type": "display_data",
          "data": {
            "text/html": [
              "'integer'"
            ],
            "text/markdown": "'integer'",
            "text/latex": "'integer'",
            "text/plain": [
              "[1] \"integer\""
            ]
          },
          "metadata": {}
        },
        {
          "output_type": "display_data",
          "data": {
            "text/html": [
              "'integer'"
            ],
            "text/markdown": "'integer'",
            "text/latex": "'integer'",
            "text/plain": [
              "[1] \"integer\""
            ]
          },
          "metadata": {}
        },
        {
          "output_type": "display_data",
          "data": {
            "text/html": [
              "'integer'"
            ],
            "text/markdown": "'integer'",
            "text/latex": "'integer'",
            "text/plain": [
              "[1] \"integer\""
            ]
          },
          "metadata": {}
        },
        {
          "output_type": "display_data",
          "data": {
            "text/html": [
              "'double'"
            ],
            "text/markdown": "'double'",
            "text/latex": "'double'",
            "text/plain": [
              "[1] \"double\""
            ]
          },
          "metadata": {}
        },
        {
          "output_type": "display_data",
          "data": {
            "text/html": [
              "'integer'"
            ],
            "text/markdown": "'integer'",
            "text/latex": "'integer'",
            "text/plain": [
              "[1] \"integer\""
            ]
          },
          "metadata": {}
        }
      ]
    },
    {
      "cell_type": "markdown",
      "source": [
        "## <a name=\"HW1Sol3\">Solution to Question 3</a>\n",
        "\n",
        "---\n",
        "\n",
        "List all such variables. You do not need to type a complete sentence. If there are no such variables, then type NONE.\n",
        "\n",
        "- Variables with missing values: Ozone, Solar.R\n",
        "- Variables that are stored as integers: Day, Month, Ozone, Solar.R, and Temp.\n",
        "- Variables that are stored as decimals: Wind\n",
        "- Variables that are stored as characters: NONE\n",
        "- Variables that are stored as factors: NONE\n",
        "- Variables that are stored as logicals: NONE"
      ],
      "metadata": {
        "id": "VRhxGLF9vjUq"
      }
    },
    {
      "cell_type": "markdown",
      "source": [
        "# <a name=\"HW1Q4\">Question 4</a>\n",
        "\n",
        "---\n",
        "\n",
        "Run the code cell below to try and compute the mean ozone concentration of the sample observations in the `airquality` dataframe. Then insert a text cell below the output that is generated and explain in a complete sentence why the output does not seem accurate."
      ],
      "metadata": {
        "id": "yPyQ80TowTp9"
      }
    },
    {
      "cell_type": "code",
      "source": [
        "mean(airquality$Ozone)"
      ],
      "metadata": {
        "id": "1kODUDmIEZFt",
        "colab": {
          "base_uri": "https://localhost:8080/",
          "height": 34
        },
        "outputId": "33ade051-96c0-40e3-862c-cd1f5fb644d0"
      },
      "execution_count": null,
      "outputs": [
        {
          "output_type": "display_data",
          "data": {
            "text/html": [
              "&lt;NA&gt;"
            ],
            "text/markdown": "&lt;NA&gt;",
            "text/latex": "<NA>",
            "text/plain": [
              "[1] NA"
            ]
          },
          "metadata": {}
        }
      ]
    },
    {
      "cell_type": "markdown",
      "source": [
        "From the last question, you can see that Ozone is an integer data type, which theoretically should be possible to calculate the mean of the Ozone. However, I believe this is because there are still <NA>s in the airquality$Ozone data (observed from question 3), making the code unable to calculate the mean."
      ],
      "metadata": {
        "id": "t_HgUgNMFSby"
      }
    },
    {
      "cell_type": "markdown",
      "source": [
        "# <a name=\"HW1Q5\">Question 5</a>\n",
        "\n",
        "---\n",
        "\n",
        "Fix or add additional code so the code `mean(airquality$Ozone)` correctly calculates the mean ozone concentration and displays the value to the screen.\n",
        "\n"
      ],
      "metadata": {
        "id": "I32ppTxDxS63"
      }
    },
    {
      "cell_type": "code",
      "source": [
        "airquality$Ozone  # I ran this to show again that there are <NA>s in the data still"
      ],
      "metadata": {
        "colab": {
          "base_uri": "https://localhost:8080/",
          "height": 69
        },
        "id": "3abNH8zCFqX1",
        "outputId": "4e2e3309-27dd-491e-f1bc-ccd77f79bb02"
      },
      "execution_count": null,
      "outputs": [
        {
          "output_type": "display_data",
          "data": {
            "text/html": [
              "<style>\n",
              ".list-inline {list-style: none; margin:0; padding: 0}\n",
              ".list-inline>li {display: inline-block}\n",
              ".list-inline>li:not(:last-child)::after {content: \"\\00b7\"; padding: 0 .5ex}\n",
              "</style>\n",
              "<ol class=list-inline><li>41</li><li>36</li><li>12</li><li>18</li><li>&lt;NA&gt;</li><li>28</li><li>23</li><li>19</li><li>8</li><li>&lt;NA&gt;</li><li>7</li><li>16</li><li>11</li><li>14</li><li>18</li><li>14</li><li>34</li><li>6</li><li>30</li><li>11</li><li>1</li><li>11</li><li>4</li><li>32</li><li>&lt;NA&gt;</li><li>&lt;NA&gt;</li><li>&lt;NA&gt;</li><li>23</li><li>45</li><li>115</li><li>37</li><li>&lt;NA&gt;</li><li>&lt;NA&gt;</li><li>&lt;NA&gt;</li><li>&lt;NA&gt;</li><li>&lt;NA&gt;</li><li>&lt;NA&gt;</li><li>29</li><li>&lt;NA&gt;</li><li>71</li><li>39</li><li>&lt;NA&gt;</li><li>&lt;NA&gt;</li><li>23</li><li>&lt;NA&gt;</li><li>&lt;NA&gt;</li><li>21</li><li>37</li><li>20</li><li>12</li><li>13</li><li>&lt;NA&gt;</li><li>&lt;NA&gt;</li><li>&lt;NA&gt;</li><li>&lt;NA&gt;</li><li>&lt;NA&gt;</li><li>&lt;NA&gt;</li><li>&lt;NA&gt;</li><li>&lt;NA&gt;</li><li>&lt;NA&gt;</li><li>&lt;NA&gt;</li><li>135</li><li>49</li><li>32</li><li>&lt;NA&gt;</li><li>64</li><li>40</li><li>77</li><li>97</li><li>97</li><li>85</li><li>&lt;NA&gt;</li><li>10</li><li>27</li><li>&lt;NA&gt;</li><li>7</li><li>48</li><li>35</li><li>61</li><li>79</li><li>63</li><li>16</li><li>&lt;NA&gt;</li><li>&lt;NA&gt;</li><li>80</li><li>108</li><li>20</li><li>52</li><li>82</li><li>50</li><li>64</li><li>59</li><li>39</li><li>9</li><li>16</li><li>78</li><li>35</li><li>66</li><li>122</li><li>89</li><li>110</li><li>&lt;NA&gt;</li><li>&lt;NA&gt;</li><li>44</li><li>28</li><li>65</li><li>&lt;NA&gt;</li><li>22</li><li>59</li><li>23</li><li>31</li><li>44</li><li>21</li><li>9</li><li>&lt;NA&gt;</li><li>45</li><li>168</li><li>73</li><li>&lt;NA&gt;</li><li>76</li><li>118</li><li>84</li><li>85</li><li>96</li><li>78</li><li>73</li><li>91</li><li>47</li><li>32</li><li>20</li><li>23</li><li>21</li><li>24</li><li>44</li><li>21</li><li>28</li><li>9</li><li>13</li><li>46</li><li>18</li><li>13</li><li>24</li><li>16</li><li>13</li><li>23</li><li>36</li><li>7</li><li>14</li><li>30</li><li>&lt;NA&gt;</li><li>14</li><li>18</li><li>20</li></ol>\n"
            ],
            "text/markdown": "1. 41\n2. 36\n3. 12\n4. 18\n5. &lt;NA&gt;\n6. 28\n7. 23\n8. 19\n9. 8\n10. &lt;NA&gt;\n11. 7\n12. 16\n13. 11\n14. 14\n15. 18\n16. 14\n17. 34\n18. 6\n19. 30\n20. 11\n21. 1\n22. 11\n23. 4\n24. 32\n25. &lt;NA&gt;\n26. &lt;NA&gt;\n27. &lt;NA&gt;\n28. 23\n29. 45\n30. 115\n31. 37\n32. &lt;NA&gt;\n33. &lt;NA&gt;\n34. &lt;NA&gt;\n35. &lt;NA&gt;\n36. &lt;NA&gt;\n37. &lt;NA&gt;\n38. 29\n39. &lt;NA&gt;\n40. 71\n41. 39\n42. &lt;NA&gt;\n43. &lt;NA&gt;\n44. 23\n45. &lt;NA&gt;\n46. &lt;NA&gt;\n47. 21\n48. 37\n49. 20\n50. 12\n51. 13\n52. &lt;NA&gt;\n53. &lt;NA&gt;\n54. &lt;NA&gt;\n55. &lt;NA&gt;\n56. &lt;NA&gt;\n57. &lt;NA&gt;\n58. &lt;NA&gt;\n59. &lt;NA&gt;\n60. &lt;NA&gt;\n61. &lt;NA&gt;\n62. 135\n63. 49\n64. 32\n65. &lt;NA&gt;\n66. 64\n67. 40\n68. 77\n69. 97\n70. 97\n71. 85\n72. &lt;NA&gt;\n73. 10\n74. 27\n75. &lt;NA&gt;\n76. 7\n77. 48\n78. 35\n79. 61\n80. 79\n81. 63\n82. 16\n83. &lt;NA&gt;\n84. &lt;NA&gt;\n85. 80\n86. 108\n87. 20\n88. 52\n89. 82\n90. 50\n91. 64\n92. 59\n93. 39\n94. 9\n95. 16\n96. 78\n97. 35\n98. 66\n99. 122\n100. 89\n101. 110\n102. &lt;NA&gt;\n103. &lt;NA&gt;\n104. 44\n105. 28\n106. 65\n107. &lt;NA&gt;\n108. 22\n109. 59\n110. 23\n111. 31\n112. 44\n113. 21\n114. 9\n115. &lt;NA&gt;\n116. 45\n117. 168\n118. 73\n119. &lt;NA&gt;\n120. 76\n121. 118\n122. 84\n123. 85\n124. 96\n125. 78\n126. 73\n127. 91\n128. 47\n129. 32\n130. 20\n131. 23\n132. 21\n133. 24\n134. 44\n135. 21\n136. 28\n137. 9\n138. 13\n139. 46\n140. 18\n141. 13\n142. 24\n143. 16\n144. 13\n145. 23\n146. 36\n147. 7\n148. 14\n149. 30\n150. &lt;NA&gt;\n151. 14\n152. 18\n153. 20\n\n\n",
            "text/latex": "\\begin{enumerate*}\n\\item 41\n\\item 36\n\\item 12\n\\item 18\n\\item <NA>\n\\item 28\n\\item 23\n\\item 19\n\\item 8\n\\item <NA>\n\\item 7\n\\item 16\n\\item 11\n\\item 14\n\\item 18\n\\item 14\n\\item 34\n\\item 6\n\\item 30\n\\item 11\n\\item 1\n\\item 11\n\\item 4\n\\item 32\n\\item <NA>\n\\item <NA>\n\\item <NA>\n\\item 23\n\\item 45\n\\item 115\n\\item 37\n\\item <NA>\n\\item <NA>\n\\item <NA>\n\\item <NA>\n\\item <NA>\n\\item <NA>\n\\item 29\n\\item <NA>\n\\item 71\n\\item 39\n\\item <NA>\n\\item <NA>\n\\item 23\n\\item <NA>\n\\item <NA>\n\\item 21\n\\item 37\n\\item 20\n\\item 12\n\\item 13\n\\item <NA>\n\\item <NA>\n\\item <NA>\n\\item <NA>\n\\item <NA>\n\\item <NA>\n\\item <NA>\n\\item <NA>\n\\item <NA>\n\\item <NA>\n\\item 135\n\\item 49\n\\item 32\n\\item <NA>\n\\item 64\n\\item 40\n\\item 77\n\\item 97\n\\item 97\n\\item 85\n\\item <NA>\n\\item 10\n\\item 27\n\\item <NA>\n\\item 7\n\\item 48\n\\item 35\n\\item 61\n\\item 79\n\\item 63\n\\item 16\n\\item <NA>\n\\item <NA>\n\\item 80\n\\item 108\n\\item 20\n\\item 52\n\\item 82\n\\item 50\n\\item 64\n\\item 59\n\\item 39\n\\item 9\n\\item 16\n\\item 78\n\\item 35\n\\item 66\n\\item 122\n\\item 89\n\\item 110\n\\item <NA>\n\\item <NA>\n\\item 44\n\\item 28\n\\item 65\n\\item <NA>\n\\item 22\n\\item 59\n\\item 23\n\\item 31\n\\item 44\n\\item 21\n\\item 9\n\\item <NA>\n\\item 45\n\\item 168\n\\item 73\n\\item <NA>\n\\item 76\n\\item 118\n\\item 84\n\\item 85\n\\item 96\n\\item 78\n\\item 73\n\\item 91\n\\item 47\n\\item 32\n\\item 20\n\\item 23\n\\item 21\n\\item 24\n\\item 44\n\\item 21\n\\item 28\n\\item 9\n\\item 13\n\\item 46\n\\item 18\n\\item 13\n\\item 24\n\\item 16\n\\item 13\n\\item 23\n\\item 36\n\\item 7\n\\item 14\n\\item 30\n\\item <NA>\n\\item 14\n\\item 18\n\\item 20\n\\end{enumerate*}\n",
            "text/plain": [
              "  [1]  41  36  12  18  NA  28  23  19   8  NA   7  16  11  14  18  14  34   6\n",
              " [19]  30  11   1  11   4  32  NA  NA  NA  23  45 115  37  NA  NA  NA  NA  NA\n",
              " [37]  NA  29  NA  71  39  NA  NA  23  NA  NA  21  37  20  12  13  NA  NA  NA\n",
              " [55]  NA  NA  NA  NA  NA  NA  NA 135  49  32  NA  64  40  77  97  97  85  NA\n",
              " [73]  10  27  NA   7  48  35  61  79  63  16  NA  NA  80 108  20  52  82  50\n",
              " [91]  64  59  39   9  16  78  35  66 122  89 110  NA  NA  44  28  65  NA  22\n",
              "[109]  59  23  31  44  21   9  NA  45 168  73  NA  76 118  84  85  96  78  73\n",
              "[127]  91  47  32  20  23  21  24  44  21  28   9  13  46  18  13  24  16  13\n",
              "[145]  23  36   7  14  30  NA  14  18  20"
            ]
          },
          "metadata": {}
        }
      ]
    },
    {
      "cell_type": "code",
      "source": [
        "filtered_ozone_data <- na.omit(airquality$Ozone)  # I searched up how to remove <NA> in data and using na.omit() or na.exclude() works in this case\n",
        "(mean_ozone <- mean(filtered_ozone_data))"
      ],
      "metadata": {
        "id": "BaQOA3TN1jAL",
        "colab": {
          "base_uri": "https://localhost:8080/",
          "height": 34
        },
        "outputId": "c788c42e-c4b4-4721-d911-978f35e08c5c"
      },
      "execution_count": null,
      "outputs": [
        {
          "output_type": "display_data",
          "data": {
            "text/html": [
              "42.1293103448276"
            ],
            "text/markdown": "42.1293103448276",
            "text/latex": "42.1293103448276",
            "text/plain": [
              "[1] 42.12931"
            ]
          },
          "metadata": {}
        }
      ]
    },
    {
      "cell_type": "markdown",
      "source": [
        "# <a name=\"HW1Q6\">Question 6</a>\n",
        "\n",
        "---\n",
        "\n",
        "Use the `hist()` function to create a histogram to display the distrbution of ozone concentrations in the `airquality` data set. Your histogram should include the following features:\n",
        "\n",
        "- A main title.\n",
        "- A label on the horizontal axis that indicates what quantity is being measured along that axis, including the units.\n",
        "- A on the vertical axis indicating the total counts of each bin are measured on the vertical axis.\n",
        "- Choose another color for the bars other than the default color of lightgray.\n"
      ],
      "metadata": {
        "id": "Tb02_-nO1v23"
      }
    },
    {
      "cell_type": "code",
      "source": [
        "?hist  # ran this code to read how to use histogram function"
      ],
      "metadata": {
        "id": "DMyNRiUkJ0bv"
      },
      "execution_count": null,
      "outputs": []
    },
    {
      "cell_type": "code",
      "source": [
        "# use hist function with main, xlab, ylab, and color as its parameters to configure the main title, x-axis label, y-axis label, and color respectively\n",
        "hist(airquality$Ozone, main = \"Histogram of Ozone Concentration\", xlab = \"Ozone concentration (measured in ppb)\", ylab = \"Ozone concentration's Frequency\", col = \"lightblue\", ylim = c(0,40), xlim = c(0,200))"
      ],
      "metadata": {
        "colab": {
          "base_uri": "https://localhost:8080/",
          "height": 437
        },
        "id": "Pz5qxH4aJ9ne",
        "outputId": "3e1fc412-ffdc-43f6-d203-d6dc09a4379d"
      },
      "execution_count": null,
      "outputs": [
        {
          "output_type": "display_data",
          "data": {
            "text/plain": [
              "Plot with title “Histogram of Ozone Concentration”"
            ],
            "image/png": "[encoded data removed]"
          },
          "metadata": {
            "image/png": {
              "width": 420,
              "height": 420
            }
          }
        }
      ]
    },
    {
      "cell_type": "markdown",
      "source": [
        "# <a name=\"HW1Q7\">Question 7</a>\n",
        "\n",
        "---\n",
        "\n",
        "Use the `plot()` function to create a scatterplot to display the relation between solar radiation (predictor varible on the horizontal axis) and ozone concentration (response variable on the vertical axis). Your scatterplot should include the following features:\n",
        "\n",
        "- A main title.\n",
        "- A label on the horizontal axis that indicates what quantity is being measured along that axis, including the units.\n",
        "- A label on the vertical axis that indicates what quantity is being measured along that axis, including the units.\n",
        "\n"
      ],
      "metadata": {
        "id": "N10dA90F3dGd"
      }
    },
    {
      "cell_type": "code",
      "source": [
        "?plot  # use this code to understand how plot() works"
      ],
      "metadata": {
        "id": "0L3xXeE_XQxw"
      },
      "execution_count": null,
      "outputs": []
    },
    {
      "cell_type": "code",
      "source": [
        "plot(airquality$Solar.R,airquality$Ozone, main = \"The relationship between Solar Radiation and Ozone Concentration\", xlab = \"Solar Radiation (measured in lang)\", ylab = \"Ozone Concentration (measured in ppb)\")"
      ],
      "metadata": {
        "colab": {
          "base_uri": "https://localhost:8080/",
          "height": 437
        },
        "id": "pw8hKYv9X_zx",
        "outputId": "a11e8caa-b9e8-43b2-f6df-407ab5137a3b"
      },
      "execution_count": null,
      "outputs": [
        {
          "output_type": "display_data",
          "data": {
            "text/plain": [
              "Plot with title “The relationship between Solar Radiation and Ozone Concentration”"
            ],
            "image/png": "[encoded data removed]"
          },
          "metadata": {
            "image/png": {
              "width": 420,
              "height": 420
            }
          }
        }
      ]
    },
    {
      "cell_type": "markdown",
      "source": [
        "# <a name=\"HW1Q8\">Question 8</a>\n",
        "\n",
        "---\n",
        "\n",
        "\n",
        "The data set *spotify-hits.csv*<sup>1</sup> contains audio statistics of the top 2000 tracks on Spotify from 2000-2019. The data is\n",
        "stored in a <font color=\"dodgerblue\">**comma separated file (csv)**</font>. We can use the function `read.csv()` to import the csv file into an R dataframe we call `hits` by running the code cell below.\n",
        "\n",
        "<font size=2>1. [\"Top Hits Spotify from 2000-2019\"](https://www.kaggle.com/datasets/paradisejoy/top-hits-spotify-from-20002019) from [Kaggle](https://www.kaggle.com).\n",
        "\n"
      ],
      "metadata": {
        "id": "r0fj0ehJ4EWm"
      }
    },
    {
      "cell_type": "code",
      "source": [
        "hits <- read.csv(\"https://raw.githubusercontent.com/CU-Denver-MathStats-OER/Statistical-Theory/main/Data/spotify-hits.csv\")"
      ],
      "metadata": {
        "id": "TO-XlM30DOlQ"
      },
      "execution_count": null,
      "outputs": []
    },
    {
      "cell_type": "markdown",
      "source": [
        "Insert a code cell(s) below to run a command(s) to answer the following questions.\n",
        "\n",
        "- Of the variables initially being stored as characters, which (if any) should more appropriately be stored as factors?\n",
        "\n",
        "- Of the variables initially being stored as characters, which (if any) should more appropriately be stored as logicals?\n",
        "\n",
        "- First insert code cell(s) below to explore the data, then type your answers in the text cell below your code cells.\n",
        "\n",
        "<br>  \n"
      ],
      "metadata": {
        "id": "WtH7f_fX4dzW"
      }
    },
    {
      "cell_type": "code",
      "source": [
        "head(hits)  # I ran this code to see how the first 6 rows of data looks"
      ],
      "metadata": {
        "id": "DNkvKnORT3FI",
        "colab": {
          "base_uri": "https://localhost:8080/",
          "height": 286
        },
        "outputId": "b35951a8-c71c-4082-e220-20d8d659d87c"
      },
      "execution_count": null,
      "outputs": [
        {
          "output_type": "display_data",
          "data": {
            "text/html": [
              "<table class=\"dataframe\">\n",
              "<caption>A data.frame: 6 × 18</caption>\n",
              "<thead>\n",
              "\t<tr><th></th><th scope=col>artist</th><th scope=col>song</th><th scope=col>duration_ms</th><th scope=col>explicit</th><th scope=col>year</th><th scope=col>popularity</th><th scope=col>danceability</th><th scope=col>energy</th><th scope=col>key</th><th scope=col>loudness</th><th scope=col>mode</th><th scope=col>speechiness</th><th scope=col>acousticness</th><th scope=col>instrumentalness</th><th scope=col>liveness</th><th scope=col>valence</th><th scope=col>tempo</th><th scope=col>genre</th></tr>\n",
              "\t<tr><th></th><th scope=col>&lt;chr&gt;</th><th scope=col>&lt;chr&gt;</th><th scope=col>&lt;int&gt;</th><th scope=col>&lt;chr&gt;</th><th scope=col>&lt;int&gt;</th><th scope=col>&lt;int&gt;</th><th scope=col>&lt;dbl&gt;</th><th scope=col>&lt;dbl&gt;</th><th scope=col>&lt;int&gt;</th><th scope=col>&lt;dbl&gt;</th><th scope=col>&lt;int&gt;</th><th scope=col>&lt;dbl&gt;</th><th scope=col>&lt;dbl&gt;</th><th scope=col>&lt;dbl&gt;</th><th scope=col>&lt;dbl&gt;</th><th scope=col>&lt;dbl&gt;</th><th scope=col>&lt;dbl&gt;</th><th scope=col>&lt;chr&gt;</th></tr>\n",
              "</thead>\n",
              "<tbody>\n",
              "\t<tr><th scope=row>1</th><td>Britney Spears</td><td>Oops!...I Did It Again</td><td>211160</td><td>False</td><td>2000</td><td>77</td><td>0.751</td><td>0.834</td><td>1</td><td>-5.444</td><td>0</td><td>0.0437</td><td>0.3000</td><td>1.77e-05</td><td>0.3550</td><td>0.894</td><td> 95.053</td><td>pop              </td></tr>\n",
              "\t<tr><th scope=row>2</th><td>blink-182     </td><td>All The Small Things  </td><td>167066</td><td>False</td><td>1999</td><td>79</td><td>0.434</td><td>0.897</td><td>0</td><td>-4.918</td><td>1</td><td>0.0488</td><td>0.0103</td><td>0.00e+00</td><td>0.6120</td><td>0.684</td><td>148.726</td><td>rock, pop        </td></tr>\n",
              "\t<tr><th scope=row>3</th><td>Faith Hill    </td><td>Breathe               </td><td>250546</td><td>False</td><td>1999</td><td>66</td><td>0.529</td><td>0.496</td><td>7</td><td>-9.007</td><td>1</td><td>0.0290</td><td>0.1730</td><td>0.00e+00</td><td>0.2510</td><td>0.278</td><td>136.859</td><td>pop, country     </td></tr>\n",
              "\t<tr><th scope=row>4</th><td>Bon Jovi      </td><td>It's My Life          </td><td>224493</td><td>False</td><td>2000</td><td>78</td><td>0.551</td><td>0.913</td><td>0</td><td>-4.063</td><td>0</td><td>0.0466</td><td>0.0263</td><td>1.35e-05</td><td>0.3470</td><td>0.544</td><td>119.992</td><td>rock, metal      </td></tr>\n",
              "\t<tr><th scope=row>5</th><td>*NSYNC        </td><td>Bye Bye Bye           </td><td>200560</td><td>False</td><td>2000</td><td>65</td><td>0.614</td><td>0.928</td><td>8</td><td>-4.806</td><td>0</td><td>0.0516</td><td>0.0408</td><td>1.04e-03</td><td>0.0845</td><td>0.879</td><td>172.656</td><td>pop              </td></tr>\n",
              "\t<tr><th scope=row>6</th><td><span style=white-space:pre-wrap>Sisqo         </span></td><td><span style=white-space:pre-wrap>Thong Song            </span></td><td>253733</td><td>True </td><td>1999</td><td>69</td><td>0.706</td><td>0.888</td><td>2</td><td>-6.959</td><td>1</td><td>0.0654</td><td>0.1190</td><td>9.64e-05</td><td>0.0700</td><td>0.714</td><td>121.549</td><td>hip hop, pop, R&amp;B</td></tr>\n",
              "</tbody>\n",
              "</table>\n"
            ],
            "text/markdown": "\nA data.frame: 6 × 18\n\n| <!--/--> | artist &lt;chr&gt; | song &lt;chr&gt; | duration_ms &lt;int&gt; | explicit &lt;chr&gt; | year &lt;int&gt; | popularity &lt;int&gt; | danceability &lt;dbl&gt; | energy &lt;dbl&gt; | key &lt;int&gt; | loudness &lt;dbl&gt; | mode &lt;int&gt; | speechiness &lt;dbl&gt; | acousticness &lt;dbl&gt; | instrumentalness &lt;dbl&gt; | liveness &lt;dbl&gt; | valence &lt;dbl&gt; | tempo &lt;dbl&gt; | genre &lt;chr&gt; |\n|---|---|---|---|---|---|---|---|---|---|---|---|---|---|---|---|---|---|---|\n| 1 | Britney Spears | Oops!...I Did It Again | 211160 | False | 2000 | 77 | 0.751 | 0.834 | 1 | -5.444 | 0 | 0.0437 | 0.3000 | 1.77e-05 | 0.3550 | 0.894 |  95.053 | pop               |\n| 2 | blink-182      | All The Small Things   | 167066 | False | 1999 | 79 | 0.434 | 0.897 | 0 | -4.918 | 1 | 0.0488 | 0.0103 | 0.00e+00 | 0.6120 | 0.684 | 148.726 | rock, pop         |\n| 3 | Faith Hill     | Breathe                | 250546 | False | 1999 | 66 | 0.529 | 0.496 | 7 | -9.007 | 1 | 0.0290 | 0.1730 | 0.00e+00 | 0.2510 | 0.278 | 136.859 | pop, country      |\n| 4 | Bon Jovi       | It's My Life           | 224493 | False | 2000 | 78 | 0.551 | 0.913 | 0 | -4.063 | 0 | 0.0466 | 0.0263 | 1.35e-05 | 0.3470 | 0.544 | 119.992 | rock, metal       |\n| 5 | *NSYNC         | Bye Bye Bye            | 200560 | False | 2000 | 65 | 0.614 | 0.928 | 8 | -4.806 | 0 | 0.0516 | 0.0408 | 1.04e-03 | 0.0845 | 0.879 | 172.656 | pop               |\n| 6 | Sisqo          | Thong Song             | 253733 | True  | 1999 | 69 | 0.706 | 0.888 | 2 | -6.959 | 1 | 0.0654 | 0.1190 | 9.64e-05 | 0.0700 | 0.714 | 121.549 | hip hop, pop, R&amp;B |\n\n",
            "text/latex": "A data.frame: 6 × 18\n\\begin{tabular}{r|llllllllllllllllll}\n  & artist & song & duration\\_ms & explicit & year & popularity & danceability & energy & key & loudness & mode & speechiness & acousticness & instrumentalness & liveness & valence & tempo & genre\\\\\n  & <chr> & <chr> & <int> & <chr> & <int> & <int> & <dbl> & <dbl> & <int> & <dbl> & <int> & <dbl> & <dbl> & <dbl> & <dbl> & <dbl> & <dbl> & <chr>\\\\\n\\hline\n\t1 & Britney Spears & Oops!...I Did It Again & 211160 & False & 2000 & 77 & 0.751 & 0.834 & 1 & -5.444 & 0 & 0.0437 & 0.3000 & 1.77e-05 & 0.3550 & 0.894 &  95.053 & pop              \\\\\n\t2 & blink-182      & All The Small Things   & 167066 & False & 1999 & 79 & 0.434 & 0.897 & 0 & -4.918 & 1 & 0.0488 & 0.0103 & 0.00e+00 & 0.6120 & 0.684 & 148.726 & rock, pop        \\\\\n\t3 & Faith Hill     & Breathe                & 250546 & False & 1999 & 66 & 0.529 & 0.496 & 7 & -9.007 & 1 & 0.0290 & 0.1730 & 0.00e+00 & 0.2510 & 0.278 & 136.859 & pop, country     \\\\\n\t4 & Bon Jovi       & It's My Life           & 224493 & False & 2000 & 78 & 0.551 & 0.913 & 0 & -4.063 & 0 & 0.0466 & 0.0263 & 1.35e-05 & 0.3470 & 0.544 & 119.992 & rock, metal      \\\\\n\t5 & *NSYNC         & Bye Bye Bye            & 200560 & False & 2000 & 65 & 0.614 & 0.928 & 8 & -4.806 & 0 & 0.0516 & 0.0408 & 1.04e-03 & 0.0845 & 0.879 & 172.656 & pop              \\\\\n\t6 & Sisqo          & Thong Song             & 253733 & True  & 1999 & 69 & 0.706 & 0.888 & 2 & -6.959 & 1 & 0.0654 & 0.1190 & 9.64e-05 & 0.0700 & 0.714 & 121.549 & hip hop, pop, R\\&B\\\\\n\\end{tabular}\n",
            "text/plain": [
              "  artist         song                   duration_ms explicit year popularity\n",
              "1 Britney Spears Oops!...I Did It Again 211160      False    2000 77        \n",
              "2 blink-182      All The Small Things   167066      False    1999 79        \n",
              "3 Faith Hill     Breathe                250546      False    1999 66        \n",
              "4 Bon Jovi       It's My Life           224493      False    2000 78        \n",
              "5 *NSYNC         Bye Bye Bye            200560      False    2000 65        \n",
              "6 Sisqo          Thong Song             253733      True     1999 69        \n",
              "  danceability energy key loudness mode speechiness acousticness\n",
              "1 0.751        0.834  1   -5.444   0    0.0437      0.3000      \n",
              "2 0.434        0.897  0   -4.918   1    0.0488      0.0103      \n",
              "3 0.529        0.496  7   -9.007   1    0.0290      0.1730      \n",
              "4 0.551        0.913  0   -4.063   0    0.0466      0.0263      \n",
              "5 0.614        0.928  8   -4.806   0    0.0516      0.0408      \n",
              "6 0.706        0.888  2   -6.959   1    0.0654      0.1190      \n",
              "  instrumentalness liveness valence tempo   genre            \n",
              "1 1.77e-05         0.3550   0.894    95.053 pop              \n",
              "2 0.00e+00         0.6120   0.684   148.726 rock, pop        \n",
              "3 0.00e+00         0.2510   0.278   136.859 pop, country     \n",
              "4 1.35e-05         0.3470   0.544   119.992 rock, metal      \n",
              "5 1.04e-03         0.0845   0.879   172.656 pop              \n",
              "6 9.64e-05         0.0700   0.714   121.549 hip hop, pop, R&B"
            ]
          },
          "metadata": {}
        }
      ]
    },
    {
      "cell_type": "markdown",
      "source": [
        "## <a name=\"HW1Sol8\">Solution to Question 8</a>\n",
        "\n",
        "---\n",
        "\n",
        "- The variables initially being stored as characters that more appropriately should be stored as factors are: artist, song, and genre\n",
        "\n",
        "<br>  \n",
        "\n",
        "- The variables initially being stored as characters that more appropriately should be stored as logicals are: explicit and mode\n",
        "\n",
        "\n",
        "<br>  \n",
        "<br>  \n"
      ],
      "metadata": {
        "id": "0kjr0aI36OAC"
      }
    },
    {
      "cell_type": "markdown",
      "source": [
        "# <a name=\"HW1Q9\">Question 9</a>\n",
        "\n",
        "---\n",
        "\n",
        "Based on your answers to [Question 8](HW1Q8), convert each character variable that should be a factor to a factor and each character variable that should be a logical to a logical. Insert a code cell below to enter code to perform the conversion(s). You should assign the new variable to over the original. For example, if you were converting to an integer, you would use the code\n",
        "\n",
        "\n",
        "`hits$var_name <- as.integer(hits$var_name)`\n"
      ],
      "metadata": {
        "id": "fxOEzejb7EEd"
      }
    },
    {
      "cell_type": "code",
      "source": [
        "#  use as.\"type\"(what you want to convert) to convert the content in the parantheses into the \"type\" that we want\n",
        "hits$artist <- as.factor(hits$artist)\n",
        "hits$song <- as.factor(hits$song)\n",
        "hits$genre <- as.factor(hits$genre)\n",
        "hits$explicit <- as.logical(hits$explicit)\n",
        "hits$mode <- as.logical(hits$mode)"
      ],
      "metadata": {
        "id": "XZfThcOUoYCC"
      },
      "execution_count": null,
      "outputs": []
    },
    {
      "cell_type": "markdown",
      "source": [
        "# <a name=\"HW1Q9\">Question 10</a>\n",
        "\n",
        "---\n",
        "\n",
        "Use either the `plot()` or `boxplot()` functions to create side-by-side boxplots to display the distribution of `danceability` scores for the songs in `hits` that are `explicit` compared to songs in `hits` that are not `explicit`. You should have one boxplot that contains two side-by-side boxplots.\n",
        "\n",
        "Then insert a text cell below the plot that is generated and write a complete sentence or two to interpret the plot and explain which group of songs seems to be more danceable overall.\n"
      ],
      "metadata": {
        "id": "s6-YSi4T8y5W"
      }
    },
    {
      "cell_type": "code",
      "source": [
        "?boxplot  # used to read what boxplot does"
      ],
      "metadata": {
        "id": "Z7MmGEIXqrUL"
      },
      "execution_count": null,
      "outputs": []
    },
    {
      "cell_type": "code",
      "source": [
        "\n",
        "boxplot(danceability ~ explicit,  # quantitative data first and categorical data comes second\n",
        "        data = hits, col = \"steelblue\",   # use data = hits instead of typing hits$danceability and hits$explicit\n",
        "        main = \"Danceability in relation with explicit and non-explicit songs\",  # create a title for this side-by-side box plot\n",
        "        cex.lab=1.25,cex.axis=1.25,cex.main=1.25)  # use cex.lab,cex.axis,cex.main to adjust the font size"
      ],
      "metadata": {
        "colab": {
          "base_uri": "https://localhost:8080/",
          "height": 437
        },
        "id": "F1Z6nYAvqvMr",
        "outputId": "12fe0ef5-70ce-4ca6-c845-ef4365c4d8ee"
      },
      "execution_count": null,
      "outputs": [
        {
          "output_type": "display_data",
          "data": {
            "text/plain": [
              "Plot with title “Danceability in relation with explicit and non-explicit songs”"
            ],
            "image/png": "[encoded data removed]"
          },
          "metadata": {
            "image/png": {
              "width": 420,
              "height": 420
            }
          }
        }
      ]
    },
    {
      "cell_type": "markdown",
      "source": [
        "From the plot, I can imply that the songs that contains explicit content are more danceable than songs that do not have explicit content. You can see how the median, the quartiles and the min of the songs with explicit content is higher than the songs without the explicit content which shows that songs with explicit content tends to be more danceable statistically."
      ],
      "metadata": {
        "id": "SK-mwDlMzgDJ"
      }
    },
    {
      "cell_type": "markdown",
      "source": [
        "# <a name=\"HW1Q11\">Question 11</a>\n",
        "\n",
        "---\n",
        "\n",
        "The code cell below loads the same data set of spotify songs to a new dataframe name `single_genre` (so as not to write over the `hits` dataframe from previous questions). Then the data is subset to include only the songs from the following genres: country, hip hop, latin, metal, pop, R&B, and rock.\n",
        "\n"
      ],
      "metadata": {
        "id": "Ca5UeA-tRO90"
      }
    },
    {
      "cell_type": "code",
      "source": [
        "# imports data set to a new dataframe named one_genre\n",
        "single_genre <- read.csv(\"https://raw.githubusercontent.com/CU-Denver-MathStats-OER/Statistical-Theory/main/Data/spotify-hits.csv\")\n",
        "\n",
        "# subset the data to include only the select genres\n",
        "single_genre <- subset(single_genre, genre == \"country\" |\n",
        "                                  genre == \"hip hop\" |\n",
        "                                  genre == \"latin\" |\n",
        "                                  genre == \"metal\" |\n",
        "                                  genre == \"pop\" |\n",
        "                                  genre == \"R&B\" |\n",
        "                                  genre == \"rock\")"
      ],
      "metadata": {
        "id": "DQNi4FQCMZ2z"
      },
      "execution_count": null,
      "outputs": []
    },
    {
      "cell_type": "markdown",
      "source": [
        "Insert a code cell below and use the `plot()` or `barplot()` functions to create a bar plot to display the number of songs in data set in each of the remaining genres that were kept in the `single_genre` dataframe. Your bar plot should include the following features:\n",
        "\n",
        "- A main title.\n",
        "- A label on the horizontal axis that indicates what feature is being displayed along that axis.\n",
        "- A label on the vertical axis that indicates the number or count of songs is being displayed on that axis.\n",
        "- Choose a different color besides the default light gray for the coloring of the bars in the plot.\n",
        "\n",
        "You do not need to insert a text cell to interpret the plot. Simply create the plot with code."
      ],
      "metadata": {
        "id": "20v4M08LSHzz"
      }
    },
    {
      "cell_type": "code",
      "source": [
        "head(single_genre)  # ran this code to see how the first 6 rows and the columns look like"
      ],
      "metadata": {
        "colab": {
          "base_uri": "https://localhost:8080/",
          "height": 286
        },
        "id": "WrShSa4c1r2R",
        "outputId": "03dadc05-e807-407f-96bc-cb450f042860"
      },
      "execution_count": null,
      "outputs": [
        {
          "output_type": "display_data",
          "data": {
            "text/html": [
              "<table class=\"dataframe\">\n",
              "<caption>A data.frame: 6 × 18</caption>\n",
              "<thead>\n",
              "\t<tr><th></th><th scope=col>artist</th><th scope=col>song</th><th scope=col>duration_ms</th><th scope=col>explicit</th><th scope=col>year</th><th scope=col>popularity</th><th scope=col>danceability</th><th scope=col>energy</th><th scope=col>key</th><th scope=col>loudness</th><th scope=col>mode</th><th scope=col>speechiness</th><th scope=col>acousticness</th><th scope=col>instrumentalness</th><th scope=col>liveness</th><th scope=col>valence</th><th scope=col>tempo</th><th scope=col>genre</th></tr>\n",
              "\t<tr><th></th><th scope=col>&lt;chr&gt;</th><th scope=col>&lt;chr&gt;</th><th scope=col>&lt;int&gt;</th><th scope=col>&lt;chr&gt;</th><th scope=col>&lt;int&gt;</th><th scope=col>&lt;int&gt;</th><th scope=col>&lt;dbl&gt;</th><th scope=col>&lt;dbl&gt;</th><th scope=col>&lt;int&gt;</th><th scope=col>&lt;dbl&gt;</th><th scope=col>&lt;int&gt;</th><th scope=col>&lt;dbl&gt;</th><th scope=col>&lt;dbl&gt;</th><th scope=col>&lt;dbl&gt;</th><th scope=col>&lt;dbl&gt;</th><th scope=col>&lt;dbl&gt;</th><th scope=col>&lt;dbl&gt;</th><th scope=col>&lt;chr&gt;</th></tr>\n",
              "</thead>\n",
              "<tbody>\n",
              "\t<tr><th scope=row>1</th><td>Britney Spears </td><td>Oops!...I Did It Again                          </td><td>211160</td><td>False</td><td>2000</td><td>77</td><td>0.751</td><td>0.834</td><td> 1</td><td>-5.444</td><td>0</td><td>0.0437</td><td>0.3000</td><td>1.77e-05</td><td>0.3550</td><td>0.894</td><td> 95.053</td><td>pop    </td></tr>\n",
              "\t<tr><th scope=row>5</th><td>*NSYNC         </td><td>Bye Bye Bye                                     </td><td>200560</td><td>False</td><td>2000</td><td>65</td><td>0.614</td><td>0.928</td><td> 8</td><td>-4.806</td><td>0</td><td>0.0516</td><td>0.0408</td><td>1.04e-03</td><td>0.0845</td><td>0.879</td><td>172.656</td><td>pop    </td></tr>\n",
              "\t<tr><th scope=row>7</th><td>Eminem         </td><td>The Real Slim Shady                             </td><td>284200</td><td>True </td><td>2000</td><td>86</td><td>0.949</td><td>0.661</td><td> 5</td><td>-4.244</td><td>0</td><td>0.0572</td><td>0.0302</td><td>0.00e+00</td><td>0.0454</td><td>0.760</td><td>104.504</td><td>hip hop</td></tr>\n",
              "\t<tr><th scope=row>11</th><td>Gigi D'Agostino</td><td>L'Amour Toujours                                </td><td>238759</td><td>False</td><td>2011</td><td> 1</td><td>0.617</td><td>0.728</td><td> 7</td><td>-7.932</td><td>1</td><td>0.0292</td><td>0.0328</td><td>4.82e-02</td><td>0.3600</td><td>0.808</td><td>139.066</td><td>pop    </td></tr>\n",
              "\t<tr><th scope=row>12</th><td>Eiffel 65      </td><td>Move Your Body - Gabry Ponte Original Radio Edit</td><td>268863</td><td>False</td><td>1999</td><td>56</td><td>0.745</td><td>0.958</td><td> 7</td><td>-9.664</td><td>1</td><td>0.0287</td><td>0.0813</td><td>3.24e-01</td><td>0.5330</td><td>0.960</td><td>129.962</td><td>pop    </td></tr>\n",
              "\t<tr><th scope=row>13</th><td>Bomfunk MC's   </td><td>Freestyler                                      </td><td>306333</td><td>False</td><td>2000</td><td>55</td><td>0.822</td><td>0.922</td><td>11</td><td>-5.798</td><td>0</td><td>0.0989</td><td>0.0291</td><td>3.25e-01</td><td>0.2520</td><td>0.568</td><td>163.826</td><td>pop    </td></tr>\n",
              "</tbody>\n",
              "</table>\n"
            ],
            "text/markdown": "\nA data.frame: 6 × 18\n\n| <!--/--> | artist &lt;chr&gt; | song &lt;chr&gt; | duration_ms &lt;int&gt; | explicit &lt;chr&gt; | year &lt;int&gt; | popularity &lt;int&gt; | danceability &lt;dbl&gt; | energy &lt;dbl&gt; | key &lt;int&gt; | loudness &lt;dbl&gt; | mode &lt;int&gt; | speechiness &lt;dbl&gt; | acousticness &lt;dbl&gt; | instrumentalness &lt;dbl&gt; | liveness &lt;dbl&gt; | valence &lt;dbl&gt; | tempo &lt;dbl&gt; | genre &lt;chr&gt; |\n|---|---|---|---|---|---|---|---|---|---|---|---|---|---|---|---|---|---|---|\n| 1 | Britney Spears  | Oops!...I Did It Again                           | 211160 | False | 2000 | 77 | 0.751 | 0.834 |  1 | -5.444 | 0 | 0.0437 | 0.3000 | 1.77e-05 | 0.3550 | 0.894 |  95.053 | pop     |\n| 5 | *NSYNC          | Bye Bye Bye                                      | 200560 | False | 2000 | 65 | 0.614 | 0.928 |  8 | -4.806 | 0 | 0.0516 | 0.0408 | 1.04e-03 | 0.0845 | 0.879 | 172.656 | pop     |\n| 7 | Eminem          | The Real Slim Shady                              | 284200 | True  | 2000 | 86 | 0.949 | 0.661 |  5 | -4.244 | 0 | 0.0572 | 0.0302 | 0.00e+00 | 0.0454 | 0.760 | 104.504 | hip hop |\n| 11 | Gigi D'Agostino | L'Amour Toujours                                 | 238759 | False | 2011 |  1 | 0.617 | 0.728 |  7 | -7.932 | 1 | 0.0292 | 0.0328 | 4.82e-02 | 0.3600 | 0.808 | 139.066 | pop     |\n| 12 | Eiffel 65       | Move Your Body - Gabry Ponte Original Radio Edit | 268863 | False | 1999 | 56 | 0.745 | 0.958 |  7 | -9.664 | 1 | 0.0287 | 0.0813 | 3.24e-01 | 0.5330 | 0.960 | 129.962 | pop     |\n| 13 | Bomfunk MC's    | Freestyler                                       | 306333 | False | 2000 | 55 | 0.822 | 0.922 | 11 | -5.798 | 0 | 0.0989 | 0.0291 | 3.25e-01 | 0.2520 | 0.568 | 163.826 | pop     |\n\n",
            "text/latex": "A data.frame: 6 × 18\n\\begin{tabular}{r|llllllllllllllllll}\n  & artist & song & duration\\_ms & explicit & year & popularity & danceability & energy & key & loudness & mode & speechiness & acousticness & instrumentalness & liveness & valence & tempo & genre\\\\\n  & <chr> & <chr> & <int> & <chr> & <int> & <int> & <dbl> & <dbl> & <int> & <dbl> & <int> & <dbl> & <dbl> & <dbl> & <dbl> & <dbl> & <dbl> & <chr>\\\\\n\\hline\n\t1 & Britney Spears  & Oops!...I Did It Again                           & 211160 & False & 2000 & 77 & 0.751 & 0.834 &  1 & -5.444 & 0 & 0.0437 & 0.3000 & 1.77e-05 & 0.3550 & 0.894 &  95.053 & pop    \\\\\n\t5 & *NSYNC          & Bye Bye Bye                                      & 200560 & False & 2000 & 65 & 0.614 & 0.928 &  8 & -4.806 & 0 & 0.0516 & 0.0408 & 1.04e-03 & 0.0845 & 0.879 & 172.656 & pop    \\\\\n\t7 & Eminem          & The Real Slim Shady                              & 284200 & True  & 2000 & 86 & 0.949 & 0.661 &  5 & -4.244 & 0 & 0.0572 & 0.0302 & 0.00e+00 & 0.0454 & 0.760 & 104.504 & hip hop\\\\\n\t11 & Gigi D'Agostino & L'Amour Toujours                                 & 238759 & False & 2011 &  1 & 0.617 & 0.728 &  7 & -7.932 & 1 & 0.0292 & 0.0328 & 4.82e-02 & 0.3600 & 0.808 & 139.066 & pop    \\\\\n\t12 & Eiffel 65       & Move Your Body - Gabry Ponte Original Radio Edit & 268863 & False & 1999 & 56 & 0.745 & 0.958 &  7 & -9.664 & 1 & 0.0287 & 0.0813 & 3.24e-01 & 0.5330 & 0.960 & 129.962 & pop    \\\\\n\t13 & Bomfunk MC's    & Freestyler                                       & 306333 & False & 2000 & 55 & 0.822 & 0.922 & 11 & -5.798 & 0 & 0.0989 & 0.0291 & 3.25e-01 & 0.2520 & 0.568 & 163.826 & pop    \\\\\n\\end{tabular}\n",
            "text/plain": [
              "   artist          song                                             duration_ms\n",
              "1  Britney Spears  Oops!...I Did It Again                           211160     \n",
              "5  *NSYNC          Bye Bye Bye                                      200560     \n",
              "7  Eminem          The Real Slim Shady                              284200     \n",
              "11 Gigi D'Agostino L'Amour Toujours                                 238759     \n",
              "12 Eiffel 65       Move Your Body - Gabry Ponte Original Radio Edit 268863     \n",
              "13 Bomfunk MC's    Freestyler                                       306333     \n",
              "   explicit year popularity danceability energy key loudness mode speechiness\n",
              "1  False    2000 77         0.751        0.834   1  -5.444   0    0.0437     \n",
              "5  False    2000 65         0.614        0.928   8  -4.806   0    0.0516     \n",
              "7  True     2000 86         0.949        0.661   5  -4.244   0    0.0572     \n",
              "11 False    2011  1         0.617        0.728   7  -7.932   1    0.0292     \n",
              "12 False    1999 56         0.745        0.958   7  -9.664   1    0.0287     \n",
              "13 False    2000 55         0.822        0.922  11  -5.798   0    0.0989     \n",
              "   acousticness instrumentalness liveness valence tempo   genre  \n",
              "1  0.3000       1.77e-05         0.3550   0.894    95.053 pop    \n",
              "5  0.0408       1.04e-03         0.0845   0.879   172.656 pop    \n",
              "7  0.0302       0.00e+00         0.0454   0.760   104.504 hip hop\n",
              "11 0.0328       4.82e-02         0.3600   0.808   139.066 pop    \n",
              "12 0.0813       3.24e-01         0.5330   0.960   129.962 pop    \n",
              "13 0.0291       3.25e-01         0.2520   0.568   163.826 pop    "
            ]
          },
          "metadata": {}
        }
      ]
    },
    {
      "cell_type": "code",
      "source": [
        "?barplot  # checks how barplot works"
      ],
      "metadata": {
        "id": "x3AJgG6017iO"
      },
      "execution_count": null,
      "outputs": []
    },
    {
      "cell_type": "code",
      "source": [
        "factored_genre <- as.factor(single_genre$genre)  # qualitative data needs to be stored as a factor before plotting\n",
        "\n",
        "plot(factored_genre, main = \"Song Genres from a data subset\", xlab = \"Song Genres\", ylab = \"Number Of Songs\", col = \"orange\")"
      ],
      "metadata": {
        "colab": {
          "base_uri": "https://localhost:8080/",
          "height": 437
        },
        "id": "Lv7lemhW1CJ5",
        "outputId": "4befd122-e003-48d3-ea9e-559d187f11f6"
      },
      "execution_count": null,
      "outputs": [
        {
          "output_type": "display_data",
          "data": {
            "text/plain": [
              "Plot with title “Song Genres from a data subset”"
            ],
            "image/png": "[encoded data removed]"
          },
          "metadata": {
            "image/png": {
              "width": 420,
              "height": 420
            }
          }
        }
      ]
    },
    {
      "cell_type": "markdown",
      "source": [
        "# <a name=\"save2\">Be Sure You Have Saved Your Work!</a>\n",
        "\n",
        "---\n",
        "\n",
        "This notebook is a shared Colab notebook available for anyone to view. However, since everyone is sharing this notebook, you do not have permission to save changes to this shared Colab notebook. In order to save your work:\n",
        "\n",
        "1. You will need to set up a free Google Drive account. If you already have a Google Drive account, you are ready to go!\n",
        "2. Click the `Copy to Drive` button to the right of the `+ Code` and `+ Text` buttons on top of the notebook.\n",
        "3. Select from the menu `File/Save a Copy in Drive`.\n",
        "  - By default, the notebook will be saved in a folder named **Colab Notebooks** in your Drive.\n",
        "  - Feel free to rename and store the notebook wherever you like.\n"
      ],
      "metadata": {
        "id": "iBmMPoh1CkEf"
      }
    },
    {
      "cell_type": "markdown",
      "source": [
        "# Congrats! You are Done with Homework 1!!!"
      ],
      "metadata": {
        "id": "ZwUJkRth5n9Q"
      }
    }
  ]
}