{
  "nbformat": 4,
  "nbformat_minor": 0,
  "metadata": {
    "colab": {
      "provenance": []
    },
    "kernelspec": {
      "name": "ir",
      "display_name": "R"
    },
    "language_info": {
      "name": "R"
    }
  },
  "cells": [
    {
      "cell_type": "markdown",
      "source": [
        "# Homework 7: Due Wednesday, March 19 at 11:59 PM\n",
        "\n",
        "---"
      ],
      "metadata": {
        "id": "TLH2NCL-V8J_"
      }
    },
    {
      "cell_type": "markdown",
      "source": [
        "## <a name=\"HW1Inst\">Instructions:</a>\n",
        "---\n",
        "\n",
        "1. <font color=\"tomato\">Either click the COPY TO DRIVE button or use the menu File/Save/Save a Copy to save your own version of the notebook in your own folder in Google Drive.</font>\n",
        "\n",
        "  - If you do not have a Google account, you will need to create a Google account in order to create your own individual copy of this notebook.\n",
        "  - By default, the notebook will be saved in a folder named **Colab Notebooks** in your drive.\n",
        "  - Feel free to name and store the notebook wherever you like!\n",
        "\n",
        "2. <font color=\"mediumseagreen\">After you have copied the notebook into your Drive, you can begin editing and saving your work.</font>\n",
        "\n",
        "**Upload your completed assignment into Canvas as a Google Colab (or Jupyter) Notebook with file extension `.ipynb`.**\n",
        "\n",
        "Upload your file into the Homework 7 assignment in Canvas before <font color=\"dodgerblue\">**11:59PM on Wednesday, March 19.**</font>\n",
        "\n",
        "**You must provide supporting work for your all of your answers.**\n",
        "\n",
        "  - <font color=\"dodgerblue\">That work will include using R code cells.</font>\n",
        "    - **Feel free to insert as much R code as you like.**\n",
        "    - You must interpret or explain how the output of a code cell is being utilized to solve the problem.\n",
        "    - **Code with incomplete or missing explanations of why the output is useful may not receive full credit.**\n",
        "  - <font color=\"dodgerblue\">Your work will also involve writing explanations and justifications in text cells.</font>\n",
        "    - **Be sure to type/write out the steps of your work/explanation so I can see how you arrived at your answer.**\n",
        "\n",
        "\n",
        "## Important Academic Policies:\n",
        "---\n",
        "\n",
        "- **Be your own work.** Though you may collaborate with others, everyone is responsible for writing up the work in their own way using their own methods. Plagiarism of any form is not tolerated.\n",
        "- **Be complete.** You must provide all work and/or explanations needed to find the solution. Answers with insufficient or incomplete supporting work may lose credit.\n",
        "- **Adhere to the Code of Academic Honesty.**\n",
        "- **Be clearly written (and legible if written).** Your solution to a problem must be clear, written in complete sentences. You may lose credit for work that is unclear or hard to follow.\n",
        "\n",
        "## <font color=\"dodgerblue\">Let me know if you need help, and **GOOD LUCK!!!**</font>\n",
        "\n",
        "----"
      ],
      "metadata": {
        "id": "G65tVJGG0ObO"
      }
    },
    {
      "cell_type": "markdown",
      "source": [
        "# <a name=\"intro\">Introduction</a>\n",
        "\n",
        "---\n",
        "\n",
        "\n",
        "In this assignment, you will be combining importing, cleaning, and merging data sets into a single clean data set that we can use to create visualizations and analyze.\n",
        "\n",
        "<br>\n",
        "\n",
        "---\n",
        "\n",
        "<br>\n",
        "\n",
        "`Electricity_Use.csv` is a comma-separate file that contains the electricity use per capita in kilowatt-hours per capita (kWh per capita) for all countries in the world (for which there is data) over the years 1960-2023 (though most countries last reported data in 2014). The data is from the [World Bank Databank](https://data.worldbank.org/)<sup>1</sup>.\n",
        "\n",
        "<br>\n",
        "\n",
        "---\n",
        "\n",
        "<br>\n",
        "\n",
        "`human_development_index.csv` is a comma-separate file that contains the Human Development Index (HDI) for all countries (that reported their HDI) over the years 1990-2021. The data is from the [United Nations Development Programme](https://undp.org/)<sup>2</sup> that oversees the calculation of HDI based on the following stated criteria:\n",
        "\n",
        "> The Human Development Index (HDI) is a summary measure of average achievement in key dimensions of human development: a long and healthy life, being knowledgeable and having a decent standard of living. The HDI is the geometric mean of normalized indices for each of the three dimensions.\n",
        "\n",
        "HDI values are standardized scores from 0 (poor HDI) to 1 (perfect HDI).\n",
        "\n",
        "<br>\n",
        "\n",
        "---\n",
        "\n",
        "<br>\n",
        "\n",
        "`HDI.xlsx` is an Excel file containing HDI scores (and other statistics) from all countries that reported data in 2022. The data is from the [United Nations Development Programme](https://undp.org/)<sup>3</sup>.\n",
        "\n",
        "<br>\n",
        "\n",
        "---\n",
        "\n",
        "<br>\n",
        "\n",
        "<font size=2>1. Data downloaded 3/8/2025 from <https://data.worldbank.org/indicator/EG.USE.ELEC.KH.PC/countries>.</font>\n",
        "\n",
        "<font size=2>2. Data is from <https://hdr.undp.org/data-center/human-development-index#/indicies/HDI>.</font?\n",
        "\n",
        "<font size=2>3. Data downloaded 3/8/2025 from <https://hdr.undp.org/data-center/human-development-index#/indicies/HDI>.</font>\n"
      ],
      "metadata": {
        "id": "HcM22Ds_ITr3"
      }
    },
    {
      "cell_type": "markdown",
      "source": [
        "# <a name=\"load-tidy\">Loading the `tidyverse`</a>\n",
        "\n",
        "---\n",
        "\n",
        "Each time you restart an R session, be sure to run the code cell below to load the core `tidyverse` packages.\n"
      ],
      "metadata": {
        "id": "kGAIL0As9hu8"
      }
    },
    {
      "cell_type": "code",
      "source": [
        "# load core tidyverse packages\n",
        "library(tidyverse)"
      ],
      "metadata": {
        "id": "0Gbz52MQHCMF"
      },
      "execution_count": 38,
      "outputs": []
    },
    {
      "cell_type": "markdown",
      "source": [
        "# <a name=\"Q1\">Question 1</a>\n",
        "\n",
        "---\n",
        "\n",
        "Before we get started with the electicity and HDI data cleaning, let's do a little warm-up exercise called a *Missing Value Hide and Seek*!\n",
        "\n",
        "The file `na_hide_and_seek.csv` is a csv file containing data related to COVID-19 deaths, positive cases, etc. for each of the 50 U.S. states (and territories) as of March 7, 2021. The variables included are:\n",
        "\n",
        "- `date`: the date the observation was observed\n",
        "- `state`: the name of the state or territory\n",
        "- `death`: the total number of confirmed or probable COVID-19 deaths.\n",
        "- `deathConfirmed`: the total number of confirmed COVID-19 deaths.\n",
        "- `deathIncrease`: the total increase in the number of confirmed or probable COVID-19 deaths.\n",
        "- `deathProbable`: the total number of probable COVID-19 deaths.\n",
        "\n",
        "Inside the file are several different character strings that I entered into the data to represent missing values. **Your job is to find and properly code those missing values when importing the CSV file into R using the function `readr::read_csv`.**\n",
        "\n",
        "- Run the code cell below to initially load the data into a data frame called `na_find`.\n",
        "- The data frame is `na_find` is created, but there is a warning message!"
      ],
      "metadata": {
        "id": "ARlokGS59g4-"
      }
    },
    {
      "cell_type": "code",
      "source": [
        "# import csv file and store it as a data frame na_find\n",
        "na_find <- read_csv(\"https://raw.githubusercontent.com/CU-Denver-MathStats-OER/Data-Wrangling-and-Visualization/main/Data/na_hide_and_seek.csv\")\n",
        "print(na_find)"
      ],
      "metadata": {
        "id": "Y9C6bK7AACKG",
        "colab": {
          "base_uri": "https://localhost:8080/"
        },
        "outputId": "28cba991-ea82-4932-8015-e776e8ad195c"
      },
      "execution_count": 39,
      "outputs": [
        {
          "output_type": "stream",
          "name": "stderr",
          "text": [
            "Warning message:\n",
            "“\u001b[1m\u001b[22mOne or more parsing issues, call `problems()` on your data frame for details,\n",
            "e.g.:\n",
            "  dat <- vroom(...)\n",
            "  problems(dat)”\n",
            "\u001b[1mRows: \u001b[22m\u001b[34m20780\u001b[39m \u001b[1mColumns: \u001b[22m\u001b[34m6\u001b[39m\n",
            "\u001b[36m──\u001b[39m \u001b[1mColumn specification\u001b[22m \u001b[36m────────────────────────────────────────────────────────\u001b[39m\n",
            "\u001b[1mDelimiter:\u001b[22m \",\"\n",
            "\u001b[31mchr\u001b[39m  (1): state\n",
            "\u001b[32mdbl\u001b[39m  (4): death, deathConfirmed, deathIncrease, deathProbable\n",
            "\u001b[34mdate\u001b[39m (1): date\n",
            "\n",
            "\u001b[36mℹ\u001b[39m Use `spec()` to retrieve the full column specification for this data.\n",
            "\u001b[36mℹ\u001b[39m Specify the column types or set `show_col_types = FALSE` to quiet this message.\n"
          ]
        },
        {
          "output_type": "stream",
          "name": "stdout",
          "text": [
            "\u001b[90m# A tibble: 20,780 × 6\u001b[39m\n",
            "   date       state death deathConfirmed deathIncrease deathProbable\n",
            "   \u001b[3m\u001b[90m<date>\u001b[39m\u001b[23m     \u001b[3m\u001b[90m<chr>\u001b[39m\u001b[23m \u001b[3m\u001b[90m<dbl>\u001b[39m\u001b[23m          \u001b[3m\u001b[90m<dbl>\u001b[39m\u001b[23m         \u001b[3m\u001b[90m<dbl>\u001b[39m\u001b[23m         \u001b[3m\u001b[90m<dbl>\u001b[39m\u001b[23m\n",
            "\u001b[90m 1\u001b[39m 2021-03-07 AK      305             \u001b[31mNA\u001b[39m             0            \u001b[31mNA\u001b[39m\n",
            "\u001b[90m 2\u001b[39m 2021-03-07 AL    \u001b[4m1\u001b[24m\u001b[4m0\u001b[24m148           \u001b[4m7\u001b[24m963            -\u001b[31m1\u001b[39m          \u001b[4m2\u001b[24m185\n",
            "\u001b[90m 3\u001b[39m 2021-03-07 AR     \u001b[4m5\u001b[24m319           \u001b[4m4\u001b[24m308            22          \u001b[4m1\u001b[24m011\n",
            "\u001b[90m 4\u001b[39m 2021-03-07 AS        0             \u001b[31mNA\u001b[39m             0            \u001b[31mNA\u001b[39m\n",
            "\u001b[90m 5\u001b[39m 2021-03-07 AZ    \u001b[4m1\u001b[24m\u001b[4m6\u001b[24m328          \u001b[4m1\u001b[24m\u001b[4m4\u001b[24m403             5          \u001b[4m1\u001b[24m925\n",
            "\u001b[90m 6\u001b[39m 2021-03-07 CA    \u001b[4m5\u001b[24m\u001b[4m4\u001b[24m124             \u001b[31mNA\u001b[39m           258            \u001b[31mNA\u001b[39m\n",
            "\u001b[90m 7\u001b[39m 2021-03-07 CO     \u001b[4m5\u001b[24m989           \u001b[4m5\u001b[24m251             3           735\n",
            "\u001b[90m 8\u001b[39m 2021-03-07 CT     \u001b[4m7\u001b[24m704           \u001b[4m6\u001b[24m327             0          \u001b[4m1\u001b[24m377\n",
            "\u001b[90m 9\u001b[39m 2021-03-07 DC     \u001b[4m1\u001b[24m030             \u001b[31mNA\u001b[39m             0            \u001b[31mNA\u001b[39m\n",
            "\u001b[90m10\u001b[39m 2021-03-07 DE     \u001b[4m1\u001b[24m473           \u001b[4m1\u001b[24m337             9           136\n",
            "\u001b[90m# ℹ 20,770 more rows\u001b[39m\n"
          ]
        }
      ]
    },
    {
      "cell_type": "markdown",
      "source": [
        "## <a name=\"Q1a\">Question 1a</a>\n",
        "\n",
        "---\n",
        "\n",
        "Use the `problems()` function to identify where and how missing values were coded in the CSV file. Based on the output generated, summarize the output in a sentence or two to somebody who is not familiar with coding. How would you explain the output generated by the `problems()` function?"
      ],
      "metadata": {
        "id": "z-ofRgebB67r"
      }
    },
    {
      "cell_type": "code",
      "source": [
        "# use the problems() function\n",
        "problems(na_find)"
      ],
      "metadata": {
        "id": "eQEwIG3ZCjYo",
        "colab": {
          "base_uri": "https://localhost:8080/",
          "height": 224
        },
        "outputId": "cde6105b-5991-4f0f-9a75-efff7401fbc5"
      },
      "execution_count": 40,
      "outputs": [
        {
          "output_type": "display_data",
          "data": {
            "text/html": [
              "<table class=\"dataframe\">\n",
              "<caption>A tibble: 4 × 5</caption>\n",
              "<thead>\n",
              "\t<tr><th scope=col>row</th><th scope=col>col</th><th scope=col>expected</th><th scope=col>actual</th><th scope=col>file</th></tr>\n",
              "\t<tr><th scope=col>&lt;int&gt;</th><th scope=col>&lt;int&gt;</th><th scope=col>&lt;chr&gt;</th><th scope=col>&lt;chr&gt;</th><th scope=col>&lt;chr&gt;</th></tr>\n",
              "</thead>\n",
              "<tbody>\n",
              "\t<tr><td>  585</td><td>5</td><td>a double       </td><td>zzz    </td><td></td></tr>\n",
              "\t<tr><td> 5790</td><td>6</td><td>a double       </td><td>????   </td><td></td></tr>\n",
              "\t<tr><td> 9301</td><td>1</td><td>date in ISO8601</td><td>error  </td><td></td></tr>\n",
              "\t<tr><td>13538</td><td>3</td><td>a double       </td><td>missing</td><td></td></tr>\n",
              "</tbody>\n",
              "</table>\n"
            ],
            "text/markdown": "\nA tibble: 4 × 5\n\n| row &lt;int&gt; | col &lt;int&gt; | expected &lt;chr&gt; | actual &lt;chr&gt; | file &lt;chr&gt; |\n|---|---|---|---|---|\n|   585 | 5 | a double        | zzz     | <!----> |\n|  5790 | 6 | a double        | ????    | <!----> |\n|  9301 | 1 | date in ISO8601 | error   | <!----> |\n| 13538 | 3 | a double        | missing | <!----> |\n\n",
            "text/latex": "A tibble: 4 × 5\n\\begin{tabular}{lllll}\n row & col & expected & actual & file\\\\\n <int> & <int> & <chr> & <chr> & <chr>\\\\\n\\hline\n\t   585 & 5 & a double        & zzz     & \\\\\n\t  5790 & 6 & a double        & ????    & \\\\\n\t  9301 & 1 & date in ISO8601 & error   & \\\\\n\t 13538 & 3 & a double        & missing & \\\\\n\\end{tabular}\n",
            "text/plain": [
              "  row   col expected        actual  file\n",
              "1   585 5   a double        zzz         \n",
              "2  5790 6   a double        ????        \n",
              "3  9301 1   date in ISO8601 error       \n",
              "4 13538 3   a double        missing     "
            ]
          },
          "metadata": {}
        }
      ]
    },
    {
      "cell_type": "markdown",
      "source": [
        "### <a name=\"sol1b\">Solution to Question 1a</a>\n",
        "\n",
        "---\n",
        "\n",
        "How would you interpret the output of the code you entered in the previous code cell to colleague who does not know R or how to code at all? Write in complete sentences.\n",
        "\n",
        "Basically the \"expected\" column is telling about the kind of the data and what it should be, and the \"actual\" column is what is actually in that row. For example, it says expected a double (type of number), but actually in that cell we have a \"zzz\" (characters) which are not the same type, therefore results in the error.\n",
        "\n",
        "<br>  \n",
        "<br>  \n",
        "\n"
      ],
      "metadata": {
        "id": "xth1JA4TCn7S"
      }
    },
    {
      "cell_type": "markdown",
      "source": [
        "## <a name=\"Q1b\">Question 1b</a>\n",
        "\n",
        "---\n",
        "\n",
        "Add an `na` argument to the `read_csv()` command below to  convert all strings identified in the output of the code from [Question 1a](#Q1a) as stings mistakenly used for missing values.\n",
        "\n",
        "- Replace the `??` in the code cell below with appropriate code to complete the `na` arguement.\n",
        "\n",
        "<br>\n",
        "\n",
        "*Note: If you have answered this question correctly, you should NOT receive any warning message that begins “One or more parsing issues, call `problems()` ...\" after running your code cell below.*"
      ],
      "metadata": {
        "id": "h7UoEKXSB93d"
      }
    },
    {
      "cell_type": "code",
      "source": [
        "# add an na argument below to the read_csv command to\n",
        "# convert all strings used for missing values properly to NA\n",
        "na_find <- read_csv(\n",
        "  \"https://raw.githubusercontent.com/CU-Denver-MathStats-OER/Data-Wrangling-and-Visualization/main/Data/na_hide_and_seek.csv\",\n",
        "  na = c(\"zzz\",\"????\",\"error\",\"missing\",\"\",\"NA\")  # Added the values that were causing an error on question 1a to the argument na (also don't forget \"\", and \"NA\").\n",
        "  )\n",
        "\n",
        "# print first 5 rows to screen\n",
        "print(na_find, n=5)"
      ],
      "metadata": {
        "id": "3tdOb0PNDOUb",
        "colab": {
          "base_uri": "https://localhost:8080/"
        },
        "outputId": "a22aa0d9-3790-4f5b-fa38-2831cbcd7587"
      },
      "execution_count": 41,
      "outputs": [
        {
          "output_type": "stream",
          "name": "stderr",
          "text": [
            "\u001b[1mRows: \u001b[22m\u001b[34m20780\u001b[39m \u001b[1mColumns: \u001b[22m\u001b[34m6\u001b[39m\n",
            "\u001b[36m──\u001b[39m \u001b[1mColumn specification\u001b[22m \u001b[36m────────────────────────────────────────────────────────\u001b[39m\n",
            "\u001b[1mDelimiter:\u001b[22m \",\"\n",
            "\u001b[31mchr\u001b[39m  (1): state\n",
            "\u001b[32mdbl\u001b[39m  (4): death, deathConfirmed, deathIncrease, deathProbable\n",
            "\u001b[34mdate\u001b[39m (1): date\n",
            "\n",
            "\u001b[36mℹ\u001b[39m Use `spec()` to retrieve the full column specification for this data.\n",
            "\u001b[36mℹ\u001b[39m Specify the column types or set `show_col_types = FALSE` to quiet this message.\n"
          ]
        },
        {
          "output_type": "stream",
          "name": "stdout",
          "text": [
            "\u001b[90m# A tibble: 20,780 × 6\u001b[39m\n",
            "  date       state death deathConfirmed deathIncrease deathProbable\n",
            "  \u001b[3m\u001b[90m<date>\u001b[39m\u001b[23m     \u001b[3m\u001b[90m<chr>\u001b[39m\u001b[23m \u001b[3m\u001b[90m<dbl>\u001b[39m\u001b[23m          \u001b[3m\u001b[90m<dbl>\u001b[39m\u001b[23m         \u001b[3m\u001b[90m<dbl>\u001b[39m\u001b[23m         \u001b[3m\u001b[90m<dbl>\u001b[39m\u001b[23m\n",
            "\u001b[90m1\u001b[39m 2021-03-07 AK      305             \u001b[31mNA\u001b[39m             0            \u001b[31mNA\u001b[39m\n",
            "\u001b[90m2\u001b[39m 2021-03-07 AL    \u001b[4m1\u001b[24m\u001b[4m0\u001b[24m148           \u001b[4m7\u001b[24m963            -\u001b[31m1\u001b[39m          \u001b[4m2\u001b[24m185\n",
            "\u001b[90m3\u001b[39m 2021-03-07 AR     \u001b[4m5\u001b[24m319           \u001b[4m4\u001b[24m308            22          \u001b[4m1\u001b[24m011\n",
            "\u001b[90m4\u001b[39m 2021-03-07 AS        0             \u001b[31mNA\u001b[39m             0            \u001b[31mNA\u001b[39m\n",
            "\u001b[90m5\u001b[39m 2021-03-07 AZ    \u001b[4m1\u001b[24m\u001b[4m6\u001b[24m328          \u001b[4m1\u001b[24m\u001b[4m4\u001b[24m403             5          \u001b[4m1\u001b[24m925\n",
            "\u001b[90m# ℹ 20,775 more rows\u001b[39m\n"
          ]
        }
      ]
    },
    {
      "cell_type": "markdown",
      "source": [
        "## <a name=\"Q1c\">Question 1c</a>\n",
        "\n",
        "---\n",
        "\n",
        "Using commands we have discussed this semester from one of the core `tidyverse` packages or `base` R, create a subset of the `na_find` data frame named `ca_covid` that contains all of the observations in `na_find` from California (`CA`).\n",
        "\n",
        "- Print the first 5 rows of `ca_covid` to the screen after creating the data frame.\n"
      ],
      "metadata": {
        "id": "PrWRz5sc_6TC"
      }
    },
    {
      "cell_type": "code",
      "source": [
        "# Ran this code because I forgot how filter() works\n",
        "?filter()"
      ],
      "metadata": {
        "id": "nIlKWlIO12qq"
      },
      "execution_count": 42,
      "outputs": []
    },
    {
      "cell_type": "code",
      "source": [
        "# extract/subset/filter the observations from California\n",
        "# store the result to ca_coivd\n",
        "# print the first 5 rows of ca_coivd to the screen\n",
        "\n",
        "# Filter the rows where stae is equal to CA (California), the \"|>\" is piping which is used for stringing sequences of actions, and store it in ca_covid.\n",
        "# In this case, the piping used in this line is the equivalent to doing filter(na_find, state == \"CA\").\n",
        "ca_covid <- na_find |> filter(state == \"CA\")\n",
        "\n",
        "# Print out the first 5 rows of the result\n",
        "print(ca_covid, n = 5)"
      ],
      "metadata": {
        "id": "uocXLp8QIkRE",
        "colab": {
          "base_uri": "https://localhost:8080/"
        },
        "outputId": "f8e83e4a-c3da-4694-e6b3-8d552a89fd9d"
      },
      "execution_count": 43,
      "outputs": [
        {
          "output_type": "stream",
          "name": "stdout",
          "text": [
            "\u001b[90m# A tibble: 369 × 6\u001b[39m\n",
            "  date       state death deathConfirmed deathIncrease deathProbable\n",
            "  \u001b[3m\u001b[90m<date>\u001b[39m\u001b[23m     \u001b[3m\u001b[90m<chr>\u001b[39m\u001b[23m \u001b[3m\u001b[90m<dbl>\u001b[39m\u001b[23m          \u001b[3m\u001b[90m<dbl>\u001b[39m\u001b[23m         \u001b[3m\u001b[90m<dbl>\u001b[39m\u001b[23m         \u001b[3m\u001b[90m<dbl>\u001b[39m\u001b[23m\n",
            "\u001b[90m1\u001b[39m 2021-03-07 CA    \u001b[4m5\u001b[24m\u001b[4m4\u001b[24m124             \u001b[31mNA\u001b[39m           258            \u001b[31mNA\u001b[39m\n",
            "\u001b[90m2\u001b[39m 2021-03-06 CA    \u001b[4m5\u001b[24m\u001b[4m3\u001b[24m866             \u001b[31mNA\u001b[39m           418            \u001b[31mNA\u001b[39m\n",
            "\u001b[90m3\u001b[39m 2021-03-05 CA    \u001b[4m5\u001b[24m\u001b[4m3\u001b[24m448             \u001b[31mNA\u001b[39m           400            \u001b[31mNA\u001b[39m\n",
            "\u001b[90m4\u001b[39m 2021-03-04 CA    \u001b[4m5\u001b[24m\u001b[4m3\u001b[24m048             \u001b[31mNA\u001b[39m           273            \u001b[31mNA\u001b[39m\n",
            "\u001b[90m5\u001b[39m 2021-03-03 CA    \u001b[4m5\u001b[24m\u001b[4m2\u001b[24m775             \u001b[31mNA\u001b[39m           278            \u001b[31mNA\u001b[39m\n",
            "\u001b[90m# ℹ 364 more rows\u001b[39m\n"
          ]
        }
      ]
    },
    {
      "cell_type": "markdown",
      "source": [
        "## <a name=\"Q1d\">Question 1d</a>\n",
        "\n",
        "---\n",
        "\n",
        "Using `ggplot2` and the data stored in `ca_covid`, create a plot that shows the number of COVID-19 deaths in California on the vertical axis and the date on the horizontal axis so you can see how the number of reported deaths from COVID-19 changed over time.\n",
        "\n",
        "You may use `geom` we have discussed this semester or feel free to do some research and use another `geom` we have not used this semester that may work just as well (or better).\n",
        "\n",
        "- Add a title and labels to both the $x$ and $y$ axes."
      ],
      "metadata": {
        "id": "Y3FAvMEUJ1ZC"
      }
    },
    {
      "cell_type": "code",
      "source": [
        "# create plot from ca_covid data\n",
        "\n",
        "# Chose to create a bar plot because x is a categorical variable, and y is a numerical variable.\n",
        "ggplot(ca_covid, aes(x = date, y = death)\n",
        ") +\n",
        "  # stat = \"identity\" just means to use the current y value as the y-axis.\n",
        "  geom_bar(stat = \"identity\", na.rm = TRUE) +\n",
        "\n",
        "  # Add title, subtitle, x-axis label, and y-axis label.\n",
        "  labs(title = \"Deaths in California due to covid\",\n",
        "       subtitle = \"in each date that was recorded\",\n",
        "       x = \"Date\",\n",
        "       y = \"Death counts\") +\n",
        "         # This is used for adjusting the text size of all labels.\n",
        "         theme(text = element_text(size = 15))"
      ],
      "metadata": {
        "id": "bg7vhcQPI11v",
        "colab": {
          "base_uri": "https://localhost:8080/",
          "height": 437
        },
        "outputId": "e36dbee4-42a3-4e6c-a353-aa32530764ee"
      },
      "execution_count": 44,
      "outputs": [
        {
          "output_type": "display_data",
          "data": {
            "text/plain": [
              "plot without title"
            ],
            "image/png": "[encoded data removed]"
          },
          "metadata": {
            "image/png": {
              "width": 420,
              "height": 420
            }
          }
        }
      ]
    },
    {
      "cell_type": "markdown",
      "source": [
        "# <a name=\"Q2\">Question 2</a>\n",
        "\n",
        "---\n",
        "\n",
        "`human_development_index.csv` is a comma-separate file that contains the Human Development Index (HDI) for all countries (that reported their HDI) over the years 1990-2021. The data is from the [United Nations Development Programme](https://undp.org/)<sup>2</sup> that oversees the calculation of HDI based on the following stated criteria:\n",
        "\n",
        "> The Human Development Index (HDI) is a summary measure of average achievement in key dimensions of human development: a long and healthy life, being knowledgeable and having a decent standard of living. The HDI is the geometric mean of normalized indices for each of the three dimensions.\n",
        "\n",
        "HDI values are standardized scores from 0 (poor HDI) to 1 (perfect HDI).\n",
        "\n",
        "<br>\n",
        "\n",
        "Run the code cell below to read the CSV file to a data frame named `hdi_mess` and print the first 10 rows to the screen. The corresponding variables in the data frame `hdi_mess` are:\n",
        "\n",
        "- `country`: Name of country\n",
        "- `1990`: HDI scores from 1990\n",
        "- `1991`: HDI scores from 1991\n",
        "\n",
        "$\\vdots$\n",
        "\n",
        "- `2020`: HDI scores from 2020\n",
        "- `2021`: HDI scores from 2021"
      ],
      "metadata": {
        "id": "5ThyDXwKUG5F"
      }
    },
    {
      "cell_type": "code",
      "source": [
        "# import csv file and store it as a data frame hdi_mess\n",
        "hdi_mess <- read_csv(\"https://raw.githubusercontent.com/CU-Denver-MathStats-OER/Data-Wrangling-and-Visualization/main/Data/human_development_index.csv\")\n",
        "print(hdi_mess)"
      ],
      "metadata": {
        "id": "2ppFKSP5lpma",
        "colab": {
          "base_uri": "https://localhost:8080/"
        },
        "outputId": "f938b722-712f-455b-b972-d0bbe61b4158"
      },
      "execution_count": 45,
      "outputs": [
        {
          "output_type": "stream",
          "name": "stderr",
          "text": [
            "\u001b[1mRows: \u001b[22m\u001b[34m191\u001b[39m \u001b[1mColumns: \u001b[22m\u001b[34m33\u001b[39m\n",
            "\u001b[36m──\u001b[39m \u001b[1mColumn specification\u001b[22m \u001b[36m────────────────────────────────────────────────────────\u001b[39m\n",
            "\u001b[1mDelimiter:\u001b[22m \",\"\n",
            "\u001b[31mchr\u001b[39m  (1): country\n",
            "\u001b[32mdbl\u001b[39m (32): 1990, 1991, 1992, 1993, 1994, 1995, 1996, 1997, 1998, 1999, 2000, ...\n",
            "\n",
            "\u001b[36mℹ\u001b[39m Use `spec()` to retrieve the full column specification for this data.\n",
            "\u001b[36mℹ\u001b[39m Specify the column types or set `show_col_types = FALSE` to quiet this message.\n"
          ]
        },
        {
          "output_type": "stream",
          "name": "stdout",
          "text": [
            "\u001b[90m# A tibble: 191 × 33\u001b[39m\n",
            "   country `1990` `1991` `1992` `1993` `1994` `1995` `1996` `1997` `1998` `1999`\n",
            "   \u001b[3m\u001b[90m<chr>\u001b[39m\u001b[23m    \u001b[3m\u001b[90m<dbl>\u001b[39m\u001b[23m  \u001b[3m\u001b[90m<dbl>\u001b[39m\u001b[23m  \u001b[3m\u001b[90m<dbl>\u001b[39m\u001b[23m  \u001b[3m\u001b[90m<dbl>\u001b[39m\u001b[23m  \u001b[3m\u001b[90m<dbl>\u001b[39m\u001b[23m  \u001b[3m\u001b[90m<dbl>\u001b[39m\u001b[23m  \u001b[3m\u001b[90m<dbl>\u001b[39m\u001b[23m  \u001b[3m\u001b[90m<dbl>\u001b[39m\u001b[23m  \u001b[3m\u001b[90m<dbl>\u001b[39m\u001b[23m  \u001b[3m\u001b[90m<dbl>\u001b[39m\u001b[23m\n",
            "\u001b[90m 1\u001b[39m Afghan…  0.273  0.279  0.287  0.297  0.292  0.31   0.319  0.323  0.324  0.332\n",
            "\u001b[90m 2\u001b[39m Angola  \u001b[31mNA\u001b[39m     \u001b[31mNA\u001b[39m     \u001b[31mNA\u001b[39m     \u001b[31mNA\u001b[39m     \u001b[31mNA\u001b[39m     \u001b[31mNA\u001b[39m     \u001b[31mNA\u001b[39m     \u001b[31mNA\u001b[39m     \u001b[31mNA\u001b[39m      0.364\n",
            "\u001b[90m 3\u001b[39m Albania  0.647  0.629  0.614  0.617  0.624  0.634  0.645  0.642  0.657  0.669\n",
            "\u001b[90m 4\u001b[39m Andorra \u001b[31mNA\u001b[39m     \u001b[31mNA\u001b[39m     \u001b[31mNA\u001b[39m     \u001b[31mNA\u001b[39m     \u001b[31mNA\u001b[39m     \u001b[31mNA\u001b[39m     \u001b[31mNA\u001b[39m     \u001b[31mNA\u001b[39m     \u001b[31mNA\u001b[39m     \u001b[31mNA\u001b[39m    \n",
            "\u001b[90m 5\u001b[39m UAE      0.728  0.739  0.742  0.748  0.755  0.762  0.767  0.773  0.779  0.787\n",
            "\u001b[90m 6\u001b[39m Argent…  0.723  0.73   0.735  0.739  0.744  0.745  0.751  0.756  0.762  0.773\n",
            "\u001b[90m 7\u001b[39m Armenia  0.656  0.649  0.618  0.616  0.62   0.627  0.632  0.641  0.654  0.657\n",
            "\u001b[90m 8\u001b[39m Antigu… \u001b[31mNA\u001b[39m     \u001b[31mNA\u001b[39m     \u001b[31mNA\u001b[39m     \u001b[31mNA\u001b[39m     \u001b[31mNA\u001b[39m     \u001b[31mNA\u001b[39m     \u001b[31mNA\u001b[39m     \u001b[31mNA\u001b[39m     \u001b[31mNA\u001b[39m     \u001b[31mNA\u001b[39m    \n",
            "\u001b[90m 9\u001b[39m Austra…  0.865  0.867  0.869  0.873  0.873  0.882  0.884  0.887  0.891  0.894\n",
            "\u001b[90m10\u001b[39m Austria  0.825  0.829  0.835  0.84   0.845  0.849  0.853  0.857  0.863  0.866\n",
            "\u001b[90m# ℹ 181 more rows\u001b[39m\n",
            "\u001b[90m# ℹ 22 more variables: `2000` <dbl>, `2001` <dbl>, `2002` <dbl>, `2003` <dbl>,\u001b[39m\n",
            "\u001b[90m#   `2004` <dbl>, `2005` <dbl>, `2006` <dbl>, `2007` <dbl>, `2008` <dbl>,\u001b[39m\n",
            "\u001b[90m#   `2009` <dbl>, `2010` <dbl>, `2011` <dbl>, `2012` <dbl>, `2013` <dbl>,\u001b[39m\n",
            "\u001b[90m#   `2014` <dbl>, `2015` <dbl>, `2016` <dbl>, `2017` <dbl>, `2018` <dbl>,\u001b[39m\n",
            "\u001b[90m#   `2019` <dbl>, `2020` <dbl>, `2021` <dbl>\u001b[39m\n"
          ]
        }
      ]
    },
    {
      "cell_type": "markdown",
      "source": [
        "## <a name=\"Q2a\">Question 2a</a>\n",
        "\n",
        "---\n",
        "\n",
        "Explain why the data in `hdi_mess` is not tidy. Use complete sentences.\n",
        "\n"
      ],
      "metadata": {
        "id": "NtmvGd4Qnh1n"
      }
    },
    {
      "cell_type": "markdown",
      "source": [
        "### <a name=\"sol2a\">Solution to Question 2a</a>\n",
        "\n",
        "---\n",
        "\n",
        "Because the columns 1990, 1991, 1992, ..., 2021 can be in a single column named \"year\". Currently, the variable is not in a single column, rather it is spread out as each column's headers. Therefore, the tidy data would most likely have columns: \"country\", \"year\", and \"HDI\" where year contains all the columns 1990, 1991, 1992, ..., 2021.\n",
        "\n",
        "\n",
        "\n",
        "<br>  \n",
        "<br>  \n"
      ],
      "metadata": {
        "id": "ii3NGgJzn2nF"
      }
    },
    {
      "cell_type": "markdown",
      "source": [
        "## <a name=\"Q2b\">Question 2b</a>\n",
        "\n",
        "---\n",
        "\n",
        "Use either the `pivot_longer()` or `pivot_wider()` function from `tidyr` to put the data frame above into a tidy form.\n",
        "\n",
        "- The resulting data frame should have three columns that you name: `country`, `year`, and `hdi`.\n",
        "- Store the resulting tidy data frame to `hdi_clean`.\n",
        "- Then print the first 10 rows of `hdi_clean` to the screen.\n",
        "\n",
        "\n",
        "<br>\n",
        "\n",
        "*Hint 1: When combining columns in the `pivot` function, it may be easier to specify which columns you do NOT want to combine rather than list all of the columns you do want to combine. The resulting data frame should look like:*\n",
        "\n",
        "| country | year | hdi |\n",
        "|---------|------|-----|\n",
        "| Afghanistan | 1990 | 0.273 |\n",
        "| Afghanistan | 1991 | 0.279 |\n",
        "| Afghanistan | 1992 | 0.287 |\n",
        "\n",
        "<br>  \n",
        "\n",
        "*Hint 2: The resulting data frame `hdi_clean` should now contain 6,112 observations.*\n",
        "\n",
        "<br>  "
      ],
      "metadata": {
        "id": "hKpWcrWUnyPg"
      }
    },
    {
      "cell_type": "code",
      "source": [
        "# use a pivot function to reformat hdi_mess\n",
        "# into a tidy data frame assigned to hdi_clean\n",
        "# then print the first 10 rows of hdi_clean\n",
        "\n",
        "# Use pivot_longer() to tidy the data by storing the column names to a new column called \"year\", and store it in hdi_clean.\n",
        "# The code in pivot_longer() basically says, take all the columns that is not country, and put it in a new column \"year\", and put all the values into a new column \"hdi\".\n",
        "hdi_clean <- hdi_mess |> pivot_longer(!c(\"country\"), names_to = \"year\",\n",
        "                                      values_to = \"hdi\")\n",
        "\n",
        "# Print the first 10 rows of the result (when I don't specify n in print(), it prints 10 rows).\n",
        "print(hdi_clean)"
      ],
      "metadata": {
        "id": "2zeL6Bsqojyl",
        "colab": {
          "base_uri": "https://localhost:8080/"
        },
        "outputId": "c4d1dae2-3f25-4ee8-f352-98c73ee8ab2b"
      },
      "execution_count": 46,
      "outputs": [
        {
          "output_type": "stream",
          "name": "stdout",
          "text": [
            "\u001b[90m# A tibble: 6,112 × 3\u001b[39m\n",
            "   country     year    hdi\n",
            "   \u001b[3m\u001b[90m<chr>\u001b[39m\u001b[23m       \u001b[3m\u001b[90m<chr>\u001b[39m\u001b[23m \u001b[3m\u001b[90m<dbl>\u001b[39m\u001b[23m\n",
            "\u001b[90m 1\u001b[39m Afghanistan 1990  0.273\n",
            "\u001b[90m 2\u001b[39m Afghanistan 1991  0.279\n",
            "\u001b[90m 3\u001b[39m Afghanistan 1992  0.287\n",
            "\u001b[90m 4\u001b[39m Afghanistan 1993  0.297\n",
            "\u001b[90m 5\u001b[39m Afghanistan 1994  0.292\n",
            "\u001b[90m 6\u001b[39m Afghanistan 1995  0.31 \n",
            "\u001b[90m 7\u001b[39m Afghanistan 1996  0.319\n",
            "\u001b[90m 8\u001b[39m Afghanistan 1997  0.323\n",
            "\u001b[90m 9\u001b[39m Afghanistan 1998  0.324\n",
            "\u001b[90m10\u001b[39m Afghanistan 1999  0.332\n",
            "\u001b[90m# ℹ 6,102 more rows\u001b[39m\n"
          ]
        }
      ]
    },
    {
      "cell_type": "markdown",
      "source": [
        "## <a name=\"Q2c\">Question 2c</a>\n",
        "\n",
        "---\n",
        "\n",
        "The most recent year of data in `hdi_clean` is 2021.\n",
        "\n",
        "- Create a subset from the `hdi_clean` data frame named `hdi_2021` that contains only observations from 2021 and keeps all columns.\n",
        "- Then use functions from `dplyr` to identify the 5 countries in 2021 that had:\n",
        "  - The greatest HDI scores.\n",
        "  - The smallest HDI scores.\n",
        "\n",
        "Answer the question by entering code in the appropriate code cell below. It should be clear from your output which 5 countries had the greatest and smallest HDI scores in 2021, so there is nothing you need to explain."
      ],
      "metadata": {
        "id": "ltwQ9auRrkYR"
      }
    },
    {
      "cell_type": "code",
      "source": [
        "# subset hdi_clean to create data frame\n",
        "# named hdi_2021 with only 2021 HDI scores\n",
        "\n",
        "# Filter the data where year is equal to 2021, and store it in hdi_2021.\n",
        "hdi_2021 <- hdi_clean |> filter(year == \"2021\")"
      ],
      "metadata": {
        "id": "KKbJh0I7rkYS"
      },
      "execution_count": 47,
      "outputs": []
    },
    {
      "cell_type": "code",
      "source": [
        "# print 5 greatest hdi scores from 2021\n",
        "hdi_2021 |> slice_max(hdi, n = 5)"
      ],
      "metadata": {
        "id": "uNL8ZCxTrkYS",
        "colab": {
          "base_uri": "https://localhost:8080/",
          "height": 255
        },
        "outputId": "b50f777f-5649-4d8b-8696-fc19239f07b8"
      },
      "execution_count": 48,
      "outputs": [
        {
          "output_type": "display_data",
          "data": {
            "text/html": [
              "<table class=\"dataframe\">\n",
              "<caption>A tibble: 5 × 3</caption>\n",
              "<thead>\n",
              "\t<tr><th scope=col>country</th><th scope=col>year</th><th scope=col>hdi</th></tr>\n",
              "\t<tr><th scope=col>&lt;chr&gt;</th><th scope=col>&lt;chr&gt;</th><th scope=col>&lt;dbl&gt;</th></tr>\n",
              "</thead>\n",
              "<tbody>\n",
              "\t<tr><td>Switzerland     </td><td>2021</td><td>0.962</td></tr>\n",
              "\t<tr><td>Norway          </td><td>2021</td><td>0.961</td></tr>\n",
              "\t<tr><td>Iceland         </td><td>2021</td><td>0.959</td></tr>\n",
              "\t<tr><td>Hong Kong, China</td><td>2021</td><td>0.952</td></tr>\n",
              "\t<tr><td>Australia       </td><td>2021</td><td>0.951</td></tr>\n",
              "</tbody>\n",
              "</table>\n"
            ],
            "text/markdown": "\nA tibble: 5 × 3\n\n| country &lt;chr&gt; | year &lt;chr&gt; | hdi &lt;dbl&gt; |\n|---|---|---|\n| Switzerland      | 2021 | 0.962 |\n| Norway           | 2021 | 0.961 |\n| Iceland          | 2021 | 0.959 |\n| Hong Kong, China | 2021 | 0.952 |\n| Australia        | 2021 | 0.951 |\n\n",
            "text/latex": "A tibble: 5 × 3\n\\begin{tabular}{lll}\n country & year & hdi\\\\\n <chr> & <chr> & <dbl>\\\\\n\\hline\n\t Switzerland      & 2021 & 0.962\\\\\n\t Norway           & 2021 & 0.961\\\\\n\t Iceland          & 2021 & 0.959\\\\\n\t Hong Kong, China & 2021 & 0.952\\\\\n\t Australia        & 2021 & 0.951\\\\\n\\end{tabular}\n",
            "text/plain": [
              "  country          year hdi  \n",
              "1 Switzerland      2021 0.962\n",
              "2 Norway           2021 0.961\n",
              "3 Iceland          2021 0.959\n",
              "4 Hong Kong, China 2021 0.952\n",
              "5 Australia        2021 0.951"
            ]
          },
          "metadata": {}
        }
      ]
    },
    {
      "cell_type": "code",
      "source": [
        "# print 5 smallest hdi scores from 2021\n",
        "hdi_2021 |> slice_min(hdi, n = 5)"
      ],
      "metadata": {
        "id": "K6yFDl5XrkYS",
        "colab": {
          "base_uri": "https://localhost:8080/",
          "height": 255
        },
        "outputId": "13df403b-95ac-4e5a-eecc-88dae38aa38d"
      },
      "execution_count": 49,
      "outputs": [
        {
          "output_type": "display_data",
          "data": {
            "text/html": [
              "<table class=\"dataframe\">\n",
              "<caption>A tibble: 5 × 3</caption>\n",
              "<thead>\n",
              "\t<tr><th scope=col>country</th><th scope=col>year</th><th scope=col>hdi</th></tr>\n",
              "\t<tr><th scope=col>&lt;chr&gt;</th><th scope=col>&lt;chr&gt;</th><th scope=col>&lt;dbl&gt;</th></tr>\n",
              "</thead>\n",
              "<tbody>\n",
              "\t<tr><td>South Sudan             </td><td>2021</td><td>0.385</td></tr>\n",
              "\t<tr><td>Chad                    </td><td>2021</td><td>0.394</td></tr>\n",
              "\t<tr><td>Niger                   </td><td>2021</td><td>0.400</td></tr>\n",
              "\t<tr><td>Central African Republic</td><td>2021</td><td>0.404</td></tr>\n",
              "\t<tr><td>Burundi                 </td><td>2021</td><td>0.426</td></tr>\n",
              "</tbody>\n",
              "</table>\n"
            ],
            "text/markdown": "\nA tibble: 5 × 3\n\n| country &lt;chr&gt; | year &lt;chr&gt; | hdi &lt;dbl&gt; |\n|---|---|---|\n| South Sudan              | 2021 | 0.385 |\n| Chad                     | 2021 | 0.394 |\n| Niger                    | 2021 | 0.400 |\n| Central African Republic | 2021 | 0.404 |\n| Burundi                  | 2021 | 0.426 |\n\n",
            "text/latex": "A tibble: 5 × 3\n\\begin{tabular}{lll}\n country & year & hdi\\\\\n <chr> & <chr> & <dbl>\\\\\n\\hline\n\t South Sudan              & 2021 & 0.385\\\\\n\t Chad                     & 2021 & 0.394\\\\\n\t Niger                    & 2021 & 0.400\\\\\n\t Central African Republic & 2021 & 0.404\\\\\n\t Burundi                  & 2021 & 0.426\\\\\n\\end{tabular}\n",
            "text/plain": [
              "  country                  year hdi  \n",
              "1 South Sudan              2021 0.385\n",
              "2 Chad                     2021 0.394\n",
              "3 Niger                    2021 0.400\n",
              "4 Central African Republic 2021 0.404\n",
              "5 Burundi                  2021 0.426"
            ]
          },
          "metadata": {}
        }
      ]
    },
    {
      "cell_type": "markdown",
      "source": [
        "# <a name=\"Q3\">Question 3</a>\n",
        "\n",
        "---\n",
        "\n",
        "`Electricity_Use.csv` is a comma-separate file that contains the electricity use per capita in kilowatt-hours per capita (kWh per capita) for all countries in the world (for which there is data) over the years 1960-2023 (though most countries last reported data in 2014). The data is from the [World Bank Databank](https://data.worldbank.org/)<sup>1</sup>. The variables in the data are listed below:\n",
        "\n",
        "<br>\n",
        "\n",
        "- `Country Name`: Country\n",
        "- `Country Code`: A three letter abbreviation code for each country.\n",
        "- `Series Name`: Name of electricy use per capita variable in the World Bank Databank.\n",
        "  - Every value in this column is equal to  `\"Electric power consumption (kWh per capita)\"`\n",
        "- `Series Code`: Name of electricy use per capita variable in the World Bank Databank.\n",
        "  - Every value in this column is equal to `\"EG.USE.ELEC.KH.PC\"`\n",
        "- `1960 [YR1960]`: Electricity use per capita in 1960.\n",
        "- `1961 [YR1961]`: Electricity use per capita in 1961.\n",
        "\n",
        "$\\vdots$\n",
        "\n",
        "- `2023 [YR2023]`: Electricity use per capita in 2023.\n",
        "\n",
        "\n",
        "Run the code cell below to read the CSV file to a data frame named `electric_mess` and print the first 20 rows to the screen. Then answer the questions that follow."
      ],
      "metadata": {
        "id": "8AuoLSMvOarl"
      }
    },
    {
      "cell_type": "code",
      "source": [
        "# import csv file and store it as a data frame electric_mess\n",
        "electric_mess <- read_csv(\"https://raw.githubusercontent.com/CU-Denver-MathStats-OER/Data-Wrangling-and-Visualization/main/Data/Electricity_Use.csv\")\n",
        "print(electric_mess, n=20)"
      ],
      "metadata": {
        "id": "ysWd3JEvOu8i",
        "colab": {
          "base_uri": "https://localhost:8080/"
        },
        "outputId": "653002eb-1849-4085-a4e5-1b91e9756dd6"
      },
      "execution_count": 50,
      "outputs": [
        {
          "output_type": "stream",
          "name": "stderr",
          "text": [
            "\u001b[1mRows: \u001b[22m\u001b[34m217\u001b[39m \u001b[1mColumns: \u001b[22m\u001b[34m68\u001b[39m\n",
            "\u001b[36m──\u001b[39m \u001b[1mColumn specification\u001b[22m \u001b[36m────────────────────────────────────────────────────────\u001b[39m\n",
            "\u001b[1mDelimiter:\u001b[22m \",\"\n",
            "\u001b[31mchr\u001b[39m (68): Country Name, Country Code, Series Name, Series Code, 1960 [YR1960...\n",
            "\n",
            "\u001b[36mℹ\u001b[39m Use `spec()` to retrieve the full column specification for this data.\n",
            "\u001b[36mℹ\u001b[39m Specify the column types or set `show_col_types = FALSE` to quiet this message.\n"
          ]
        },
        {
          "output_type": "stream",
          "name": "stdout",
          "text": [
            "\u001b[90m# A tibble: 217 × 68\u001b[39m\n",
            "   `Country Name`     `Country Code` `Series Name` `Series Code` `1960 [YR1960]`\n",
            "   \u001b[3m\u001b[90m<chr>\u001b[39m\u001b[23m              \u001b[3m\u001b[90m<chr>\u001b[39m\u001b[23m          \u001b[3m\u001b[90m<chr>\u001b[39m\u001b[23m         \u001b[3m\u001b[90m<chr>\u001b[39m\u001b[23m         \u001b[3m\u001b[90m<chr>\u001b[39m\u001b[23m          \n",
            "\u001b[90m 1\u001b[39m Afghanistan        AFG            Electric pow… EG.USE.ELEC.… ..             \n",
            "\u001b[90m 2\u001b[39m Albania            ALB            Electric pow… EG.USE.ELEC.… ..             \n",
            "\u001b[90m 3\u001b[39m Algeria            DZA            Electric pow… EG.USE.ELEC.… ..             \n",
            "\u001b[90m 4\u001b[39m American Samoa     ASM            Electric pow… EG.USE.ELEC.… ..             \n",
            "\u001b[90m 5\u001b[39m Andorra            AND            Electric pow… EG.USE.ELEC.… ..             \n",
            "\u001b[90m 6\u001b[39m Angola             AGO            Electric pow… EG.USE.ELEC.… ..             \n",
            "\u001b[90m 7\u001b[39m Antigua and Barbu… ATG            Electric pow… EG.USE.ELEC.… ..             \n",
            "\u001b[90m 8\u001b[39m Argentina          ARG            Electric pow… EG.USE.ELEC.… ..             \n",
            "\u001b[90m 9\u001b[39m Armenia            ARM            Electric pow… EG.USE.ELEC.… ..             \n",
            "\u001b[90m10\u001b[39m Aruba              ABW            Electric pow… EG.USE.ELEC.… ..             \n",
            "\u001b[90m11\u001b[39m Australia          AUS            Electric pow… EG.USE.ELEC.… 1825.62565     \n",
            "\u001b[90m12\u001b[39m Austria            AUT            Electric pow… EG.USE.ELEC.… 1814.676017    \n",
            "\u001b[90m13\u001b[39m Azerbaijan         AZE            Electric pow… EG.USE.ELEC.… ..             \n",
            "\u001b[90m14\u001b[39m Bahamas, The       BHS            Electric pow… EG.USE.ELEC.… ..             \n",
            "\u001b[90m15\u001b[39m Bahrain            BHR            Electric pow… EG.USE.ELEC.… ..             \n",
            "\u001b[90m16\u001b[39m Bangladesh         BGD            Electric pow… EG.USE.ELEC.… ..             \n",
            "\u001b[90m17\u001b[39m Barbados           BRB            Electric pow… EG.USE.ELEC.… ..             \n",
            "\u001b[90m18\u001b[39m Belarus            BLR            Electric pow… EG.USE.ELEC.… ..             \n",
            "\u001b[90m19\u001b[39m Belgium            BEL            Electric pow… EG.USE.ELEC.… 1576.338815    \n",
            "\u001b[90m20\u001b[39m Belize             BLZ            Electric pow… EG.USE.ELEC.… ..             \n",
            "\u001b[90m# ℹ 197 more rows\u001b[39m\n",
            "\u001b[90m# ℹ 63 more variables: `1961 [YR1961]` <chr>, `1962 [YR1962]` <chr>,\u001b[39m\n",
            "\u001b[90m#   `1963 [YR1963]` <chr>, `1964 [YR1964]` <chr>, `1965 [YR1965]` <chr>,\u001b[39m\n",
            "\u001b[90m#   `1966 [YR1966]` <chr>, `1967 [YR1967]` <chr>, `1968 [YR1968]` <chr>,\u001b[39m\n",
            "\u001b[90m#   `1969 [YR1969]` <chr>, `1970 [YR1970]` <chr>, `1971 [YR1971]` <chr>,\u001b[39m\n",
            "\u001b[90m#   `1972 [YR1972]` <chr>, `1973 [YR1973]` <chr>, `1974 [YR1974]` <chr>,\u001b[39m\n",
            "\u001b[90m#   `1975 [YR1975]` <chr>, `1976 [YR1976]` <chr>, `1977 [YR1977]` <chr>, …\u001b[39m\n"
          ]
        }
      ]
    },
    {
      "cell_type": "markdown",
      "source": [
        "## <a name=\"Q3a\">Question 3a</a>\n",
        "\n",
        "---\n",
        "\n",
        "Missing values in the CSV file are not coded properly. Missing values are coded as `\"..\"` instead of `NA`. As a result, all of the columns with missing values have will be formatted as `character` data type as you can see in the output generated by the previous code cell.\n",
        "\n",
        "\n",
        "Add an `na` argument to the `read_csv()` command below to convert each missing value coded as `\"..\"` to a proper missing value `NA`.\n",
        "\n",
        "- Store the resulting data frame to `electric_na`.\n",
        "- Print the first 20 rows of `electric_na` to the screen to check your work.\n",
        "\n",
        "\n",
        "<br>  \n",
        "\n"
      ],
      "metadata": {
        "id": "WA7g1KL2bgYE"
      }
    },
    {
      "cell_type": "code",
      "source": [
        "# add an na argument below to the read_csv command to\n",
        "# convert all strings used for missing values properly to NA\n",
        "# store result to electric_na and print 20 rows to screen\n",
        "electric_na <- read_csv(\n",
        "  \"https://raw.githubusercontent.com/CU-Denver-MathStats-OER/Data-Wrangling-and-Visualization/main/Data/Electricity_Use.csv\",\n",
        "  na = c(\"\",\"NA\",\"..\")  # Added \"..\" into the na argument, and don't forget \"\", \"NA\" because we overwrote the default na values.\n",
        ")\n",
        "print(electric_na, n=20)"
      ],
      "metadata": {
        "id": "U87Od_VJbfoy",
        "colab": {
          "base_uri": "https://localhost:8080/"
        },
        "outputId": "d350f16a-153b-484f-a907-347006cd395f"
      },
      "execution_count": 51,
      "outputs": [
        {
          "output_type": "stream",
          "name": "stderr",
          "text": [
            "\u001b[1mRows: \u001b[22m\u001b[34m217\u001b[39m \u001b[1mColumns: \u001b[22m\u001b[34m68\u001b[39m\n",
            "\u001b[36m──\u001b[39m \u001b[1mColumn specification\u001b[22m \u001b[36m────────────────────────────────────────────────────────\u001b[39m\n",
            "\u001b[1mDelimiter:\u001b[22m \",\"\n",
            "\u001b[31mchr\u001b[39m  (4): Country Name, Country Code, Series Name, Series Code\n",
            "\u001b[32mdbl\u001b[39m (60): 1960 [YR1960], 1961 [YR1961], 1962 [YR1962], 1963 [YR1963], 1964 [...\n",
            "\u001b[33mlgl\u001b[39m  (4): 2020 [YR2020], 2021 [YR2021], 2022 [YR2022], 2023 [YR2023]\n",
            "\n",
            "\u001b[36mℹ\u001b[39m Use `spec()` to retrieve the full column specification for this data.\n",
            "\u001b[36mℹ\u001b[39m Specify the column types or set `show_col_types = FALSE` to quiet this message.\n"
          ]
        },
        {
          "output_type": "stream",
          "name": "stdout",
          "text": [
            "\u001b[90m# A tibble: 217 × 68\u001b[39m\n",
            "   `Country Name`     `Country Code` `Series Name` `Series Code` `1960 [YR1960]`\n",
            "   \u001b[3m\u001b[90m<chr>\u001b[39m\u001b[23m              \u001b[3m\u001b[90m<chr>\u001b[39m\u001b[23m          \u001b[3m\u001b[90m<chr>\u001b[39m\u001b[23m         \u001b[3m\u001b[90m<chr>\u001b[39m\u001b[23m                   \u001b[3m\u001b[90m<dbl>\u001b[39m\u001b[23m\n",
            "\u001b[90m 1\u001b[39m Afghanistan        AFG            Electric pow… EG.USE.ELEC.…             \u001b[31mNA\u001b[39m \n",
            "\u001b[90m 2\u001b[39m Albania            ALB            Electric pow… EG.USE.ELEC.…             \u001b[31mNA\u001b[39m \n",
            "\u001b[90m 3\u001b[39m Algeria            DZA            Electric pow… EG.USE.ELEC.…             \u001b[31mNA\u001b[39m \n",
            "\u001b[90m 4\u001b[39m American Samoa     ASM            Electric pow… EG.USE.ELEC.…             \u001b[31mNA\u001b[39m \n",
            "\u001b[90m 5\u001b[39m Andorra            AND            Electric pow… EG.USE.ELEC.…             \u001b[31mNA\u001b[39m \n",
            "\u001b[90m 6\u001b[39m Angola             AGO            Electric pow… EG.USE.ELEC.…             \u001b[31mNA\u001b[39m \n",
            "\u001b[90m 7\u001b[39m Antigua and Barbu… ATG            Electric pow… EG.USE.ELEC.…             \u001b[31mNA\u001b[39m \n",
            "\u001b[90m 8\u001b[39m Argentina          ARG            Electric pow… EG.USE.ELEC.…             \u001b[31mNA\u001b[39m \n",
            "\u001b[90m 9\u001b[39m Armenia            ARM            Electric pow… EG.USE.ELEC.…             \u001b[31mNA\u001b[39m \n",
            "\u001b[90m10\u001b[39m Aruba              ABW            Electric pow… EG.USE.ELEC.…             \u001b[31mNA\u001b[39m \n",
            "\u001b[90m11\u001b[39m Australia          AUS            Electric pow… EG.USE.ELEC.…           \u001b[4m1\u001b[24m826.\n",
            "\u001b[90m12\u001b[39m Austria            AUT            Electric pow… EG.USE.ELEC.…           \u001b[4m1\u001b[24m815.\n",
            "\u001b[90m13\u001b[39m Azerbaijan         AZE            Electric pow… EG.USE.ELEC.…             \u001b[31mNA\u001b[39m \n",
            "\u001b[90m14\u001b[39m Bahamas, The       BHS            Electric pow… EG.USE.ELEC.…             \u001b[31mNA\u001b[39m \n",
            "\u001b[90m15\u001b[39m Bahrain            BHR            Electric pow… EG.USE.ELEC.…             \u001b[31mNA\u001b[39m \n",
            "\u001b[90m16\u001b[39m Bangladesh         BGD            Electric pow… EG.USE.ELEC.…             \u001b[31mNA\u001b[39m \n",
            "\u001b[90m17\u001b[39m Barbados           BRB            Electric pow… EG.USE.ELEC.…             \u001b[31mNA\u001b[39m \n",
            "\u001b[90m18\u001b[39m Belarus            BLR            Electric pow… EG.USE.ELEC.…             \u001b[31mNA\u001b[39m \n",
            "\u001b[90m19\u001b[39m Belgium            BEL            Electric pow… EG.USE.ELEC.…           \u001b[4m1\u001b[24m576.\n",
            "\u001b[90m20\u001b[39m Belize             BLZ            Electric pow… EG.USE.ELEC.…             \u001b[31mNA\u001b[39m \n",
            "\u001b[90m# ℹ 197 more rows\u001b[39m\n",
            "\u001b[90m# ℹ 63 more variables: `1961 [YR1961]` <dbl>, `1962 [YR1962]` <dbl>,\u001b[39m\n",
            "\u001b[90m#   `1963 [YR1963]` <dbl>, `1964 [YR1964]` <dbl>, `1965 [YR1965]` <dbl>,\u001b[39m\n",
            "\u001b[90m#   `1966 [YR1966]` <dbl>, `1967 [YR1967]` <dbl>, `1968 [YR1968]` <dbl>,\u001b[39m\n",
            "\u001b[90m#   `1969 [YR1969]` <dbl>, `1970 [YR1970]` <dbl>, `1971 [YR1971]` <dbl>,\u001b[39m\n",
            "\u001b[90m#   `1972 [YR1972]` <dbl>, `1973 [YR1973]` <dbl>, `1974 [YR1974]` <dbl>,\u001b[39m\n",
            "\u001b[90m#   `1975 [YR1975]` <dbl>, `1976 [YR1976]` <dbl>, `1977 [YR1977]` <dbl>, …\u001b[39m\n"
          ]
        }
      ]
    },
    {
      "cell_type": "markdown",
      "source": [
        "## <a name=\"Q3b\">Question 3b</a>\n",
        "\n",
        "---\n",
        "\n",
        "Explain why the default columns names assigned by `read_csv()` when creating the data frame `electric_na` above are problematic. Use complete sentences when typing your explanation.\n",
        "\n",
        "<br>  \n"
      ],
      "metadata": {
        "id": "XQOcFpxhXmJ0"
      }
    },
    {
      "cell_type": "markdown",
      "source": [
        "### <a name=\"sol3b\">Solution to Question 3b</a>\n",
        "\n",
        "---\n",
        "\n",
        "Because the column names do not follow the snake_case format. Moreover, the column names have spaces, and quotes which will result in an error when using methods that requires to use column names. For example, if I were to use filter(electric_na, 'Country Name' == \"Belgium\"), this would result in an error due to the column's name.\n",
        "\n",
        "\n",
        "<br>  \n",
        "<br>  \n"
      ],
      "metadata": {
        "id": "si7vudCnRlpJ"
      }
    },
    {
      "cell_type": "markdown",
      "source": [
        "## <a name=\"Q3c\">Question 3c</a>\n",
        "\n",
        "---\n",
        "\n",
        "Use a function from the `janitor` package to rename all of the column names in `electric_na` with names that follow the guidelines for the `snake_case` naming method for variables in R.\n",
        "\n",
        "- You will need to run the first code cell below to install and load the `janitor` package.\n",
        "- Assign the resulting data frame (with new column names) to `electric_names`.\n",
        "- Print the first 20 rows of the  `electric_names` data frame to the screen to check your work.\n",
        "- Do NOT rename each column individually. Be sure to use a built-in function from `janitor` to do the work for you!"
      ],
      "metadata": {
        "id": "WxbTMrPGRUqM"
      }
    },
    {
      "cell_type": "code",
      "source": [
        "# install and load janitor package\n",
        "install.packages(\"janitor\")\n",
        "library(janitor)"
      ],
      "metadata": {
        "id": "L8wQoxLTQza_",
        "colab": {
          "base_uri": "https://localhost:8080/"
        },
        "outputId": "9280c23a-f35a-4f57-8772-46ea0a31dbef"
      },
      "execution_count": 52,
      "outputs": [
        {
          "output_type": "stream",
          "name": "stderr",
          "text": [
            "Installing package into ‘/usr/local/lib/R/site-library’\n",
            "(as ‘lib’ is unspecified)\n",
            "\n"
          ]
        }
      ]
    },
    {
      "cell_type": "code",
      "source": [
        "# fix column names in electric_na using a janitor function\n",
        "# assign the result to data frame named electric_names\n",
        "# print first 20 rows to the screen\n",
        "\n",
        "# Use clean_names() from janitor library to change the column names' format to snake_case, and store it in electric_names.\n",
        "electric_names <- electric_na |> clean_names()\n",
        "\n",
        "# Print the first 20 rows of the result.\n",
        "print(electric_names, n = 20)"
      ],
      "metadata": {
        "id": "4xj7DnSUQ6pK",
        "colab": {
          "base_uri": "https://localhost:8080/"
        },
        "outputId": "4471be7a-3f37-45f5-bf83-a336ae6822e8"
      },
      "execution_count": 53,
      "outputs": [
        {
          "output_type": "stream",
          "name": "stdout",
          "text": [
            "\u001b[90m# A tibble: 217 × 68\u001b[39m\n",
            "   country_name   country_code series_name series_code x1960_yr1960 x1961_yr1961\n",
            "   \u001b[3m\u001b[90m<chr>\u001b[39m\u001b[23m          \u001b[3m\u001b[90m<chr>\u001b[39m\u001b[23m        \u001b[3m\u001b[90m<chr>\u001b[39m\u001b[23m       \u001b[3m\u001b[90m<chr>\u001b[39m\u001b[23m              \u001b[3m\u001b[90m<dbl>\u001b[39m\u001b[23m        \u001b[3m\u001b[90m<dbl>\u001b[39m\u001b[23m\n",
            "\u001b[90m 1\u001b[39m Afghanistan    AFG          Electric p… EG.USE.ELE…          \u001b[31mNA\u001b[39m           \u001b[31mNA\u001b[39m \n",
            "\u001b[90m 2\u001b[39m Albania        ALB          Electric p… EG.USE.ELE…          \u001b[31mNA\u001b[39m           \u001b[31mNA\u001b[39m \n",
            "\u001b[90m 3\u001b[39m Algeria        DZA          Electric p… EG.USE.ELE…          \u001b[31mNA\u001b[39m           \u001b[31mNA\u001b[39m \n",
            "\u001b[90m 4\u001b[39m American Samoa ASM          Electric p… EG.USE.ELE…          \u001b[31mNA\u001b[39m           \u001b[31mNA\u001b[39m \n",
            "\u001b[90m 5\u001b[39m Andorra        AND          Electric p… EG.USE.ELE…          \u001b[31mNA\u001b[39m           \u001b[31mNA\u001b[39m \n",
            "\u001b[90m 6\u001b[39m Angola         AGO          Electric p… EG.USE.ELE…          \u001b[31mNA\u001b[39m           \u001b[31mNA\u001b[39m \n",
            "\u001b[90m 7\u001b[39m Antigua and B… ATG          Electric p… EG.USE.ELE…          \u001b[31mNA\u001b[39m           \u001b[31mNA\u001b[39m \n",
            "\u001b[90m 8\u001b[39m Argentina      ARG          Electric p… EG.USE.ELE…          \u001b[31mNA\u001b[39m           \u001b[31mNA\u001b[39m \n",
            "\u001b[90m 9\u001b[39m Armenia        ARM          Electric p… EG.USE.ELE…          \u001b[31mNA\u001b[39m           \u001b[31mNA\u001b[39m \n",
            "\u001b[90m10\u001b[39m Aruba          ABW          Electric p… EG.USE.ELE…          \u001b[31mNA\u001b[39m           \u001b[31mNA\u001b[39m \n",
            "\u001b[90m11\u001b[39m Australia      AUS          Electric p… EG.USE.ELE…        \u001b[4m1\u001b[24m826.        \u001b[4m1\u001b[24m947.\n",
            "\u001b[90m12\u001b[39m Austria        AUT          Electric p… EG.USE.ELE…        \u001b[4m1\u001b[24m815.        \u001b[4m1\u001b[24m882.\n",
            "\u001b[90m13\u001b[39m Azerbaijan     AZE          Electric p… EG.USE.ELE…          \u001b[31mNA\u001b[39m           \u001b[31mNA\u001b[39m \n",
            "\u001b[90m14\u001b[39m Bahamas, The   BHS          Electric p… EG.USE.ELE…          \u001b[31mNA\u001b[39m           \u001b[31mNA\u001b[39m \n",
            "\u001b[90m15\u001b[39m Bahrain        BHR          Electric p… EG.USE.ELE…          \u001b[31mNA\u001b[39m           \u001b[31mNA\u001b[39m \n",
            "\u001b[90m16\u001b[39m Bangladesh     BGD          Electric p… EG.USE.ELE…          \u001b[31mNA\u001b[39m           \u001b[31mNA\u001b[39m \n",
            "\u001b[90m17\u001b[39m Barbados       BRB          Electric p… EG.USE.ELE…          \u001b[31mNA\u001b[39m           \u001b[31mNA\u001b[39m \n",
            "\u001b[90m18\u001b[39m Belarus        BLR          Electric p… EG.USE.ELE…          \u001b[31mNA\u001b[39m           \u001b[31mNA\u001b[39m \n",
            "\u001b[90m19\u001b[39m Belgium        BEL          Electric p… EG.USE.ELE…        \u001b[4m1\u001b[24m576.        \u001b[4m1\u001b[24m628.\n",
            "\u001b[90m20\u001b[39m Belize         BLZ          Electric p… EG.USE.ELE…          \u001b[31mNA\u001b[39m           \u001b[31mNA\u001b[39m \n",
            "\u001b[90m# ℹ 197 more rows\u001b[39m\n",
            "\u001b[90m# ℹ 62 more variables: x1962_yr1962 <dbl>, x1963_yr1963 <dbl>,\u001b[39m\n",
            "\u001b[90m#   x1964_yr1964 <dbl>, x1965_yr1965 <dbl>, x1966_yr1966 <dbl>,\u001b[39m\n",
            "\u001b[90m#   x1967_yr1967 <dbl>, x1968_yr1968 <dbl>, x1969_yr1969 <dbl>,\u001b[39m\n",
            "\u001b[90m#   x1970_yr1970 <dbl>, x1971_yr1971 <dbl>, x1972_yr1972 <dbl>,\u001b[39m\n",
            "\u001b[90m#   x1973_yr1973 <dbl>, x1974_yr1974 <dbl>, x1975_yr1975 <dbl>,\u001b[39m\n",
            "\u001b[90m#   x1976_yr1976 <dbl>, x1977_yr1977 <dbl>, x1978_yr1978 <dbl>, …\u001b[39m\n"
          ]
        }
      ]
    },
    {
      "cell_type": "markdown",
      "source": [
        "## <a name=\"Q3d\">Question 3d</a>\n",
        "\n",
        "---\n",
        "\n",
        "In the data frame `electric_names`, we do not gain any information from the `series_name` or `series_code` columns since every observation has the same values in these columns.\n",
        "\n",
        "Before moving on to the next question, remove the two columns `series_name` and `series_code` from the `electric_names` data frame.\n",
        "\n",
        "- Assign the resulting data frame (with `series_name` and `series_code` columns removed) to `electric_q3`.\n",
        "- Print the first 20 rows of the  `electric_q3` data frame to the screen to check your work.\n",
        "\n",
        "<br>\n",
        "\n",
        "*Hint: It may be easier to specify which columns to remove rather than specify all of the columns you want to keep.*\n"
      ],
      "metadata": {
        "id": "REXNt9eHd43e"
      }
    },
    {
      "cell_type": "code",
      "source": [
        "# remove series_name and series_code and\n",
        "# store result to electric_q3\n",
        "# print the first 20 rows of electric_q3 to the screen\n",
        "\n",
        "# Remove two columns by selecting every columns except \"series_name\", and \"series_code\", and store it in electric_q3.\n",
        "electric_q3 <- electric_names |> select(!c(\"series_name\", \"series_code\"))\n",
        "\n",
        "# Print the first 20 rows of the result.\n",
        "print(electric_q3, n = 20)"
      ],
      "metadata": {
        "id": "2J28F1Lzd2KD",
        "colab": {
          "base_uri": "https://localhost:8080/"
        },
        "outputId": "038d85c0-6d38-4b65-e3a5-0e4d4a9968eb"
      },
      "execution_count": 54,
      "outputs": [
        {
          "output_type": "stream",
          "name": "stdout",
          "text": [
            "\u001b[90m# A tibble: 217 × 66\u001b[39m\n",
            "   country_name country_code x1960_yr1960 x1961_yr1961 x1962_yr1962 x1963_yr1963\n",
            "   \u001b[3m\u001b[90m<chr>\u001b[39m\u001b[23m        \u001b[3m\u001b[90m<chr>\u001b[39m\u001b[23m               \u001b[3m\u001b[90m<dbl>\u001b[39m\u001b[23m        \u001b[3m\u001b[90m<dbl>\u001b[39m\u001b[23m        \u001b[3m\u001b[90m<dbl>\u001b[39m\u001b[23m        \u001b[3m\u001b[90m<dbl>\u001b[39m\u001b[23m\n",
            "\u001b[90m 1\u001b[39m Afghanistan  AFG                   \u001b[31mNA\u001b[39m           \u001b[31mNA\u001b[39m           \u001b[31mNA\u001b[39m           \u001b[31mNA\u001b[39m \n",
            "\u001b[90m 2\u001b[39m Albania      ALB                   \u001b[31mNA\u001b[39m           \u001b[31mNA\u001b[39m           \u001b[31mNA\u001b[39m           \u001b[31mNA\u001b[39m \n",
            "\u001b[90m 3\u001b[39m Algeria      DZA                   \u001b[31mNA\u001b[39m           \u001b[31mNA\u001b[39m           \u001b[31mNA\u001b[39m           \u001b[31mNA\u001b[39m \n",
            "\u001b[90m 4\u001b[39m American Sa… ASM                   \u001b[31mNA\u001b[39m           \u001b[31mNA\u001b[39m           \u001b[31mNA\u001b[39m           \u001b[31mNA\u001b[39m \n",
            "\u001b[90m 5\u001b[39m Andorra      AND                   \u001b[31mNA\u001b[39m           \u001b[31mNA\u001b[39m           \u001b[31mNA\u001b[39m           \u001b[31mNA\u001b[39m \n",
            "\u001b[90m 6\u001b[39m Angola       AGO                   \u001b[31mNA\u001b[39m           \u001b[31mNA\u001b[39m           \u001b[31mNA\u001b[39m           \u001b[31mNA\u001b[39m \n",
            "\u001b[90m 7\u001b[39m Antigua and… ATG                   \u001b[31mNA\u001b[39m           \u001b[31mNA\u001b[39m           \u001b[31mNA\u001b[39m           \u001b[31mNA\u001b[39m \n",
            "\u001b[90m 8\u001b[39m Argentina    ARG                   \u001b[31mNA\u001b[39m           \u001b[31mNA\u001b[39m           \u001b[31mNA\u001b[39m           \u001b[31mNA\u001b[39m \n",
            "\u001b[90m 9\u001b[39m Armenia      ARM                   \u001b[31mNA\u001b[39m           \u001b[31mNA\u001b[39m           \u001b[31mNA\u001b[39m           \u001b[31mNA\u001b[39m \n",
            "\u001b[90m10\u001b[39m Aruba        ABW                   \u001b[31mNA\u001b[39m           \u001b[31mNA\u001b[39m           \u001b[31mNA\u001b[39m           \u001b[31mNA\u001b[39m \n",
            "\u001b[90m11\u001b[39m Australia    AUS                 \u001b[4m1\u001b[24m826.        \u001b[4m1\u001b[24m947.        \u001b[4m2\u001b[24m013.        \u001b[4m2\u001b[24m212.\n",
            "\u001b[90m12\u001b[39m Austria      AUT                 \u001b[4m1\u001b[24m815.        \u001b[4m1\u001b[24m882.        \u001b[4m2\u001b[24m007.        \u001b[4m2\u001b[24m124.\n",
            "\u001b[90m13\u001b[39m Azerbaijan   AZE                   \u001b[31mNA\u001b[39m           \u001b[31mNA\u001b[39m           \u001b[31mNA\u001b[39m           \u001b[31mNA\u001b[39m \n",
            "\u001b[90m14\u001b[39m Bahamas, The BHS                   \u001b[31mNA\u001b[39m           \u001b[31mNA\u001b[39m           \u001b[31mNA\u001b[39m           \u001b[31mNA\u001b[39m \n",
            "\u001b[90m15\u001b[39m Bahrain      BHR                   \u001b[31mNA\u001b[39m           \u001b[31mNA\u001b[39m           \u001b[31mNA\u001b[39m           \u001b[31mNA\u001b[39m \n",
            "\u001b[90m16\u001b[39m Bangladesh   BGD                   \u001b[31mNA\u001b[39m           \u001b[31mNA\u001b[39m           \u001b[31mNA\u001b[39m           \u001b[31mNA\u001b[39m \n",
            "\u001b[90m17\u001b[39m Barbados     BRB                   \u001b[31mNA\u001b[39m           \u001b[31mNA\u001b[39m           \u001b[31mNA\u001b[39m           \u001b[31mNA\u001b[39m \n",
            "\u001b[90m18\u001b[39m Belarus      BLR                   \u001b[31mNA\u001b[39m           \u001b[31mNA\u001b[39m           \u001b[31mNA\u001b[39m           \u001b[31mNA\u001b[39m \n",
            "\u001b[90m19\u001b[39m Belgium      BEL                 \u001b[4m1\u001b[24m576.        \u001b[4m1\u001b[24m628.        \u001b[4m1\u001b[24m753.        \u001b[4m1\u001b[24m881.\n",
            "\u001b[90m20\u001b[39m Belize       BLZ                   \u001b[31mNA\u001b[39m           \u001b[31mNA\u001b[39m           \u001b[31mNA\u001b[39m           \u001b[31mNA\u001b[39m \n",
            "\u001b[90m# ℹ 197 more rows\u001b[39m\n",
            "\u001b[90m# ℹ 60 more variables: x1964_yr1964 <dbl>, x1965_yr1965 <dbl>,\u001b[39m\n",
            "\u001b[90m#   x1966_yr1966 <dbl>, x1967_yr1967 <dbl>, x1968_yr1968 <dbl>,\u001b[39m\n",
            "\u001b[90m#   x1969_yr1969 <dbl>, x1970_yr1970 <dbl>, x1971_yr1971 <dbl>,\u001b[39m\n",
            "\u001b[90m#   x1972_yr1972 <dbl>, x1973_yr1973 <dbl>, x1974_yr1974 <dbl>,\u001b[39m\n",
            "\u001b[90m#   x1975_yr1975 <dbl>, x1976_yr1976 <dbl>, x1977_yr1977 <dbl>,\u001b[39m\n",
            "\u001b[90m#   x1978_yr1978 <dbl>, x1979_yr1979 <dbl>, x1980_yr1980 <dbl>, …\u001b[39m\n"
          ]
        }
      ]
    },
    {
      "cell_type": "markdown",
      "source": [
        "# <a name=\"Q4\">Question 4</a>\n",
        "\n",
        "---\n",
        "\n",
        "We wish to create a tidy data frame containing all years of electricity data that has the following tidy structure:\n",
        "\n",
        "| `country_name` | `country_code` | `year` | `electricity_use` |\n",
        "|----------------|----------------|--------|------------------|\n",
        "| Afghanistan | AFG | 1960 | `NA` |\n",
        "| Afghanistan | AFG | 1961 | `NA` |\n",
        "\n",
        "Answer the questions below to create a final, tidy version of the electricity use data that you will store to a new data frame named `electric_clean`.\n"
      ],
      "metadata": {
        "id": "dorcrbnITZ5N"
      }
    },
    {
      "cell_type": "markdown",
      "source": [
        "## <a name=\"Q4a\">Question 4a</a>\n",
        "\n",
        "---\n",
        "\n",
        "After solving [Question 3](#Q3), you have created a data frame named `electric_q3` that should now have column names such as `x1960_yr1960`, `x1961_yr1961`, $\\ldots$, `x2023_yr2023`.\n",
        "\n",
        "- <font color=\"dodgerblue\">**Be sure you have already solved question 3 and created `electric_q3` before answering this question.**</font>\n",
        "\n",
        "Notice you can get the values for the year from the columns names.\n",
        "\n",
        "- Use one of the `pivot` functions from `tidyr`, and possibly compose with other functions from `dplyr`, to convert the data frame `electric_q3` you created in [Question 3d](#Q3d) to a new data frame named `electric_clean` that has the form given below:\n",
        "- Then print the first 5 rows of data to the screen. Note Afghanistan has not reported this data, so all values for Afghanistan are missing and should now be coded as `NA`.\n",
        "\n",
        "<br>  \n",
        "\n",
        "| `country_name` | `country_code` | `year` | `electricity_use` |\n",
        "|----------------|----------------|--------|------------------|\n",
        "| Afghanistan | AFG | 1960 | `NA` |\n",
        "| Afghanistan | AFG | 1961 | `NA` |\n",
        "| Afghanistan | AFG | 1962 | `NA` |\n",
        "\n",
        "<br>  \n",
        "\n",
        "- Hint 1: The materials from last week's module do a very similar example [(see video)](https://youtu.be/HIfATANyicY?si=EytreKiaqMpn9eug) with TB data from the World Health Organization that should help!\n",
        "\n",
        "- Hint 2: You do not have to complete the entire task using only a `pivot` function. You might use a `pivot` to move things in the right direction and then pipe the output into another action to perform additional cleaning to get the data frame in the form above.\n",
        "\n",
        "- Hint 3: The resulting data frame `electric_clean` should contain 13,888 observations at this stage.\n"
      ],
      "metadata": {
        "id": "KtbzndwQRws6"
      }
    },
    {
      "cell_type": "code",
      "source": [
        "# use a pivot function to format electric data frame into\n",
        "# the tidy form given above and store back to electric\n",
        "# you may also need to use additional functions after the pivot\n",
        "# print first 5 rows to the screen\n",
        "\n",
        "# First I use pivot_longer() to store all the column names that are not country_name, and country_code, to year and year2 where the seperator in the column name is \"_\", and the values in the column to \"electricity_use\".\n",
        "# After that I remove \"year2\" column, and separate the current \"year\" column because currently it looks like x1960, x1961, etc. So, I separated the column into 2 columns: \"varia\", and \"year\" where the separator is \"x\".\n",
        "# Finally, now that I've separated the column where x is in column \"varia\", and year is in column \"year\", I then removed the column \"varia\", to get the desired result, and store it in electric_clean.\n",
        "electric_clean <- electric_q3 |> pivot_longer(!c(\"country_name\", \"country_code\"), names_to = c(\"year\",\"year2\"), names_sep = \"_\", values_to = \"electricity_use\") |>\n",
        "  select(!c(\"year2\")) |> separate(col = year, into = c(\"varia\",\"year\"), sep = \"x\") |> select(!c(\"varia\"))\n",
        "\n",
        "# Print the first 5 rows of the result.\n",
        "print(electric_clean, n = 5)"
      ],
      "metadata": {
        "id": "XXKCbtpmWymJ",
        "colab": {
          "base_uri": "https://localhost:8080/"
        },
        "outputId": "69c2bab7-a08f-4b3f-8673-28318c340657"
      },
      "execution_count": 55,
      "outputs": [
        {
          "output_type": "stream",
          "name": "stdout",
          "text": [
            "\u001b[90m# A tibble: 13,888 × 4\u001b[39m\n",
            "  country_name country_code year  electricity_use\n",
            "  \u001b[3m\u001b[90m<chr>\u001b[39m\u001b[23m        \u001b[3m\u001b[90m<chr>\u001b[39m\u001b[23m        \u001b[3m\u001b[90m<chr>\u001b[39m\u001b[23m           \u001b[3m\u001b[90m<dbl>\u001b[39m\u001b[23m\n",
            "\u001b[90m1\u001b[39m Afghanistan  AFG          1960               \u001b[31mNA\u001b[39m\n",
            "\u001b[90m2\u001b[39m Afghanistan  AFG          1961               \u001b[31mNA\u001b[39m\n",
            "\u001b[90m3\u001b[39m Afghanistan  AFG          1962               \u001b[31mNA\u001b[39m\n",
            "\u001b[90m4\u001b[39m Afghanistan  AFG          1963               \u001b[31mNA\u001b[39m\n",
            "\u001b[90m5\u001b[39m Afghanistan  AFG          1964               \u001b[31mNA\u001b[39m\n",
            "\u001b[90m# ℹ 13,883 more rows\u001b[39m\n"
          ]
        }
      ]
    },
    {
      "cell_type": "markdown",
      "source": [
        "## <a name=\"Q4b\">Question 4b</a>\n",
        "\n",
        "---\n",
        "\n",
        "Use the data frame `electric_clean` and functions from `dplyr` to identify the 5 countries and years in which:\n",
        "\n",
        "  - The largest electricity use per capita occurred.\n",
        "  - The smallest electricity use per capita occurred.\n",
        "\n",
        "Answer the question by entering code in the appropriate code cell below. It should be clear from your output which 5 countries and years had the greatest and smallest electricity use per capita, so there is nothing you need to explain."
      ],
      "metadata": {
        "id": "hzKxm_aJj0ht"
      }
    },
    {
      "cell_type": "code",
      "source": [
        "# 5 greatest electricity use per capita\n",
        "electric_clean |> slice_max(electricity_use,  n = 5)"
      ],
      "metadata": {
        "id": "o4psiWM9j0hu",
        "colab": {
          "base_uri": "https://localhost:8080/",
          "height": 255
        },
        "outputId": "6ef1c178-5f39-4c26-a549-2aa4802ea075"
      },
      "execution_count": 56,
      "outputs": [
        {
          "output_type": "display_data",
          "data": {
            "text/html": [
              "<table class=\"dataframe\">\n",
              "<caption>A tibble: 5 × 4</caption>\n",
              "<thead>\n",
              "\t<tr><th scope=col>country_name</th><th scope=col>country_code</th><th scope=col>year</th><th scope=col>electricity_use</th></tr>\n",
              "\t<tr><th scope=col>&lt;chr&gt;</th><th scope=col>&lt;chr&gt;</th><th scope=col>&lt;chr&gt;</th><th scope=col>&lt;dbl&gt;</th></tr>\n",
              "</thead>\n",
              "<tbody>\n",
              "\t<tr><td>Iceland</td><td>ISL</td><td>2013</td><td>54799.17</td></tr>\n",
              "\t<tr><td>Iceland</td><td>ISL</td><td>2014</td><td>53832.48</td></tr>\n",
              "\t<tr><td>Iceland</td><td>ISL</td><td>2012</td><td>53202.83</td></tr>\n",
              "\t<tr><td>Iceland</td><td>ISL</td><td>2011</td><td>52373.88</td></tr>\n",
              "\t<tr><td>Iceland</td><td>ISL</td><td>2010</td><td>51439.91</td></tr>\n",
              "</tbody>\n",
              "</table>\n"
            ],
            "text/markdown": "\nA tibble: 5 × 4\n\n| country_name &lt;chr&gt; | country_code &lt;chr&gt; | year &lt;chr&gt; | electricity_use &lt;dbl&gt; |\n|---|---|---|---|\n| Iceland | ISL | 2013 | 54799.17 |\n| Iceland | ISL | 2014 | 53832.48 |\n| Iceland | ISL | 2012 | 53202.83 |\n| Iceland | ISL | 2011 | 52373.88 |\n| Iceland | ISL | 2010 | 51439.91 |\n\n",
            "text/latex": "A tibble: 5 × 4\n\\begin{tabular}{llll}\n country\\_name & country\\_code & year & electricity\\_use\\\\\n <chr> & <chr> & <chr> & <dbl>\\\\\n\\hline\n\t Iceland & ISL & 2013 & 54799.17\\\\\n\t Iceland & ISL & 2014 & 53832.48\\\\\n\t Iceland & ISL & 2012 & 53202.83\\\\\n\t Iceland & ISL & 2011 & 52373.88\\\\\n\t Iceland & ISL & 2010 & 51439.91\\\\\n\\end{tabular}\n",
            "text/plain": [
              "  country_name country_code year electricity_use\n",
              "1 Iceland      ISL          2013 54799.17       \n",
              "2 Iceland      ISL          2014 53832.48       \n",
              "3 Iceland      ISL          2012 53202.83       \n",
              "4 Iceland      ISL          2011 52373.88       \n",
              "5 Iceland      ISL          2010 51439.91       "
            ]
          },
          "metadata": {}
        }
      ]
    },
    {
      "cell_type": "code",
      "source": [
        "# 5 smallest electricity use per capita\n",
        "electric_clean |> slice_min(electricity_use,  n = 5)"
      ],
      "metadata": {
        "id": "ptp-jVRlj0hu",
        "colab": {
          "base_uri": "https://localhost:8080/",
          "height": 255
        },
        "outputId": "2cc810fe-4ed3-4a3b-c024-6fe00a91eadb"
      },
      "execution_count": 57,
      "outputs": [
        {
          "output_type": "display_data",
          "data": {
            "text/html": [
              "<table class=\"dataframe\">\n",
              "<caption>A tibble: 5 × 4</caption>\n",
              "<thead>\n",
              "\t<tr><th scope=col>country_name</th><th scope=col>country_code</th><th scope=col>year</th><th scope=col>electricity_use</th></tr>\n",
              "\t<tr><th scope=col>&lt;chr&gt;</th><th scope=col>&lt;chr&gt;</th><th scope=col>&lt;chr&gt;</th><th scope=col>&lt;dbl&gt;</th></tr>\n",
              "</thead>\n",
              "<tbody>\n",
              "\t<tr><td>Nepal</td><td>NPL</td><td>1973</td><td>5.574288</td></tr>\n",
              "\t<tr><td>Nepal</td><td>NPL</td><td>1971</td><td>5.822159</td></tr>\n",
              "\t<tr><td>Nepal</td><td>NPL</td><td>1975</td><td>6.416405</td></tr>\n",
              "\t<tr><td>Nepal</td><td>NPL</td><td>1974</td><td>6.927844</td></tr>\n",
              "\t<tr><td>Nepal</td><td>NPL</td><td>1972</td><td>7.313825</td></tr>\n",
              "</tbody>\n",
              "</table>\n"
            ],
            "text/markdown": "\nA tibble: 5 × 4\n\n| country_name &lt;chr&gt; | country_code &lt;chr&gt; | year &lt;chr&gt; | electricity_use &lt;dbl&gt; |\n|---|---|---|---|\n| Nepal | NPL | 1973 | 5.574288 |\n| Nepal | NPL | 1971 | 5.822159 |\n| Nepal | NPL | 1975 | 6.416405 |\n| Nepal | NPL | 1974 | 6.927844 |\n| Nepal | NPL | 1972 | 7.313825 |\n\n",
            "text/latex": "A tibble: 5 × 4\n\\begin{tabular}{llll}\n country\\_name & country\\_code & year & electricity\\_use\\\\\n <chr> & <chr> & <chr> & <dbl>\\\\\n\\hline\n\t Nepal & NPL & 1973 & 5.574288\\\\\n\t Nepal & NPL & 1971 & 5.822159\\\\\n\t Nepal & NPL & 1975 & 6.416405\\\\\n\t Nepal & NPL & 1974 & 6.927844\\\\\n\t Nepal & NPL & 1972 & 7.313825\\\\\n\\end{tabular}\n",
            "text/plain": [
              "  country_name country_code year electricity_use\n",
              "1 Nepal        NPL          1973 5.574288       \n",
              "2 Nepal        NPL          1971 5.822159       \n",
              "3 Nepal        NPL          1975 6.416405       \n",
              "4 Nepal        NPL          1974 6.927844       \n",
              "5 Nepal        NPL          1972 7.313825       "
            ]
          },
          "metadata": {}
        }
      ]
    },
    {
      "cell_type": "markdown",
      "source": [
        "# <a name=\"Q5\">Question 5</a>\n",
        "\n",
        "---\n",
        "\n",
        "We would like to do some analysis to compare electricity consumption of countries to their HDI score.\n",
        "\n",
        "- You should now have a clean HDI data frame  stored in `hdi_clean` from [Question 2b](#Q2b).\n",
        "- You should now have a clean electricity use data frame  stored in `electric_clean` from [Question 4a](#Q4a).\n",
        "- **Be sure you have answered both questions [2b](#Q2b) and [4a](#Q4a) and created both `hdi_clean` and `electric_clean` before proceeding with this question.**\n",
        "\n"
      ],
      "metadata": {
        "id": "MP_l7Isq9IQq"
      }
    },
    {
      "cell_type": "markdown",
      "source": [
        "## <a name=\"Q5a\">Question 5a</a>\n",
        "\n",
        "---\n",
        "\n",
        "In this part, you will perform two operations to the `electric_clean` data frame from [Question 4a](#Q4a) and store the result to `electric_final` before we join data frames together.\n",
        "\n",
        "1. We do not need to keep the `country_code` column in `electric_final`. **Remove the `country_code` column.**\n",
        "\n",
        "2. The column name for country in `electric_clean` is `country_name` while the column name in `hdi_clean` is `country`. We would like to name both columns `country` so it will be easier to join the data frames. **Change the column name for the countries in `electric_clean` from `country_name` to `country`.**\n",
        "\n",
        "<br>  \n",
        "\n",
        "- Perform both operations above (remove `country_code` and then rename `country_name` to `country`) on `electric_clean`.\n",
        "- Use the pipe to compose the operations together.\n",
        "- Store the result to a new data frame named `electric_final`.\n",
        "- Print the first 5 rows to the screen before moving on to the next part. Note Afghanistan will have only `NA` values displayed.\n",
        "\n",
        "<br>  "
      ],
      "metadata": {
        "id": "ViXVq9Q7_YHS"
      }
    },
    {
      "cell_type": "code",
      "source": [
        "# remove indicated columns and rename country_name to country\n",
        "# compose operations using the pipe\n",
        "# assign result to electric_final and print first 5 rows to the screen\n",
        "\n",
        "# Remove the column country_code, and rename the column \"country_name\" to \"country\", and store it in electric_final.\n",
        "electric_final <- electric_clean |> select(!c(\"country_code\")) |> rename(country = country_name)\n",
        "\n",
        "# Print out the first 5 rows of the result.\n",
        "print(electric_final, n = 5)"
      ],
      "metadata": {
        "id": "pMiVjVoOAtm9",
        "colab": {
          "base_uri": "https://localhost:8080/"
        },
        "outputId": "25885863-cea0-43dd-9ccf-8a4d76906ac6"
      },
      "execution_count": 58,
      "outputs": [
        {
          "output_type": "stream",
          "name": "stdout",
          "text": [
            "\u001b[90m# A tibble: 13,888 × 3\u001b[39m\n",
            "  country     year  electricity_use\n",
            "  \u001b[3m\u001b[90m<chr>\u001b[39m\u001b[23m       \u001b[3m\u001b[90m<chr>\u001b[39m\u001b[23m           \u001b[3m\u001b[90m<dbl>\u001b[39m\u001b[23m\n",
            "\u001b[90m1\u001b[39m Afghanistan 1960               \u001b[31mNA\u001b[39m\n",
            "\u001b[90m2\u001b[39m Afghanistan 1961               \u001b[31mNA\u001b[39m\n",
            "\u001b[90m3\u001b[39m Afghanistan 1962               \u001b[31mNA\u001b[39m\n",
            "\u001b[90m4\u001b[39m Afghanistan 1963               \u001b[31mNA\u001b[39m\n",
            "\u001b[90m5\u001b[39m Afghanistan 1964               \u001b[31mNA\u001b[39m\n",
            "\u001b[90m# ℹ 13,883 more rows\u001b[39m\n"
          ]
        }
      ]
    },
    {
      "cell_type": "markdown",
      "source": [
        "## <a name=\"Q5b\">Question 5b</a>\n",
        "\n",
        "---\n",
        "\n",
        "\n",
        "Use one of the `*_join` functions in the `tidyr` package to merge `electric_final` (from [Question 5a](#Q5a)) and `hdi_clean` (from [Question 2b](#Q2b)) together into a single data frame that is stored to an object named `hdi_electric`. Join the data frames so that you return all rows and all columns from both data frames filling in `NA` values when there are not matching values.\n",
        "\n",
        "- Assign the new data frame to `hdi_electric`.\n",
        "- Print the first 5 rows of data to the screen. Note once again Afghanistan will have only NA values displayed.\n",
        "\n",
        "<br>  \n",
        "\n",
        "*Hint: The resulting data frame `hdi_electric` should have 14,528 observations.*"
      ],
      "metadata": {
        "id": "iOPYcC0R_XBF"
      }
    },
    {
      "cell_type": "code",
      "source": [
        "# use a *_join function to merge data frames as indicated above\n",
        "\n",
        "# Use full_join() to join both tibbles such that the new tibble would contain electricity_use, hdi, and all the countries and years, and store it in hdi_electric.\n",
        "hdi_electric <- full_join(electric_final, hdi_clean)\n",
        "\n",
        "# Print the first 5 rows of the result.\n",
        "print(hdi_electric, n = 5)"
      ],
      "metadata": {
        "id": "-xk6RuCa--Vu",
        "colab": {
          "base_uri": "https://localhost:8080/"
        },
        "outputId": "909db0ba-7dbf-4360-9897-249a99758742"
      },
      "execution_count": 59,
      "outputs": [
        {
          "output_type": "stream",
          "name": "stderr",
          "text": [
            "\u001b[1m\u001b[22mJoining with `by = join_by(country, year)`\n"
          ]
        },
        {
          "output_type": "stream",
          "name": "stdout",
          "text": [
            "\u001b[90m# A tibble: 14,528 × 4\u001b[39m\n",
            "  country     year  electricity_use   hdi\n",
            "  \u001b[3m\u001b[90m<chr>\u001b[39m\u001b[23m       \u001b[3m\u001b[90m<chr>\u001b[39m\u001b[23m           \u001b[3m\u001b[90m<dbl>\u001b[39m\u001b[23m \u001b[3m\u001b[90m<dbl>\u001b[39m\u001b[23m\n",
            "\u001b[90m1\u001b[39m Afghanistan 1960               \u001b[31mNA\u001b[39m    \u001b[31mNA\u001b[39m\n",
            "\u001b[90m2\u001b[39m Afghanistan 1961               \u001b[31mNA\u001b[39m    \u001b[31mNA\u001b[39m\n",
            "\u001b[90m3\u001b[39m Afghanistan 1962               \u001b[31mNA\u001b[39m    \u001b[31mNA\u001b[39m\n",
            "\u001b[90m4\u001b[39m Afghanistan 1963               \u001b[31mNA\u001b[39m    \u001b[31mNA\u001b[39m\n",
            "\u001b[90m5\u001b[39m Afghanistan 1964               \u001b[31mNA\u001b[39m    \u001b[31mNA\u001b[39m\n",
            "\u001b[90m# ℹ 14,523 more rows\u001b[39m\n"
          ]
        }
      ]
    },
    {
      "cell_type": "markdown",
      "source": [
        "## <a name=\"Q5c\">Question 5c</a>\n",
        "\n",
        "---\n",
        "\n",
        "Subset the data frame `hdi_electric` you created in [Question 5b](#Q5b) by choosing just the observations from 2011 to 2014. Note most countries stopped reporting electricity use in 2014, so we stop in that year.\n",
        "\n",
        "- Store the subset to a new data frame named `hdi_electric_11to14`.\n",
        "- Print the first 10 rows of `hdi_electric_11to14` to check your work.\n",
        "\n",
        "<br>  \n",
        "\n",
        "*Hint: Your data frame `hdi_electric_11to14` should have 948 observations at this point*."
      ],
      "metadata": {
        "id": "NP6oZ4AlEn-B"
      }
    },
    {
      "cell_type": "code",
      "source": [
        "# subset observations from 2011 to 2014 from hdi_electric\n",
        "# store result to hdi_electric_11to14\n",
        "# print first 10 rows of hdi_electric_11to14 to screen\n",
        "\n",
        "# In this line, I used mutate() to change that column's type to integer for easier comparison.\n",
        "hdi_electric <- hdi_electric |> mutate(year = as.integer(year))\n",
        "\n",
        "# And then, I use filter() to filter the years that are from 2011 to 2014, and then I used mutate() again to convert the column's type back to character, and store it in hdi_electric_11to14.\n",
        "hdi_electric_11to14 <- hdi_electric |> filter(year >= 2011 & year <= 2014) |> mutate(year = as.character(year))\n",
        "\n",
        "# Print the first 10 rows of the result.\n",
        "print(hdi_electric_11to14)"
      ],
      "metadata": {
        "id": "GKR3cUOIEElb",
        "colab": {
          "base_uri": "https://localhost:8080/"
        },
        "outputId": "85c051a5-8aff-4b97-9086-6fd806ddb023"
      },
      "execution_count": 60,
      "outputs": [
        {
          "output_type": "stream",
          "name": "stdout",
          "text": [
            "\u001b[90m# A tibble: 948 × 4\u001b[39m\n",
            "   country     year  electricity_use   hdi\n",
            "   \u001b[3m\u001b[90m<chr>\u001b[39m\u001b[23m       \u001b[3m\u001b[90m<chr>\u001b[39m\u001b[23m           \u001b[3m\u001b[90m<dbl>\u001b[39m\u001b[23m \u001b[3m\u001b[90m<dbl>\u001b[39m\u001b[23m\n",
            "\u001b[90m 1\u001b[39m Afghanistan 2011              \u001b[31mNA\u001b[39m  0.456\n",
            "\u001b[90m 2\u001b[39m Afghanistan 2012              \u001b[31mNA\u001b[39m  0.466\n",
            "\u001b[90m 3\u001b[39m Afghanistan 2013              \u001b[31mNA\u001b[39m  0.474\n",
            "\u001b[90m 4\u001b[39m Afghanistan 2014              \u001b[31mNA\u001b[39m  0.479\n",
            "\u001b[90m 5\u001b[39m Albania     2011            \u001b[4m2\u001b[24m206. 0.766\n",
            "\u001b[90m 6\u001b[39m Albania     2012            \u001b[4m2\u001b[24m118. 0.778\n",
            "\u001b[90m 7\u001b[39m Albania     2013            \u001b[4m2\u001b[24m533. 0.785\n",
            "\u001b[90m 8\u001b[39m Albania     2014            \u001b[4m2\u001b[24m309. 0.792\n",
            "\u001b[90m 9\u001b[39m Algeria     2011            \u001b[4m1\u001b[24m116. 0.727\n",
            "\u001b[90m10\u001b[39m Algeria     2012            \u001b[4m1\u001b[24m229. 0.729\n",
            "\u001b[90m# ℹ 938 more rows\u001b[39m\n"
          ]
        }
      ]
    },
    {
      "cell_type": "markdown",
      "source": [
        "## <a name=\"Q5d\">Question 5d</a>\n",
        "\n",
        "---\n",
        "\n",
        "Finally, before moving on to the next question, we would like to keep only the observations in `hdi_electric_11to14` that have values for BOTH `electricity_use` and `hdi`.\n",
        "\n",
        "Run the code cell below to remove all observations with a missing value for any variable and store the result to `final_df`.\n",
        "\n",
        "- There is nothing to edit in the code cell below. Just run it!\n",
        "- *Hint: Your data frame `final_df` should have 491 observations at this point. The first two rows are given below.*\n",
        "\n",
        "<br>  \n",
        "\n",
        "| country | year | electricity_use | hdi |\n",
        "|---------|------|-----------------|-----|\n",
        "| Albania | 2011 | 2206. | 0.766 |\n",
        "| Albania | 2012 | 2118. | 0.778 |\n",
        "\n",
        "<br>  "
      ],
      "metadata": {
        "id": "07ywLvSQFoVo"
      }
    },
    {
      "cell_type": "code",
      "source": [
        "# run code cell without any edits\n",
        "final_df <- na.omit(hdi_electric_11to14)\n",
        "print(final_df)"
      ],
      "metadata": {
        "id": "MvTqdwi3EW9P",
        "colab": {
          "base_uri": "https://localhost:8080/"
        },
        "outputId": "b0b87060-38cf-407b-c176-42076598e7ac"
      },
      "execution_count": 61,
      "outputs": [
        {
          "output_type": "stream",
          "name": "stdout",
          "text": [
            "\u001b[90m# A tibble: 491 × 4\u001b[39m\n",
            "   country year  electricity_use   hdi\n",
            "   \u001b[3m\u001b[90m<chr>\u001b[39m\u001b[23m   \u001b[3m\u001b[90m<chr>\u001b[39m\u001b[23m           \u001b[3m\u001b[90m<dbl>\u001b[39m\u001b[23m \u001b[3m\u001b[90m<dbl>\u001b[39m\u001b[23m\n",
            "\u001b[90m 1\u001b[39m Albania 2011            \u001b[4m2\u001b[24m206. 0.766\n",
            "\u001b[90m 2\u001b[39m Albania 2012            \u001b[4m2\u001b[24m118. 0.778\n",
            "\u001b[90m 3\u001b[39m Albania 2013            \u001b[4m2\u001b[24m533. 0.785\n",
            "\u001b[90m 4\u001b[39m Albania 2014            \u001b[4m2\u001b[24m309. 0.792\n",
            "\u001b[90m 5\u001b[39m Algeria 2011            \u001b[4m1\u001b[24m116. 0.727\n",
            "\u001b[90m 6\u001b[39m Algeria 2012            \u001b[4m1\u001b[24m229. 0.729\n",
            "\u001b[90m 7\u001b[39m Algeria 2013            \u001b[4m1\u001b[24m270. 0.731\n",
            "\u001b[90m 8\u001b[39m Algeria 2014            \u001b[4m1\u001b[24m353. 0.735\n",
            "\u001b[90m 9\u001b[39m Angola  2011             207. 0.526\n",
            "\u001b[90m10\u001b[39m Angola  2012             219. 0.541\n",
            "\u001b[90m# ℹ 481 more rows\u001b[39m\n"
          ]
        }
      ]
    },
    {
      "cell_type": "markdown",
      "source": [
        "# <a name=\"Q6\">Question 6</a>\n",
        "\n",
        "---\n",
        "\n",
        "In this question we will do some additional transformations to the data stored in `final_df` you previously created in [Question 5d](#Q5d) that has HDI and electricity use per capita at the country level for the years 2011 to 2014.\n",
        "\n",
        "- Be sure you have already answered [Question 5d](#Q5d) and created `final_df` before answering the questions below.\n",
        "\n"
      ],
      "metadata": {
        "id": "G-OFyYZ0HJb_"
      }
    },
    {
      "cell_type": "markdown",
      "source": [
        "## <a name=\"Q6a\">Question 6a</a>\n",
        "\n",
        "---\n",
        "\n",
        "First create a data frame named `yr2014` by subsetting the data in `final_df` to extract just the observations from 2014.\n",
        "\n",
        "Then use `ggplot2` to create a basic scatter plot of the data for 2014 in `yr2014` with `electricity_use` on the `x` axis and `hdi` on the `y` axis. You do not need to add any additional formatting options to the plot."
      ],
      "metadata": {
        "id": "-zMmXcxZJm2N"
      }
    },
    {
      "cell_type": "code",
      "source": [
        "# extract 2014 data from final_df and store to yr2014\n",
        "\n",
        "# Filter the data where year is equal to 2014, and store it in yr2014.\n",
        "yr2014 <- final_df |> filter(year == \"2014\")"
      ],
      "metadata": {
        "id": "E_dAHcQLKYSi"
      },
      "execution_count": 62,
      "outputs": []
    },
    {
      "cell_type": "code",
      "source": [
        "# create a scatter plot of 2014 data\n",
        "ggplot(yr2014, aes(x = electricity_use, y = hdi)\n",
        ") + geom_point()"
      ],
      "metadata": {
        "id": "BUyiUtS2Kdox",
        "colab": {
          "base_uri": "https://localhost:8080/",
          "height": 437
        },
        "outputId": "a99c1320-f60c-4f7d-b9a2-4da8abe421ee"
      },
      "execution_count": 63,
      "outputs": [
        {
          "output_type": "display_data",
          "data": {
            "text/plain": [
              "plot without title"
            ],
            "image/png": "[encoded data removed]"
          },
          "metadata": {
            "image/png": {
              "width": 420,
              "height": 420
            }
          }
        }
      ]
    },
    {
      "cell_type": "markdown",
      "source": [
        "## <a name=\"Q6b\">Question 6b</a>\n",
        "\n",
        "---\n",
        "\n",
        "Based on the plot in [Question 6a](#Q6a) you should see a positive association between `electricity_use` and `hdi` as you might expect. However, there are some outliers when it comes to electricity use (looking at you Iceland, Norway, and Bahrain!).\n",
        "\n",
        "In order to display the large values for `electricity_use` the scale on the $x$-axis covers a wide range of values. Most of the values are small compared to the outliers, and it is difficult to see the relation as clearly using a normal scale.\n",
        "\n",
        "Using data from `final_df` created in [Question 5d](#Q5d) and functions from `dplyr`:\n",
        "\n",
        "- Create a new column called `log_electric` which is the natural log of the `electricity_use`.\n",
        "- Store the resulting data frame to a new data frame called `final_log`.\n",
        "- **Relocate the new column `log_electric` to after the `electricity_use` column.**\n",
        "- Print the first 10 rows of `final_log` to the screen.\n",
        "- *Hint: Your data frame `final_log` should have 491 observations at this point. The first two rows are given below.*\n",
        "\n",
        "<br>  \n",
        "\n",
        "| country | year | electricity_use | log_electric |hdi |\n",
        "|---------|------|-----------------|-------------|----|\n",
        "| Albania | 2011 | 2206. | 7.70 | 0.766 |\n",
        "| Albania | 2012 | 2118. | 7.66 | 0.778 |\n",
        "\n"
      ],
      "metadata": {
        "id": "mAk9462yJsct"
      }
    },
    {
      "cell_type": "code",
      "source": [
        "# create new column which is natural log of electricity use\n",
        "# relocate the new column to after electricity use\n",
        "# store result to new data frame final_log\n",
        "# print first 10 rows of final_log to the screen\n",
        "\n",
        "# Use mutate() to create a new column called \"log_electric\" which takes the log of all observations in \"electricity_use\",\n",
        "# and use relocate() to move the \"log_electric\" column to be after the column \"eletricity_use\", and store it in final_log.\n",
        "final_log <- final_df |> mutate(log_electric = log(electricity_use)) |> relocate(log_electric, .after = electricity_use)\n",
        "\n",
        "# Print the first 10 rows of the result.\n",
        "print(final_log)"
      ],
      "metadata": {
        "id": "NAycfCXmLVKs",
        "colab": {
          "base_uri": "https://localhost:8080/"
        },
        "outputId": "a9ba474f-113a-4e91-acd6-96bd3d3a75a6"
      },
      "execution_count": 64,
      "outputs": [
        {
          "output_type": "stream",
          "name": "stdout",
          "text": [
            "\u001b[90m# A tibble: 491 × 5\u001b[39m\n",
            "   country year  electricity_use log_electric   hdi\n",
            "   \u001b[3m\u001b[90m<chr>\u001b[39m\u001b[23m   \u001b[3m\u001b[90m<chr>\u001b[39m\u001b[23m           \u001b[3m\u001b[90m<dbl>\u001b[39m\u001b[23m        \u001b[3m\u001b[90m<dbl>\u001b[39m\u001b[23m \u001b[3m\u001b[90m<dbl>\u001b[39m\u001b[23m\n",
            "\u001b[90m 1\u001b[39m Albania 2011            \u001b[4m2\u001b[24m206.         7.70 0.766\n",
            "\u001b[90m 2\u001b[39m Albania 2012            \u001b[4m2\u001b[24m118.         7.66 0.778\n",
            "\u001b[90m 3\u001b[39m Albania 2013            \u001b[4m2\u001b[24m533.         7.84 0.785\n",
            "\u001b[90m 4\u001b[39m Albania 2014            \u001b[4m2\u001b[24m309.         7.74 0.792\n",
            "\u001b[90m 5\u001b[39m Algeria 2011            \u001b[4m1\u001b[24m116.         7.02 0.727\n",
            "\u001b[90m 6\u001b[39m Algeria 2012            \u001b[4m1\u001b[24m229.         7.11 0.729\n",
            "\u001b[90m 7\u001b[39m Algeria 2013            \u001b[4m1\u001b[24m270.         7.15 0.731\n",
            "\u001b[90m 8\u001b[39m Algeria 2014            \u001b[4m1\u001b[24m353.         7.21 0.735\n",
            "\u001b[90m 9\u001b[39m Angola  2011             207.         5.33 0.526\n",
            "\u001b[90m10\u001b[39m Angola  2012             219.         5.39 0.541\n",
            "\u001b[90m# ℹ 481 more rows\u001b[39m\n"
          ]
        }
      ]
    },
    {
      "cell_type": "markdown",
      "source": [
        "## <a name=\"Q6c\">Question 6c</a>\n",
        "\n",
        "---\n",
        "\n",
        "First create a data frame named `yr2014_log` by subsetting the data in `final_log` to extract just the observations from 2014. Print 10 rows of `final_log` to the screen to check your work before plotting.\n",
        "\n",
        "Then use `ggplot2` to create a basic scatter plot of the data for 2014 in `yr2014_log` with `log_electric` on the `x` axis and `hdi` on the `y` axis. Add a simple linear regression line to the scatter plot. You do not need to add any additional formatting options to the plot."
      ],
      "metadata": {
        "id": "mbcw5nqzOuGT"
      }
    },
    {
      "cell_type": "code",
      "source": [
        "# extract 2014 data from final_log and store to yr2014_log\n",
        "# print the first 10 rows to check your work\n",
        "\n",
        "# Filter final_log to where year is equal to 2014 and store it in yr2014_log.\n",
        "yr2014_log <- final_log |> filter(year == \"2014\")\n",
        "\n",
        "# Print the first 10 rows of the result.\n",
        "print(final_log)"
      ],
      "metadata": {
        "id": "ERSBbrlKOuGU",
        "colab": {
          "base_uri": "https://localhost:8080/"
        },
        "outputId": "e08d6031-cf4d-4944-b6eb-f0fe5ef8f7ab"
      },
      "execution_count": 65,
      "outputs": [
        {
          "output_type": "stream",
          "name": "stdout",
          "text": [
            "\u001b[90m# A tibble: 491 × 5\u001b[39m\n",
            "   country year  electricity_use log_electric   hdi\n",
            "   \u001b[3m\u001b[90m<chr>\u001b[39m\u001b[23m   \u001b[3m\u001b[90m<chr>\u001b[39m\u001b[23m           \u001b[3m\u001b[90m<dbl>\u001b[39m\u001b[23m        \u001b[3m\u001b[90m<dbl>\u001b[39m\u001b[23m \u001b[3m\u001b[90m<dbl>\u001b[39m\u001b[23m\n",
            "\u001b[90m 1\u001b[39m Albania 2011            \u001b[4m2\u001b[24m206.         7.70 0.766\n",
            "\u001b[90m 2\u001b[39m Albania 2012            \u001b[4m2\u001b[24m118.         7.66 0.778\n",
            "\u001b[90m 3\u001b[39m Albania 2013            \u001b[4m2\u001b[24m533.         7.84 0.785\n",
            "\u001b[90m 4\u001b[39m Albania 2014            \u001b[4m2\u001b[24m309.         7.74 0.792\n",
            "\u001b[90m 5\u001b[39m Algeria 2011            \u001b[4m1\u001b[24m116.         7.02 0.727\n",
            "\u001b[90m 6\u001b[39m Algeria 2012            \u001b[4m1\u001b[24m229.         7.11 0.729\n",
            "\u001b[90m 7\u001b[39m Algeria 2013            \u001b[4m1\u001b[24m270.         7.15 0.731\n",
            "\u001b[90m 8\u001b[39m Algeria 2014            \u001b[4m1\u001b[24m353.         7.21 0.735\n",
            "\u001b[90m 9\u001b[39m Angola  2011             207.         5.33 0.526\n",
            "\u001b[90m10\u001b[39m Angola  2012             219.         5.39 0.541\n",
            "\u001b[90m# ℹ 481 more rows\u001b[39m\n"
          ]
        }
      ]
    },
    {
      "cell_type": "code",
      "source": [
        "# create a scatter plot of 2014 data on log scale\n",
        "# add a simple linear regression line to the scatter plot\n",
        "\n",
        "# Create a basic scatter plot where the size of the point is 3.\n",
        "ggplot(yr2014_log, aes(x = log_electric, y = hdi)\n",
        ") + geom_point(size = 3) +\n",
        "  geom_smooth(method = \"lm\")  # This line of code is used for telling the ggplot to use simple linear regression model."
      ],
      "metadata": {
        "id": "zWjm6AKqOuGV",
        "colab": {
          "base_uri": "https://localhost:8080/",
          "height": 454
        },
        "outputId": "87a30f38-a4a3-4a90-ca95-16b61ca5884a"
      },
      "execution_count": 66,
      "outputs": [
        {
          "output_type": "stream",
          "name": "stderr",
          "text": [
            "\u001b[1m\u001b[22m`geom_smooth()` using formula = 'y ~ x'\n"
          ]
        },
        {
          "output_type": "display_data",
          "data": {
            "text/plain": [
              "plot without title"
            ],
            "image/png": "[encoded data removed]"
          },
          "metadata": {
            "image/png": {
              "width": 420,
              "height": 420
            }
          }
        }
      ]
    },
    {
      "cell_type": "markdown",
      "source": [
        "## <a name=\"Q6d\">Question 6d</a>\n",
        "\n",
        "---\n",
        "\n",
        "\n",
        "Use `ggplot2` and the data in `final_log` to create a similar, separate scatter plots for each year 2011, 2012, 2013, 2014 using wrapped faceting. Be sure each scatter plot in each section of the grid includes a plot of a simple linear model.\n"
      ],
      "metadata": {
        "id": "mC8TFumbJt8e"
      }
    },
    {
      "cell_type": "code",
      "source": [
        "# create separate scatter plots for 2011, 2012, 2013 and 2014\n",
        "# with electricity use plotted on log scale on x-axis nad hdi on y-axis\n",
        "# add a simple linear regression line to each scatter plot\n",
        "# display each year separately using wrapped faceting\n",
        "\n",
        "# Use the same code as question 6c, but apply facet_wrap() to this one where each grid corresponds to different years from 2011 to 2014 (therefore I used ~year in facet_wrap()).\n",
        "ggplot(final_log, aes(x = log_electric, y = hdi)\n",
        ") + geom_point(size = 3) + geom_smooth(method = \"lm\") +\n",
        " facet_wrap(~year)"
      ],
      "metadata": {
        "id": "BCQ1IXDSQV9r",
        "colab": {
          "base_uri": "https://localhost:8080/",
          "height": 454
        },
        "outputId": "43090710-5201-4536-b499-d674f0163fbf"
      },
      "execution_count": 67,
      "outputs": [
        {
          "output_type": "stream",
          "name": "stderr",
          "text": [
            "\u001b[1m\u001b[22m`geom_smooth()` using formula = 'y ~ x'\n"
          ]
        },
        {
          "output_type": "display_data",
          "data": {
            "text/plain": [
              "plot without title"
            ],
            "image/png": "[encoded data removed]"
          },
          "metadata": {
            "image/png": {
              "width": 420,
              "height": 420
            }
          }
        }
      ]
    },
    {
      "cell_type": "markdown",
      "source": [
        "# <a name=\"Q7\">Question 7</a>\n",
        "\n",
        "---\n",
        "\n",
        "`HDI.xlsx` is an Excel file containing HDI scores (and other statistics) from all countries that reported data in 2022. The data is from the [United Nations Development Programme](https://undp.org/)<sup>3</sup>.\n",
        "\n",
        "- Run the first code cell below to load the `readxl` package for reading Excel files into R.\n",
        "\n",
        "- Run the second code cell to download the Excel file `HDI.xlsx` into the default `/content` folder of your Drive.\n",
        "  - Click on the Files tab from the left menu bar to view your available files.\n",
        "  - After running the `download.file()` command, you should see the file `HDI.xlsx` now appear in your files.\n",
        "  - You will need to download the file again each time you close and reopen your notebook to add it back to your `/content` folder similar to how you need to reload a package each time you start a new session.\n",
        "\n"
      ],
      "metadata": {
        "id": "0NtEbJ759Vz5"
      }
    },
    {
      "cell_type": "code",
      "source": [
        "library(readxl)"
      ],
      "metadata": {
        "id": "dtwkGo4BOAdw"
      },
      "execution_count": 68,
      "outputs": []
    },
    {
      "cell_type": "code",
      "source": [
        "# download file with HDI data for 2022\n",
        "# the file will be uploaded to your content folder in the Drive\n",
        "download.file(\"https://raw.githubusercontent.com/CU-Denver-MathStats-OER/Data-Wrangling-and-Visualization/main/Data/HDI.xlsx\", \"HDI.xlsx\")"
      ],
      "metadata": {
        "id": "SGQ6SPudMzFJ"
      },
      "execution_count": 69,
      "outputs": []
    },
    {
      "cell_type": "markdown",
      "source": [
        "## <a name=\"Q7a\">Question 7a</a>\n",
        "\n",
        "---\n",
        "\n",
        "If you were open the Excel file, you would see the data is a big mess.\n",
        "\n",
        "- The first 8 rows are a bunch of text and headers formatted in strange ways and we do not want to import them.\n",
        "- The last several rows have summary data that we do not want to import.\n",
        "  - The first row of HDI data is located in row 9 (Switzerland).\n",
        "  - The last row of country data is in row 204 of the Excel file (Somalia).\n",
        "- Country names are listed in column B and 2022 HDI scores are given in column C.\n",
        "\n",
        "In summary:\n",
        "\n",
        "- We do not want any data from any other column other than columns B and C.\n",
        "- We only wish to import data from rows 9 through 204.\n",
        "- **Thus, we want to import only the data from `HDI.xslx` in the contiguous cell range from B9 through C204.**\n",
        "\n",
        "Use the `readxl:read_excel` function to import data in contiguous cell range from B9 through C204 of the Excel file `HDI.xlsx`.\n",
        "\n",
        "- Name the first column `country` and the second column `hdi`\n",
        "- Store the result to a data frame named `hdi_2022`.\n",
        "- Print the first 10 rows of `hdi_2022` to the screen.\n",
        "\n",
        "If you use arguments in `read_excel()` appropriately, you will not need to use any other function besides the `read_excel()` function to accomplish this task. Use ONLY the `read_excel()` and `print()` functions in the code cell.\n"
      ],
      "metadata": {
        "id": "e8W3BUSNMKGe"
      }
    },
    {
      "cell_type": "code",
      "source": [
        "# importing Excel file to a data frame named hdi_2022\n",
        "# use additional arguments in the read_excel() command to address issues\n",
        "# print the first 10 rows of hdi_2022 to the screen\n",
        "# use only the read_excel() and print() functions in this code cell\n",
        "\n",
        "# Read the excel file \"HDI.xlsx\", create column names: \"country\", and \"hdi\". And only take from the cells B9 to C204 in the excel file, and store it in hdi_2022.\n",
        "hdi_2022 <- read_excel(\n",
        "  \"HDI.xlsx\", col_names = c(\"country\", \"hdi\"),\n",
        "  range = \"B9:C204\"\n",
        ")\n",
        "\n",
        "# Print the first 10 rows of the result.\n",
        "print(hdi_2022)"
      ],
      "metadata": {
        "id": "frBl44HX6ecM",
        "colab": {
          "base_uri": "https://localhost:8080/"
        },
        "outputId": "d0488190-6370-41ce-cdca-34a64516ad57"
      },
      "execution_count": 70,
      "outputs": [
        {
          "output_type": "stream",
          "name": "stdout",
          "text": [
            "\u001b[90m# A tibble: 196 × 2\u001b[39m\n",
            "   country                  hdi\n",
            "   \u001b[3m\u001b[90m<chr>\u001b[39m\u001b[23m                  \u001b[3m\u001b[90m<dbl>\u001b[39m\u001b[23m\n",
            "\u001b[90m 1\u001b[39m Switzerland            0.967\n",
            "\u001b[90m 2\u001b[39m Norway                 0.966\n",
            "\u001b[90m 3\u001b[39m Iceland                0.959\n",
            "\u001b[90m 4\u001b[39m Hong Kong, China (SAR) 0.956\n",
            "\u001b[90m 5\u001b[39m Denmark                0.952\n",
            "\u001b[90m 6\u001b[39m Sweden                 0.952\n",
            "\u001b[90m 7\u001b[39m Germany                0.95 \n",
            "\u001b[90m 8\u001b[39m Ireland                0.95 \n",
            "\u001b[90m 9\u001b[39m Singapore              0.949\n",
            "\u001b[90m10\u001b[39m Australia              0.946\n",
            "\u001b[90m# ℹ 186 more rows\u001b[39m\n"
          ]
        }
      ]
    },
    {
      "cell_type": "markdown",
      "source": [
        "## <a name=\"Q7b\">Question 7b</a>\n",
        "\n",
        "---\n",
        "\n",
        "In the code cell below, remove any observations from `hdi_2022` that have missing values.\n",
        "\n",
        "- Store the result back to `hdi_2022` so you write over the original `hdi_2022`.\n",
        "- Print the first 10 rows to the screen.\n",
        "- Hint: The data frame `hdi_2022` should now have 193 observations.\n"
      ],
      "metadata": {
        "id": "TNlxhD44mbwn"
      }
    },
    {
      "cell_type": "code",
      "source": [
        "# remove observations with missing values\n",
        "# store result back to hdi_2022\n",
        "# print 10 rows of hdi_2022 to the screen\n",
        "\n",
        "# Remove all the missing values, and store it in hdi_2022.\n",
        "hdi_2022 <- na.omit(hdi_2022)\n",
        "\n",
        "# Print the first 10 rows of the result.\n",
        "print(hdi_2022)"
      ],
      "metadata": {
        "id": "ddDWyvEanCfB",
        "colab": {
          "base_uri": "https://localhost:8080/"
        },
        "outputId": "af4f242a-687a-47a4-b5c8-540f35ac9752"
      },
      "execution_count": 71,
      "outputs": [
        {
          "output_type": "stream",
          "name": "stdout",
          "text": [
            "\u001b[90m# A tibble: 193 × 2\u001b[39m\n",
            "   country                  hdi\n",
            "   \u001b[3m\u001b[90m<chr>\u001b[39m\u001b[23m                  \u001b[3m\u001b[90m<dbl>\u001b[39m\u001b[23m\n",
            "\u001b[90m 1\u001b[39m Switzerland            0.967\n",
            "\u001b[90m 2\u001b[39m Norway                 0.966\n",
            "\u001b[90m 3\u001b[39m Iceland                0.959\n",
            "\u001b[90m 4\u001b[39m Hong Kong, China (SAR) 0.956\n",
            "\u001b[90m 5\u001b[39m Denmark                0.952\n",
            "\u001b[90m 6\u001b[39m Sweden                 0.952\n",
            "\u001b[90m 7\u001b[39m Germany                0.95 \n",
            "\u001b[90m 8\u001b[39m Ireland                0.95 \n",
            "\u001b[90m 9\u001b[39m Singapore              0.949\n",
            "\u001b[90m10\u001b[39m Australia              0.946\n",
            "\u001b[90m# ℹ 183 more rows\u001b[39m\n"
          ]
        }
      ]
    },
    {
      "cell_type": "markdown",
      "source": [
        "## <a name=\"Q7c\">Question 7c</a>\n",
        "\n",
        "---\n",
        "\n",
        "Use `ggplot2` to create a histogram to plot the distribution of `hdi` scores for all countries in 2022 based on the data in `hdi_2022` created in [Question 7b](#Q7b).\n",
        "\n",
        "- Use a different fill color other than the default.\n",
        "- Include a black border around each bar in the plot.\n",
        "- Give the plot a title and choose one of the built-in themes to customize the style to your liking.\n"
      ],
      "metadata": {
        "id": "ojqAtFq3v4hZ"
      }
    },
    {
      "cell_type": "code",
      "source": [
        "# create a histogram\n",
        "ggplot(hdi_2022, aes(x = hdi)\n",
        ") + geom_histogram(fill = \"lightblue\", color = \"black\") +  # fill is the fill color of the histogram, and color is the border around each bar in the plot.\n",
        "\n",
        "  # Added a title to the plot, and a theme in this line of code.\n",
        "  labs(title = \"HDI Scores For All Countries in 2022\") + theme_bw() +\n",
        "  theme(text = element_text(size = 15))  # This line is for adjusting the text size of all the labels in the plot, including the title."
      ],
      "metadata": {
        "id": "Qyx6UCY-8uLH",
        "colab": {
          "base_uri": "https://localhost:8080/",
          "height": 454
        },
        "outputId": "f595b2ca-a455-496a-a511-6500e1156868"
      },
      "execution_count": 72,
      "outputs": [
        {
          "output_type": "stream",
          "name": "stderr",
          "text": [
            "\u001b[1m\u001b[22m`stat_bin()` using `bins = 30`. Pick better value with `binwidth`.\n"
          ]
        },
        {
          "output_type": "display_data",
          "data": {
            "text/plain": [
              "plot without title"
            ],
            "image/png": "[encoded data removed]"
          },
          "metadata": {
            "image/png": {
              "width": 420,
              "height": 420
            }
          }
        }
      ]
    },
    {
      "cell_type": "markdown",
      "source": [
        "# <a name=\"save2\">Be Sure You Have Saved Your Work!</a>\n",
        "\n",
        "---\n",
        "\n",
        "This notebook is a shared Colab notebook available for anyone to view. However, since everyone is sharing this notebook, you do not have permission to save changes to this shared Colab notebook. In order to save your work:\n",
        "\n",
        "1. You will need to set up a free Google Drive account. If you already have a Google Drive account, you are ready to go!\n",
        "2. Click the `Copy to Drive` button to the right of the `+ Code` and `+ Text` buttons on top of the notebook.\n",
        "3. Select from the menu `File/Save a Copy in Drive`.\n",
        "  - By default, the notebook will be saved in a folder named **Colab Notebooks** in your Drive.\n",
        "  - Feel free to rename and store the notebook wherever you like.\n"
      ],
      "metadata": {
        "id": "iBmMPoh1CkEf"
      }
    }
  ]
}