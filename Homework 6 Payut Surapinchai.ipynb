{
  "nbformat": 4,
  "nbformat_minor": 0,
  "metadata": {
    "colab": {
      "provenance": []
    },
    "kernelspec": {
      "name": "ir",
      "display_name": "R"
    },
    "language_info": {
      "name": "R"
    }
  },
  "cells": [
    {
      "cell_type": "markdown",
      "source": [
        "# Homework 6: Due Wednesday, March 12 at 11:59 PM\n",
        "\n",
        "---"
      ],
      "metadata": {
        "id": "TLH2NCL-V8J_"
      }
    },
    {
      "cell_type": "markdown",
      "source": [
        "## <a name=\"HW1Inst\">Instructions:</a>\n",
        "---\n",
        "\n",
        "1. <font color=\"tomato\">Either click the COPY TO DRIVE button or use the menu File/Save/Save a Copy to save your own version of the notebook in your own folder in Google Drive.</font>\n",
        "\n",
        "  - If you do not have a Google account, you will need to create a Google account in order to create your own individual copy of this notebook.\n",
        "  - By default, the notebook will be saved in a folder named **Colab Notebooks** in your drive.\n",
        "  - Feel free to name and store the notebook wherever you like!\n",
        "\n",
        "2. <font color=\"mediumseagreen\">After you have copied the notebook into your Drive, you can begin editing and saving your work.</font>\n",
        "\n",
        "**Submit your work electronically as two separate files:**\n",
        "\n",
        "- A Google Colab (or Jupyter) Notebook with file extension `.ipynb`.\n",
        "- A `covid-hw6.csv` file with final tidy version of the data.\n",
        "\n",
        "Upload your file into the Homework 6 assignment in Canvas before <font color=\"dodgerblue\">**11:59PM on Wednesday, March 12.**</font>\n",
        "\n",
        "**You must provide supporting work for your all of your answers.**\n",
        "\n",
        "  - <font color=\"dodgerblue\">That work will include using R code cells.</font>\n",
        "    - **Feel free to insert as much R code as you like.**\n",
        "    - You must interpret or explain how the output of a code cell is being utilized to solve the problem.\n",
        "    - **Code with incomplete or missing explanations of why the output is useful may not receive full credit.**\n",
        "  - <font color=\"dodgerblue\">Your work will also involve writing explanations and justifications in text cells.</font>\n",
        "    - **Be sure to type/write out the steps of your work/explanation so I can see how you arrived at your answer.**\n",
        "\n",
        "\n",
        "## Important Academic Policies:\n",
        "---\n",
        "\n",
        "- **Be your own work.** Though you may collaborate with others, everyone is responsible for writing up the work in their own way using their own methods. Plagiarism of any form is not tolerated.\n",
        "- **Be complete.** You must provide all work and/or explanations needed to find the solution. Answers with insufficient or incomplete supporting work may lose credit.\n",
        "- **Adhere to the Code of Academic Honesty.**\n",
        "- **Be clearly written (and legible if written).** Your solution to a problem must be clear, written in complete sentences. You may lose credit for work that is unclear or hard to follow.\n",
        "\n",
        "## <font color=\"dodgerblue\">Let me know if you need help, and **GOOD LUCK!!!**</font>\n",
        "\n",
        "----"
      ],
      "metadata": {
        "id": "gr9nGY7MSp23"
      }
    },
    {
      "cell_type": "markdown",
      "source": [
        "# <a name=\"intro\">Introduction</a>\n",
        "\n",
        "---\n",
        "\n",
        "\n",
        "In this assignment, you will be combining three different data sets into a single clean data set. You will be combining two data sets related to census demographics with a COVID-related data set and a voting-related data set.\n",
        "\n",
        "The file `acs_pop_inc.csv` includes estimates of population and income for each of the 50 U.S. states (and the District of Columbia) based on the 2017 American Community Survey. The included variables for each observation are:\n",
        "\n",
        "- `GEOID`: a unique number identifier associated with each state.\n",
        "- `NAME`: the name of the state\n",
        "- `variable`: a character string indicating what each value represents\n",
        "0 `estimate`: the estimated value\n",
        "\n",
        "The file `census_2010_education.csv` includes estimates of education levels for each of the 50 U.S. states (and the District of Columbia) based on the 2010 U.S. Census. The included variables are:\n",
        "\n",
        "- `state`: the name of the state\n",
        "- `percent_hs_estimate`: the percentage of the population 25 years or older with a high school degree\n",
        "- `percent_bs_estimate`: the percentage of the population 25 years or older with a bachelor's degree\n",
        "\n",
        "The file `all-states-covid.csv` includes data related to COVID-19 deaths, positive cases, etc. for each of the 50 U.S. states (and territories) as of March 7, 2021. The variables we will consider are:\n",
        "\n",
        "- `date`: the date the observation was observed\n",
        "- `state`: the name of the state or territory\n",
        "- `death`: the total number of confirmed or probable COVID-19 deaths since the COVID-19 pandemic started\n",
        "- `positive`: the total number of confirmed or probable positive COVID-19 cases since the COVID-19 pandemic started\n",
        "\n",
        "<font color=\"dodgerblue\">**You will need to load the `tidyverse` core packages each time you start a new Colab session to work on the problems in this assignment:**</font>\n",
        "\n",
        "\n",
        "\n"
      ],
      "metadata": {
        "id": "HcM22Ds_ITr3"
      }
    },
    {
      "cell_type": "code",
      "source": [
        "library(tidyverse)"
      ],
      "metadata": {
        "id": "0Gbz52MQHCMF"
      },
      "execution_count": 27,
      "outputs": []
    },
    {
      "cell_type": "markdown",
      "source": [
        "# <a name=\"Q1\">Question 1</a>\n",
        "\n",
        "---\n",
        "\n",
        "Run first the code cell below to use the `read_csv()` function from the `readr` package in the `tidyverse` to import the data provided in file `acs_pop_inc.csv` and assign it to the tibble `pop_inc`.\n",
        "\n",
        "Then run an additional command(s) to see the structure of how data is initially stored in the data frame `pop_inc`, **without printing the entire data frame to the screen**. Points will be deducted for displaying a large amount of information to the screen.\n",
        "\n",
        "Based on the output you generate, in the text cell below, explain why `pop_inc` is not a tidy data set. Do not simply quote the rules it violates. For this particular data set, clearly explain which variables/observations are not tidy. Be sure to write in complete sentences.\n",
        "\n",
        "\n",
        "<br>\n",
        "\n",
        "<font color=\"dodgerblue\">*Note: The `read_csv` function is an enhanced version of `base` R's `read.csv`. The `read_csv` function is faster and imports the data frame as a tibble which has more functionality in the `tidyverse`!*</font>\n"
      ],
      "metadata": {
        "id": "Lzh92tQMZqhL"
      }
    },
    {
      "cell_type": "code",
      "source": [
        "# run code cell to load data to data frame named pop_inc\n",
        "# no output will be generated after running this code cell\n",
        "pop_inc <- read_csv(\n",
        "  file = \"https://raw.githubusercontent.com/CU-Denver-MathStats-OER/Data-Wrangling-and-Visualization/main/Data/acs_pop_inc.csv\",\n",
        "  show_col_types = FALSE\n",
        ")"
      ],
      "metadata": {
        "id": "v_XHtndxXTGn"
      },
      "execution_count": 28,
      "outputs": []
    },
    {
      "cell_type": "code",
      "source": [
        "# use this code cell to generate output to answer the question\n",
        "# do not print the entire data frame to the screen!\n",
        "# points will be deducted for displaying too much info to the screen\n",
        "\n",
        "# I decided to use print(df, num_rows) to print out the first 5 rows of the data frame to be able to see what variables are not tidy\n",
        "print(pop_inc, n = 5)"
      ],
      "metadata": {
        "id": "NNZ1pZxWbuLt",
        "colab": {
          "base_uri": "https://localhost:8080/"
        },
        "outputId": "b609398f-c894-43a3-fbba-f1b5b28a84e8"
      },
      "execution_count": 29,
      "outputs": [
        {
          "output_type": "stream",
          "name": "stdout",
          "text": [
            "\u001b[90m# A tibble: 104 × 4\u001b[39m\n",
            "  GEOID NAME    variable      estimate\n",
            "  \u001b[3m\u001b[90m<dbl>\u001b[39m\u001b[23m \u001b[3m\u001b[90m<chr>\u001b[39m\u001b[23m   \u001b[3m\u001b[90m<chr>\u001b[39m\u001b[23m            \u001b[3m\u001b[90m<dbl>\u001b[39m\u001b[23m\n",
            "\u001b[90m1\u001b[39m     1 Alabama population     4\u001b[4m8\u001b[24m\u001b[4m7\u001b[24m\u001b[4m6\u001b[24m250\n",
            "\u001b[90m2\u001b[39m     1 Alabama median_income    \u001b[4m2\u001b[24m\u001b[4m6\u001b[24m596\n",
            "\u001b[90m3\u001b[39m     2 Alaska  population      \u001b[4m7\u001b[24m\u001b[4m3\u001b[24m\u001b[4m7\u001b[24m068\n",
            "\u001b[90m4\u001b[39m     2 Alaska  median_income    \u001b[4m3\u001b[24m\u001b[4m5\u001b[24m957\n",
            "\u001b[90m5\u001b[39m     4 Arizona population     7\u001b[4m0\u001b[24m\u001b[4m5\u001b[24m\u001b[4m0\u001b[24m299\n",
            "\u001b[90m# ℹ 99 more rows\u001b[39m\n"
          ]
        }
      ]
    },
    {
      "cell_type": "markdown",
      "source": [
        "## <a name=\"Sol1\">Solution to Question 1</a>\n",
        "\n",
        "---\n",
        "There are 2 values in the \"variable\" column, these values should be in a separate column which makes this variable/column not tidy.\n",
        "\n",
        "And since there are 2 values in the variable columns (population and median income), it makes that each observation has 2 rows. For example, the \"Alabama\" observations has 2 rows corresponding to Alabama, which makes the rows in this observations not tidy.\n",
        "\n",
        "For this data frame to become tidy, there should be a population column and median_income column. Because when theres these 2 columns, the values would corresponds to only one observation. For example, after making those 2 columns, there would be only 1 Alabama and not two Alabama in the same table.\n",
        "\n",
        "(I do know that this is a tibble, but I'm using the word \"data frame\" to explain because I feel like it is easier to understand when using the word data frame instead of tibble)\n",
        "\n",
        "\n",
        "\n",
        "\n",
        "\n",
        "<br>  \n",
        "<br>  \n"
      ],
      "metadata": {
        "id": "eNY_5vB-ZqhM"
      }
    },
    {
      "cell_type": "markdown",
      "source": [
        "# <a name=\"Q2\">Question 2</a>\n",
        "\n",
        "---\n",
        "\n",
        "Transform `pop_inc` into a tidy data frame. Assign the resulting tidy data frame the name `pop_inc_tidy`. Print the first 5 rows of `pop_inc_tidy` to the screen.\n"
      ],
      "metadata": {
        "id": "SyZYgKFQcCpZ"
      }
    },
    {
      "cell_type": "code",
      "source": [
        "# Use code cell to answer question\n",
        "\n",
        "# Clean the data frame by creating two new columns using pivot_wider(), and store it in pop_inc_tidy\n",
        "pop_inc_tidy <- pivot_wider(pop_inc, names_from = variable,\n",
        "                            values_from = estimate)\n",
        "\n",
        "# Print out the first 5 rows of the tidied data frame\n",
        "print(pop_inc_tidy, n = 5)"
      ],
      "metadata": {
        "id": "3bM9KSW5ciJa",
        "colab": {
          "base_uri": "https://localhost:8080/"
        },
        "outputId": "005c2734-67b5-49d8-8597-5c71de3314a7"
      },
      "execution_count": 30,
      "outputs": [
        {
          "output_type": "stream",
          "name": "stdout",
          "text": [
            "\u001b[90m# A tibble: 52 × 4\u001b[39m\n",
            "  GEOID NAME       population median_income\n",
            "  \u001b[3m\u001b[90m<dbl>\u001b[39m\u001b[23m \u001b[3m\u001b[90m<chr>\u001b[39m\u001b[23m           \u001b[3m\u001b[90m<dbl>\u001b[39m\u001b[23m         \u001b[3m\u001b[90m<dbl>\u001b[39m\u001b[23m\n",
            "\u001b[90m1\u001b[39m     1 Alabama       4\u001b[4m8\u001b[24m\u001b[4m7\u001b[24m\u001b[4m6\u001b[24m250         \u001b[4m2\u001b[24m\u001b[4m6\u001b[24m596\n",
            "\u001b[90m2\u001b[39m     2 Alaska         \u001b[4m7\u001b[24m\u001b[4m3\u001b[24m\u001b[4m7\u001b[24m068         \u001b[4m3\u001b[24m\u001b[4m5\u001b[24m957\n",
            "\u001b[90m3\u001b[39m     4 Arizona       7\u001b[4m0\u001b[24m\u001b[4m5\u001b[24m\u001b[4m0\u001b[24m299         \u001b[4m3\u001b[24m\u001b[4m0\u001b[24m552\n",
            "\u001b[90m4\u001b[39m     5 Arkansas      2\u001b[4m9\u001b[24m\u001b[4m9\u001b[24m\u001b[4m9\u001b[24m370         \u001b[4m2\u001b[24m\u001b[4m6\u001b[24m137\n",
            "\u001b[90m5\u001b[39m     6 California   39\u001b[4m2\u001b[24m\u001b[4m8\u001b[24m\u001b[4m3\u001b[24m497         \u001b[4m3\u001b[24m\u001b[4m2\u001b[24m232\n",
            "\u001b[90m# ℹ 47 more rows\u001b[39m\n"
          ]
        }
      ]
    },
    {
      "cell_type": "markdown",
      "source": [
        "# <a name=\"Q3\">Question 3</a>\n",
        "\n",
        "---\n",
        "\n",
        "The `GEOID` column of `pop_inc_tidy` is not useful because the `NAME` column unique identifies each observation. Use the `select()` function to select all columns of `pop_inc_tidy` except `GEOID`.  Assign the resulting object back to `pop_inc_tidy`. Print the first 5 rows of `pop_inc_tidy`.\n"
      ],
      "metadata": {
        "id": "XtF9pm3eZcM9"
      }
    },
    {
      "cell_type": "code",
      "source": [
        "# Use code cell to answer question\n",
        "\n",
        "# Use piping (optional) to tell the select() function to use pop_inc_tidy's data frame, and !GEOID means select every columns that is not GEOID, and store it in pop_inc_tidy\n",
        "pop_inc_tidy <- pop_inc_tidy |> select(!GEOID)\n",
        "\n",
        "# Print out the first 5 rows to check the results of the new data frame\n",
        "print(pop_inc_tidy, n = 5)"
      ],
      "metadata": {
        "id": "K1zMKLNGdbYU",
        "colab": {
          "base_uri": "https://localhost:8080/"
        },
        "outputId": "f227a4d7-ae39-4163-bf51-8a34ea45b5a2"
      },
      "execution_count": 31,
      "outputs": [
        {
          "output_type": "stream",
          "name": "stdout",
          "text": [
            "\u001b[90m# A tibble: 52 × 3\u001b[39m\n",
            "  NAME       population median_income\n",
            "  \u001b[3m\u001b[90m<chr>\u001b[39m\u001b[23m           \u001b[3m\u001b[90m<dbl>\u001b[39m\u001b[23m         \u001b[3m\u001b[90m<dbl>\u001b[39m\u001b[23m\n",
            "\u001b[90m1\u001b[39m Alabama       4\u001b[4m8\u001b[24m\u001b[4m7\u001b[24m\u001b[4m6\u001b[24m250         \u001b[4m2\u001b[24m\u001b[4m6\u001b[24m596\n",
            "\u001b[90m2\u001b[39m Alaska         \u001b[4m7\u001b[24m\u001b[4m3\u001b[24m\u001b[4m7\u001b[24m068         \u001b[4m3\u001b[24m\u001b[4m5\u001b[24m957\n",
            "\u001b[90m3\u001b[39m Arizona       7\u001b[4m0\u001b[24m\u001b[4m5\u001b[24m\u001b[4m0\u001b[24m299         \u001b[4m3\u001b[24m\u001b[4m0\u001b[24m552\n",
            "\u001b[90m4\u001b[39m Arkansas      2\u001b[4m9\u001b[24m\u001b[4m9\u001b[24m\u001b[4m9\u001b[24m370         \u001b[4m2\u001b[24m\u001b[4m6\u001b[24m137\n",
            "\u001b[90m5\u001b[39m California   39\u001b[4m2\u001b[24m\u001b[4m8\u001b[24m\u001b[4m3\u001b[24m497         \u001b[4m3\u001b[24m\u001b[4m2\u001b[24m232\n",
            "\u001b[90m# ℹ 47 more rows\u001b[39m\n"
          ]
        }
      ]
    },
    {
      "cell_type": "markdown",
      "source": [
        "# <a name=\"Q4\">Question 4</a>\n",
        "\n",
        "---\n",
        "\n",
        "In each of the four code cells below, use functions from the `dplyr` that we have discussed so far this semester to display the rows in `pop_inc_tidy` corresponding to the states with:\n",
        "\n",
        "-  The three greatest median incomes.\n",
        "-  The three smallest median incomes.\n",
        "-  The four greatest populations.\n",
        "-  The four smallest populations.\n",
        "\n",
        "**Do not assign the output of any of the commands to any object.** There is no unique way to accomplish this task (multiple methods are possible), but no credit will be earned for functions used that are not from the `dplyr` package that we have not discussed in our course materials this semester."
      ],
      "metadata": {
        "id": "EUnUBJZTeeaE"
      }
    },
    {
      "cell_type": "code",
      "source": [
        "# print the rows with the 3 greatest median incomes\n",
        "\n",
        "# Used slice_max() to find the greatest median incomes, and n just means how many rows I want\n",
        "pop_inc_tidy |> slice_max(median_income, n = 3)"
      ],
      "metadata": {
        "id": "Fcf2OnhxfbTm",
        "colab": {
          "base_uri": "https://localhost:8080/",
          "height": 192
        },
        "outputId": "968c8160-3380-47a2-b2eb-cbc04fffe545"
      },
      "execution_count": 32,
      "outputs": [
        {
          "output_type": "display_data",
          "data": {
            "text/html": [
              "<table class=\"dataframe\">\n",
              "<caption>A tibble: 3 × 3</caption>\n",
              "<thead>\n",
              "\t<tr><th scope=col>NAME</th><th scope=col>population</th><th scope=col>median_income</th></tr>\n",
              "\t<tr><th scope=col>&lt;chr&gt;</th><th scope=col>&lt;dbl&gt;</th><th scope=col>&lt;dbl&gt;</th></tr>\n",
              "</thead>\n",
              "<tbody>\n",
              "\t<tr><td>District of Columbia</td><td> 692683</td><td>50134</td></tr>\n",
              "\t<tr><td>Maryland            </td><td>6018848</td><td>41053</td></tr>\n",
              "\t<tr><td>New Jersey          </td><td>8878503</td><td>39078</td></tr>\n",
              "</tbody>\n",
              "</table>\n"
            ],
            "text/markdown": "\nA tibble: 3 × 3\n\n| NAME &lt;chr&gt; | population &lt;dbl&gt; | median_income &lt;dbl&gt; |\n|---|---|---|\n| District of Columbia |  692683 | 50134 |\n| Maryland             | 6018848 | 41053 |\n| New Jersey           | 8878503 | 39078 |\n\n",
            "text/latex": "A tibble: 3 × 3\n\\begin{tabular}{lll}\n NAME & population & median\\_income\\\\\n <chr> & <dbl> & <dbl>\\\\\n\\hline\n\t District of Columbia &  692683 & 50134\\\\\n\t Maryland             & 6018848 & 41053\\\\\n\t New Jersey           & 8878503 & 39078\\\\\n\\end{tabular}\n",
            "text/plain": [
              "  NAME                 population median_income\n",
              "1 District of Columbia  692683    50134        \n",
              "2 Maryland             6018848    41053        \n",
              "3 New Jersey           8878503    39078        "
            ]
          },
          "metadata": {}
        }
      ]
    },
    {
      "cell_type": "code",
      "source": [
        "# print the rows with the 3 smallest median incomes\n",
        "\n",
        "# Used slice_min() to find the smallest median incomes\n",
        "pop_inc_tidy |> slice_min(median_income, n = 3)"
      ],
      "metadata": {
        "id": "QiCbGoarfbMR",
        "colab": {
          "base_uri": "https://localhost:8080/",
          "height": 192
        },
        "outputId": "d77651ab-b1da-462f-d7d9-d3ffdac1d16b"
      },
      "execution_count": 33,
      "outputs": [
        {
          "output_type": "display_data",
          "data": {
            "text/html": [
              "<table class=\"dataframe\">\n",
              "<caption>A tibble: 3 × 3</caption>\n",
              "<thead>\n",
              "\t<tr><th scope=col>NAME</th><th scope=col>population</th><th scope=col>median_income</th></tr>\n",
              "\t<tr><th scope=col>&lt;chr&gt;</th><th scope=col>&lt;dbl&gt;</th><th scope=col>&lt;dbl&gt;</th></tr>\n",
              "</thead>\n",
              "<tbody>\n",
              "\t<tr><td>Puerto Rico  </td><td>3318447</td><td>13641</td></tr>\n",
              "\t<tr><td>Mississippi  </td><td>2984418</td><td>24924</td></tr>\n",
              "\t<tr><td>West Virginia</td><td>1817305</td><td>25669</td></tr>\n",
              "</tbody>\n",
              "</table>\n"
            ],
            "text/markdown": "\nA tibble: 3 × 3\n\n| NAME &lt;chr&gt; | population &lt;dbl&gt; | median_income &lt;dbl&gt; |\n|---|---|---|\n| Puerto Rico   | 3318447 | 13641 |\n| Mississippi   | 2984418 | 24924 |\n| West Virginia | 1817305 | 25669 |\n\n",
            "text/latex": "A tibble: 3 × 3\n\\begin{tabular}{lll}\n NAME & population & median\\_income\\\\\n <chr> & <dbl> & <dbl>\\\\\n\\hline\n\t Puerto Rico   & 3318447 & 13641\\\\\n\t Mississippi   & 2984418 & 24924\\\\\n\t West Virginia & 1817305 & 25669\\\\\n\\end{tabular}\n",
            "text/plain": [
              "  NAME          population median_income\n",
              "1 Puerto Rico   3318447    13641        \n",
              "2 Mississippi   2984418    24924        \n",
              "3 West Virginia 1817305    25669        "
            ]
          },
          "metadata": {}
        }
      ]
    },
    {
      "cell_type": "code",
      "source": [
        "# print the rows with the 4 greatest populations\n",
        "\n",
        "# Used slice_max() to find the greatest population\n",
        "pop_inc_tidy |> slice_max(population, n = 4)"
      ],
      "metadata": {
        "id": "cCAPc5qrfbEV",
        "colab": {
          "base_uri": "https://localhost:8080/",
          "height": 224
        },
        "outputId": "f9826f39-a166-407e-9295-ae288f752734"
      },
      "execution_count": 34,
      "outputs": [
        {
          "output_type": "display_data",
          "data": {
            "text/html": [
              "<table class=\"dataframe\">\n",
              "<caption>A tibble: 4 × 3</caption>\n",
              "<thead>\n",
              "\t<tr><th scope=col>NAME</th><th scope=col>population</th><th scope=col>median_income</th></tr>\n",
              "\t<tr><th scope=col>&lt;chr&gt;</th><th scope=col>&lt;dbl&gt;</th><th scope=col>&lt;dbl&gt;</th></tr>\n",
              "</thead>\n",
              "<tbody>\n",
              "\t<tr><td>California</td><td>39283497</td><td>32232</td></tr>\n",
              "\t<tr><td>Texas     </td><td>28260856</td><td>30993</td></tr>\n",
              "\t<tr><td>Florida   </td><td>20901636</td><td>28291</td></tr>\n",
              "\t<tr><td>New York  </td><td>19572319</td><td>34378</td></tr>\n",
              "</tbody>\n",
              "</table>\n"
            ],
            "text/markdown": "\nA tibble: 4 × 3\n\n| NAME &lt;chr&gt; | population &lt;dbl&gt; | median_income &lt;dbl&gt; |\n|---|---|---|\n| California | 39283497 | 32232 |\n| Texas      | 28260856 | 30993 |\n| Florida    | 20901636 | 28291 |\n| New York   | 19572319 | 34378 |\n\n",
            "text/latex": "A tibble: 4 × 3\n\\begin{tabular}{lll}\n NAME & population & median\\_income\\\\\n <chr> & <dbl> & <dbl>\\\\\n\\hline\n\t California & 39283497 & 32232\\\\\n\t Texas      & 28260856 & 30993\\\\\n\t Florida    & 20901636 & 28291\\\\\n\t New York   & 19572319 & 34378\\\\\n\\end{tabular}\n",
            "text/plain": [
              "  NAME       population median_income\n",
              "1 California 39283497   32232        \n",
              "2 Texas      28260856   30993        \n",
              "3 Florida    20901636   28291        \n",
              "4 New York   19572319   34378        "
            ]
          },
          "metadata": {}
        }
      ]
    },
    {
      "cell_type": "code",
      "source": [
        "# print the rows with the 4 smallest populations\n",
        "\n",
        "# Used slice_min() to find the smallest population\n",
        "pop_inc_tidy |> slice_min(population, n = 4)"
      ],
      "metadata": {
        "id": "EqIYp5AMfa8g",
        "colab": {
          "base_uri": "https://localhost:8080/",
          "height": 224
        },
        "outputId": "08471259-4e35-4610-d1a9-139a1a748ccf"
      },
      "execution_count": 35,
      "outputs": [
        {
          "output_type": "display_data",
          "data": {
            "text/html": [
              "<table class=\"dataframe\">\n",
              "<caption>A tibble: 4 × 3</caption>\n",
              "<thead>\n",
              "\t<tr><th scope=col>NAME</th><th scope=col>population</th><th scope=col>median_income</th></tr>\n",
              "\t<tr><th scope=col>&lt;chr&gt;</th><th scope=col>&lt;dbl&gt;</th><th scope=col>&lt;dbl&gt;</th></tr>\n",
              "</thead>\n",
              "<tbody>\n",
              "\t<tr><td>Wyoming             </td><td>581024</td><td>32660</td></tr>\n",
              "\t<tr><td>Vermont             </td><td>624313</td><td>32055</td></tr>\n",
              "\t<tr><td>District of Columbia</td><td>692683</td><td>50134</td></tr>\n",
              "\t<tr><td>Alaska              </td><td>737068</td><td>35957</td></tr>\n",
              "</tbody>\n",
              "</table>\n"
            ],
            "text/markdown": "\nA tibble: 4 × 3\n\n| NAME &lt;chr&gt; | population &lt;dbl&gt; | median_income &lt;dbl&gt; |\n|---|---|---|\n| Wyoming              | 581024 | 32660 |\n| Vermont              | 624313 | 32055 |\n| District of Columbia | 692683 | 50134 |\n| Alaska               | 737068 | 35957 |\n\n",
            "text/latex": "A tibble: 4 × 3\n\\begin{tabular}{lll}\n NAME & population & median\\_income\\\\\n <chr> & <dbl> & <dbl>\\\\\n\\hline\n\t Wyoming              & 581024 & 32660\\\\\n\t Vermont              & 624313 & 32055\\\\\n\t District of Columbia & 692683 & 50134\\\\\n\t Alaska               & 737068 & 35957\\\\\n\\end{tabular}\n",
            "text/plain": [
              "  NAME                 population median_income\n",
              "1 Wyoming              581024     32660        \n",
              "2 Vermont              624313     32055        \n",
              "3 District of Columbia 692683     50134        \n",
              "4 Alaska               737068     35957        "
            ]
          },
          "metadata": {}
        }
      ]
    },
    {
      "cell_type": "markdown",
      "source": [
        "# <a name=\"Q5\">Question 5</a>\n",
        "\n",
        "---\n",
        "\n",
        "Use the `read_csv` function from the `readr` package to import the data provided in `census_2010_education.csv`. Assign the data frame the name `educ`. The first 4 rows will be displayed on screen.\n",
        "\n",
        "Then in the blank code cell, use the `arrange()` function to sort the rows of `educ` in descending order by `percent_bs_estimate`.\n",
        "\n",
        "- Assign the resulting object to the same name `educ`.\n",
        "- Print the first 5 rows of the new, sorted `educ`.\n",
        "\n",
        "\n",
        "\n"
      ],
      "metadata": {
        "id": "yfqDCmNzdGHd"
      }
    },
    {
      "cell_type": "code",
      "source": [
        "# import education data from external csv file\n",
        "educ <- read_csv(\n",
        "  file = \"https://raw.githubusercontent.com/CU-Denver-MathStats-OER/Data-Wrangling-and-Visualization/main/Data/census_2010_education.csv\",\n",
        "  show_col_types = FALSE\n",
        ")\n",
        "print(educ, n = 4)"
      ],
      "metadata": {
        "id": "FiFXyl8sY46r",
        "colab": {
          "base_uri": "https://localhost:8080/"
        },
        "outputId": "50616f73-72f4-4151-b29b-9f11589ca04e"
      },
      "execution_count": 36,
      "outputs": [
        {
          "output_type": "stream",
          "name": "stdout",
          "text": [
            "\u001b[90m# A tibble: 51 × 3\u001b[39m\n",
            "  state    percent_hs_estimate percent_bs_estimate\n",
            "  \u001b[3m\u001b[90m<chr>\u001b[39m\u001b[23m                  \u001b[3m\u001b[90m<dbl>\u001b[39m\u001b[23m               \u001b[3m\u001b[90m<dbl>\u001b[39m\u001b[23m\n",
            "\u001b[90m1\u001b[39m Alabama                 82.1                21.9\n",
            "\u001b[90m2\u001b[39m Alaska                  91                  27.9\n",
            "\u001b[90m3\u001b[39m Arizona                 85.6                25.9\n",
            "\u001b[90m4\u001b[39m Arkansas                82.9                19.5\n",
            "\u001b[90m# ℹ 47 more rows\u001b[39m\n"
          ]
        }
      ]
    },
    {
      "cell_type": "code",
      "source": [
        "# sort the rows of educ in descending order by percent_bs_estimate\n",
        "# assign the result back to educ\n",
        "# print the first 5 rows to the screen\n",
        "\n",
        "# Used piping to tell the arrange() function to use educ's data frame, and use arrange() to sort the rows, and desc() to sort in descending order, and store it in educ\n",
        "educ <- educ |> arrange(desc(percent_bs_estimate))\n",
        "\n",
        "# Print out the first 5 rows of the result\n",
        "print(educ, n = 5)"
      ],
      "metadata": {
        "id": "6d-eE3BIga5Z",
        "colab": {
          "base_uri": "https://localhost:8080/"
        },
        "outputId": "a32271d7-41b9-4abb-b471-7ac2ee50ff4b"
      },
      "execution_count": 37,
      "outputs": [
        {
          "output_type": "stream",
          "name": "stdout",
          "text": [
            "\u001b[90m# A tibble: 51 × 3\u001b[39m\n",
            "  state                percent_hs_estimate percent_bs_estimate\n",
            "  \u001b[3m\u001b[90m<chr>\u001b[39m\u001b[23m                              \u001b[3m\u001b[90m<dbl>\u001b[39m\u001b[23m               \u001b[3m\u001b[90m<dbl>\u001b[39m\u001b[23m\n",
            "\u001b[90m1\u001b[39m District of Columbia                87.4                50.1\n",
            "\u001b[90m2\u001b[39m Massachusetts                       89.1                39  \n",
            "\u001b[90m3\u001b[39m Colorado                            89.7                36.4\n",
            "\u001b[90m4\u001b[39m Maryland                            88.1                36.1\n",
            "\u001b[90m5\u001b[39m Connecticut                         88.6                35.5\n",
            "\u001b[90m# ℹ 46 more rows\u001b[39m\n"
          ]
        }
      ]
    },
    {
      "cell_type": "markdown",
      "source": [
        "# <a name=\"Q6\">Question 6</a>\n",
        "\n",
        "---\n",
        "\n",
        "Use the `base` R function `merge()` to join the `pop_inc_tidy` (created in [Question 3](#Q3)) and `educ` (created in [Question 5](#Q5)) data frames by state name.\n",
        "\n",
        "- Assign the new, merged data frame the name `state_demo`.\n",
        "- Print the first 6 rows of `state_demo` using the `head()` function (because `state_demo` is a `data.frame` and not a tibble).\n",
        "\n",
        "<br>\n",
        "\n",
        "*Note: You cannot do this `merge()` automatically because the name of the column containing the state names differs for the two data frames. Run `?merge` for more information about the `merge()` function to determine how to resolve that issue. Or you can get creative and think of your own way of resolving the issue.*\n",
        "\n",
        "\n"
      ],
      "metadata": {
        "id": "ap_PVSMcgygP"
      }
    },
    {
      "cell_type": "code",
      "source": [
        "# Ran this code to see merge()'s function arguments\n",
        "?merge"
      ],
      "metadata": {
        "id": "AfdgBzWm_M95"
      },
      "execution_count": 38,
      "outputs": []
    },
    {
      "cell_type": "code",
      "source": [
        "# merge pop_inc_tidy and educ data frames\n",
        "# store result to state_demo\n",
        "# display first 6 rows of state_demo on screen\n",
        "\n",
        "# Use merge() to merge the columns, and to merge specific columns, I used by.x = 1 which means pick the column 1 from x where x is pop_inc_tidy, and by.y does the same thing but for educ,\n",
        "# and store it in state_demo\n",
        "state_demo <- merge(pop_inc_tidy, educ, by.x = 1, by.y = 1)\n",
        "\n",
        "# Use head() to print out the first 6 rows of the data frame to check the result\n",
        "head(state_demo)"
      ],
      "metadata": {
        "id": "KcOqxq-giLlZ",
        "colab": {
          "base_uri": "https://localhost:8080/",
          "height": 286
        },
        "outputId": "0a036960-f1e5-41e1-f727-e9bb6ba53efb"
      },
      "execution_count": 39,
      "outputs": [
        {
          "output_type": "display_data",
          "data": {
            "text/html": [
              "<table class=\"dataframe\">\n",
              "<caption>A data.frame: 6 × 5</caption>\n",
              "<thead>\n",
              "\t<tr><th></th><th scope=col>NAME</th><th scope=col>population</th><th scope=col>median_income</th><th scope=col>percent_hs_estimate</th><th scope=col>percent_bs_estimate</th></tr>\n",
              "\t<tr><th></th><th scope=col>&lt;chr&gt;</th><th scope=col>&lt;dbl&gt;</th><th scope=col>&lt;dbl&gt;</th><th scope=col>&lt;dbl&gt;</th><th scope=col>&lt;dbl&gt;</th></tr>\n",
              "</thead>\n",
              "<tbody>\n",
              "\t<tr><th scope=row>1</th><td>Alabama   </td><td> 4876250</td><td>26596</td><td>82.1</td><td>21.9</td></tr>\n",
              "\t<tr><th scope=row>2</th><td>Alaska    </td><td>  737068</td><td>35957</td><td>91.0</td><td>27.9</td></tr>\n",
              "\t<tr><th scope=row>3</th><td>Arizona   </td><td> 7050299</td><td>30552</td><td>85.6</td><td>25.9</td></tr>\n",
              "\t<tr><th scope=row>4</th><td>Arkansas  </td><td> 2999370</td><td>26137</td><td>82.9</td><td>19.5</td></tr>\n",
              "\t<tr><th scope=row>5</th><td>California</td><td>39283497</td><td>32232</td><td>80.7</td><td>30.1</td></tr>\n",
              "\t<tr><th scope=row>6</th><td>Colorado  </td><td> 5610349</td><td>36644</td><td>89.7</td><td>36.4</td></tr>\n",
              "</tbody>\n",
              "</table>\n"
            ],
            "text/markdown": "\nA data.frame: 6 × 5\n\n| <!--/--> | NAME &lt;chr&gt; | population &lt;dbl&gt; | median_income &lt;dbl&gt; | percent_hs_estimate &lt;dbl&gt; | percent_bs_estimate &lt;dbl&gt; |\n|---|---|---|---|---|---|\n| 1 | Alabama    |  4876250 | 26596 | 82.1 | 21.9 |\n| 2 | Alaska     |   737068 | 35957 | 91.0 | 27.9 |\n| 3 | Arizona    |  7050299 | 30552 | 85.6 | 25.9 |\n| 4 | Arkansas   |  2999370 | 26137 | 82.9 | 19.5 |\n| 5 | California | 39283497 | 32232 | 80.7 | 30.1 |\n| 6 | Colorado   |  5610349 | 36644 | 89.7 | 36.4 |\n\n",
            "text/latex": "A data.frame: 6 × 5\n\\begin{tabular}{r|lllll}\n  & NAME & population & median\\_income & percent\\_hs\\_estimate & percent\\_bs\\_estimate\\\\\n  & <chr> & <dbl> & <dbl> & <dbl> & <dbl>\\\\\n\\hline\n\t1 & Alabama    &  4876250 & 26596 & 82.1 & 21.9\\\\\n\t2 & Alaska     &   737068 & 35957 & 91.0 & 27.9\\\\\n\t3 & Arizona    &  7050299 & 30552 & 85.6 & 25.9\\\\\n\t4 & Arkansas   &  2999370 & 26137 & 82.9 & 19.5\\\\\n\t5 & California & 39283497 & 32232 & 80.7 & 30.1\\\\\n\t6 & Colorado   &  5610349 & 36644 & 89.7 & 36.4\\\\\n\\end{tabular}\n",
            "text/plain": [
              "  NAME       population median_income percent_hs_estimate percent_bs_estimate\n",
              "1 Alabama     4876250   26596         82.1                21.9               \n",
              "2 Alaska       737068   35957         91.0                27.9               \n",
              "3 Arizona     7050299   30552         85.6                25.9               \n",
              "4 Arkansas    2999370   26137         82.9                19.5               \n",
              "5 California 39283497   32232         80.7                30.1               \n",
              "6 Colorado    5610349   36644         89.7                36.4               "
            ]
          },
          "metadata": {}
        }
      ]
    },
    {
      "cell_type": "markdown",
      "source": [
        "# <a name=\"Q7\">Question 7</a>\n",
        "\n",
        "---\n",
        "\n",
        "Use the `rename()` function to rename the `NAME` column of `state_demo` to `state`.\n",
        "\n",
        "- Assign the updated data frame back to the same name `state_demo`.\n",
        "- Use the `head` function to print the first 6 rows of `state_demo` to check your work.\n",
        "\n",
        "<br>\n",
        "\n",
        "\n"
      ],
      "metadata": {
        "id": "40xTyt9MdrcF"
      }
    },
    {
      "cell_type": "code",
      "source": [
        "# use code cell to answer question\n",
        "\n",
        "# Used piping to tell the rename() function that I am using state_demo's data frame, and use rename(new_name = old_name) to change the column's name, and store it in state_demo\n",
        "state_demo <- state_demo |> rename(state = NAME)\n",
        "\n",
        "# Use head() to print out the first 6 rows of the data frame to check the result\n",
        "head(state_demo)"
      ],
      "metadata": {
        "id": "J7iamsZdjqQQ",
        "colab": {
          "base_uri": "https://localhost:8080/",
          "height": 286
        },
        "outputId": "892e2694-4cd0-4cfc-9e9b-719fcf576f40"
      },
      "execution_count": 40,
      "outputs": [
        {
          "output_type": "display_data",
          "data": {
            "text/html": [
              "<table class=\"dataframe\">\n",
              "<caption>A data.frame: 6 × 5</caption>\n",
              "<thead>\n",
              "\t<tr><th></th><th scope=col>state</th><th scope=col>population</th><th scope=col>median_income</th><th scope=col>percent_hs_estimate</th><th scope=col>percent_bs_estimate</th></tr>\n",
              "\t<tr><th></th><th scope=col>&lt;chr&gt;</th><th scope=col>&lt;dbl&gt;</th><th scope=col>&lt;dbl&gt;</th><th scope=col>&lt;dbl&gt;</th><th scope=col>&lt;dbl&gt;</th></tr>\n",
              "</thead>\n",
              "<tbody>\n",
              "\t<tr><th scope=row>1</th><td>Alabama   </td><td> 4876250</td><td>26596</td><td>82.1</td><td>21.9</td></tr>\n",
              "\t<tr><th scope=row>2</th><td>Alaska    </td><td>  737068</td><td>35957</td><td>91.0</td><td>27.9</td></tr>\n",
              "\t<tr><th scope=row>3</th><td>Arizona   </td><td> 7050299</td><td>30552</td><td>85.6</td><td>25.9</td></tr>\n",
              "\t<tr><th scope=row>4</th><td>Arkansas  </td><td> 2999370</td><td>26137</td><td>82.9</td><td>19.5</td></tr>\n",
              "\t<tr><th scope=row>5</th><td>California</td><td>39283497</td><td>32232</td><td>80.7</td><td>30.1</td></tr>\n",
              "\t<tr><th scope=row>6</th><td>Colorado  </td><td> 5610349</td><td>36644</td><td>89.7</td><td>36.4</td></tr>\n",
              "</tbody>\n",
              "</table>\n"
            ],
            "text/markdown": "\nA data.frame: 6 × 5\n\n| <!--/--> | state &lt;chr&gt; | population &lt;dbl&gt; | median_income &lt;dbl&gt; | percent_hs_estimate &lt;dbl&gt; | percent_bs_estimate &lt;dbl&gt; |\n|---|---|---|---|---|---|\n| 1 | Alabama    |  4876250 | 26596 | 82.1 | 21.9 |\n| 2 | Alaska     |   737068 | 35957 | 91.0 | 27.9 |\n| 3 | Arizona    |  7050299 | 30552 | 85.6 | 25.9 |\n| 4 | Arkansas   |  2999370 | 26137 | 82.9 | 19.5 |\n| 5 | California | 39283497 | 32232 | 80.7 | 30.1 |\n| 6 | Colorado   |  5610349 | 36644 | 89.7 | 36.4 |\n\n",
            "text/latex": "A data.frame: 6 × 5\n\\begin{tabular}{r|lllll}\n  & state & population & median\\_income & percent\\_hs\\_estimate & percent\\_bs\\_estimate\\\\\n  & <chr> & <dbl> & <dbl> & <dbl> & <dbl>\\\\\n\\hline\n\t1 & Alabama    &  4876250 & 26596 & 82.1 & 21.9\\\\\n\t2 & Alaska     &   737068 & 35957 & 91.0 & 27.9\\\\\n\t3 & Arizona    &  7050299 & 30552 & 85.6 & 25.9\\\\\n\t4 & Arkansas   &  2999370 & 26137 & 82.9 & 19.5\\\\\n\t5 & California & 39283497 & 32232 & 80.7 & 30.1\\\\\n\t6 & Colorado   &  5610349 & 36644 & 89.7 & 36.4\\\\\n\\end{tabular}\n",
            "text/plain": [
              "  state      population median_income percent_hs_estimate percent_bs_estimate\n",
              "1 Alabama     4876250   26596         82.1                21.9               \n",
              "2 Alaska       737068   35957         91.0                27.9               \n",
              "3 Arizona     7050299   30552         85.6                25.9               \n",
              "4 Arkansas    2999370   26137         82.9                19.5               \n",
              "5 California 39283497   32232         80.7                30.1               \n",
              "6 Colorado    5610349   36644         89.7                36.4               "
            ]
          },
          "metadata": {}
        }
      ]
    },
    {
      "cell_type": "markdown",
      "source": [
        "# <a name=\"Q8\">Question 8</a>\n",
        "\n",
        "---\n",
        "\n",
        "Use the `read_csv` function from the `readr` package to import the data provided in `all-states-covid.csv`. Assign the data frame the name `covid`. A `glimpse()` of the data frame will be printed to the screen so you can see the full list of all initial variables in the data.\n",
        "\n",
        "Then in the blank code cell, use the `select()` function to select the `date`, `state`, `death`, and `positive` columns of the `covid` data.\n",
        "\n",
        "\n",
        "- Assign the updated data frame back to the same name `covid`.\n",
        "- Print the first 5 rows of `covid` to the screen.\n",
        "\n",
        "\n",
        "\n"
      ],
      "metadata": {
        "id": "9HS8DMiJj78K"
      }
    },
    {
      "cell_type": "code",
      "source": [
        "# import covid data from external csv file\n",
        "# ignore warning message generated in output\n",
        "covid <- read_csv(\n",
        "  file = \"https://raw.githubusercontent.com/CU-Denver-MathStats-OER/Data-Wrangling-and-Visualization/main/Data/all-states-covid.csv\",\n",
        "  show_col_types = FALSE\n",
        ")\n",
        "glimpse(covid)  # a glimpse of the variables in the data"
      ],
      "metadata": {
        "id": "-r2cDFgfY74e",
        "colab": {
          "base_uri": "https://localhost:8080/"
        },
        "outputId": "e203e922-b43b-46c4-c58b-c25e6d6353d1"
      },
      "execution_count": 41,
      "outputs": [
        {
          "output_type": "stream",
          "name": "stderr",
          "text": [
            "Warning message:\n",
            "“\u001b[1m\u001b[22mOne or more parsing issues, call `problems()` on your data frame for details,\n",
            "e.g.:\n",
            "  dat <- vroom(...)\n",
            "  problems(dat)”\n"
          ]
        },
        {
          "output_type": "stream",
          "name": "stdout",
          "text": [
            "Rows: 20,780\n",
            "Columns: 41\n",
            "$ date                             \u001b[3m\u001b[90m<chr>\u001b[39m\u001b[23m \"3/7/2021\", \"3/7/2021\", \"3/7/2021\", \"…\n",
            "$ state                            \u001b[3m\u001b[90m<chr>\u001b[39m\u001b[23m \"AK\", \"AL\", \"AR\", \"AS\", \"AZ\", \"CA\", \"…\n",
            "$ death                            \u001b[3m\u001b[90m<dbl>\u001b[39m\u001b[23m 305, 10148, 5319, 0, 16328, 54124, 59…\n",
            "$ deathConfirmed                   \u001b[3m\u001b[90m<dbl>\u001b[39m\u001b[23m \u001b[31mNA\u001b[39m, 7963, 4308, \u001b[31mNA\u001b[39m, 14403, \u001b[31mNA\u001b[39m, 5251, …\n",
            "$ deathIncrease                    \u001b[3m\u001b[90m<dbl>\u001b[39m\u001b[23m 0, -1, 22, 0, 5, 258, 3, 0, 0, 9, 66,…\n",
            "$ deathProbable                    \u001b[3m\u001b[90m<dbl>\u001b[39m\u001b[23m \u001b[31mNA\u001b[39m, 2185, 1011, \u001b[31mNA\u001b[39m, 1925, \u001b[31mNA\u001b[39m, 735, 13…\n",
            "$ hospitalized                     \u001b[3m\u001b[90m<dbl>\u001b[39m\u001b[23m 1293, 45976, 14926, \u001b[31mNA\u001b[39m, 57907, \u001b[31mNA\u001b[39m, 23…\n",
            "$ hospitalizedCumulative           \u001b[3m\u001b[90m<dbl>\u001b[39m\u001b[23m 1293, 45976, 14926, \u001b[31mNA\u001b[39m, 57907, \u001b[31mNA\u001b[39m, 23…\n",
            "$ hospitalizedCurrently            \u001b[3m\u001b[90m<dbl>\u001b[39m\u001b[23m 33, 494, 335, \u001b[31mNA\u001b[39m, 963, 4291, 326, 428…\n",
            "$ hospitalizedIncrease             \u001b[3m\u001b[90m<dbl>\u001b[39m\u001b[23m 0, 0, 11, 0, 44, 0, 18, 0, 0, 0, 92, …\n",
            "$ inIcuCumulative                  \u001b[3m\u001b[90m<dbl>\u001b[39m\u001b[23m \u001b[31mNA\u001b[39m, 2676, \u001b[31mNA\u001b[39m, \u001b[31mNA\u001b[39m, \u001b[31mNA\u001b[39m, \u001b[31mNA\u001b[39m, \u001b[31mNA\u001b[39m, \u001b[31mNA\u001b[39m, \u001b[31mNA\u001b[39m,…\n",
            "$ inIcuCurrently                   \u001b[3m\u001b[90m<dbl>\u001b[39m\u001b[23m \u001b[31mNA\u001b[39m, \u001b[31mNA\u001b[39m, 141, \u001b[31mNA\u001b[39m, 273, 1159, \u001b[31mNA\u001b[39m, \u001b[31mNA\u001b[39m, 3…\n",
            "$ negative                         \u001b[3m\u001b[90m<dbl>\u001b[39m\u001b[23m \u001b[31mNA\u001b[39m, 1931711, 2480716, 2140, 3073010, …\n",
            "$ negativeIncrease                 \u001b[3m\u001b[90m<dbl>\u001b[39m\u001b[23m 0, 2087, 3267, 0, 13678, 0, 0, 0, 0, …\n",
            "$ negativeTestsAntibody            \u001b[3m\u001b[90m<dbl>\u001b[39m\u001b[23m \u001b[31mNA\u001b[39m, \u001b[31mNA\u001b[39m, \u001b[31mNA\u001b[39m, \u001b[31mNA\u001b[39m, \u001b[31mNA\u001b[39m, \u001b[31mNA\u001b[39m, 369995, \u001b[31mNA\u001b[39m, \u001b[31mN\u001b[39m…\n",
            "$ negativeTestsPeopleAntibody      \u001b[3m\u001b[90m<lgl>\u001b[39m\u001b[23m \u001b[31mNA\u001b[39m, \u001b[31mNA\u001b[39m, \u001b[31mNA\u001b[39m, \u001b[31mNA\u001b[39m, \u001b[31mNA\u001b[39m, \u001b[31mNA\u001b[39m, \u001b[31mNA\u001b[39m, \u001b[31mNA\u001b[39m, \u001b[31mNA\u001b[39m, \u001b[31mN\u001b[39m…\n",
            "$ negativeTestsViral               \u001b[3m\u001b[90m<dbl>\u001b[39m\u001b[23m 1660758, \u001b[31mNA\u001b[39m, 2480716, \u001b[31mNA\u001b[39m, \u001b[31mNA\u001b[39m, \u001b[31mNA\u001b[39m, \u001b[31mNA\u001b[39m,…\n",
            "$ onVentilatorCumulative           \u001b[3m\u001b[90m<dbl>\u001b[39m\u001b[23m \u001b[31mNA\u001b[39m, 1515, 1533, \u001b[31mNA\u001b[39m, \u001b[31mNA\u001b[39m, \u001b[31mNA\u001b[39m, \u001b[31mNA\u001b[39m, \u001b[31mNA\u001b[39m, \u001b[31mN\u001b[39m…\n",
            "$ onVentilatorCurrently            \u001b[3m\u001b[90m<dbl>\u001b[39m\u001b[23m 2, \u001b[31mNA\u001b[39m, 65, \u001b[31mNA\u001b[39m, 143, \u001b[31mNA\u001b[39m, \u001b[31mNA\u001b[39m, \u001b[31mNA\u001b[39m, 16, \u001b[31mN\u001b[39m…\n",
            "$ positive                         \u001b[3m\u001b[90m<dbl>\u001b[39m\u001b[23m 56886, 499819, 324818, 0, 826454, 350…\n",
            "$ positiveCasesViral               \u001b[3m\u001b[90m<dbl>\u001b[39m\u001b[23m \u001b[31mNA\u001b[39m, 392077, 255726, \u001b[31mNA\u001b[39m, 769935, 35013…\n",
            "$ positiveIncrease                 \u001b[3m\u001b[90m<dbl>\u001b[39m\u001b[23m 0, 408, 165, 0, 1335, 3816, 840, 0, 1…\n",
            "$ positiveScore                    \u001b[3m\u001b[90m<dbl>\u001b[39m\u001b[23m 0, 0, 0, 0, 0, 0, 0, 0, 0, 0, 0, 0, 0…\n",
            "$ positiveTestsAntibody            \u001b[3m\u001b[90m<dbl>\u001b[39m\u001b[23m \u001b[31mNA\u001b[39m, \u001b[31mNA\u001b[39m, \u001b[31mNA\u001b[39m, \u001b[31mNA\u001b[39m, \u001b[31mNA\u001b[39m, \u001b[31mNA\u001b[39m, 63087, \u001b[31mNA\u001b[39m, \u001b[31mNA\u001b[39m…\n",
            "$ positiveTestsAntigen             \u001b[3m\u001b[90m<dbl>\u001b[39m\u001b[23m \u001b[31mNA\u001b[39m, \u001b[31mNA\u001b[39m, \u001b[31mNA\u001b[39m, \u001b[31mNA\u001b[39m, \u001b[31mNA\u001b[39m, \u001b[31mNA\u001b[39m, \u001b[31mNA\u001b[39m, 22245, \u001b[31mNA\u001b[39m…\n",
            "$ positiveTestsPeopleAntibody      \u001b[3m\u001b[90m<lgl>\u001b[39m\u001b[23m \u001b[31mNA\u001b[39m, \u001b[31mNA\u001b[39m, \u001b[31mNA\u001b[39m, \u001b[31mNA\u001b[39m, \u001b[31mNA\u001b[39m, \u001b[31mNA\u001b[39m, \u001b[31mNA\u001b[39m, \u001b[31mNA\u001b[39m, \u001b[31mNA\u001b[39m, \u001b[31mN\u001b[39m…\n",
            "$ positiveTestsPeopleAntigen       \u001b[3m\u001b[90m<dbl>\u001b[39m\u001b[23m \u001b[31mNA\u001b[39m, \u001b[31mNA\u001b[39m, 81803, \u001b[31mNA\u001b[39m, \u001b[31mNA\u001b[39m, \u001b[31mNA\u001b[39m, \u001b[31mNA\u001b[39m, \u001b[31mNA\u001b[39m, \u001b[31mNA\u001b[39m…\n",
            "$ positiveTestsViral               \u001b[3m\u001b[90m<dbl>\u001b[39m\u001b[23m 68693, \u001b[31mNA\u001b[39m, \u001b[31mNA\u001b[39m, \u001b[31mNA\u001b[39m, \u001b[31mNA\u001b[39m, \u001b[31mNA\u001b[39m, \u001b[31mNA\u001b[39m, 323284…\n",
            "$ recovered                        \u001b[3m\u001b[90m<dbl>\u001b[39m\u001b[23m \u001b[31mNA\u001b[39m, 295690, 315517, \u001b[31mNA\u001b[39m, \u001b[31mNA\u001b[39m, \u001b[31mNA\u001b[39m, \u001b[31mNA\u001b[39m, \u001b[31mN\u001b[39m…\n",
            "$ totalTestEncountersViral         \u001b[3m\u001b[90m<dbl>\u001b[39m\u001b[23m \u001b[31mNA\u001b[39m, \u001b[31mNA\u001b[39m, \u001b[31mNA\u001b[39m, \u001b[31mNA\u001b[39m, \u001b[31mNA\u001b[39m, \u001b[31mNA\u001b[39m, 6415123, \u001b[31mNA\u001b[39m, …\n",
            "$ totalTestEncountersViralIncrease \u001b[3m\u001b[90m<dbl>\u001b[39m\u001b[23m 0, 0, 0, 0, 0, 0, 38163, 0, 5726, 586…\n",
            "$ totalTestResults                 \u001b[3m\u001b[90m<dbl>\u001b[39m\u001b[23m 1731628, 2323788, 2736442, 2140, 7908…\n",
            "$ totalTestResultsIncrease         \u001b[3m\u001b[90m<dbl>\u001b[39m\u001b[23m 0, 2347, 3380, 0, 45110, 133186, 3816…\n",
            "$ totalTestsAntibody               \u001b[3m\u001b[90m<dbl>\u001b[39m\u001b[23m \u001b[31mNA\u001b[39m, \u001b[31mNA\u001b[39m, \u001b[31mNA\u001b[39m, \u001b[31mNA\u001b[39m, 580569, \u001b[31mNA\u001b[39m, 435053, \u001b[31mN\u001b[39m…\n",
            "$ totalTestsAntigen                \u001b[3m\u001b[90m<dbl>\u001b[39m\u001b[23m \u001b[31mNA\u001b[39m, \u001b[31mNA\u001b[39m, \u001b[31mNA\u001b[39m, \u001b[31mNA\u001b[39m, \u001b[31mNA\u001b[39m, \u001b[31mNA\u001b[39m, \u001b[31mNA\u001b[39m, 396680, \u001b[31mN\u001b[39m…\n",
            "$ totalTestsPeopleAntibody         \u001b[3m\u001b[90m<dbl>\u001b[39m\u001b[23m \u001b[31mNA\u001b[39m, 119757, \u001b[31mNA\u001b[39m, \u001b[31mNA\u001b[39m, 444089, \u001b[31mNA\u001b[39m, \u001b[31mNA\u001b[39m, \u001b[31mN\u001b[39m…\n",
            "$ totalTestsPeopleAntigen          \u001b[3m\u001b[90m<dbl>\u001b[39m\u001b[23m \u001b[31mNA\u001b[39m, \u001b[31mNA\u001b[39m, 481311, \u001b[31mNA\u001b[39m, \u001b[31mNA\u001b[39m, \u001b[31mNA\u001b[39m, \u001b[31mNA\u001b[39m, \u001b[31mNA\u001b[39m, \u001b[31mN\u001b[39m…\n",
            "$ totalTestsPeopleViral            \u001b[3m\u001b[90m<dbl>\u001b[39m\u001b[23m \u001b[31mNA\u001b[39m, 2323788, \u001b[31mNA\u001b[39m, \u001b[31mNA\u001b[39m, 3842945, \u001b[31mNA\u001b[39m, 261…\n",
            "$ totalTestsPeopleViralIncrease    \u001b[3m\u001b[90m<dbl>\u001b[39m\u001b[23m 0, 2347, 0, 0, 14856, 0, 6107, 0, 114…\n",
            "$ totalTestsViral                  \u001b[3m\u001b[90m<dbl>\u001b[39m\u001b[23m 1731628, \u001b[31mNA\u001b[39m, 2736442, 2140, 7908105, …\n",
            "$ totalTestsViralIncrease          \u001b[3m\u001b[90m<dbl>\u001b[39m\u001b[23m 0, 0, 3380, 0, 45110, 133186, 0, 0, 0…\n"
          ]
        }
      ]
    },
    {
      "cell_type": "code",
      "source": [
        "# select date, state, death, and positive columns\n",
        "# assign the result back to covid\n",
        "# print the first 5 rows to the screen\n",
        "\n",
        "# Use select() to select the columns that I want (From now I will omit explaining on using piping), and store it in covid\n",
        "covid <- covid |> select(date, state, death, positive)\n",
        "\n",
        "# Print out the first 5 rows of the new data frame to check the result\n",
        "print(covid, n = 5)"
      ],
      "metadata": {
        "id": "6-RsVwepleYz",
        "colab": {
          "base_uri": "https://localhost:8080/"
        },
        "outputId": "36955feb-2097-448f-ced1-df9945e5c432"
      },
      "execution_count": 42,
      "outputs": [
        {
          "output_type": "stream",
          "name": "stdout",
          "text": [
            "\u001b[90m# A tibble: 20,780 × 4\u001b[39m\n",
            "  date     state death positive\n",
            "  \u001b[3m\u001b[90m<chr>\u001b[39m\u001b[23m    \u001b[3m\u001b[90m<chr>\u001b[39m\u001b[23m \u001b[3m\u001b[90m<dbl>\u001b[39m\u001b[23m    \u001b[3m\u001b[90m<dbl>\u001b[39m\u001b[23m\n",
            "\u001b[90m1\u001b[39m 3/7/2021 AK      305    \u001b[4m5\u001b[24m\u001b[4m6\u001b[24m886\n",
            "\u001b[90m2\u001b[39m 3/7/2021 AL    \u001b[4m1\u001b[24m\u001b[4m0\u001b[24m148   \u001b[4m4\u001b[24m\u001b[4m9\u001b[24m\u001b[4m9\u001b[24m819\n",
            "\u001b[90m3\u001b[39m 3/7/2021 AR     \u001b[4m5\u001b[24m319   \u001b[4m3\u001b[24m\u001b[4m2\u001b[24m\u001b[4m4\u001b[24m818\n",
            "\u001b[90m4\u001b[39m 3/7/2021 AS        0        0\n",
            "\u001b[90m5\u001b[39m 3/7/2021 AZ    \u001b[4m1\u001b[24m\u001b[4m6\u001b[24m328   \u001b[4m8\u001b[24m\u001b[4m2\u001b[24m\u001b[4m6\u001b[24m454\n",
            "\u001b[90m# ℹ 20,775 more rows\u001b[39m\n"
          ]
        }
      ]
    },
    {
      "cell_type": "markdown",
      "source": [
        "# <a name=\"Q9\">Question 9</a>\n",
        "\n",
        "---\n",
        "\n",
        "Use the `separate()` function to create three new variables named `month`, `day` and `year` by separating the `date` column of `covid`.\n",
        "\n",
        "- Assign the resulting data frame to a new data frame `covid_date`.\n",
        "- Print the first 5 rows of `covid_date` to check your work.\n",
        "\n",
        "\n"
      ],
      "metadata": {
        "id": "sxDNRZDEnCU2"
      }
    },
    {
      "cell_type": "code",
      "source": [
        "# separate date into month, day, and year variables\n",
        "# assign the result to covid_date\n",
        "# print the first 5 rows to the screen\n",
        "\n",
        "# Use separate() to separate the values from one column into multiple columns, where col is the column I'm taking the values from,\n",
        "# into are the new column names, and sep is what is used to separate the values in the date column, and store it in covid_date\n",
        "covid_date <- covid |> separate(col = date, into = c(\"month\", \"day\", \"year\"), sep = \"/\")\n",
        "\n",
        "# Print out the first 5 rows of the new data frame to check the result\n",
        "print(covid_date, n = 5)"
      ],
      "metadata": {
        "id": "TJj-IdzgnQo-",
        "colab": {
          "base_uri": "https://localhost:8080/"
        },
        "outputId": "20424991-529d-4d32-d799-dedffb58cea5"
      },
      "execution_count": 43,
      "outputs": [
        {
          "output_type": "stream",
          "name": "stdout",
          "text": [
            "\u001b[90m# A tibble: 20,780 × 6\u001b[39m\n",
            "  month day   year  state death positive\n",
            "  \u001b[3m\u001b[90m<chr>\u001b[39m\u001b[23m \u001b[3m\u001b[90m<chr>\u001b[39m\u001b[23m \u001b[3m\u001b[90m<chr>\u001b[39m\u001b[23m \u001b[3m\u001b[90m<chr>\u001b[39m\u001b[23m \u001b[3m\u001b[90m<dbl>\u001b[39m\u001b[23m    \u001b[3m\u001b[90m<dbl>\u001b[39m\u001b[23m\n",
            "\u001b[90m1\u001b[39m 3     7     2021  AK      305    \u001b[4m5\u001b[24m\u001b[4m6\u001b[24m886\n",
            "\u001b[90m2\u001b[39m 3     7     2021  AL    \u001b[4m1\u001b[24m\u001b[4m0\u001b[24m148   \u001b[4m4\u001b[24m\u001b[4m9\u001b[24m\u001b[4m9\u001b[24m819\n",
            "\u001b[90m3\u001b[39m 3     7     2021  AR     \u001b[4m5\u001b[24m319   \u001b[4m3\u001b[24m\u001b[4m2\u001b[24m\u001b[4m4\u001b[24m818\n",
            "\u001b[90m4\u001b[39m 3     7     2021  AS        0        0\n",
            "\u001b[90m5\u001b[39m 3     7     2021  AZ    \u001b[4m1\u001b[24m\u001b[4m6\u001b[24m328   \u001b[4m8\u001b[24m\u001b[4m2\u001b[24m\u001b[4m6\u001b[24m454\n",
            "\u001b[90m# ℹ 20,775 more rows\u001b[39m\n"
          ]
        }
      ]
    },
    {
      "cell_type": "markdown",
      "source": [
        "# <a name=\"Q10\">Question 10</a>\n",
        "\n",
        "---\n",
        "\n",
        "\n",
        "Use commands we have discussed this semester from the `base`, `dplyr` and/or `tidyr` packages to identify the range of dates included in the `covid_date` data frame.\n",
        "\n",
        "Do not assign the output of your commands to any object, but be sure it is clear from the output displayed on the screen how you determined your answer.\n",
        "\n",
        "- If you string together multiple operations, perform them in a single code cell using the pipe, `|>`.\n",
        "- There should not be any command that you enter that prints more than 5 rows of output to the screen at any one time.\n",
        "- The less output you need printed to the screen to answer this question, the better!\n",
        "- Points will be deducted for displaying too much information on the screen to answer this question.\n",
        "- Points will be deducted for using methods and/or commands we have not discussed this semester.\n",
        "\n",
        "<mark>Clearly type your final answers in the text cell below.</mark>\n",
        "\n",
        "<br>"
      ],
      "metadata": {
        "id": "FD1ORdVIqf6R"
      }
    },
    {
      "cell_type": "markdown",
      "source": [
        "## <a name=\"Sol10\">Solution to Question 10</a>\n",
        "\n",
        "---\n",
        "\n",
        "- The start date of data in `covid_date` is 13th January, 2020.\n",
        "\n",
        "- The end date of data in `covid_date` is 7th March, 2021.\n",
        "\n",
        "<br>  \n",
        "\n",
        "Run command(s) in code cell(s) below to generate output that supports your answers above. Be sure you do not display more than 5 rows of information to the screen as a result of any of your commands.\n",
        "\n",
        "<br>  \n"
      ],
      "metadata": {
        "id": "rLXv4hYOrl7U"
      }
    },
    {
      "cell_type": "code",
      "source": [
        "# use code cell(s) to support your answers\n",
        "\n",
        "# To find the start date, I used piping to string sequences of actions of finding the minimum value from year, month, and day, and print out only 1 row\n",
        "covid_date |> slice_min(year) |> slice_min(month) |> slice_min(day) |> print(n = 1)"
      ],
      "metadata": {
        "id": "jqu9uRhQpSX5",
        "colab": {
          "base_uri": "https://localhost:8080/"
        },
        "outputId": "a1763995-d824-4692-f091-e1757ddb739f"
      },
      "execution_count": 44,
      "outputs": [
        {
          "output_type": "stream",
          "name": "stdout",
          "text": [
            "\u001b[90m# A tibble: 1 × 6\u001b[39m\n",
            "  month day   year  state death positive\n",
            "  \u001b[3m\u001b[90m<chr>\u001b[39m\u001b[23m \u001b[3m\u001b[90m<chr>\u001b[39m\u001b[23m \u001b[3m\u001b[90m<chr>\u001b[39m\u001b[23m \u001b[3m\u001b[90m<chr>\u001b[39m\u001b[23m \u001b[3m\u001b[90m<dbl>\u001b[39m\u001b[23m    \u001b[3m\u001b[90m<dbl>\u001b[39m\u001b[23m\n",
            "\u001b[90m1\u001b[39m 1     13    2020  WA       \u001b[31mNA\u001b[39m       \u001b[31mNA\u001b[39m\n"
          ]
        }
      ]
    },
    {
      "cell_type": "code",
      "source": [
        "# use code cell(s) to support your answers\n",
        "\n",
        "# To find the end date, I used piping to string sequences of actions of finding the maximum value from year, month, and day, and print out only 1 row\n",
        "covid_date |> slice_max(year) |> slice_max(month) |> slice_max(day) |> print(n = 1)"
      ],
      "metadata": {
        "id": "nfDhqbu6nWPR",
        "colab": {
          "base_uri": "https://localhost:8080/"
        },
        "outputId": "679a5905-c21a-45c0-9f34-9de6c5be0c1d"
      },
      "execution_count": 45,
      "outputs": [
        {
          "output_type": "stream",
          "name": "stdout",
          "text": [
            "\u001b[90m# A tibble: 56 × 6\u001b[39m\n",
            "  month day   year  state death positive\n",
            "  \u001b[3m\u001b[90m<chr>\u001b[39m\u001b[23m \u001b[3m\u001b[90m<chr>\u001b[39m\u001b[23m \u001b[3m\u001b[90m<chr>\u001b[39m\u001b[23m \u001b[3m\u001b[90m<chr>\u001b[39m\u001b[23m \u001b[3m\u001b[90m<dbl>\u001b[39m\u001b[23m    \u001b[3m\u001b[90m<dbl>\u001b[39m\u001b[23m\n",
            "\u001b[90m1\u001b[39m 3     7     2021  AK      305    \u001b[4m5\u001b[24m\u001b[4m6\u001b[24m886\n",
            "\u001b[90m# ℹ 55 more rows\u001b[39m\n"
          ]
        }
      ]
    },
    {
      "cell_type": "markdown",
      "source": [
        "# <a name=\"Q11\">Question 11</a>\n",
        "\n",
        "---\n",
        "\n",
        "\n",
        "Use the `filter()` function to subset the rows of `covid` for which the `date` is `3/7/2021`.  \n",
        "\n",
        "- Now you are using the `covid` data frame from [Question 8](#Q8) with a single column for `date`.\n",
        "  - Do NOT use the `covid_date` data frame from the previous question.\n",
        "- Assign the resulting data frame back to the the name `covid`.\n",
        "- Print the first 5 rows of `covid`.\n"
      ],
      "metadata": {
        "id": "z3L-IpRimqBv"
      }
    },
    {
      "cell_type": "code",
      "source": [
        "# filter rows of covid with date 3/7/2021\n",
        "# assign the result back to data frame named covid\n",
        "# print the first 5 rows to the screen\n",
        "\n",
        "# Use filter() to find the date that are equal to 3/7/2021, and store it in covid\n",
        "covid <- covid |> filter(date == \"3/7/2021\")\n",
        "\n",
        "# Print out the first 5 rows of the new data frame to check the result\n",
        "print(covid, n = 5)"
      ],
      "metadata": {
        "id": "gSZBLumSsk2j",
        "colab": {
          "base_uri": "https://localhost:8080/"
        },
        "outputId": "61ddd64b-5bce-4047-e40b-4d91b899fdca"
      },
      "execution_count": 46,
      "outputs": [
        {
          "output_type": "stream",
          "name": "stdout",
          "text": [
            "\u001b[90m# A tibble: 56 × 4\u001b[39m\n",
            "  date     state death positive\n",
            "  \u001b[3m\u001b[90m<chr>\u001b[39m\u001b[23m    \u001b[3m\u001b[90m<chr>\u001b[39m\u001b[23m \u001b[3m\u001b[90m<dbl>\u001b[39m\u001b[23m    \u001b[3m\u001b[90m<dbl>\u001b[39m\u001b[23m\n",
            "\u001b[90m1\u001b[39m 3/7/2021 AK      305    \u001b[4m5\u001b[24m\u001b[4m6\u001b[24m886\n",
            "\u001b[90m2\u001b[39m 3/7/2021 AL    \u001b[4m1\u001b[24m\u001b[4m0\u001b[24m148   \u001b[4m4\u001b[24m\u001b[4m9\u001b[24m\u001b[4m9\u001b[24m819\n",
            "\u001b[90m3\u001b[39m 3/7/2021 AR     \u001b[4m5\u001b[24m319   \u001b[4m3\u001b[24m\u001b[4m2\u001b[24m\u001b[4m4\u001b[24m818\n",
            "\u001b[90m4\u001b[39m 3/7/2021 AS        0        0\n",
            "\u001b[90m5\u001b[39m 3/7/2021 AZ    \u001b[4m1\u001b[24m\u001b[4m6\u001b[24m328   \u001b[4m8\u001b[24m\u001b[4m2\u001b[24m\u001b[4m6\u001b[24m454\n",
            "\u001b[90m# ℹ 51 more rows\u001b[39m\n"
          ]
        }
      ]
    },
    {
      "cell_type": "markdown",
      "source": [
        "# <a name=\"Q12\">Question 12</a>\n",
        "\n",
        "---\n",
        "\n",
        "\n",
        "\n",
        "Use the `rename()` function to rename the `state` column of the `covid` data frame from the previous question to `state_abb`, the `death` column to `deaths`, and the `positive` column to `cases`.  \n",
        "\n",
        "- Assign the resulting data frame back to the the name `covid`.\n",
        "- Print the first 5 rows of `covid`.\n",
        "\n"
      ],
      "metadata": {
        "id": "jM1VOA64tBuD"
      }
    },
    {
      "cell_type": "code",
      "source": [
        "# rename columns\n",
        "# assign the result to covid\n",
        "# print the first 5 rows to the screen\n",
        "\n",
        "# Use rename(new_name = old_name) to rename each column's name, and store it back in covid\n",
        "covid <- covid |> rename(state_abb = state, deaths = death, cases = positive)\n",
        "\n",
        "# Print out the first 5 rows of the new data frame to check the result\n",
        "print(covid, n = 5)"
      ],
      "metadata": {
        "id": "l6ej33qXtXN2",
        "colab": {
          "base_uri": "https://localhost:8080/"
        },
        "outputId": "24af78cc-24cc-4bf9-dc06-f4f36476330e"
      },
      "execution_count": 47,
      "outputs": [
        {
          "output_type": "stream",
          "name": "stdout",
          "text": [
            "\u001b[90m# A tibble: 56 × 4\u001b[39m\n",
            "  date     state_abb deaths  cases\n",
            "  \u001b[3m\u001b[90m<chr>\u001b[39m\u001b[23m    \u001b[3m\u001b[90m<chr>\u001b[39m\u001b[23m      \u001b[3m\u001b[90m<dbl>\u001b[39m\u001b[23m  \u001b[3m\u001b[90m<dbl>\u001b[39m\u001b[23m\n",
            "\u001b[90m1\u001b[39m 3/7/2021 AK           305  \u001b[4m5\u001b[24m\u001b[4m6\u001b[24m886\n",
            "\u001b[90m2\u001b[39m 3/7/2021 AL         \u001b[4m1\u001b[24m\u001b[4m0\u001b[24m148 \u001b[4m4\u001b[24m\u001b[4m9\u001b[24m\u001b[4m9\u001b[24m819\n",
            "\u001b[90m3\u001b[39m 3/7/2021 AR          \u001b[4m5\u001b[24m319 \u001b[4m3\u001b[24m\u001b[4m2\u001b[24m\u001b[4m4\u001b[24m818\n",
            "\u001b[90m4\u001b[39m 3/7/2021 AS             0      0\n",
            "\u001b[90m5\u001b[39m 3/7/2021 AZ         \u001b[4m1\u001b[24m\u001b[4m6\u001b[24m328 \u001b[4m8\u001b[24m\u001b[4m2\u001b[24m\u001b[4m6\u001b[24m454\n",
            "\u001b[90m# ℹ 51 more rows\u001b[39m\n"
          ]
        }
      ]
    },
    {
      "cell_type": "markdown",
      "source": [
        "# <a name=\"Q13\">Question 13</a>\n",
        "\n",
        "---\n",
        "\n",
        "We really need a `state` column in `covid` so that we can merge it with `state_demo`. But we only have a `state_abb` column.  The `state.name` and `state.abb` objects are available through `base` R for the 50 U.S. states.\n",
        "\n",
        "- Run the first code cell below to create a data frame containing the state names and abbreviations of the 50 U.S. states and print the first 6 rows to the screen.\n",
        "\n",
        "- Then answer the questions below."
      ],
      "metadata": {
        "id": "jR23EbOrtB3o"
      }
    },
    {
      "cell_type": "code",
      "source": [
        "# Ran this code to check out what state.name is (I was curious)\n",
        "state.name"
      ],
      "metadata": {
        "colab": {
          "base_uri": "https://localhost:8080/",
          "height": 69
        },
        "id": "T4AHIkf8EjkZ",
        "outputId": "a504cd51-74a7-43d3-9eda-fb228cfa0166"
      },
      "execution_count": 48,
      "outputs": [
        {
          "output_type": "display_data",
          "data": {
            "text/html": [
              "<style>\n",
              ".list-inline {list-style: none; margin:0; padding: 0}\n",
              ".list-inline>li {display: inline-block}\n",
              ".list-inline>li:not(:last-child)::after {content: \"\\00b7\"; padding: 0 .5ex}\n",
              "</style>\n",
              "<ol class=list-inline><li>'Alabama'</li><li>'Alaska'</li><li>'Arizona'</li><li>'Arkansas'</li><li>'California'</li><li>'Colorado'</li><li>'Connecticut'</li><li>'Delaware'</li><li>'Florida'</li><li>'Georgia'</li><li>'Hawaii'</li><li>'Idaho'</li><li>'Illinois'</li><li>'Indiana'</li><li>'Iowa'</li><li>'Kansas'</li><li>'Kentucky'</li><li>'Louisiana'</li><li>'Maine'</li><li>'Maryland'</li><li>'Massachusetts'</li><li>'Michigan'</li><li>'Minnesota'</li><li>'Mississippi'</li><li>'Missouri'</li><li>'Montana'</li><li>'Nebraska'</li><li>'Nevada'</li><li>'New Hampshire'</li><li>'New Jersey'</li><li>'New Mexico'</li><li>'New York'</li><li>'North Carolina'</li><li>'North Dakota'</li><li>'Ohio'</li><li>'Oklahoma'</li><li>'Oregon'</li><li>'Pennsylvania'</li><li>'Rhode Island'</li><li>'South Carolina'</li><li>'South Dakota'</li><li>'Tennessee'</li><li>'Texas'</li><li>'Utah'</li><li>'Vermont'</li><li>'Virginia'</li><li>'Washington'</li><li>'West Virginia'</li><li>'Wisconsin'</li><li>'Wyoming'</li></ol>\n"
            ],
            "text/markdown": "1. 'Alabama'\n2. 'Alaska'\n3. 'Arizona'\n4. 'Arkansas'\n5. 'California'\n6. 'Colorado'\n7. 'Connecticut'\n8. 'Delaware'\n9. 'Florida'\n10. 'Georgia'\n11. 'Hawaii'\n12. 'Idaho'\n13. 'Illinois'\n14. 'Indiana'\n15. 'Iowa'\n16. 'Kansas'\n17. 'Kentucky'\n18. 'Louisiana'\n19. 'Maine'\n20. 'Maryland'\n21. 'Massachusetts'\n22. 'Michigan'\n23. 'Minnesota'\n24. 'Mississippi'\n25. 'Missouri'\n26. 'Montana'\n27. 'Nebraska'\n28. 'Nevada'\n29. 'New Hampshire'\n30. 'New Jersey'\n31. 'New Mexico'\n32. 'New York'\n33. 'North Carolina'\n34. 'North Dakota'\n35. 'Ohio'\n36. 'Oklahoma'\n37. 'Oregon'\n38. 'Pennsylvania'\n39. 'Rhode Island'\n40. 'South Carolina'\n41. 'South Dakota'\n42. 'Tennessee'\n43. 'Texas'\n44. 'Utah'\n45. 'Vermont'\n46. 'Virginia'\n47. 'Washington'\n48. 'West Virginia'\n49. 'Wisconsin'\n50. 'Wyoming'\n\n\n",
            "text/latex": "\\begin{enumerate*}\n\\item 'Alabama'\n\\item 'Alaska'\n\\item 'Arizona'\n\\item 'Arkansas'\n\\item 'California'\n\\item 'Colorado'\n\\item 'Connecticut'\n\\item 'Delaware'\n\\item 'Florida'\n\\item 'Georgia'\n\\item 'Hawaii'\n\\item 'Idaho'\n\\item 'Illinois'\n\\item 'Indiana'\n\\item 'Iowa'\n\\item 'Kansas'\n\\item 'Kentucky'\n\\item 'Louisiana'\n\\item 'Maine'\n\\item 'Maryland'\n\\item 'Massachusetts'\n\\item 'Michigan'\n\\item 'Minnesota'\n\\item 'Mississippi'\n\\item 'Missouri'\n\\item 'Montana'\n\\item 'Nebraska'\n\\item 'Nevada'\n\\item 'New Hampshire'\n\\item 'New Jersey'\n\\item 'New Mexico'\n\\item 'New York'\n\\item 'North Carolina'\n\\item 'North Dakota'\n\\item 'Ohio'\n\\item 'Oklahoma'\n\\item 'Oregon'\n\\item 'Pennsylvania'\n\\item 'Rhode Island'\n\\item 'South Carolina'\n\\item 'South Dakota'\n\\item 'Tennessee'\n\\item 'Texas'\n\\item 'Utah'\n\\item 'Vermont'\n\\item 'Virginia'\n\\item 'Washington'\n\\item 'West Virginia'\n\\item 'Wisconsin'\n\\item 'Wyoming'\n\\end{enumerate*}\n",
            "text/plain": [
              " [1] \"Alabama\"        \"Alaska\"         \"Arizona\"        \"Arkansas\"      \n",
              " [5] \"California\"     \"Colorado\"       \"Connecticut\"    \"Delaware\"      \n",
              " [9] \"Florida\"        \"Georgia\"        \"Hawaii\"         \"Idaho\"         \n",
              "[13] \"Illinois\"       \"Indiana\"        \"Iowa\"           \"Kansas\"        \n",
              "[17] \"Kentucky\"       \"Louisiana\"      \"Maine\"          \"Maryland\"      \n",
              "[21] \"Massachusetts\"  \"Michigan\"       \"Minnesota\"      \"Mississippi\"   \n",
              "[25] \"Missouri\"       \"Montana\"        \"Nebraska\"       \"Nevada\"        \n",
              "[29] \"New Hampshire\"  \"New Jersey\"     \"New Mexico\"     \"New York\"      \n",
              "[33] \"North Carolina\" \"North Dakota\"   \"Ohio\"           \"Oklahoma\"      \n",
              "[37] \"Oregon\"         \"Pennsylvania\"   \"Rhode Island\"   \"South Carolina\"\n",
              "[41] \"South Dakota\"   \"Tennessee\"      \"Texas\"          \"Utah\"          \n",
              "[45] \"Vermont\"        \"Virginia\"       \"Washington\"     \"West Virginia\" \n",
              "[49] \"Wisconsin\"      \"Wyoming\"       "
            ]
          },
          "metadata": {}
        }
      ]
    },
    {
      "cell_type": "code",
      "source": [
        "# creates data frame of state names and abbreviations\n",
        "\n",
        "# This code was given by the professor on the Canvas announcement\n",
        "state_labels <- tibble(state = state.name, state_abb = state.abb)\n",
        "\n",
        "print(state_labels, n = 6)"
      ],
      "metadata": {
        "id": "Vb_cOW22t8Ig",
        "colab": {
          "base_uri": "https://localhost:8080/"
        },
        "outputId": "a0391bec-b0dc-4bf4-e71e-22064605880e"
      },
      "execution_count": 50,
      "outputs": [
        {
          "output_type": "stream",
          "name": "stdout",
          "text": [
            "\u001b[90m# A tibble: 50 × 2\u001b[39m\n",
            "  state      state_abb\n",
            "  \u001b[3m\u001b[90m<chr>\u001b[39m\u001b[23m      \u001b[3m\u001b[90m<chr>\u001b[39m\u001b[23m    \n",
            "\u001b[90m1\u001b[39m Alabama    AL       \n",
            "\u001b[90m2\u001b[39m Alaska     AK       \n",
            "\u001b[90m3\u001b[39m Arizona    AZ       \n",
            "\u001b[90m4\u001b[39m Arkansas   AR       \n",
            "\u001b[90m5\u001b[39m California CA       \n",
            "\u001b[90m6\u001b[39m Colorado   CO       \n",
            "\u001b[90m# ℹ 44 more rows\u001b[39m\n"
          ]
        }
      ]
    },
    {
      "cell_type": "markdown",
      "source": [
        "## <a name=\"Q13a\">Question 13a</a>\n",
        "\n",
        "---\n",
        "\n",
        "How many rows of data are included in the `state_labels` data frame?\n",
        "\n",
        "<br>  \n",
        "\n",
        "\n",
        "\n"
      ],
      "metadata": {
        "id": "N_SscukguqBP"
      }
    },
    {
      "cell_type": "markdown",
      "source": [
        "### <a name=\"Sol13a\">Solution to Question 13a</a>\n",
        "\n",
        "---\n",
        "\n",
        "Answer the question and explain how you used output from previous code cells above to answer the question.\n",
        "\n",
        "There are 50 rows in this data frame.\n",
        "\n",
        "You can see on the top it says tibble, and 50 x 2, and 50 is the number of rows, and 2 is the number of columns. Therefore, there are 50 rows in state_labels.\n",
        "\n",
        "<br>  \n",
        "<br>  \n"
      ],
      "metadata": {
        "id": "01cgmoyUuqBQ"
      }
    },
    {
      "cell_type": "markdown",
      "source": [
        "## <a name=\"Q13b\">Question 13b</a>\n",
        "\n",
        "---\n",
        "\n",
        "\n",
        "Do the data frames `covid` and `state_labels` have all matching values in their `state_abb` columns?\n",
        "\n",
        "- If yes, explain how you can determine both data frames have exactly the same values in the `state_abb` column.\n",
        "- If not, explain which values (if any) are:\n",
        " - In the `state_abb` column of `covid` but not in the `state_abb` column of `state_labels`.\n",
        " - In the `state_abb` column of `state_labels` but not in the `state_abb` column of `covid`.\n",
        "\n",
        "\n"
      ],
      "metadata": {
        "id": "pn1d3mfguyot"
      }
    },
    {
      "cell_type": "markdown",
      "source": [
        "### <a name=\"Sol13b\">Solution to Question 13b</a>\n",
        "\n",
        "---\n",
        "No, they do not have the same matching values.\n",
        "\n",
        "In the covid data frame, there are 56 rows, which means the state_abb column in covid has 56 values. On the other hand, the state.abb column of state_labels only have 50 values, or 50 rows.\n",
        "\n",
        "\n",
        "\n",
        "<br>  \n",
        "<br>  \n"
      ],
      "metadata": {
        "id": "HBcqVMTVuyou"
      }
    },
    {
      "cell_type": "markdown",
      "source": [
        "# <a name=\"Q14\">Question 14</a>\n",
        "\n",
        "---\n",
        "\n",
        "Use either the `left_join()`, `right_join()`, `inner_join()`, or `full_join()` function to merge `state_labels` data frame into the `covid` data frame in the following way:\n",
        "\n",
        "- You want to keep all rows and columns from the `covid` data frame.\n",
        "- You want merge in the additional `state` column from the `state_labels` data frame.\n",
        "- There will be some `NA` values filled in the column that is merged from the `state_labels` data frame.\n",
        "- <font color=\"dodgerblue\">**Assign the new data frame back to on object named `covid`**</font>.\n",
        "- Print the first 9 rows of the resulting `covid` data frame to the screen.\n",
        "\n",
        "\n",
        "The first 5 rows of the end result should look like the table below.\n",
        "\n",
        "| date | state_abb | deaths | cases | state |\n",
        "|------|-----------|--------|-------|-------|\n",
        "| 3/7/2021 | AK | 305 | 56886 | Alaska |\n",
        "| 3/7/2021 | AL | 10148 | 499819 | Alabama |\n",
        "| 3/7/2021 | AR | 5319 | 324818 | Arkansas |\n",
        "| 3/7/2021 | AS | 0 | 0 | NA |\n",
        "| 3/7/2021 | AZ | 16328 | 826454 | Arizona |\n",
        "\n",
        "You will print 9 rows of your resulting data frame to the screen which should end at Washington D.C.\n",
        "\n",
        "<br>  "
      ],
      "metadata": {
        "id": "6qfHW9E1tCIQ"
      }
    },
    {
      "cell_type": "code",
      "source": [
        "# use a *_join function to merge data frames\n",
        "# assign result back to data frame named covid\n",
        "# pring first 9 rows of resulting data frame\n",
        "\n",
        "# Use left_join() to join the columns by having the \"left\" which is covid, as a main part, and add the information from state_labels to covid, and store it in covid\n",
        "covid <- left_join(covid, state_labels)\n",
        "\n",
        "# Print out the first 9 rows of the new data frame to check the result\n",
        "print(covid, n = 9)"
      ],
      "metadata": {
        "id": "rH-9Jr99yvm7",
        "colab": {
          "base_uri": "https://localhost:8080/"
        },
        "outputId": "47faac0c-3c59-4f82-bc27-8113c1a4b139"
      },
      "execution_count": 53,
      "outputs": [
        {
          "output_type": "stream",
          "name": "stderr",
          "text": [
            "\u001b[1m\u001b[22mJoining with `by = join_by(state_abb, state)`\n"
          ]
        },
        {
          "output_type": "stream",
          "name": "stdout",
          "text": [
            "\u001b[90m# A tibble: 56 × 5\u001b[39m\n",
            "  date     state_abb deaths   cases state      \n",
            "  \u001b[3m\u001b[90m<chr>\u001b[39m\u001b[23m    \u001b[3m\u001b[90m<chr>\u001b[39m\u001b[23m      \u001b[3m\u001b[90m<dbl>\u001b[39m\u001b[23m   \u001b[3m\u001b[90m<dbl>\u001b[39m\u001b[23m \u001b[3m\u001b[90m<chr>\u001b[39m\u001b[23m      \n",
            "\u001b[90m1\u001b[39m 3/7/2021 AK           305   \u001b[4m5\u001b[24m\u001b[4m6\u001b[24m886 Alaska     \n",
            "\u001b[90m2\u001b[39m 3/7/2021 AL         \u001b[4m1\u001b[24m\u001b[4m0\u001b[24m148  \u001b[4m4\u001b[24m\u001b[4m9\u001b[24m\u001b[4m9\u001b[24m819 Alabama    \n",
            "\u001b[90m3\u001b[39m 3/7/2021 AR          \u001b[4m5\u001b[24m319  \u001b[4m3\u001b[24m\u001b[4m2\u001b[24m\u001b[4m4\u001b[24m818 Arkansas   \n",
            "\u001b[90m4\u001b[39m 3/7/2021 AS             0       0 \u001b[31mNA\u001b[39m         \n",
            "\u001b[90m5\u001b[39m 3/7/2021 AZ         \u001b[4m1\u001b[24m\u001b[4m6\u001b[24m328  \u001b[4m8\u001b[24m\u001b[4m2\u001b[24m\u001b[4m6\u001b[24m454 Arizona    \n",
            "\u001b[90m6\u001b[39m 3/7/2021 CA         \u001b[4m5\u001b[24m\u001b[4m4\u001b[24m124 3\u001b[4m5\u001b[24m\u001b[4m0\u001b[24m\u001b[4m1\u001b[24m394 California \n",
            "\u001b[90m7\u001b[39m 3/7/2021 CO          \u001b[4m5\u001b[24m989  \u001b[4m4\u001b[24m\u001b[4m3\u001b[24m\u001b[4m6\u001b[24m602 Colorado   \n",
            "\u001b[90m8\u001b[39m 3/7/2021 CT          \u001b[4m7\u001b[24m704  \u001b[4m2\u001b[24m\u001b[4m8\u001b[24m\u001b[4m5\u001b[24m330 Connecticut\n",
            "\u001b[90m9\u001b[39m 3/7/2021 DC          \u001b[4m1\u001b[24m030   \u001b[4m4\u001b[24m\u001b[4m1\u001b[24m419 \u001b[31mNA\u001b[39m         \n",
            "\u001b[90m# ℹ 47 more rows\u001b[39m\n"
          ]
        }
      ]
    },
    {
      "cell_type": "markdown",
      "source": [
        "# <a name=\"Q15\">Question 15</a>\n",
        "\n",
        "---\n",
        "\n",
        "The `state_demo` data frame has information for all 50 U.S. states and the District of Columbia. The `covid` data frame has information for all of these and more (including US territories). However, the state name for Washington, D.C. is not included in the current `covid` data frame (it is a missing `NA` value).  Run the code cell below to change the `state` value of Washington, D.C. to `District of Columbia` in the `covid` data frame.\n",
        "\n",
        "- There is nothing for you to edit in the code cell below! Just run it.\n",
        "- Assign the resulting data frame back to the the name `covid`.\n",
        "- Print the first 9 rows of `covid`.\n",
        "\n"
      ],
      "metadata": {
        "id": "iQMbbnXstCTN"
      }
    },
    {
      "cell_type": "code",
      "source": [
        "# nothing to edit in this code cell!\n",
        "# run the code cell as is\n",
        "covid <- covid |>\n",
        "           mutate(state = replace(state, state_abb == \"DC\", \"District of Columbia\"))\n",
        "\n",
        "# Print out the first 9 rows of the new data frame to check the result\n",
        "print(covid, n = 9)"
      ],
      "metadata": {
        "id": "UTeZtK863z65",
        "colab": {
          "base_uri": "https://localhost:8080/"
        },
        "outputId": "0eb7bd45-39b5-41a1-8157-c4804660ec8e"
      },
      "execution_count": 54,
      "outputs": [
        {
          "output_type": "stream",
          "name": "stdout",
          "text": [
            "\u001b[90m# A tibble: 56 × 5\u001b[39m\n",
            "  date     state_abb deaths   cases state               \n",
            "  \u001b[3m\u001b[90m<chr>\u001b[39m\u001b[23m    \u001b[3m\u001b[90m<chr>\u001b[39m\u001b[23m      \u001b[3m\u001b[90m<dbl>\u001b[39m\u001b[23m   \u001b[3m\u001b[90m<dbl>\u001b[39m\u001b[23m \u001b[3m\u001b[90m<chr>\u001b[39m\u001b[23m               \n",
            "\u001b[90m1\u001b[39m 3/7/2021 AK           305   \u001b[4m5\u001b[24m\u001b[4m6\u001b[24m886 Alaska              \n",
            "\u001b[90m2\u001b[39m 3/7/2021 AL         \u001b[4m1\u001b[24m\u001b[4m0\u001b[24m148  \u001b[4m4\u001b[24m\u001b[4m9\u001b[24m\u001b[4m9\u001b[24m819 Alabama             \n",
            "\u001b[90m3\u001b[39m 3/7/2021 AR          \u001b[4m5\u001b[24m319  \u001b[4m3\u001b[24m\u001b[4m2\u001b[24m\u001b[4m4\u001b[24m818 Arkansas            \n",
            "\u001b[90m4\u001b[39m 3/7/2021 AS             0       0 \u001b[31mNA\u001b[39m                  \n",
            "\u001b[90m5\u001b[39m 3/7/2021 AZ         \u001b[4m1\u001b[24m\u001b[4m6\u001b[24m328  \u001b[4m8\u001b[24m\u001b[4m2\u001b[24m\u001b[4m6\u001b[24m454 Arizona             \n",
            "\u001b[90m6\u001b[39m 3/7/2021 CA         \u001b[4m5\u001b[24m\u001b[4m4\u001b[24m124 3\u001b[4m5\u001b[24m\u001b[4m0\u001b[24m\u001b[4m1\u001b[24m394 California          \n",
            "\u001b[90m7\u001b[39m 3/7/2021 CO          \u001b[4m5\u001b[24m989  \u001b[4m4\u001b[24m\u001b[4m3\u001b[24m\u001b[4m6\u001b[24m602 Colorado            \n",
            "\u001b[90m8\u001b[39m 3/7/2021 CT          \u001b[4m7\u001b[24m704  \u001b[4m2\u001b[24m\u001b[4m8\u001b[24m\u001b[4m5\u001b[24m330 Connecticut         \n",
            "\u001b[90m9\u001b[39m 3/7/2021 DC          \u001b[4m1\u001b[24m030   \u001b[4m4\u001b[24m\u001b[4m1\u001b[24m419 District of Columbia\n",
            "\u001b[90m# ℹ 47 more rows\u001b[39m\n"
          ]
        }
      ]
    },
    {
      "cell_type": "markdown",
      "source": [
        "# <a name=\"Q16\">Question 16</a>\n",
        "\n",
        "---\n",
        "\n",
        "Use either the `left_join()`, `right_join()`, `inner_join()`, or `full_join()` function to merge `covid` data frame into the `state_demo` data frame in the following way:\n",
        "\n",
        "- You want to keep all rows and columns from the `covid` data frame.\n",
        "- You want merge in the additional `population`, `median_income`, `percent_hs_estimate`, and `percent_bs_estimate` columns from the `state_demo` data frame.\n",
        "- There will be some `NA` values filled in the columns that are merged from the `state_demo` data frame since `state_demo` does not have any rows corresponding to US territories such as American Samoa (`AS`).\n",
        "- <font color=\"dodgerblue\">**Assign the new data frame back to on object named `covid`**</font>.\n",
        "- Print the first 9 rows of the resulting `covid` data frame to the screen to check your work.\n",
        "\n",
        "\n",
        "The first 5 rows of the end result should look like the table below. *Note the data in the last two columns, `percent_hs_estimate` and `percent_bs_estimate`, has been truncated in the table below.*\n",
        "\n",
        "| date | state_abb | deaths | cases | state | population | median_income |\n",
        "|------|-----------|--------|-------|-------|------------|--------------|\n",
        "| 3/7/2021 | AK | 305 | 56886 | Alaska |  737068 | 35957 |\n",
        "| 3/7/2021 | AL | 10148 | 499819 | Alabama | 4876250 | 26596 |\n",
        "| 3/7/2021 | AR | 5319 | 324818 | Arkansas |  2999370 | 26137 |\n",
        "| 3/7/2021 | AS | 0 | 0 | NA | NA | NA |\n",
        "| 3/7/2021 | AZ | 16328 | 826454 | Arizona |  7050299 | 30552 |\n",
        "\n",
        "You will print 9 rows of your resulting data frame to the screen which should end at Washington D.C.\n",
        "\n",
        "\n",
        "<br>  "
      ],
      "metadata": {
        "id": "95PYRoJl54ml"
      }
    },
    {
      "cell_type": "code",
      "source": [
        "# use a *_join function to merge data frames\n",
        "# assign result back to data frame named covid\n",
        "# pring first 9 rows of resulting data frame\n",
        "\n",
        "# Use left_join() to join the columns by having the \"left\" which is covid, as a main part, and add the information from state_demo to covid, and store it in covid\n",
        "covid <- left_join(covid, state_demo)\n",
        "\n",
        "# Print out the first 9 rows of the new data frame to check the result\n",
        "print(covid, n = 9)"
      ],
      "metadata": {
        "id": "oFe1iu825ew1",
        "colab": {
          "base_uri": "https://localhost:8080/"
        },
        "outputId": "dd26679d-dc76-4150-d551-abf64a719f12"
      },
      "execution_count": 55,
      "outputs": [
        {
          "output_type": "stream",
          "name": "stderr",
          "text": [
            "\u001b[1m\u001b[22mJoining with `by = join_by(state)`\n"
          ]
        },
        {
          "output_type": "stream",
          "name": "stdout",
          "text": [
            "\u001b[90m# A tibble: 56 × 9\u001b[39m\n",
            "  date     state_abb deaths   cases state               population median_income\n",
            "  \u001b[3m\u001b[90m<chr>\u001b[39m\u001b[23m    \u001b[3m\u001b[90m<chr>\u001b[39m\u001b[23m      \u001b[3m\u001b[90m<dbl>\u001b[39m\u001b[23m   \u001b[3m\u001b[90m<dbl>\u001b[39m\u001b[23m \u001b[3m\u001b[90m<chr>\u001b[39m\u001b[23m                    \u001b[3m\u001b[90m<dbl>\u001b[39m\u001b[23m         \u001b[3m\u001b[90m<dbl>\u001b[39m\u001b[23m\n",
            "\u001b[90m1\u001b[39m 3/7/2021 AK           305   \u001b[4m5\u001b[24m\u001b[4m6\u001b[24m886 Alaska                  \u001b[4m7\u001b[24m\u001b[4m3\u001b[24m\u001b[4m7\u001b[24m068         \u001b[4m3\u001b[24m\u001b[4m5\u001b[24m957\n",
            "\u001b[90m2\u001b[39m 3/7/2021 AL         \u001b[4m1\u001b[24m\u001b[4m0\u001b[24m148  \u001b[4m4\u001b[24m\u001b[4m9\u001b[24m\u001b[4m9\u001b[24m819 Alabama                4\u001b[4m8\u001b[24m\u001b[4m7\u001b[24m\u001b[4m6\u001b[24m250         \u001b[4m2\u001b[24m\u001b[4m6\u001b[24m596\n",
            "\u001b[90m3\u001b[39m 3/7/2021 AR          \u001b[4m5\u001b[24m319  \u001b[4m3\u001b[24m\u001b[4m2\u001b[24m\u001b[4m4\u001b[24m818 Arkansas               2\u001b[4m9\u001b[24m\u001b[4m9\u001b[24m\u001b[4m9\u001b[24m370         \u001b[4m2\u001b[24m\u001b[4m6\u001b[24m137\n",
            "\u001b[90m4\u001b[39m 3/7/2021 AS             0       0 \u001b[31mNA\u001b[39m                          \u001b[31mNA\u001b[39m            \u001b[31mNA\u001b[39m\n",
            "\u001b[90m5\u001b[39m 3/7/2021 AZ         \u001b[4m1\u001b[24m\u001b[4m6\u001b[24m328  \u001b[4m8\u001b[24m\u001b[4m2\u001b[24m\u001b[4m6\u001b[24m454 Arizona                7\u001b[4m0\u001b[24m\u001b[4m5\u001b[24m\u001b[4m0\u001b[24m299         \u001b[4m3\u001b[24m\u001b[4m0\u001b[24m552\n",
            "\u001b[90m6\u001b[39m 3/7/2021 CA         \u001b[4m5\u001b[24m\u001b[4m4\u001b[24m124 3\u001b[4m5\u001b[24m\u001b[4m0\u001b[24m\u001b[4m1\u001b[24m394 California            39\u001b[4m2\u001b[24m\u001b[4m8\u001b[24m\u001b[4m3\u001b[24m497         \u001b[4m3\u001b[24m\u001b[4m2\u001b[24m232\n",
            "\u001b[90m7\u001b[39m 3/7/2021 CO          \u001b[4m5\u001b[24m989  \u001b[4m4\u001b[24m\u001b[4m3\u001b[24m\u001b[4m6\u001b[24m602 Colorado               5\u001b[4m6\u001b[24m\u001b[4m1\u001b[24m\u001b[4m0\u001b[24m349         \u001b[4m3\u001b[24m\u001b[4m6\u001b[24m644\n",
            "\u001b[90m8\u001b[39m 3/7/2021 CT          \u001b[4m7\u001b[24m704  \u001b[4m2\u001b[24m\u001b[4m8\u001b[24m\u001b[4m5\u001b[24m330 Connecticut            3\u001b[4m5\u001b[24m\u001b[4m7\u001b[24m\u001b[4m5\u001b[24m074         \u001b[4m3\u001b[24m\u001b[4m8\u001b[24m809\n",
            "\u001b[90m9\u001b[39m 3/7/2021 DC          \u001b[4m1\u001b[24m030   \u001b[4m4\u001b[24m\u001b[4m1\u001b[24m419 District of Columb…     \u001b[4m6\u001b[24m\u001b[4m9\u001b[24m\u001b[4m2\u001b[24m683         \u001b[4m5\u001b[24m\u001b[4m0\u001b[24m134\n",
            "\u001b[90m# ℹ 47 more rows\u001b[39m\n",
            "\u001b[90m# ℹ 2 more variables: percent_hs_estimate <dbl>, percent_bs_estimate <dbl>\u001b[39m\n"
          ]
        }
      ]
    },
    {
      "cell_type": "markdown",
      "source": [
        "# <a name=\"Q17\">Question 17</a>\n",
        "\n",
        "---\n",
        "\n",
        "When manipulating data into a usable form, it can be convenient to save the final object (or even intermediate objects) to easily load for future use. This is the purpose of the `write_*()` and `read_*()` functions in the `readr` package if we are in the `tidyverse` or the `read.*` and `write.*` functions in `base` R as another alternative. Since we are working in the `tidyverse`, we use functions in the `readr` package.\n",
        "\n",
        "\n",
        "- We used the `read_csv()` function earlier in this assignment to load external csv files into an R session.\n",
        "- We can similarly use the `write_csv()` function to export a data frame to a csv file that we save externally.\n",
        "\n",
        "\n",
        "Run the code cell below to export your final, tidy `covid` data frame to a csv file name `covid-hw6.csv`.\n",
        "\n",
        "\n"
      ],
      "metadata": {
        "id": "I_kF4-BVjxeI"
      }
    },
    {
      "cell_type": "code",
      "source": [
        "# run the code cell\n",
        "# there is nothing to edit\n",
        "# no output will be printed to the screen\n",
        "write_csv(covid, \"covid_hw6.csv\")"
      ],
      "metadata": {
        "id": "Ak0cxzuN90NL"
      },
      "execution_count": 56,
      "outputs": []
    },
    {
      "cell_type": "markdown",
      "source": [
        "# <a name=\"Q18\">Question 18</a>\n",
        "\n",
        "---\n",
        "\n",
        "Where did the file `covid_hw6.csv` that we created go? Where is it saved? Right now, it is stored in a rather hidden location in your Google Drive. Here is how to find the file and download a copy locally on to your computer.\n",
        "\n",
        "<br>\n",
        "\n",
        "<img src=\"https://drive.google.com/uc?export=view&id=1sAWqe7s_qmhrnHGF7ABdQN27ir4H9KoA\"  alt = \"Download csv file\" width=\"300\">\n",
        "\n",
        "\n",
        "- Select the files menu tab from the options on the left side bar (the image of the file boxed in red in the figure above).\n",
        "- You should now see the file `covid_hw6.csv` listed in your available files.\n",
        "- Click on the three vertical dots on the right of the file name (see red arrow in figure above).\n",
        "- Choose `Download` from the available menu options.\n",
        "- Choose where you want to download the file onto your computer.\n",
        "\n",
        "Follow the process above to download a local copy of the file `covid_hw6.csv` onto your computer.\n",
        "\n",
        "**Upload your final csv file named `covid_hw6.csv` along with your `*.ipynb` file in Canvas when you submit your work for [Homework 6 in Canvas](https://ucdenver.instructure.com/courses/558344/assignments/1920900). Thus, we you submit you work for Homework 6, you should submit two files:**\n",
        "\n",
        "1. A `*.ipynb` which is a copy of this file with your solutions and all code run with the output viewable.\n",
        "2. The csv file `covid_hw6.csv` you generated from this assignment.\n",
        "\n",
        "\n",
        "<br>  \n",
        "\n"
      ],
      "metadata": {
        "id": "qNvjmv2kuyZP"
      }
    },
    {
      "cell_type": "markdown",
      "source": [
        "# <a name=\"save2\">Be Sure You Have Saved Your Work!</a>\n",
        "\n",
        "---\n",
        "\n",
        "This notebook is a shared Colab notebook available for anyone to view. However, since everyone is sharing this notebook, you do not have permission to save changes to this shared Colab notebook. In order to save your work:\n",
        "\n",
        "1. You will need to set up a free Google Drive account. If you already have a Google Drive account, you are ready to go!\n",
        "2. Click the `Copy to Drive` button to the right of the `+ Code` and `+ Text` buttons on top of the notebook.\n",
        "3. Select from the menu `File/Save a Copy in Drive`.\n",
        "  - By default, the notebook will be saved in a folder named **Colab Notebooks** in your Drive.\n",
        "  - Feel free to rename and store the notebook wherever you like.\n"
      ],
      "metadata": {
        "id": "iBmMPoh1CkEf"
      }
    }
  ]
}