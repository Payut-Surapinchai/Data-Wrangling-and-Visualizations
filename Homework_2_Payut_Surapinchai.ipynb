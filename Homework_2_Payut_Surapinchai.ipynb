{
  "nbformat": 4,
  "nbformat_minor": 0,
  "metadata": {
    "colab": {
      "provenance": []
    },
    "kernelspec": {
      "name": "ir",
      "display_name": "R"
    },
    "language_info": {
      "name": "R"
    }
  },
  "cells": [
    {
      "cell_type": "markdown",
      "source": [
        "# Homework 2: Due Wednesday, February 12 at 11:59 PM\n",
        "\n",
        "---"
      ],
      "metadata": {
        "id": "TLH2NCL-V8J_"
      }
    },
    {
      "cell_type": "markdown",
      "source": [
        "## <a name=\"HW1Inst\">Instructions:</a>\n",
        "---\n",
        "\n",
        "1. <font color=\"tomato\">Either click the COPY TO DRIVE button or use the menu File/Save/Save a Copy to save your own version of the notebook in your own folder in Google Drive.</font>\n",
        "\n",
        "  - If you do not have a Google account, you will need to create a Google account in order to create your own individual copy of this notebook.\n",
        "  - By default, the notebook will be saved in a folder named **Colab Notebooks** in your drive.\n",
        "  - Feel free to name and store the notebook wherever you like!\n",
        "\n",
        "2. <font color=\"mediumseagreen\">After you have copied the notebook into your Drive, you can begin editing and saving your work.</font>\n",
        "\n",
        "**Upload your completed assignment into Canvas as a Google Colab (or Jupyter) Notebook with file extension `.ipynb`.**\n",
        "\n",
        "Upload your file into the Homework 2 assignment in Canvas before <font color=\"dodgerblue\">**11:59PM on Wednesday, February 12.**</font>\n",
        "\n",
        "**You must provide supporting work for your all of your answers.**\n",
        "\n",
        "  - <font color=\"dodgerblue\">That work will include using R code cells.</font>\n",
        "    - **Feel free to insert as much R code as you like.**\n",
        "    - You must interpret or explain how the output of a code cell is being utilized to solve the problem.\n",
        "    - **Code with incomplete or missing explanations of why the output is useful may not receive full credit.**\n",
        "  - <font color=\"dodgerblue\">Your work will also involve writing explanations and justifications in text cells.</font>\n",
        "    - **Be sure to type/write out the steps of your work/explanation so I can see how you arrived at your answer.**\n",
        "\n",
        "\n",
        "## Important Academic Policies:\n",
        "---\n",
        "\n",
        "- **Be your own work.** Though you may collaborate with others, everyone is responsible for writing up the work in their own way using their own methods. Plagiarism of any form is not tolerated.\n",
        "- **Be complete.** You must provide all work and/or explanations needed to find the solution. Answers with insufficient or incomplete supporting work may lose credit.\n",
        "- **Adhere to the Code of Academic Honesty.**\n",
        "- **Be clearly written (and legible if written).** Your solution to a problem must be clear, written in complete sentences. You may lose credit for work that is unclear or hard to follow.\n",
        "\n",
        "## <font color=\"dodgerblue\">Let me know if you need help, and **GOOD LUCK!!!**</font>\n",
        "\n",
        "----"
      ],
      "metadata": {
        "id": "gr9nGY7MSp23"
      }
    },
    {
      "cell_type": "markdown",
      "source": [
        "# <a name=\"Q1\">Question 1</a>\n",
        "\n",
        "---\n",
        "\n",
        "Create a data frame from scratch that satisfies the following properties:\n",
        "\n",
        "- The data frame consists of 4 variables (columns).\n",
        "- The data frame has 5 rows.\n",
        "- One variable is a vector of logicals.\n",
        "- One variable is a vector of decimals.\n",
        "- One variable is a vector of characters.\n",
        "- One variable is a vector of integers.\n",
        "- Give the data frame a name of your choice.\n",
        "- Give each variable in the data frame a name of your choice.\n",
        "- Add a comment to each line of code to explain why or what your code is doing.\n",
        "- Print your final data frame to the screen.\n",
        "\n",
        "\n",
        "It is not important what specific values you choose when defining your variables as long as they satisfy the conditions described above.\n"
      ],
      "metadata": {
        "id": "kQ7Zswel9cuh"
      }
    },
    {
      "cell_type": "code",
      "source": [
        "logi <- c(TRUE,FALSE,FALSE,TRUE,TRUE)  # create a vector of logicals, need 5 elements because we want 5 rows\n",
        "deci <- c(4.3,5.7,2.3,8.6,9.3)  # create a vector of decimals, need 5 elements because we want 5 rows\n",
        "chara <- c(\"Hi\",\"Hello\",\"Test\",\"Hey\",\"What's Up\")  # create a vector of characters, need 5 elements because we want 5 rows\n",
        "integ <- c(4L,5L,10L,20L,30L)  # create a vector of integers, need 5 elements because we want 5 rows\n",
        "\n",
        "my_dataframe <- data.frame(logi,deci,chara,integ)  # create a data frame with 4 columns and 5 rows\n",
        "my_dataframe  # print out the data frame to check how it looks"
      ],
      "metadata": {
        "id": "3fY0XGO8ptH2",
        "outputId": "9d50ba02-edd9-4273-e4a7-d7fa197dd073",
        "colab": {
          "base_uri": "https://localhost:8080/",
          "height": 255
        }
      },
      "execution_count": 36,
      "outputs": [
        {
          "output_type": "display_data",
          "data": {
            "text/html": [
              "<table class=\"dataframe\">\n",
              "<caption>A data.frame: 5 × 4</caption>\n",
              "<thead>\n",
              "\t<tr><th scope=col>logi</th><th scope=col>deci</th><th scope=col>chara</th><th scope=col>integ</th></tr>\n",
              "\t<tr><th scope=col>&lt;lgl&gt;</th><th scope=col>&lt;dbl&gt;</th><th scope=col>&lt;chr&gt;</th><th scope=col>&lt;int&gt;</th></tr>\n",
              "</thead>\n",
              "<tbody>\n",
              "\t<tr><td> TRUE</td><td>4.3</td><td>Hi       </td><td> 4</td></tr>\n",
              "\t<tr><td>FALSE</td><td>5.7</td><td>Hello    </td><td> 5</td></tr>\n",
              "\t<tr><td>FALSE</td><td>2.3</td><td>Test     </td><td>10</td></tr>\n",
              "\t<tr><td> TRUE</td><td>8.6</td><td>Hey      </td><td>20</td></tr>\n",
              "\t<tr><td> TRUE</td><td>9.3</td><td>What's Up</td><td>30</td></tr>\n",
              "</tbody>\n",
              "</table>\n"
            ],
            "text/markdown": "\nA data.frame: 5 × 4\n\n| logi &lt;lgl&gt; | deci &lt;dbl&gt; | chara &lt;chr&gt; | integ &lt;int&gt; |\n|---|---|---|---|\n|  TRUE | 4.3 | Hi        |  4 |\n| FALSE | 5.7 | Hello     |  5 |\n| FALSE | 2.3 | Test      | 10 |\n|  TRUE | 8.6 | Hey       | 20 |\n|  TRUE | 9.3 | What's Up | 30 |\n\n",
            "text/latex": "A data.frame: 5 × 4\n\\begin{tabular}{llll}\n logi & deci & chara & integ\\\\\n <lgl> & <dbl> & <chr> & <int>\\\\\n\\hline\n\t  TRUE & 4.3 & Hi        &  4\\\\\n\t FALSE & 5.7 & Hello     &  5\\\\\n\t FALSE & 2.3 & Test      & 10\\\\\n\t  TRUE & 8.6 & Hey       & 20\\\\\n\t  TRUE & 9.3 & What's Up & 30\\\\\n\\end{tabular}\n",
            "text/plain": [
              "  logi  deci chara     integ\n",
              "1  TRUE 4.3  Hi         4   \n",
              "2 FALSE 5.7  Hello      5   \n",
              "3 FALSE 2.3  Test      10   \n",
              "4  TRUE 8.6  Hey       20   \n",
              "5  TRUE 9.3  What's Up 30   "
            ]
          },
          "metadata": {}
        }
      ]
    },
    {
      "cell_type": "code",
      "source": [
        "names(my_dataframe) <- c(\"Logicals\",\"Decimals\",\"Characters\",\"Integers\")  # create names for each columns in the data frame\n",
        "my_dataframe  # print out the data frame one more time to check how it looks"
      ],
      "metadata": {
        "id": "6Iiawu_P_Krp",
        "outputId": "19005cd5-adc3-4eae-d240-9125fea61657",
        "colab": {
          "base_uri": "https://localhost:8080/",
          "height": 255
        }
      },
      "execution_count": 37,
      "outputs": [
        {
          "output_type": "display_data",
          "data": {
            "text/html": [
              "<table class=\"dataframe\">\n",
              "<caption>A data.frame: 5 × 4</caption>\n",
              "<thead>\n",
              "\t<tr><th scope=col>Logicals</th><th scope=col>Decimals</th><th scope=col>Characters</th><th scope=col>Integers</th></tr>\n",
              "\t<tr><th scope=col>&lt;lgl&gt;</th><th scope=col>&lt;dbl&gt;</th><th scope=col>&lt;chr&gt;</th><th scope=col>&lt;int&gt;</th></tr>\n",
              "</thead>\n",
              "<tbody>\n",
              "\t<tr><td> TRUE</td><td>4.3</td><td>Hi       </td><td> 4</td></tr>\n",
              "\t<tr><td>FALSE</td><td>5.7</td><td>Hello    </td><td> 5</td></tr>\n",
              "\t<tr><td>FALSE</td><td>2.3</td><td>Test     </td><td>10</td></tr>\n",
              "\t<tr><td> TRUE</td><td>8.6</td><td>Hey      </td><td>20</td></tr>\n",
              "\t<tr><td> TRUE</td><td>9.3</td><td>What's Up</td><td>30</td></tr>\n",
              "</tbody>\n",
              "</table>\n"
            ],
            "text/markdown": "\nA data.frame: 5 × 4\n\n| Logicals &lt;lgl&gt; | Decimals &lt;dbl&gt; | Characters &lt;chr&gt; | Integers &lt;int&gt; |\n|---|---|---|---|\n|  TRUE | 4.3 | Hi        |  4 |\n| FALSE | 5.7 | Hello     |  5 |\n| FALSE | 2.3 | Test      | 10 |\n|  TRUE | 8.6 | Hey       | 20 |\n|  TRUE | 9.3 | What's Up | 30 |\n\n",
            "text/latex": "A data.frame: 5 × 4\n\\begin{tabular}{llll}\n Logicals & Decimals & Characters & Integers\\\\\n <lgl> & <dbl> & <chr> & <int>\\\\\n\\hline\n\t  TRUE & 4.3 & Hi        &  4\\\\\n\t FALSE & 5.7 & Hello     &  5\\\\\n\t FALSE & 2.3 & Test      & 10\\\\\n\t  TRUE & 8.6 & Hey       & 20\\\\\n\t  TRUE & 9.3 & What's Up & 30\\\\\n\\end{tabular}\n",
            "text/plain": [
              "  Logicals Decimals Characters Integers\n",
              "1  TRUE    4.3      Hi          4      \n",
              "2 FALSE    5.7      Hello       5      \n",
              "3 FALSE    2.3      Test       10      \n",
              "4  TRUE    8.6      Hey        20      \n",
              "5  TRUE    9.3      What's Up  30      "
            ]
          },
          "metadata": {}
        }
      ]
    },
    {
      "cell_type": "markdown",
      "source": [
        "# <a name=\"Q2\">Question 2</a>\n",
        "\n",
        "---\n",
        "\n",
        "Slice the the data frame you created in [Question 1](#Q1) in each of the followin ways. Print the sliced data to the screen. You do not need to store the sliced data to a new data frame.\n",
        "\n",
        "<br>  "
      ],
      "metadata": {
        "id": "rO_hBrPHpKjV"
      }
    },
    {
      "cell_type": "markdown",
      "source": [
        "## <a name=\"Q2a\">Question 2a</a>\n",
        "\n",
        "---\n",
        "\n",
        "Slice rows 2 thru 4 and keep all columns.\n",
        "\n",
        "<br>  "
      ],
      "metadata": {
        "id": "XWKdj5gbpmuq"
      }
    },
    {
      "cell_type": "code",
      "source": [
        "my_dataframe[2:4,]  # slice rows 2 to 4 and keep all columns"
      ],
      "metadata": {
        "id": "JhVtHbr-p3eG",
        "outputId": "ef0174fa-9165-4466-d390-e92e34cb7a8f",
        "colab": {
          "base_uri": "https://localhost:8080/",
          "height": 192
        }
      },
      "execution_count": 38,
      "outputs": [
        {
          "output_type": "display_data",
          "data": {
            "text/html": [
              "<table class=\"dataframe\">\n",
              "<caption>A data.frame: 3 × 4</caption>\n",
              "<thead>\n",
              "\t<tr><th></th><th scope=col>Logicals</th><th scope=col>Decimals</th><th scope=col>Characters</th><th scope=col>Integers</th></tr>\n",
              "\t<tr><th></th><th scope=col>&lt;lgl&gt;</th><th scope=col>&lt;dbl&gt;</th><th scope=col>&lt;chr&gt;</th><th scope=col>&lt;int&gt;</th></tr>\n",
              "</thead>\n",
              "<tbody>\n",
              "\t<tr><th scope=row>2</th><td>FALSE</td><td>5.7</td><td>Hello</td><td> 5</td></tr>\n",
              "\t<tr><th scope=row>3</th><td>FALSE</td><td>2.3</td><td>Test </td><td>10</td></tr>\n",
              "\t<tr><th scope=row>4</th><td> TRUE</td><td>8.6</td><td>Hey  </td><td>20</td></tr>\n",
              "</tbody>\n",
              "</table>\n"
            ],
            "text/markdown": "\nA data.frame: 3 × 4\n\n| <!--/--> | Logicals &lt;lgl&gt; | Decimals &lt;dbl&gt; | Characters &lt;chr&gt; | Integers &lt;int&gt; |\n|---|---|---|---|---|\n| 2 | FALSE | 5.7 | Hello |  5 |\n| 3 | FALSE | 2.3 | Test  | 10 |\n| 4 |  TRUE | 8.6 | Hey   | 20 |\n\n",
            "text/latex": "A data.frame: 3 × 4\n\\begin{tabular}{r|llll}\n  & Logicals & Decimals & Characters & Integers\\\\\n  & <lgl> & <dbl> & <chr> & <int>\\\\\n\\hline\n\t2 & FALSE & 5.7 & Hello &  5\\\\\n\t3 & FALSE & 2.3 & Test  & 10\\\\\n\t4 &  TRUE & 8.6 & Hey   & 20\\\\\n\\end{tabular}\n",
            "text/plain": [
              "  Logicals Decimals Characters Integers\n",
              "2 FALSE    5.7      Hello       5      \n",
              "3 FALSE    2.3      Test       10      \n",
              "4  TRUE    8.6      Hey        20      "
            ]
          },
          "metadata": {}
        }
      ]
    },
    {
      "cell_type": "markdown",
      "source": [
        "## <a name=\"Q2b\">Question 2b</a>\n",
        "\n",
        "---\n",
        "\n",
        "Slice only column 1 and column 4 and keep all rows.\n",
        "\n",
        "<br>  "
      ],
      "metadata": {
        "id": "Nf0D15A3p4LU"
      }
    },
    {
      "cell_type": "code",
      "source": [
        "my_dataframe[,c(1,4)]  # keep all rows and slice columns 1 and 4 using c() function to create a vector to pinpoint columns/rows you need"
      ],
      "metadata": {
        "id": "8PT9e4Bqp4LU",
        "outputId": "bda1b448-acd5-4ec4-964c-f074bc6adb33",
        "colab": {
          "base_uri": "https://localhost:8080/",
          "height": 255
        }
      },
      "execution_count": 39,
      "outputs": [
        {
          "output_type": "display_data",
          "data": {
            "text/html": [
              "<table class=\"dataframe\">\n",
              "<caption>A data.frame: 5 × 2</caption>\n",
              "<thead>\n",
              "\t<tr><th scope=col>Logicals</th><th scope=col>Integers</th></tr>\n",
              "\t<tr><th scope=col>&lt;lgl&gt;</th><th scope=col>&lt;int&gt;</th></tr>\n",
              "</thead>\n",
              "<tbody>\n",
              "\t<tr><td> TRUE</td><td> 4</td></tr>\n",
              "\t<tr><td>FALSE</td><td> 5</td></tr>\n",
              "\t<tr><td>FALSE</td><td>10</td></tr>\n",
              "\t<tr><td> TRUE</td><td>20</td></tr>\n",
              "\t<tr><td> TRUE</td><td>30</td></tr>\n",
              "</tbody>\n",
              "</table>\n"
            ],
            "text/markdown": "\nA data.frame: 5 × 2\n\n| Logicals &lt;lgl&gt; | Integers &lt;int&gt; |\n|---|---|\n|  TRUE |  4 |\n| FALSE |  5 |\n| FALSE | 10 |\n|  TRUE | 20 |\n|  TRUE | 30 |\n\n",
            "text/latex": "A data.frame: 5 × 2\n\\begin{tabular}{ll}\n Logicals & Integers\\\\\n <lgl> & <int>\\\\\n\\hline\n\t  TRUE &  4\\\\\n\t FALSE &  5\\\\\n\t FALSE & 10\\\\\n\t  TRUE & 20\\\\\n\t  TRUE & 30\\\\\n\\end{tabular}\n",
            "text/plain": [
              "  Logicals Integers\n",
              "1  TRUE     4      \n",
              "2 FALSE     5      \n",
              "3 FALSE    10      \n",
              "4  TRUE    20      \n",
              "5  TRUE    30      "
            ]
          },
          "metadata": {}
        }
      ]
    },
    {
      "cell_type": "markdown",
      "source": [
        "## <a name=\"Q2c\">Question 2c</a>\n",
        "\n",
        "---\n",
        "\n",
        "Exclude row 3 and exclude column 2 (keep all other rows and columns).\n",
        "\n",
        "<br>  "
      ],
      "metadata": {
        "id": "ySKiRBfMqGJv"
      }
    },
    {
      "cell_type": "code",
      "source": [
        "my_dataframe[-3,-2]  # use - to exclude rows and columns"
      ],
      "metadata": {
        "id": "pubjvXNgqGJw",
        "outputId": "07f5a2f1-dd8f-41e7-e328-42ab4bcd9a0a",
        "colab": {
          "base_uri": "https://localhost:8080/",
          "height": 224
        }
      },
      "execution_count": 40,
      "outputs": [
        {
          "output_type": "display_data",
          "data": {
            "text/html": [
              "<table class=\"dataframe\">\n",
              "<caption>A data.frame: 4 × 3</caption>\n",
              "<thead>\n",
              "\t<tr><th></th><th scope=col>Logicals</th><th scope=col>Characters</th><th scope=col>Integers</th></tr>\n",
              "\t<tr><th></th><th scope=col>&lt;lgl&gt;</th><th scope=col>&lt;chr&gt;</th><th scope=col>&lt;int&gt;</th></tr>\n",
              "</thead>\n",
              "<tbody>\n",
              "\t<tr><th scope=row>1</th><td> TRUE</td><td>Hi       </td><td> 4</td></tr>\n",
              "\t<tr><th scope=row>2</th><td>FALSE</td><td>Hello    </td><td> 5</td></tr>\n",
              "\t<tr><th scope=row>4</th><td> TRUE</td><td>Hey      </td><td>20</td></tr>\n",
              "\t<tr><th scope=row>5</th><td> TRUE</td><td>What's Up</td><td>30</td></tr>\n",
              "</tbody>\n",
              "</table>\n"
            ],
            "text/markdown": "\nA data.frame: 4 × 3\n\n| <!--/--> | Logicals &lt;lgl&gt; | Characters &lt;chr&gt; | Integers &lt;int&gt; |\n|---|---|---|---|\n| 1 |  TRUE | Hi        |  4 |\n| 2 | FALSE | Hello     |  5 |\n| 4 |  TRUE | Hey       | 20 |\n| 5 |  TRUE | What's Up | 30 |\n\n",
            "text/latex": "A data.frame: 4 × 3\n\\begin{tabular}{r|lll}\n  & Logicals & Characters & Integers\\\\\n  & <lgl> & <chr> & <int>\\\\\n\\hline\n\t1 &  TRUE & Hi        &  4\\\\\n\t2 & FALSE & Hello     &  5\\\\\n\t4 &  TRUE & Hey       & 20\\\\\n\t5 &  TRUE & What's Up & 30\\\\\n\\end{tabular}\n",
            "text/plain": [
              "  Logicals Characters Integers\n",
              "1  TRUE    Hi          4      \n",
              "2 FALSE    Hello       5      \n",
              "4  TRUE    Hey        20      \n",
              "5  TRUE    What's Up  30      "
            ]
          },
          "metadata": {}
        }
      ]
    },
    {
      "cell_type": "markdown",
      "source": [
        "## <a name=\"Q2d\">Question 2d</a>\n",
        "\n",
        "---\n",
        "\n",
        "Keep row 1 and row 3 of columns 2 thru 4.\n",
        "\n",
        "<br>  "
      ],
      "metadata": {
        "id": "aMur25iKqVCl"
      }
    },
    {
      "cell_type": "code",
      "source": [
        "my_dataframe[c(1,3),2:4]  # slice row 1 and row 3, and columns from 2 to 4"
      ],
      "metadata": {
        "id": "lbXtB2NdqVCl",
        "outputId": "70756232-f2b9-422b-d15f-47407ec48a4a",
        "colab": {
          "base_uri": "https://localhost:8080/",
          "height": 161
        }
      },
      "execution_count": 41,
      "outputs": [
        {
          "output_type": "display_data",
          "data": {
            "text/html": [
              "<table class=\"dataframe\">\n",
              "<caption>A data.frame: 2 × 3</caption>\n",
              "<thead>\n",
              "\t<tr><th></th><th scope=col>Decimals</th><th scope=col>Characters</th><th scope=col>Integers</th></tr>\n",
              "\t<tr><th></th><th scope=col>&lt;dbl&gt;</th><th scope=col>&lt;chr&gt;</th><th scope=col>&lt;int&gt;</th></tr>\n",
              "</thead>\n",
              "<tbody>\n",
              "\t<tr><th scope=row>1</th><td>4.3</td><td>Hi  </td><td> 4</td></tr>\n",
              "\t<tr><th scope=row>3</th><td>2.3</td><td>Test</td><td>10</td></tr>\n",
              "</tbody>\n",
              "</table>\n"
            ],
            "text/markdown": "\nA data.frame: 2 × 3\n\n| <!--/--> | Decimals &lt;dbl&gt; | Characters &lt;chr&gt; | Integers &lt;int&gt; |\n|---|---|---|---|\n| 1 | 4.3 | Hi   |  4 |\n| 3 | 2.3 | Test | 10 |\n\n",
            "text/latex": "A data.frame: 2 × 3\n\\begin{tabular}{r|lll}\n  & Decimals & Characters & Integers\\\\\n  & <dbl> & <chr> & <int>\\\\\n\\hline\n\t1 & 4.3 & Hi   &  4\\\\\n\t3 & 2.3 & Test & 10\\\\\n\\end{tabular}\n",
            "text/plain": [
              "  Decimals Characters Integers\n",
              "1 4.3      Hi          4      \n",
              "3 2.3      Test       10      "
            ]
          },
          "metadata": {}
        }
      ]
    },
    {
      "cell_type": "markdown",
      "source": [
        "# <a name=\"Q2\">Question 3</a>\n",
        "\n",
        "---\n",
        "\n",
        "\n",
        "Use the `read.table` or `read.csv` functions to import the data set from the file\n",
        "\n",
        "`https://raw.githubusercontent.com/jfrench/DataWrangleViz/master/data/penguins_raw.csv`\n",
        "\n",
        "and assign it to a data frame with the name `penguins_raw`.\n",
        "\n",
        "<br>  \n",
        "\n",
        "After assigning the data frame to `penguins_raw` in the first code cell (there should be no output printed to the screen), run a command in the second code cell to print some information about the data frame to the screen to answer the following questions. Type your answers in the text cell below the two code cells that follow (do not enter your answers in this text cell).\n",
        "\n",
        "- How many observations are in the data set?\n",
        "- How many total variables are in the data set?\n",
        "\n",
        "<br>  \n",
        "\n",
        "*Hint: It might help to first view the raw file in a web browser before importing to see if the data set has headers and identify what delimiter is used to separate the values.*\n",
        "\n",
        "\n",
        "\n"
      ],
      "metadata": {
        "id": "95lUcm19qckz"
      }
    },
    {
      "cell_type": "code",
      "source": [
        "penguins_raw <- read.table(file = \"https://raw.githubusercontent.com/jfrench/DataWrangleViz/master/data/penguins_raw.csv\",header=TRUE,sep=\",\")"
      ],
      "metadata": {
        "id": "M5hCsfs-xGsv"
      },
      "execution_count": 42,
      "outputs": []
    },
    {
      "cell_type": "code",
      "source": [
        "str(penguins_raw)  # use str() to see the summarized structure of this data set, this also shows observations and variables in the data set"
      ],
      "metadata": {
        "id": "LcaurgKVxGjF",
        "outputId": "92ae8f11-57bc-4611-f112-a38c5846b127",
        "colab": {
          "base_uri": "https://localhost:8080/"
        }
      },
      "execution_count": 43,
      "outputs": [
        {
          "output_type": "stream",
          "name": "stdout",
          "text": [
            "'data.frame':\t344 obs. of  17 variables:\n",
            " $ studyName          : chr  \"PAL0708\" \"PAL0708\" \"PAL0708\" \"PAL0708\" ...\n",
            " $ Sample.Number      : int  1 2 3 4 5 6 7 8 9 10 ...\n",
            " $ Species            : chr  \"Adelie Penguin (Pygoscelis adeliae)\" \"Adelie Penguin (Pygoscelis adeliae)\" \"Adelie Penguin (Pygoscelis adeliae)\" \"Adelie Penguin (Pygoscelis adeliae)\" ...\n",
            " $ Region             : chr  \"Anvers\" \"Anvers\" \"Anvers\" \"Anvers\" ...\n",
            " $ Island             : chr  \"Torgersen\" \"Torgersen\" \"Torgersen\" \"Torgersen\" ...\n",
            " $ Stage              : chr  \"Adult, 1 Egg Stage\" \"Adult, 1 Egg Stage\" \"Adult, 1 Egg Stage\" \"Adult, 1 Egg Stage\" ...\n",
            " $ Individual.ID      : chr  \"N1A1\" \"N1A2\" \"N2A1\" \"N2A2\" ...\n",
            " $ Clutch.Completion  : chr  \"Yes\" \"Yes\" \"Yes\" \"Yes\" ...\n",
            " $ Date.Egg           : chr  \"11/11/2007\" \"11/11/2007\" \"11/16/2007\" \"11/16/2007\" ...\n",
            " $ Culmen.Length..mm. : num  39.1 39.5 40.3 NA 36.7 39.3 38.9 39.2 34.1 42 ...\n",
            " $ Culmen.Depth..mm.  : num  18.7 17.4 18 NA 19.3 20.6 17.8 19.6 18.1 20.2 ...\n",
            " $ Flipper.Length..mm.: int  181 186 195 NA 193 190 181 195 193 190 ...\n",
            " $ Body.Mass..g.      : int  3750 3800 3250 NA 3450 3650 3625 4675 3475 4250 ...\n",
            " $ Sex                : chr  \"MALE\" \"FEMALE\" \"FEMALE\" NA ...\n",
            " $ Delta.15.N..o.oo.  : num  NA 8.95 8.37 NA 8.77 ...\n",
            " $ Delta.13.C..o.oo.  : num  NA -24.7 -25.3 NA -25.3 ...\n",
            " $ Comments           : chr  \"Not enough blood for isotopes.\" NA NA \"Adult not sampled.\" ...\n"
          ]
        }
      ]
    },
    {
      "cell_type": "markdown",
      "source": [
        "## <a name=\"Sol3\">Solution to Question 3</a>\n",
        "\n",
        "---\n",
        "\n",
        "<br>  \n",
        "\n",
        "- How many observations are in the data set? There are 344 observations in the data set.\n",
        "\n",
        "- How many total variables are in the data set? There are 17 variables in the data set.\n",
        "\n"
      ],
      "metadata": {
        "id": "iNHX9m-HvDHI"
      }
    },
    {
      "cell_type": "markdown",
      "source": [
        "# <a name=\"Q4\">Question 4</a>\n",
        "\n",
        "---\n",
        "\n",
        "The `penguins_raw` data set is \"raw\" or \"messy\" and not very clean. For example, the column names are not formatted well and there are missing values to name a couple of issues. We are going to do some very light \"cleaning\" of the data.\n",
        "\n",
        "\n"
      ],
      "metadata": {
        "id": "EAzUwSYdravq"
      }
    },
    {
      "cell_type": "markdown",
      "source": [
        "## <a name=\"Q4a\">Question 4a</a>\n",
        "\n",
        "---\n",
        "\n",
        "Create a new object, called `penguins_clean`, that slices columns 3, 5, 10, 11, 12, 13, and 14 of `penguins_raw` and keeps all rows. Then in a second code cell run a second command to print output of some kind to the screen to glance at the structure of `penguins_clean`.\n",
        "\n",
        "<br>  \n",
        "\n"
      ],
      "metadata": {
        "id": "GaV2hErnxVpP"
      }
    },
    {
      "cell_type": "code",
      "source": [
        "penguins_clean <- penguins_raw[,c(3,5,10,11,12,13,14)]  # slices the penguins raws data frame and keep the 3,5,10,11,12,13,14 columns"
      ],
      "metadata": {
        "id": "dn2KALRjxdN_"
      },
      "execution_count": 44,
      "outputs": []
    },
    {
      "cell_type": "code",
      "source": [
        "str(penguins_clean)  # glances at the structure of the penguins clean, there should only be 7 variables"
      ],
      "metadata": {
        "id": "17MEI0p1xdFh",
        "outputId": "73dc3b83-0b94-428c-db17-3a6c86bd15c1",
        "colab": {
          "base_uri": "https://localhost:8080/"
        }
      },
      "execution_count": 45,
      "outputs": [
        {
          "output_type": "stream",
          "name": "stdout",
          "text": [
            "'data.frame':\t344 obs. of  7 variables:\n",
            " $ Species            : chr  \"Adelie Penguin (Pygoscelis adeliae)\" \"Adelie Penguin (Pygoscelis adeliae)\" \"Adelie Penguin (Pygoscelis adeliae)\" \"Adelie Penguin (Pygoscelis adeliae)\" ...\n",
            " $ Island             : chr  \"Torgersen\" \"Torgersen\" \"Torgersen\" \"Torgersen\" ...\n",
            " $ Culmen.Length..mm. : num  39.1 39.5 40.3 NA 36.7 39.3 38.9 39.2 34.1 42 ...\n",
            " $ Culmen.Depth..mm.  : num  18.7 17.4 18 NA 19.3 20.6 17.8 19.6 18.1 20.2 ...\n",
            " $ Flipper.Length..mm.: int  181 186 195 NA 193 190 181 195 193 190 ...\n",
            " $ Body.Mass..g.      : int  3750 3800 3250 NA 3450 3650 3625 4675 3475 4250 ...\n",
            " $ Sex                : chr  \"MALE\" \"FEMALE\" \"FEMALE\" NA ...\n"
          ]
        }
      ]
    },
    {
      "cell_type": "markdown",
      "source": [
        "## <a name=\"Q4b\">Question 4b</a>\n",
        "\n",
        "---\n",
        "\n",
        "Assign new column names to `penguins_clean`. Specifically, assign the names (in order) \"species\", \"island\", \"bill_length_mm\", \"bill_depth_mm\", \"flipper_length_mm\", \"body_mass_g\", and \"sex\". Then in a second code cell run a second command to print output of some kind to the screen to glance at the structure of `penguins_clean` to make sure the columns have been correctly renamed.\n",
        "\n",
        "<br>  \n",
        "\n"
      ],
      "metadata": {
        "id": "XYpYk48zwc0U"
      }
    },
    {
      "cell_type": "code",
      "source": [
        "names(penguins_clean) <- c(\"species\", \"island\", \"bill_length_mm\", \"bill_depth_mm\", \"flipper_length_mm\", \"body_mass_g\", \"sex\")  # use names(df) to rename the columns"
      ],
      "metadata": {
        "id": "kAbm13ifxpzF"
      },
      "execution_count": 46,
      "outputs": []
    },
    {
      "cell_type": "code",
      "source": [
        "str(penguins_clean)  # check the names of the new columns"
      ],
      "metadata": {
        "id": "c8qWBuEIxppm",
        "outputId": "14a93896-e134-4768-f771-586787a0aca2",
        "colab": {
          "base_uri": "https://localhost:8080/"
        }
      },
      "execution_count": 47,
      "outputs": [
        {
          "output_type": "stream",
          "name": "stdout",
          "text": [
            "'data.frame':\t344 obs. of  7 variables:\n",
            " $ species          : chr  \"Adelie Penguin (Pygoscelis adeliae)\" \"Adelie Penguin (Pygoscelis adeliae)\" \"Adelie Penguin (Pygoscelis adeliae)\" \"Adelie Penguin (Pygoscelis adeliae)\" ...\n",
            " $ island           : chr  \"Torgersen\" \"Torgersen\" \"Torgersen\" \"Torgersen\" ...\n",
            " $ bill_length_mm   : num  39.1 39.5 40.3 NA 36.7 39.3 38.9 39.2 34.1 42 ...\n",
            " $ bill_depth_mm    : num  18.7 17.4 18 NA 19.3 20.6 17.8 19.6 18.1 20.2 ...\n",
            " $ flipper_length_mm: int  181 186 195 NA 193 190 181 195 193 190 ...\n",
            " $ body_mass_g      : int  3750 3800 3250 NA 3450 3650 3625 4675 3475 4250 ...\n",
            " $ sex              : chr  \"MALE\" \"FEMALE\" \"FEMALE\" NA ...\n"
          ]
        }
      ]
    },
    {
      "cell_type": "markdown",
      "source": [
        "# <a name=\"Q5\">Question 5</a>\n",
        "\n",
        "---\n",
        "\n",
        "Run a command in the a code cell to print some information about the `penguins_clean` data frame to the screen to answer the following questions. Type your answers in the text cell below output from your code cell (do not enter your answers in this text cell).\n",
        "\n",
        "- Give the names of the variables (if any) that are initially being stored as integers.\n",
        "- Give the names of the variables (if any) that are initially being stored as double (decimals).\n",
        "- Give the names of the variables (if any) that are initially being stored as characters.\n",
        "- Give the names of the variables (if any) that are initially being stored as logicals.\n",
        "- Give the names of the variables (if any) that are initially being stored as factors.\n",
        "\n",
        "\n",
        "<br>  \n",
        "\n"
      ],
      "metadata": {
        "id": "vJeRcaXurZ7K"
      }
    },
    {
      "cell_type": "code",
      "source": [
        "str(penguins_clean)  # use str() to see the types of each variable"
      ],
      "metadata": {
        "id": "6e-A967CyJGz",
        "outputId": "6d8cc5b0-cdc5-4c52-da24-bdeb0135f456",
        "colab": {
          "base_uri": "https://localhost:8080/"
        }
      },
      "execution_count": 48,
      "outputs": [
        {
          "output_type": "stream",
          "name": "stdout",
          "text": [
            "'data.frame':\t344 obs. of  7 variables:\n",
            " $ species          : chr  \"Adelie Penguin (Pygoscelis adeliae)\" \"Adelie Penguin (Pygoscelis adeliae)\" \"Adelie Penguin (Pygoscelis adeliae)\" \"Adelie Penguin (Pygoscelis adeliae)\" ...\n",
            " $ island           : chr  \"Torgersen\" \"Torgersen\" \"Torgersen\" \"Torgersen\" ...\n",
            " $ bill_length_mm   : num  39.1 39.5 40.3 NA 36.7 39.3 38.9 39.2 34.1 42 ...\n",
            " $ bill_depth_mm    : num  18.7 17.4 18 NA 19.3 20.6 17.8 19.6 18.1 20.2 ...\n",
            " $ flipper_length_mm: int  181 186 195 NA 193 190 181 195 193 190 ...\n",
            " $ body_mass_g      : int  3750 3800 3250 NA 3450 3650 3625 4675 3475 4250 ...\n",
            " $ sex              : chr  \"MALE\" \"FEMALE\" \"FEMALE\" NA ...\n"
          ]
        }
      ]
    },
    {
      "cell_type": "markdown",
      "source": [
        "## <a name=\"Sol5\">Solution to Question 5</a>\n",
        "\n",
        "---\n",
        "\n",
        "<br>  \n",
        "\n",
        "\n",
        "List the variables corresponding to each data type. If there are no such variables, type NONE.\n",
        "\n",
        "- Integer: flipper_length_mm, and body_mass_g\n",
        "\n",
        "- Double: bill_length_mm, and bill_depth_mm\n",
        "\n",
        "- Character: species, island, and sex\n",
        "\n",
        "- Logical: NONE\n",
        "\n",
        "- Factor: NONE\n",
        "\n",
        "\n",
        "\n",
        "<br>  \n",
        "<br>  \n",
        "\n"
      ],
      "metadata": {
        "id": "TBVubzEy7HD_"
      }
    },
    {
      "cell_type": "markdown",
      "source": [
        "# <a name=\"Q6\">Question 6</a>\n",
        "\n",
        "---\n",
        "\n",
        "The  `species`, `island` and `sex` variables of `penguins_clean` are all categorical variables. Be sure each is being stored as the correct data type in R to be treated as a categorical variable.\n",
        "\n",
        "<br>\n",
        "\n",
        "If not, then be sure to convert to each to the correct data type in the data frame `penguins_clean`. Assign the updated variable back to the same column of `penguins_clean`. Then verify the conversion worked using by running a command to print some output to the screen that confirms your work.\n",
        "\n",
        "<br>  \n",
        "\n"
      ],
      "metadata": {
        "id": "jcHLec6MrZF0"
      }
    },
    {
      "cell_type": "code",
      "source": [
        "# The categorical variables should be stored as a factor, therefore I will use factor() to convert categorical variables from chr to factor.\n",
        "penguins_clean$species <- factor(penguins_clean$species)\n",
        "penguins_clean$island <- factor(penguins_clean$island)\n",
        "penguins_clean$sex <- factor(penguins_clean$sex)\n",
        "\n",
        "str(penguins_clean)  # print this out to check if the conversion was successful"
      ],
      "metadata": {
        "id": "Gz763D7yy1ie",
        "outputId": "3481eb0b-6af5-4a9b-a231-3b380b9ceddd",
        "colab": {
          "base_uri": "https://localhost:8080/"
        }
      },
      "execution_count": 49,
      "outputs": [
        {
          "output_type": "stream",
          "name": "stdout",
          "text": [
            "'data.frame':\t344 obs. of  7 variables:\n",
            " $ species          : Factor w/ 3 levels \"Adelie Penguin (Pygoscelis adeliae)\",..: 1 1 1 1 1 1 1 1 1 1 ...\n",
            " $ island           : Factor w/ 3 levels \"Biscoe\",\"Dream\",..: 3 3 3 3 3 3 3 3 3 3 ...\n",
            " $ bill_length_mm   : num  39.1 39.5 40.3 NA 36.7 39.3 38.9 39.2 34.1 42 ...\n",
            " $ bill_depth_mm    : num  18.7 17.4 18 NA 19.3 20.6 17.8 19.6 18.1 20.2 ...\n",
            " $ flipper_length_mm: int  181 186 195 NA 193 190 181 195 193 190 ...\n",
            " $ body_mass_g      : int  3750 3800 3250 NA 3450 3650 3625 4675 3475 4250 ...\n",
            " $ sex              : Factor w/ 2 levels \"FEMALE\",\"MALE\": 2 1 1 NA 1 2 1 2 NA NA ...\n"
          ]
        }
      ]
    },
    {
      "cell_type": "markdown",
      "source": [
        "# <a name=\"Q7\">Question 7</a>\n",
        "\n",
        "---\n",
        "\n",
        "After looking at the output in [Question 6](#Q6) to confirm your work, do you notice any addition missing values? If so, for which variable(s) are there now missing variables where none appeared in the past? Enter your answer in the [solution text cell below](#Sol7) (not in this text cell).\n",
        "\n",
        "<br>\n",
        "\n",
        "After typing your answer in the solution text cell below, run the code cell below it to perform the final cleaning step:\n",
        "\n",
        "- The `na.omit()` command removes all observations with an `NA` value for any variable from `penguins_clean`.\n",
        "- The `levels()` renames the species categories of the `species` variable to shorter labels.\n",
        "\n",
        "Print the resulting summary output to the screen to verify the data frame is now \"clean\":\n",
        "\n",
        "- There are no missing values.\n",
        "- Variables are being stored with the proper data type.\n",
        "- Variables have appropriate and descriptive names.\n",
        "\n",
        "<br>  \n"
      ],
      "metadata": {
        "id": "C5By4M9397vv"
      }
    },
    {
      "cell_type": "markdown",
      "source": [
        "## <a name=\"Sol7\">Solution to Question 7</a>\n",
        "\n",
        "---\n",
        "\n",
        "<br>  \n",
        "\n",
        "There are now missing values for the which new variable(s) not previously identified in [Question 6](#Q6)?\n",
        "\n",
        "The \"sex\" variable has missing values.\n",
        "\n",
        "\n",
        "\n",
        "\n",
        "<br>  \n",
        "<br>  \n",
        "\n",
        "<font color=\"dodgerblue\">**Be sure to run the code cell below before moving on to the next question.**</font>\n",
        "\n",
        "<br>  \n",
        "<br>  \n"
      ],
      "metadata": {
        "id": "JooLG_LKFKSM"
      }
    },
    {
      "cell_type": "code",
      "source": [
        "####################################\n",
        "# Run code cell for final cleaning\n",
        "####################################\n",
        "penguins_clean <- na.omit(penguins_clean)  # removes observations with missing values\n",
        "levels(penguins_clean$species) <- c(\"Adelie\", \"Chinstrap\", \"Gentoo\")  # renames species classes\n",
        "summary(penguins_clean)"
      ],
      "metadata": {
        "id": "4DjZGXdPE-gJ",
        "outputId": "b4018507-7893-4a54-cb00-d61a20768a66",
        "colab": {
          "base_uri": "https://localhost:8080/",
          "height": 260
        }
      },
      "execution_count": 50,
      "outputs": [
        {
          "output_type": "display_data",
          "data": {
            "text/plain": [
              "      species          island    bill_length_mm  bill_depth_mm  \n",
              " Adelie   :146   Biscoe   :163   Min.   :32.10   Min.   :13.10  \n",
              " Chinstrap: 68   Dream    :123   1st Qu.:39.50   1st Qu.:15.60  \n",
              " Gentoo   :119   Torgersen: 47   Median :44.50   Median :17.30  \n",
              "                                 Mean   :43.99   Mean   :17.16  \n",
              "                                 3rd Qu.:48.60   3rd Qu.:18.70  \n",
              "                                 Max.   :59.60   Max.   :21.50  \n",
              " flipper_length_mm  body_mass_g       sex     \n",
              " Min.   :172       Min.   :2700   FEMALE:165  \n",
              " 1st Qu.:190       1st Qu.:3550   MALE  :168  \n",
              " Median :197       Median :4050               \n",
              " Mean   :201       Mean   :4207               \n",
              " 3rd Qu.:213       3rd Qu.:4775               \n",
              " Max.   :231       Max.   :6300               "
            ]
          },
          "metadata": {}
        }
      ]
    },
    {
      "cell_type": "markdown",
      "source": [
        "# <a name=\"Q8\">Question 8</a>\n",
        "\n",
        "---\n",
        "\n",
        "Use logicals and indexing to create a new data frame from the `penguins_clean` data frame that satisfies the given conditions.\n",
        "\n",
        "<br>  \n"
      ],
      "metadata": {
        "id": "Pkvgooyy_p0I"
      }
    },
    {
      "cell_type": "markdown",
      "source": [
        "## <a name=\"Q8a\">Question 8a</a>\n",
        "\n",
        "---\n",
        "\n",
        "Contains all observations in the `penguins_clean` data frame with `island` equal to `Dream`. Assign the extracted data to a new data frame named `penguins_dream`. Then run a command to print the first 6 rows of `penguins_dream` to the screen to check your work.\n",
        "\n",
        "<br>  \n"
      ],
      "metadata": {
        "id": "A0rencY9_5Eb"
      }
    },
    {
      "cell_type": "code",
      "source": [
        "penguins_dream <- penguins_clean[penguins_clean$island == \"Dream\",]  # use logical to index and get rows that contains Dream in the island variable\n",
        "head(penguins_dream)  # shows the 6 rows of the new data frame penguins_dream"
      ],
      "metadata": {
        "id": "iBw0hBU20UCY",
        "colab": {
          "base_uri": "https://localhost:8080/",
          "height": 286
        },
        "outputId": "52303c56-ece1-4b5f-87c6-6df64ca27302"
      },
      "execution_count": 51,
      "outputs": [
        {
          "output_type": "display_data",
          "data": {
            "text/html": [
              "<table class=\"dataframe\">\n",
              "<caption>A data.frame: 6 × 7</caption>\n",
              "<thead>\n",
              "\t<tr><th></th><th scope=col>species</th><th scope=col>island</th><th scope=col>bill_length_mm</th><th scope=col>bill_depth_mm</th><th scope=col>flipper_length_mm</th><th scope=col>body_mass_g</th><th scope=col>sex</th></tr>\n",
              "\t<tr><th></th><th scope=col>&lt;fct&gt;</th><th scope=col>&lt;fct&gt;</th><th scope=col>&lt;dbl&gt;</th><th scope=col>&lt;dbl&gt;</th><th scope=col>&lt;int&gt;</th><th scope=col>&lt;int&gt;</th><th scope=col>&lt;fct&gt;</th></tr>\n",
              "</thead>\n",
              "<tbody>\n",
              "\t<tr><th scope=row>31</th><td>Adelie</td><td>Dream</td><td>39.5</td><td>16.7</td><td>178</td><td>3250</td><td>FEMALE</td></tr>\n",
              "\t<tr><th scope=row>32</th><td>Adelie</td><td>Dream</td><td>37.2</td><td>18.1</td><td>178</td><td>3900</td><td>MALE  </td></tr>\n",
              "\t<tr><th scope=row>33</th><td>Adelie</td><td>Dream</td><td>39.5</td><td>17.8</td><td>188</td><td>3300</td><td>FEMALE</td></tr>\n",
              "\t<tr><th scope=row>34</th><td>Adelie</td><td>Dream</td><td>40.9</td><td>18.9</td><td>184</td><td>3900</td><td>MALE  </td></tr>\n",
              "\t<tr><th scope=row>35</th><td>Adelie</td><td>Dream</td><td>36.4</td><td>17.0</td><td>195</td><td>3325</td><td>FEMALE</td></tr>\n",
              "\t<tr><th scope=row>36</th><td>Adelie</td><td>Dream</td><td>39.2</td><td>21.1</td><td>196</td><td>4150</td><td>MALE  </td></tr>\n",
              "</tbody>\n",
              "</table>\n"
            ],
            "text/markdown": "\nA data.frame: 6 × 7\n\n| <!--/--> | species &lt;fct&gt; | island &lt;fct&gt; | bill_length_mm &lt;dbl&gt; | bill_depth_mm &lt;dbl&gt; | flipper_length_mm &lt;int&gt; | body_mass_g &lt;int&gt; | sex &lt;fct&gt; |\n|---|---|---|---|---|---|---|---|\n| 31 | Adelie | Dream | 39.5 | 16.7 | 178 | 3250 | FEMALE |\n| 32 | Adelie | Dream | 37.2 | 18.1 | 178 | 3900 | MALE   |\n| 33 | Adelie | Dream | 39.5 | 17.8 | 188 | 3300 | FEMALE |\n| 34 | Adelie | Dream | 40.9 | 18.9 | 184 | 3900 | MALE   |\n| 35 | Adelie | Dream | 36.4 | 17.0 | 195 | 3325 | FEMALE |\n| 36 | Adelie | Dream | 39.2 | 21.1 | 196 | 4150 | MALE   |\n\n",
            "text/latex": "A data.frame: 6 × 7\n\\begin{tabular}{r|lllllll}\n  & species & island & bill\\_length\\_mm & bill\\_depth\\_mm & flipper\\_length\\_mm & body\\_mass\\_g & sex\\\\\n  & <fct> & <fct> & <dbl> & <dbl> & <int> & <int> & <fct>\\\\\n\\hline\n\t31 & Adelie & Dream & 39.5 & 16.7 & 178 & 3250 & FEMALE\\\\\n\t32 & Adelie & Dream & 37.2 & 18.1 & 178 & 3900 & MALE  \\\\\n\t33 & Adelie & Dream & 39.5 & 17.8 & 188 & 3300 & FEMALE\\\\\n\t34 & Adelie & Dream & 40.9 & 18.9 & 184 & 3900 & MALE  \\\\\n\t35 & Adelie & Dream & 36.4 & 17.0 & 195 & 3325 & FEMALE\\\\\n\t36 & Adelie & Dream & 39.2 & 21.1 & 196 & 4150 & MALE  \\\\\n\\end{tabular}\n",
            "text/plain": [
              "   species island bill_length_mm bill_depth_mm flipper_length_mm body_mass_g\n",
              "31 Adelie  Dream  39.5           16.7          178               3250       \n",
              "32 Adelie  Dream  37.2           18.1          178               3900       \n",
              "33 Adelie  Dream  39.5           17.8          188               3300       \n",
              "34 Adelie  Dream  40.9           18.9          184               3900       \n",
              "35 Adelie  Dream  36.4           17.0          195               3325       \n",
              "36 Adelie  Dream  39.2           21.1          196               4150       \n",
              "   sex   \n",
              "31 FEMALE\n",
              "32 MALE  \n",
              "33 FEMALE\n",
              "34 MALE  \n",
              "35 FEMALE\n",
              "36 MALE  "
            ]
          },
          "metadata": {}
        }
      ]
    },
    {
      "cell_type": "markdown",
      "source": [
        "## <a name=\"Q8b\">Question 8b</a>\n",
        "\n",
        "---\n",
        "\n",
        "Contains all observations in the `penguins_clean` data frame with `island` equal to `Dream` or `Torgersen`. Assign the extracted data to a new data frame named `dream_torgersen`. Then in two separate code cells run a commands to\n",
        "\n",
        " - print the first 6 rows and\n",
        " - print the last 6 rows\n",
        "\n",
        "of the `dream_torgersen` data frame to the screen to check your work.\n",
        "\n",
        "<br>  \n"
      ],
      "metadata": {
        "id": "pGLjRigLAuEV"
      }
    },
    {
      "cell_type": "code",
      "source": [
        "dream_torgersen <- penguins_clean[penguins_clean$island == \"Dream\" | penguins_clean$island == \"Torgersen\",]  # create a new data frame that contains penguins_clean's data frame that has Dream or Torgersen in the island variable"
      ],
      "metadata": {
        "id": "_D9rK_hP0e9z"
      },
      "execution_count": 52,
      "outputs": []
    },
    {
      "cell_type": "code",
      "source": [
        "head(dream_torgersen)  # prints the first 6 rows of dream_torgersen"
      ],
      "metadata": {
        "id": "Db3lQTWQ0e2D",
        "colab": {
          "base_uri": "https://localhost:8080/",
          "height": 286
        },
        "outputId": "8e118510-be49-43e3-dbb3-69278eaac3a3"
      },
      "execution_count": 53,
      "outputs": [
        {
          "output_type": "display_data",
          "data": {
            "text/html": [
              "<table class=\"dataframe\">\n",
              "<caption>A data.frame: 6 × 7</caption>\n",
              "<thead>\n",
              "\t<tr><th></th><th scope=col>species</th><th scope=col>island</th><th scope=col>bill_length_mm</th><th scope=col>bill_depth_mm</th><th scope=col>flipper_length_mm</th><th scope=col>body_mass_g</th><th scope=col>sex</th></tr>\n",
              "\t<tr><th></th><th scope=col>&lt;fct&gt;</th><th scope=col>&lt;fct&gt;</th><th scope=col>&lt;dbl&gt;</th><th scope=col>&lt;dbl&gt;</th><th scope=col>&lt;int&gt;</th><th scope=col>&lt;int&gt;</th><th scope=col>&lt;fct&gt;</th></tr>\n",
              "</thead>\n",
              "<tbody>\n",
              "\t<tr><th scope=row>1</th><td>Adelie</td><td>Torgersen</td><td>39.1</td><td>18.7</td><td>181</td><td>3750</td><td>MALE  </td></tr>\n",
              "\t<tr><th scope=row>2</th><td>Adelie</td><td>Torgersen</td><td>39.5</td><td>17.4</td><td>186</td><td>3800</td><td>FEMALE</td></tr>\n",
              "\t<tr><th scope=row>3</th><td>Adelie</td><td>Torgersen</td><td>40.3</td><td>18.0</td><td>195</td><td>3250</td><td>FEMALE</td></tr>\n",
              "\t<tr><th scope=row>5</th><td>Adelie</td><td>Torgersen</td><td>36.7</td><td>19.3</td><td>193</td><td>3450</td><td>FEMALE</td></tr>\n",
              "\t<tr><th scope=row>6</th><td>Adelie</td><td>Torgersen</td><td>39.3</td><td>20.6</td><td>190</td><td>3650</td><td>MALE  </td></tr>\n",
              "\t<tr><th scope=row>7</th><td>Adelie</td><td>Torgersen</td><td>38.9</td><td>17.8</td><td>181</td><td>3625</td><td>FEMALE</td></tr>\n",
              "</tbody>\n",
              "</table>\n"
            ],
            "text/markdown": "\nA data.frame: 6 × 7\n\n| <!--/--> | species &lt;fct&gt; | island &lt;fct&gt; | bill_length_mm &lt;dbl&gt; | bill_depth_mm &lt;dbl&gt; | flipper_length_mm &lt;int&gt; | body_mass_g &lt;int&gt; | sex &lt;fct&gt; |\n|---|---|---|---|---|---|---|---|\n| 1 | Adelie | Torgersen | 39.1 | 18.7 | 181 | 3750 | MALE   |\n| 2 | Adelie | Torgersen | 39.5 | 17.4 | 186 | 3800 | FEMALE |\n| 3 | Adelie | Torgersen | 40.3 | 18.0 | 195 | 3250 | FEMALE |\n| 5 | Adelie | Torgersen | 36.7 | 19.3 | 193 | 3450 | FEMALE |\n| 6 | Adelie | Torgersen | 39.3 | 20.6 | 190 | 3650 | MALE   |\n| 7 | Adelie | Torgersen | 38.9 | 17.8 | 181 | 3625 | FEMALE |\n\n",
            "text/latex": "A data.frame: 6 × 7\n\\begin{tabular}{r|lllllll}\n  & species & island & bill\\_length\\_mm & bill\\_depth\\_mm & flipper\\_length\\_mm & body\\_mass\\_g & sex\\\\\n  & <fct> & <fct> & <dbl> & <dbl> & <int> & <int> & <fct>\\\\\n\\hline\n\t1 & Adelie & Torgersen & 39.1 & 18.7 & 181 & 3750 & MALE  \\\\\n\t2 & Adelie & Torgersen & 39.5 & 17.4 & 186 & 3800 & FEMALE\\\\\n\t3 & Adelie & Torgersen & 40.3 & 18.0 & 195 & 3250 & FEMALE\\\\\n\t5 & Adelie & Torgersen & 36.7 & 19.3 & 193 & 3450 & FEMALE\\\\\n\t6 & Adelie & Torgersen & 39.3 & 20.6 & 190 & 3650 & MALE  \\\\\n\t7 & Adelie & Torgersen & 38.9 & 17.8 & 181 & 3625 & FEMALE\\\\\n\\end{tabular}\n",
            "text/plain": [
              "  species island    bill_length_mm bill_depth_mm flipper_length_mm body_mass_g\n",
              "1 Adelie  Torgersen 39.1           18.7          181               3750       \n",
              "2 Adelie  Torgersen 39.5           17.4          186               3800       \n",
              "3 Adelie  Torgersen 40.3           18.0          195               3250       \n",
              "5 Adelie  Torgersen 36.7           19.3          193               3450       \n",
              "6 Adelie  Torgersen 39.3           20.6          190               3650       \n",
              "7 Adelie  Torgersen 38.9           17.8          181               3625       \n",
              "  sex   \n",
              "1 MALE  \n",
              "2 FEMALE\n",
              "3 FEMALE\n",
              "5 FEMALE\n",
              "6 MALE  \n",
              "7 FEMALE"
            ]
          },
          "metadata": {}
        }
      ]
    },
    {
      "cell_type": "code",
      "source": [
        "tail(dream_torgersen)  # prints the last 6 rows of dream_torgersen"
      ],
      "metadata": {
        "id": "eczjTgF20euJ",
        "colab": {
          "base_uri": "https://localhost:8080/",
          "height": 286
        },
        "outputId": "387c9996-3b4f-4654-e84e-01cc021626fe"
      },
      "execution_count": 54,
      "outputs": [
        {
          "output_type": "display_data",
          "data": {
            "text/html": [
              "<table class=\"dataframe\">\n",
              "<caption>A data.frame: 6 × 7</caption>\n",
              "<thead>\n",
              "\t<tr><th></th><th scope=col>species</th><th scope=col>island</th><th scope=col>bill_length_mm</th><th scope=col>bill_depth_mm</th><th scope=col>flipper_length_mm</th><th scope=col>body_mass_g</th><th scope=col>sex</th></tr>\n",
              "\t<tr><th></th><th scope=col>&lt;fct&gt;</th><th scope=col>&lt;fct&gt;</th><th scope=col>&lt;dbl&gt;</th><th scope=col>&lt;dbl&gt;</th><th scope=col>&lt;int&gt;</th><th scope=col>&lt;int&gt;</th><th scope=col>&lt;fct&gt;</th></tr>\n",
              "</thead>\n",
              "<tbody>\n",
              "\t<tr><th scope=row>339</th><td>Chinstrap</td><td>Dream</td><td>45.7</td><td>17.0</td><td>195</td><td>3650</td><td>FEMALE</td></tr>\n",
              "\t<tr><th scope=row>340</th><td>Chinstrap</td><td>Dream</td><td>55.8</td><td>19.8</td><td>207</td><td>4000</td><td>MALE  </td></tr>\n",
              "\t<tr><th scope=row>341</th><td>Chinstrap</td><td>Dream</td><td>43.5</td><td>18.1</td><td>202</td><td>3400</td><td>FEMALE</td></tr>\n",
              "\t<tr><th scope=row>342</th><td>Chinstrap</td><td>Dream</td><td>49.6</td><td>18.2</td><td>193</td><td>3775</td><td>MALE  </td></tr>\n",
              "\t<tr><th scope=row>343</th><td>Chinstrap</td><td>Dream</td><td>50.8</td><td>19.0</td><td>210</td><td>4100</td><td>MALE  </td></tr>\n",
              "\t<tr><th scope=row>344</th><td>Chinstrap</td><td>Dream</td><td>50.2</td><td>18.7</td><td>198</td><td>3775</td><td>FEMALE</td></tr>\n",
              "</tbody>\n",
              "</table>\n"
            ],
            "text/markdown": "\nA data.frame: 6 × 7\n\n| <!--/--> | species &lt;fct&gt; | island &lt;fct&gt; | bill_length_mm &lt;dbl&gt; | bill_depth_mm &lt;dbl&gt; | flipper_length_mm &lt;int&gt; | body_mass_g &lt;int&gt; | sex &lt;fct&gt; |\n|---|---|---|---|---|---|---|---|\n| 339 | Chinstrap | Dream | 45.7 | 17.0 | 195 | 3650 | FEMALE |\n| 340 | Chinstrap | Dream | 55.8 | 19.8 | 207 | 4000 | MALE   |\n| 341 | Chinstrap | Dream | 43.5 | 18.1 | 202 | 3400 | FEMALE |\n| 342 | Chinstrap | Dream | 49.6 | 18.2 | 193 | 3775 | MALE   |\n| 343 | Chinstrap | Dream | 50.8 | 19.0 | 210 | 4100 | MALE   |\n| 344 | Chinstrap | Dream | 50.2 | 18.7 | 198 | 3775 | FEMALE |\n\n",
            "text/latex": "A data.frame: 6 × 7\n\\begin{tabular}{r|lllllll}\n  & species & island & bill\\_length\\_mm & bill\\_depth\\_mm & flipper\\_length\\_mm & body\\_mass\\_g & sex\\\\\n  & <fct> & <fct> & <dbl> & <dbl> & <int> & <int> & <fct>\\\\\n\\hline\n\t339 & Chinstrap & Dream & 45.7 & 17.0 & 195 & 3650 & FEMALE\\\\\n\t340 & Chinstrap & Dream & 55.8 & 19.8 & 207 & 4000 & MALE  \\\\\n\t341 & Chinstrap & Dream & 43.5 & 18.1 & 202 & 3400 & FEMALE\\\\\n\t342 & Chinstrap & Dream & 49.6 & 18.2 & 193 & 3775 & MALE  \\\\\n\t343 & Chinstrap & Dream & 50.8 & 19.0 & 210 & 4100 & MALE  \\\\\n\t344 & Chinstrap & Dream & 50.2 & 18.7 & 198 & 3775 & FEMALE\\\\\n\\end{tabular}\n",
            "text/plain": [
              "    species   island bill_length_mm bill_depth_mm flipper_length_mm body_mass_g\n",
              "339 Chinstrap Dream  45.7           17.0          195               3650       \n",
              "340 Chinstrap Dream  55.8           19.8          207               4000       \n",
              "341 Chinstrap Dream  43.5           18.1          202               3400       \n",
              "342 Chinstrap Dream  49.6           18.2          193               3775       \n",
              "343 Chinstrap Dream  50.8           19.0          210               4100       \n",
              "344 Chinstrap Dream  50.2           18.7          198               3775       \n",
              "    sex   \n",
              "339 FEMALE\n",
              "340 MALE  \n",
              "341 FEMALE\n",
              "342 MALE  \n",
              "343 MALE  \n",
              "344 FEMALE"
            ]
          },
          "metadata": {}
        }
      ]
    },
    {
      "cell_type": "markdown",
      "source": [
        "## <a name=\"Q8c\">Question 8c</a>\n",
        "\n",
        "---\n",
        "\n",
        "Contains all observations in the `penguins_clean` data frame with `bill_length_mm` greater than or equal to the median value of `bill_length_mm`. Assign the extracted data to a new data frame named `large_bill`. Then run a command to print the first 6 rows of the `large_bill` to the screen to check your work.\n",
        "\n",
        "<br>  \n"
      ],
      "metadata": {
        "id": "0mAV0q39BEW8"
      }
    },
    {
      "cell_type": "code",
      "source": [
        "median_bill <- median(penguins_clean$bill_length_mm)  # find the median of bill_length_mm\n",
        "large_bill <- penguins_clean[penguins_clean$bill_length_mm >= median_bill,]  # use logical index to find bill_length_mm that is more than or equal to median_bill\n",
        "head(large_bill)"
      ],
      "metadata": {
        "id": "ZyR6eWWG0ihR",
        "colab": {
          "base_uri": "https://localhost:8080/",
          "height": 286
        },
        "outputId": "251dac57-55c4-4865-c743-dab800f074c1"
      },
      "execution_count": 55,
      "outputs": [
        {
          "output_type": "display_data",
          "data": {
            "text/html": [
              "<table class=\"dataframe\">\n",
              "<caption>A data.frame: 6 × 7</caption>\n",
              "<thead>\n",
              "\t<tr><th></th><th scope=col>species</th><th scope=col>island</th><th scope=col>bill_length_mm</th><th scope=col>bill_depth_mm</th><th scope=col>flipper_length_mm</th><th scope=col>body_mass_g</th><th scope=col>sex</th></tr>\n",
              "\t<tr><th></th><th scope=col>&lt;fct&gt;</th><th scope=col>&lt;fct&gt;</th><th scope=col>&lt;dbl&gt;</th><th scope=col>&lt;dbl&gt;</th><th scope=col>&lt;int&gt;</th><th scope=col>&lt;int&gt;</th><th scope=col>&lt;fct&gt;</th></tr>\n",
              "</thead>\n",
              "<tbody>\n",
              "\t<tr><th scope=row>20</th><td>Adelie</td><td>Torgersen</td><td>46.0</td><td>21.5</td><td>194</td><td>4200</td><td>MALE  </td></tr>\n",
              "\t<tr><th scope=row>74</th><td>Adelie</td><td>Torgersen</td><td>45.8</td><td>18.9</td><td>197</td><td>4150</td><td>MALE  </td></tr>\n",
              "\t<tr><th scope=row>112</th><td>Adelie</td><td>Biscoe   </td><td>45.6</td><td>20.3</td><td>191</td><td>4600</td><td>MALE  </td></tr>\n",
              "\t<tr><th scope=row>153</th><td>Gentoo</td><td>Biscoe   </td><td>46.1</td><td>13.2</td><td>211</td><td>4500</td><td>FEMALE</td></tr>\n",
              "\t<tr><th scope=row>154</th><td>Gentoo</td><td>Biscoe   </td><td>50.0</td><td>16.3</td><td>230</td><td>5700</td><td>MALE  </td></tr>\n",
              "\t<tr><th scope=row>155</th><td>Gentoo</td><td>Biscoe   </td><td>48.7</td><td>14.1</td><td>210</td><td>4450</td><td>FEMALE</td></tr>\n",
              "</tbody>\n",
              "</table>\n"
            ],
            "text/markdown": "\nA data.frame: 6 × 7\n\n| <!--/--> | species &lt;fct&gt; | island &lt;fct&gt; | bill_length_mm &lt;dbl&gt; | bill_depth_mm &lt;dbl&gt; | flipper_length_mm &lt;int&gt; | body_mass_g &lt;int&gt; | sex &lt;fct&gt; |\n|---|---|---|---|---|---|---|---|\n| 20 | Adelie | Torgersen | 46.0 | 21.5 | 194 | 4200 | MALE   |\n| 74 | Adelie | Torgersen | 45.8 | 18.9 | 197 | 4150 | MALE   |\n| 112 | Adelie | Biscoe    | 45.6 | 20.3 | 191 | 4600 | MALE   |\n| 153 | Gentoo | Biscoe    | 46.1 | 13.2 | 211 | 4500 | FEMALE |\n| 154 | Gentoo | Biscoe    | 50.0 | 16.3 | 230 | 5700 | MALE   |\n| 155 | Gentoo | Biscoe    | 48.7 | 14.1 | 210 | 4450 | FEMALE |\n\n",
            "text/latex": "A data.frame: 6 × 7\n\\begin{tabular}{r|lllllll}\n  & species & island & bill\\_length\\_mm & bill\\_depth\\_mm & flipper\\_length\\_mm & body\\_mass\\_g & sex\\\\\n  & <fct> & <fct> & <dbl> & <dbl> & <int> & <int> & <fct>\\\\\n\\hline\n\t20 & Adelie & Torgersen & 46.0 & 21.5 & 194 & 4200 & MALE  \\\\\n\t74 & Adelie & Torgersen & 45.8 & 18.9 & 197 & 4150 & MALE  \\\\\n\t112 & Adelie & Biscoe    & 45.6 & 20.3 & 191 & 4600 & MALE  \\\\\n\t153 & Gentoo & Biscoe    & 46.1 & 13.2 & 211 & 4500 & FEMALE\\\\\n\t154 & Gentoo & Biscoe    & 50.0 & 16.3 & 230 & 5700 & MALE  \\\\\n\t155 & Gentoo & Biscoe    & 48.7 & 14.1 & 210 & 4450 & FEMALE\\\\\n\\end{tabular}\n",
            "text/plain": [
              "    species island    bill_length_mm bill_depth_mm flipper_length_mm\n",
              "20  Adelie  Torgersen 46.0           21.5          194              \n",
              "74  Adelie  Torgersen 45.8           18.9          197              \n",
              "112 Adelie  Biscoe    45.6           20.3          191              \n",
              "153 Gentoo  Biscoe    46.1           13.2          211              \n",
              "154 Gentoo  Biscoe    50.0           16.3          230              \n",
              "155 Gentoo  Biscoe    48.7           14.1          210              \n",
              "    body_mass_g sex   \n",
              "20  4200        MALE  \n",
              "74  4150        MALE  \n",
              "112 4600        MALE  \n",
              "153 4500        FEMALE\n",
              "154 5700        MALE  \n",
              "155 4450        FEMALE"
            ]
          },
          "metadata": {}
        }
      ]
    },
    {
      "cell_type": "markdown",
      "source": [
        "## <a name=\"Q8d\">Question 8d</a>\n",
        "\n",
        "---\n",
        "\n",
        "Contains all observations in the `penguins_clean` data frame with `bill_length_mm` greater than or equal to the median value of `bill_length_mm` and sex is equal to `FEMALE`. Assign the extracted data to a new data frame named `large_bill_female`. Then run a command to print the first 6 rows of the `large_bill_female` to the screen to check your work.\n",
        "\n",
        "<br>  \n"
      ],
      "metadata": {
        "id": "Ll2FdhRqGv3x"
      }
    },
    {
      "cell_type": "code",
      "source": [
        "large_bill_female <- penguins_clean[penguins_clean$bill_length_mm >= median_bill & penguins_clean$sex == \"FEMALE\",]  # use logical index to find bill length more than median and sex is female from penguins_clean data frame\n",
        "head(large_bill_female)  # show the first 6 rows"
      ],
      "metadata": {
        "id": "-NcdQrHg0mwe",
        "colab": {
          "base_uri": "https://localhost:8080/",
          "height": 286
        },
        "outputId": "06cdf67f-8e15-4985-c23e-5a5d279ebcc5"
      },
      "execution_count": 56,
      "outputs": [
        {
          "output_type": "display_data",
          "data": {
            "text/html": [
              "<table class=\"dataframe\">\n",
              "<caption>A data.frame: 6 × 7</caption>\n",
              "<thead>\n",
              "\t<tr><th></th><th scope=col>species</th><th scope=col>island</th><th scope=col>bill_length_mm</th><th scope=col>bill_depth_mm</th><th scope=col>flipper_length_mm</th><th scope=col>body_mass_g</th><th scope=col>sex</th></tr>\n",
              "\t<tr><th></th><th scope=col>&lt;fct&gt;</th><th scope=col>&lt;fct&gt;</th><th scope=col>&lt;dbl&gt;</th><th scope=col>&lt;dbl&gt;</th><th scope=col>&lt;int&gt;</th><th scope=col>&lt;int&gt;</th><th scope=col>&lt;fct&gt;</th></tr>\n",
              "</thead>\n",
              "<tbody>\n",
              "\t<tr><th scope=row>153</th><td>Gentoo</td><td>Biscoe</td><td>46.1</td><td>13.2</td><td>211</td><td>4500</td><td>FEMALE</td></tr>\n",
              "\t<tr><th scope=row>155</th><td>Gentoo</td><td>Biscoe</td><td>48.7</td><td>14.1</td><td>210</td><td>4450</td><td>FEMALE</td></tr>\n",
              "\t<tr><th scope=row>158</th><td>Gentoo</td><td>Biscoe</td><td>46.5</td><td>13.5</td><td>210</td><td>4550</td><td>FEMALE</td></tr>\n",
              "\t<tr><th scope=row>159</th><td>Gentoo</td><td>Biscoe</td><td>45.4</td><td>14.6</td><td>211</td><td>4800</td><td>FEMALE</td></tr>\n",
              "\t<tr><th scope=row>165</th><td>Gentoo</td><td>Biscoe</td><td>45.5</td><td>13.7</td><td>214</td><td>4650</td><td>FEMALE</td></tr>\n",
              "\t<tr><th scope=row>167</th><td>Gentoo</td><td>Biscoe</td><td>45.8</td><td>14.6</td><td>210</td><td>4200</td><td>FEMALE</td></tr>\n",
              "</tbody>\n",
              "</table>\n"
            ],
            "text/markdown": "\nA data.frame: 6 × 7\n\n| <!--/--> | species &lt;fct&gt; | island &lt;fct&gt; | bill_length_mm &lt;dbl&gt; | bill_depth_mm &lt;dbl&gt; | flipper_length_mm &lt;int&gt; | body_mass_g &lt;int&gt; | sex &lt;fct&gt; |\n|---|---|---|---|---|---|---|---|\n| 153 | Gentoo | Biscoe | 46.1 | 13.2 | 211 | 4500 | FEMALE |\n| 155 | Gentoo | Biscoe | 48.7 | 14.1 | 210 | 4450 | FEMALE |\n| 158 | Gentoo | Biscoe | 46.5 | 13.5 | 210 | 4550 | FEMALE |\n| 159 | Gentoo | Biscoe | 45.4 | 14.6 | 211 | 4800 | FEMALE |\n| 165 | Gentoo | Biscoe | 45.5 | 13.7 | 214 | 4650 | FEMALE |\n| 167 | Gentoo | Biscoe | 45.8 | 14.6 | 210 | 4200 | FEMALE |\n\n",
            "text/latex": "A data.frame: 6 × 7\n\\begin{tabular}{r|lllllll}\n  & species & island & bill\\_length\\_mm & bill\\_depth\\_mm & flipper\\_length\\_mm & body\\_mass\\_g & sex\\\\\n  & <fct> & <fct> & <dbl> & <dbl> & <int> & <int> & <fct>\\\\\n\\hline\n\t153 & Gentoo & Biscoe & 46.1 & 13.2 & 211 & 4500 & FEMALE\\\\\n\t155 & Gentoo & Biscoe & 48.7 & 14.1 & 210 & 4450 & FEMALE\\\\\n\t158 & Gentoo & Biscoe & 46.5 & 13.5 & 210 & 4550 & FEMALE\\\\\n\t159 & Gentoo & Biscoe & 45.4 & 14.6 & 211 & 4800 & FEMALE\\\\\n\t165 & Gentoo & Biscoe & 45.5 & 13.7 & 214 & 4650 & FEMALE\\\\\n\t167 & Gentoo & Biscoe & 45.8 & 14.6 & 210 & 4200 & FEMALE\\\\\n\\end{tabular}\n",
            "text/plain": [
              "    species island bill_length_mm bill_depth_mm flipper_length_mm body_mass_g\n",
              "153 Gentoo  Biscoe 46.1           13.2          211               4500       \n",
              "155 Gentoo  Biscoe 48.7           14.1          210               4450       \n",
              "158 Gentoo  Biscoe 46.5           13.5          210               4550       \n",
              "159 Gentoo  Biscoe 45.4           14.6          211               4800       \n",
              "165 Gentoo  Biscoe 45.5           13.7          214               4650       \n",
              "167 Gentoo  Biscoe 45.8           14.6          210               4200       \n",
              "    sex   \n",
              "153 FEMALE\n",
              "155 FEMALE\n",
              "158 FEMALE\n",
              "159 FEMALE\n",
              "165 FEMALE\n",
              "167 FEMALE"
            ]
          },
          "metadata": {}
        }
      ]
    },
    {
      "cell_type": "markdown",
      "source": [
        "# <a name=\"Q9\">Question 9</a>\n",
        "\n",
        "---\n",
        "\n",
        "\n",
        "Use the `plot()` function to construct a scatter plot of `penguins_clean` with `bill_length_mm` on the $y$-axis and `body_mass_g` on the $x$-axis.\n",
        "\n",
        "- Change the $x$ and $y$-axis labels to, \"body mass (g)\" and \"bill length (mm)\", respectively.\n",
        "- Add the title, \"Palmer penguins data\".\n",
        "- Use an option to change plotting character symbol to a solid point from the default (which is an open point).\n",
        "  - See https://r-charts.com/base-r/pch-symbols/ for help documentation.\n",
        "  - Note there multiple closed points you can choose. Any closed point symbol is fine!\n",
        "- Use the `col` option to set different color points for different `species`. See below for more info.\n",
        "\n",
        "<br>\n",
        "\n",
        "We can use the `col` option to change the color of the points depending on the species of penguin (there are three different species in the data). Add the option `col = species` (if you use `data = penguins` method when creating the plot) or `col = penguins_clean$species` (if you entered variables in the `plot` function using this method).\n",
        "\n",
        "<br>\n",
        "\n",
        "*Optional: Add a legend to the plot to indicate which color corresponds to which species. This is not required.*\n",
        "\n",
        "<br>  \n"
      ],
      "metadata": {
        "id": "nBy_WZ0OrXP2"
      }
    },
    {
      "cell_type": "code",
      "source": [
        "plot(bill_length_mm ~ body_mass_g,  # creating a scatter plot, use the format y-axis ~ x_axis\n",
        "     data = penguins_clean, col = species,  # use data = penguins_clean to not type penguins_clean$____ everytime, col= species gives different color for each species\n",
        "     xlab = \"body mass (g)\",  # x-axis label\n",
        "     ylab = \"bill length (mm)\",  # y-axis label\n",
        "     main = \"Palmer penguins data\",  # main title\n",
        "     pch = 18)  # to choose the closed point style number 18\n",
        "\n",
        "# I searched up how to do a legend in R plotting, and I mimicked the example they gave me.\n",
        "# The website that I referred from: https://stackoverflow.com/questions/54030734/add-legend-to-a-scatterplot-with-automatic-assignment-in-r\n",
        "legend(x=\"bottomright\",legend = c(\"Chinstrap\",\"Adelie\",\"Gentoo\"),col= unique(penguins_clean$species),lty = 1)"
      ],
      "metadata": {
        "id": "_di0gDj14nWR",
        "colab": {
          "base_uri": "https://localhost:8080/",
          "height": 437
        },
        "outputId": "7e7a668f-3ceb-46e2-9c23-f0d76151ae35"
      },
      "execution_count": 57,
      "outputs": [
        {
          "output_type": "display_data",
          "data": {
            "text/plain": [
              "Plot with title “Palmer penguins data”"
            ],
            "image/png": "[encoded data removed]"
          },
          "metadata": {
            "image/png": {
              "width": 420,
              "height": 420
            }
          }
        }
      ]
    },
    {
      "cell_type": "markdown",
      "source": [
        "# <a name=\"Q10\">Question 10</a>\n",
        "\n",
        "---\n",
        "\n",
        "\n",
        "It seems like maybe there are different sub-populations in the data, one for each of the three species in the data frame: `Adelie`, `Chinstrap`, and `Gentoo`.\n",
        "\n",
        "<br>\n",
        "\n",
        "Let's create some visualizations to summarize the data by species.\n",
        "\n",
        "<br>  \n"
      ],
      "metadata": {
        "id": "XCW2Jf3QrWDt"
      }
    },
    {
      "cell_type": "markdown",
      "source": [
        "## <a name=\"Q10a\">Question 10a</a>\n",
        "\n",
        "---\n",
        "\n",
        "Create a bar plot to display the number of penguins in each species. Add descriptive labels to the $x$ and $y$-axis as well as the a main title to the bar plot. Feel free to \"bling up\" the plot with options as much or as little as you like.\n",
        "\n",
        "<br>  \n"
      ],
      "metadata": {
        "id": "1vOdEcENISK-"
      }
    },
    {
      "cell_type": "code",
      "source": [
        "# Making a barplot by using a quantitative variable, and decorate the plot with the arguments\n",
        "plot(penguins_clean$species,\n",
        "     main = \"Palmer Penguins Species\",\n",
        "     xlab = \"Penguin Species\",\n",
        "     ylab = \"Number of Penguins\",\n",
        "     col = \"Lightblue\",\n",
        "     cex.main = 1.5,cex.lab = 1.2)"
      ],
      "metadata": {
        "id": "ZWRLaLeJ4ke5",
        "colab": {
          "base_uri": "https://localhost:8080/",
          "height": 437
        },
        "outputId": "25e6efc6-cb36-4914-bce5-d5cc72efec1e"
      },
      "execution_count": 58,
      "outputs": [
        {
          "output_type": "display_data",
          "data": {
            "text/plain": [
              "Plot with title “Palmer Penguins Species”"
            ],
            "image/png": "[encoded data removed]"
          },
          "metadata": {
            "image/png": {
              "width": 420,
              "height": 420
            }
          }
        }
      ]
    },
    {
      "cell_type": "markdown",
      "source": [
        "## <a name=\"Q10b\">Question 10b</a>\n",
        "\n",
        "---\n",
        "\n",
        "Use the `plot()` function to create side-by-side box plots (in one single plot) to display the distribution of body masses separately for each of the three species. You can choose how to align the box plots (vertically or horizontally), what colors (if any) you would like to use.\n",
        "\n",
        "- Use labels on the $x$ and $y$ axes that describe what is being displayed and be sure to specify the units of body mass on that axis.\n",
        "- Give the plot a main title that describes what is being displayed.\n",
        "\n",
        "<br>  \n",
        "<br>  \n",
        "\n",
        "\n",
        "\n"
      ],
      "metadata": {
        "id": "jevdRJIZ29dh"
      }
    },
    {
      "cell_type": "code",
      "source": [
        "# Using plot() to plot side-by-side box plots where plot(y-axis ~ x-axis), and use arguments to give colors, titles, and state the data frame I'm using\n",
        "plot(body_mass_g ~ species, data = penguins_clean,\n",
        "     ylab = \"body mass (g)\", xlab = \"Penguin Species\",\n",
        "     main = \"Boxplot of each species with relation to body mass\", col = terrain.colors(5))"
      ],
      "metadata": {
        "id": "wy2kEKzW3APG",
        "colab": {
          "base_uri": "https://localhost:8080/",
          "height": 437
        },
        "outputId": "9c202952-f98d-43be-d584-a779da4a9c8d"
      },
      "execution_count": 59,
      "outputs": [
        {
          "output_type": "display_data",
          "data": {
            "text/plain": [
              "Plot with title “Boxplot of each species with relation to body mass”"
            ],
            "image/png": "[encoded data removed]"
          },
          "metadata": {
            "image/png": {
              "width": 420,
              "height": 420
            }
          }
        }
      ]
    },
    {
      "cell_type": "markdown",
      "source": [
        "## <a name=\"Q10c\">Question 10c</a>\n",
        "\n",
        "---\n",
        "\n",
        "Use the `subset()` function to subset the `penguins_clean` data into three different data frames, called `adelie`, `chinstrap`, and `gentoo`, each of which contains all variables from the `penguins_clean` data frame but contain observations for just one species, `Adelie`, `Chinstrap`, and `Gentoo`, respectively.\n",
        "\n",
        "<br>  \n",
        "\n",
        "Print the first 6 rows of each newly created data frame, `adelie`, `chinstrap`, and `gentoo`, to verify your work.\n",
        "\n",
        "<br>\n",
        "\n",
        "\n",
        "\n",
        "\n",
        "\n"
      ],
      "metadata": {
        "id": "F3crZEBQK_mK"
      }
    },
    {
      "cell_type": "code",
      "source": [
        "#  Make subsets of each species subset(dataframe, observation that you want)\n",
        "adelie <- subset(penguins_clean, species == \"Adelie\")\n",
        "chinstrap <- subset(penguins_clean, species == \"Chinstrap\")\n",
        "gentoo <- subset(penguins_clean, species == \"Gentoo\")"
      ],
      "metadata": {
        "id": "A1GeUD5X3H-_"
      },
      "execution_count": 60,
      "outputs": []
    },
    {
      "cell_type": "code",
      "source": [
        "head(adelie)  # Show the first 6 rows of the subset adelie"
      ],
      "metadata": {
        "colab": {
          "base_uri": "https://localhost:8080/",
          "height": 286
        },
        "id": "LskPlfq5nmsg",
        "outputId": "19d58091-0551-4229-c2ec-6b61b399f3c4"
      },
      "execution_count": 61,
      "outputs": [
        {
          "output_type": "display_data",
          "data": {
            "text/html": [
              "<table class=\"dataframe\">\n",
              "<caption>A data.frame: 6 × 7</caption>\n",
              "<thead>\n",
              "\t<tr><th></th><th scope=col>species</th><th scope=col>island</th><th scope=col>bill_length_mm</th><th scope=col>bill_depth_mm</th><th scope=col>flipper_length_mm</th><th scope=col>body_mass_g</th><th scope=col>sex</th></tr>\n",
              "\t<tr><th></th><th scope=col>&lt;fct&gt;</th><th scope=col>&lt;fct&gt;</th><th scope=col>&lt;dbl&gt;</th><th scope=col>&lt;dbl&gt;</th><th scope=col>&lt;int&gt;</th><th scope=col>&lt;int&gt;</th><th scope=col>&lt;fct&gt;</th></tr>\n",
              "</thead>\n",
              "<tbody>\n",
              "\t<tr><th scope=row>1</th><td>Adelie</td><td>Torgersen</td><td>39.1</td><td>18.7</td><td>181</td><td>3750</td><td>MALE  </td></tr>\n",
              "\t<tr><th scope=row>2</th><td>Adelie</td><td>Torgersen</td><td>39.5</td><td>17.4</td><td>186</td><td>3800</td><td>FEMALE</td></tr>\n",
              "\t<tr><th scope=row>3</th><td>Adelie</td><td>Torgersen</td><td>40.3</td><td>18.0</td><td>195</td><td>3250</td><td>FEMALE</td></tr>\n",
              "\t<tr><th scope=row>5</th><td>Adelie</td><td>Torgersen</td><td>36.7</td><td>19.3</td><td>193</td><td>3450</td><td>FEMALE</td></tr>\n",
              "\t<tr><th scope=row>6</th><td>Adelie</td><td>Torgersen</td><td>39.3</td><td>20.6</td><td>190</td><td>3650</td><td>MALE  </td></tr>\n",
              "\t<tr><th scope=row>7</th><td>Adelie</td><td>Torgersen</td><td>38.9</td><td>17.8</td><td>181</td><td>3625</td><td>FEMALE</td></tr>\n",
              "</tbody>\n",
              "</table>\n"
            ],
            "text/markdown": "\nA data.frame: 6 × 7\n\n| <!--/--> | species &lt;fct&gt; | island &lt;fct&gt; | bill_length_mm &lt;dbl&gt; | bill_depth_mm &lt;dbl&gt; | flipper_length_mm &lt;int&gt; | body_mass_g &lt;int&gt; | sex &lt;fct&gt; |\n|---|---|---|---|---|---|---|---|\n| 1 | Adelie | Torgersen | 39.1 | 18.7 | 181 | 3750 | MALE   |\n| 2 | Adelie | Torgersen | 39.5 | 17.4 | 186 | 3800 | FEMALE |\n| 3 | Adelie | Torgersen | 40.3 | 18.0 | 195 | 3250 | FEMALE |\n| 5 | Adelie | Torgersen | 36.7 | 19.3 | 193 | 3450 | FEMALE |\n| 6 | Adelie | Torgersen | 39.3 | 20.6 | 190 | 3650 | MALE   |\n| 7 | Adelie | Torgersen | 38.9 | 17.8 | 181 | 3625 | FEMALE |\n\n",
            "text/latex": "A data.frame: 6 × 7\n\\begin{tabular}{r|lllllll}\n  & species & island & bill\\_length\\_mm & bill\\_depth\\_mm & flipper\\_length\\_mm & body\\_mass\\_g & sex\\\\\n  & <fct> & <fct> & <dbl> & <dbl> & <int> & <int> & <fct>\\\\\n\\hline\n\t1 & Adelie & Torgersen & 39.1 & 18.7 & 181 & 3750 & MALE  \\\\\n\t2 & Adelie & Torgersen & 39.5 & 17.4 & 186 & 3800 & FEMALE\\\\\n\t3 & Adelie & Torgersen & 40.3 & 18.0 & 195 & 3250 & FEMALE\\\\\n\t5 & Adelie & Torgersen & 36.7 & 19.3 & 193 & 3450 & FEMALE\\\\\n\t6 & Adelie & Torgersen & 39.3 & 20.6 & 190 & 3650 & MALE  \\\\\n\t7 & Adelie & Torgersen & 38.9 & 17.8 & 181 & 3625 & FEMALE\\\\\n\\end{tabular}\n",
            "text/plain": [
              "  species island    bill_length_mm bill_depth_mm flipper_length_mm body_mass_g\n",
              "1 Adelie  Torgersen 39.1           18.7          181               3750       \n",
              "2 Adelie  Torgersen 39.5           17.4          186               3800       \n",
              "3 Adelie  Torgersen 40.3           18.0          195               3250       \n",
              "5 Adelie  Torgersen 36.7           19.3          193               3450       \n",
              "6 Adelie  Torgersen 39.3           20.6          190               3650       \n",
              "7 Adelie  Torgersen 38.9           17.8          181               3625       \n",
              "  sex   \n",
              "1 MALE  \n",
              "2 FEMALE\n",
              "3 FEMALE\n",
              "5 FEMALE\n",
              "6 MALE  \n",
              "7 FEMALE"
            ]
          },
          "metadata": {}
        }
      ]
    },
    {
      "cell_type": "code",
      "source": [
        "head(chinstrap)  # Show the first 6 rows of the subset chinstrap"
      ],
      "metadata": {
        "colab": {
          "base_uri": "https://localhost:8080/",
          "height": 286
        },
        "id": "bbEUZESCnpg9",
        "outputId": "7de02574-e8fb-4912-8e76-8330bd653cae"
      },
      "execution_count": 62,
      "outputs": [
        {
          "output_type": "display_data",
          "data": {
            "text/html": [
              "<table class=\"dataframe\">\n",
              "<caption>A data.frame: 6 × 7</caption>\n",
              "<thead>\n",
              "\t<tr><th></th><th scope=col>species</th><th scope=col>island</th><th scope=col>bill_length_mm</th><th scope=col>bill_depth_mm</th><th scope=col>flipper_length_mm</th><th scope=col>body_mass_g</th><th scope=col>sex</th></tr>\n",
              "\t<tr><th></th><th scope=col>&lt;fct&gt;</th><th scope=col>&lt;fct&gt;</th><th scope=col>&lt;dbl&gt;</th><th scope=col>&lt;dbl&gt;</th><th scope=col>&lt;int&gt;</th><th scope=col>&lt;int&gt;</th><th scope=col>&lt;fct&gt;</th></tr>\n",
              "</thead>\n",
              "<tbody>\n",
              "\t<tr><th scope=row>277</th><td>Chinstrap</td><td>Dream</td><td>46.5</td><td>17.9</td><td>192</td><td>3500</td><td>FEMALE</td></tr>\n",
              "\t<tr><th scope=row>278</th><td>Chinstrap</td><td>Dream</td><td>50.0</td><td>19.5</td><td>196</td><td>3900</td><td>MALE  </td></tr>\n",
              "\t<tr><th scope=row>279</th><td>Chinstrap</td><td>Dream</td><td>51.3</td><td>19.2</td><td>193</td><td>3650</td><td>MALE  </td></tr>\n",
              "\t<tr><th scope=row>280</th><td>Chinstrap</td><td>Dream</td><td>45.4</td><td>18.7</td><td>188</td><td>3525</td><td>FEMALE</td></tr>\n",
              "\t<tr><th scope=row>281</th><td>Chinstrap</td><td>Dream</td><td>52.7</td><td>19.8</td><td>197</td><td>3725</td><td>MALE  </td></tr>\n",
              "\t<tr><th scope=row>282</th><td>Chinstrap</td><td>Dream</td><td>45.2</td><td>17.8</td><td>198</td><td>3950</td><td>FEMALE</td></tr>\n",
              "</tbody>\n",
              "</table>\n"
            ],
            "text/markdown": "\nA data.frame: 6 × 7\n\n| <!--/--> | species &lt;fct&gt; | island &lt;fct&gt; | bill_length_mm &lt;dbl&gt; | bill_depth_mm &lt;dbl&gt; | flipper_length_mm &lt;int&gt; | body_mass_g &lt;int&gt; | sex &lt;fct&gt; |\n|---|---|---|---|---|---|---|---|\n| 277 | Chinstrap | Dream | 46.5 | 17.9 | 192 | 3500 | FEMALE |\n| 278 | Chinstrap | Dream | 50.0 | 19.5 | 196 | 3900 | MALE   |\n| 279 | Chinstrap | Dream | 51.3 | 19.2 | 193 | 3650 | MALE   |\n| 280 | Chinstrap | Dream | 45.4 | 18.7 | 188 | 3525 | FEMALE |\n| 281 | Chinstrap | Dream | 52.7 | 19.8 | 197 | 3725 | MALE   |\n| 282 | Chinstrap | Dream | 45.2 | 17.8 | 198 | 3950 | FEMALE |\n\n",
            "text/latex": "A data.frame: 6 × 7\n\\begin{tabular}{r|lllllll}\n  & species & island & bill\\_length\\_mm & bill\\_depth\\_mm & flipper\\_length\\_mm & body\\_mass\\_g & sex\\\\\n  & <fct> & <fct> & <dbl> & <dbl> & <int> & <int> & <fct>\\\\\n\\hline\n\t277 & Chinstrap & Dream & 46.5 & 17.9 & 192 & 3500 & FEMALE\\\\\n\t278 & Chinstrap & Dream & 50.0 & 19.5 & 196 & 3900 & MALE  \\\\\n\t279 & Chinstrap & Dream & 51.3 & 19.2 & 193 & 3650 & MALE  \\\\\n\t280 & Chinstrap & Dream & 45.4 & 18.7 & 188 & 3525 & FEMALE\\\\\n\t281 & Chinstrap & Dream & 52.7 & 19.8 & 197 & 3725 & MALE  \\\\\n\t282 & Chinstrap & Dream & 45.2 & 17.8 & 198 & 3950 & FEMALE\\\\\n\\end{tabular}\n",
            "text/plain": [
              "    species   island bill_length_mm bill_depth_mm flipper_length_mm body_mass_g\n",
              "277 Chinstrap Dream  46.5           17.9          192               3500       \n",
              "278 Chinstrap Dream  50.0           19.5          196               3900       \n",
              "279 Chinstrap Dream  51.3           19.2          193               3650       \n",
              "280 Chinstrap Dream  45.4           18.7          188               3525       \n",
              "281 Chinstrap Dream  52.7           19.8          197               3725       \n",
              "282 Chinstrap Dream  45.2           17.8          198               3950       \n",
              "    sex   \n",
              "277 FEMALE\n",
              "278 MALE  \n",
              "279 MALE  \n",
              "280 FEMALE\n",
              "281 MALE  \n",
              "282 FEMALE"
            ]
          },
          "metadata": {}
        }
      ]
    },
    {
      "cell_type": "code",
      "source": [
        "head(gentoo)  # Show the first 6 rows of the subset gentoo"
      ],
      "metadata": {
        "colab": {
          "base_uri": "https://localhost:8080/",
          "height": 286
        },
        "id": "e8IS7PVTnrKi",
        "outputId": "5d9c8523-2aac-4ee4-e450-8465c60f5231"
      },
      "execution_count": 63,
      "outputs": [
        {
          "output_type": "display_data",
          "data": {
            "text/html": [
              "<table class=\"dataframe\">\n",
              "<caption>A data.frame: 6 × 7</caption>\n",
              "<thead>\n",
              "\t<tr><th></th><th scope=col>species</th><th scope=col>island</th><th scope=col>bill_length_mm</th><th scope=col>bill_depth_mm</th><th scope=col>flipper_length_mm</th><th scope=col>body_mass_g</th><th scope=col>sex</th></tr>\n",
              "\t<tr><th></th><th scope=col>&lt;fct&gt;</th><th scope=col>&lt;fct&gt;</th><th scope=col>&lt;dbl&gt;</th><th scope=col>&lt;dbl&gt;</th><th scope=col>&lt;int&gt;</th><th scope=col>&lt;int&gt;</th><th scope=col>&lt;fct&gt;</th></tr>\n",
              "</thead>\n",
              "<tbody>\n",
              "\t<tr><th scope=row>153</th><td>Gentoo</td><td>Biscoe</td><td>46.1</td><td>13.2</td><td>211</td><td>4500</td><td>FEMALE</td></tr>\n",
              "\t<tr><th scope=row>154</th><td>Gentoo</td><td>Biscoe</td><td>50.0</td><td>16.3</td><td>230</td><td>5700</td><td>MALE  </td></tr>\n",
              "\t<tr><th scope=row>155</th><td>Gentoo</td><td>Biscoe</td><td>48.7</td><td>14.1</td><td>210</td><td>4450</td><td>FEMALE</td></tr>\n",
              "\t<tr><th scope=row>156</th><td>Gentoo</td><td>Biscoe</td><td>50.0</td><td>15.2</td><td>218</td><td>5700</td><td>MALE  </td></tr>\n",
              "\t<tr><th scope=row>157</th><td>Gentoo</td><td>Biscoe</td><td>47.6</td><td>14.5</td><td>215</td><td>5400</td><td>MALE  </td></tr>\n",
              "\t<tr><th scope=row>158</th><td>Gentoo</td><td>Biscoe</td><td>46.5</td><td>13.5</td><td>210</td><td>4550</td><td>FEMALE</td></tr>\n",
              "</tbody>\n",
              "</table>\n"
            ],
            "text/markdown": "\nA data.frame: 6 × 7\n\n| <!--/--> | species &lt;fct&gt; | island &lt;fct&gt; | bill_length_mm &lt;dbl&gt; | bill_depth_mm &lt;dbl&gt; | flipper_length_mm &lt;int&gt; | body_mass_g &lt;int&gt; | sex &lt;fct&gt; |\n|---|---|---|---|---|---|---|---|\n| 153 | Gentoo | Biscoe | 46.1 | 13.2 | 211 | 4500 | FEMALE |\n| 154 | Gentoo | Biscoe | 50.0 | 16.3 | 230 | 5700 | MALE   |\n| 155 | Gentoo | Biscoe | 48.7 | 14.1 | 210 | 4450 | FEMALE |\n| 156 | Gentoo | Biscoe | 50.0 | 15.2 | 218 | 5700 | MALE   |\n| 157 | Gentoo | Biscoe | 47.6 | 14.5 | 215 | 5400 | MALE   |\n| 158 | Gentoo | Biscoe | 46.5 | 13.5 | 210 | 4550 | FEMALE |\n\n",
            "text/latex": "A data.frame: 6 × 7\n\\begin{tabular}{r|lllllll}\n  & species & island & bill\\_length\\_mm & bill\\_depth\\_mm & flipper\\_length\\_mm & body\\_mass\\_g & sex\\\\\n  & <fct> & <fct> & <dbl> & <dbl> & <int> & <int> & <fct>\\\\\n\\hline\n\t153 & Gentoo & Biscoe & 46.1 & 13.2 & 211 & 4500 & FEMALE\\\\\n\t154 & Gentoo & Biscoe & 50.0 & 16.3 & 230 & 5700 & MALE  \\\\\n\t155 & Gentoo & Biscoe & 48.7 & 14.1 & 210 & 4450 & FEMALE\\\\\n\t156 & Gentoo & Biscoe & 50.0 & 15.2 & 218 & 5700 & MALE  \\\\\n\t157 & Gentoo & Biscoe & 47.6 & 14.5 & 215 & 5400 & MALE  \\\\\n\t158 & Gentoo & Biscoe & 46.5 & 13.5 & 210 & 4550 & FEMALE\\\\\n\\end{tabular}\n",
            "text/plain": [
              "    species island bill_length_mm bill_depth_mm flipper_length_mm body_mass_g\n",
              "153 Gentoo  Biscoe 46.1           13.2          211               4500       \n",
              "154 Gentoo  Biscoe 50.0           16.3          230               5700       \n",
              "155 Gentoo  Biscoe 48.7           14.1          210               4450       \n",
              "156 Gentoo  Biscoe 50.0           15.2          218               5700       \n",
              "157 Gentoo  Biscoe 47.6           14.5          215               5400       \n",
              "158 Gentoo  Biscoe 46.5           13.5          210               4550       \n",
              "    sex   \n",
              "153 FEMALE\n",
              "154 MALE  \n",
              "155 FEMALE\n",
              "156 MALE  \n",
              "157 MALE  \n",
              "158 FEMALE"
            ]
          },
          "metadata": {}
        }
      ]
    },
    {
      "cell_type": "markdown",
      "source": [
        "## <a name=\"Q10d\">Question 10d</a>\n",
        "\n",
        "---\n",
        "\n",
        "\n",
        "Use code cells below to answer the following questions. Which species has the largest mean bill length? Which species has the largest standard deviation for body mass?\n",
        "\n",
        "<br>  \n",
        "\n",
        "Run command(s) in code cell(s) below to get output to determine the answers to the questions above. Then type your answers in the [solution text cell below](#Sol10d) the output to your code cells. Be sure it is clear from the output of your code how you determined the answers to each question.\n",
        "\n",
        "<br>  \n",
        "<br>  \n",
        "\n",
        "\n",
        "\n",
        "\n"
      ],
      "metadata": {
        "id": "CPJnoLZaL0VR"
      }
    },
    {
      "cell_type": "code",
      "source": [
        "# Find each species' bill_length_mm's mean using mean() and see which one is the highest in value\n",
        "(mean(adelie$bill_length_mm))  # adelie's bill_length_mm mean\n",
        "(mean(chinstrap$bill_length_mm))  # chinstrap's bill_length_mm mean\n",
        "(mean(gentoo$bill_length_mm))  # gentoo's bill_length_mm mean"
      ],
      "metadata": {
        "id": "cJ4PRy7Q3XIO",
        "colab": {
          "base_uri": "https://localhost:8080/",
          "height": 69
        },
        "outputId": "029b36b7-8705-4bda-e779-fc188eca6369"
      },
      "execution_count": 64,
      "outputs": [
        {
          "output_type": "display_data",
          "data": {
            "text/html": [
              "38.8239726027397"
            ],
            "text/markdown": "38.8239726027397",
            "text/latex": "38.8239726027397",
            "text/plain": [
              "[1] 38.82397"
            ]
          },
          "metadata": {}
        },
        {
          "output_type": "display_data",
          "data": {
            "text/html": [
              "48.8338235294118"
            ],
            "text/markdown": "48.8338235294118",
            "text/latex": "48.8338235294118",
            "text/plain": [
              "[1] 48.83382"
            ]
          },
          "metadata": {}
        },
        {
          "output_type": "display_data",
          "data": {
            "text/html": [
              "47.5680672268908"
            ],
            "text/markdown": "47.5680672268908",
            "text/latex": "47.5680672268908",
            "text/plain": [
              "[1] 47.56807"
            ]
          },
          "metadata": {}
        }
      ]
    },
    {
      "cell_type": "code",
      "source": [
        "# Find each species' body_mass_g's standard deviation using sd() and see which one is the highest in value\n",
        "(sd(adelie$body_mass_g))  # adelie's body_mass_g standard deviation\n",
        "(sd(chinstrap$body_mass_g))  #chinstrap's body_mass_g standard deviation\n",
        "(sd(gentoo$body_mass_g))  # gentoo's body_mass_g standard deviation"
      ],
      "metadata": {
        "id": "Tg8nlu_A3W5w",
        "colab": {
          "base_uri": "https://localhost:8080/",
          "height": 69
        },
        "outputId": "fdb8ec03-0880-47f5-86a1-3ab53d4c27e3"
      },
      "execution_count": 65,
      "outputs": [
        {
          "output_type": "display_data",
          "data": {
            "text/html": [
              "458.620134712924"
            ],
            "text/markdown": "458.620134712924",
            "text/latex": "458.620134712924",
            "text/plain": [
              "[1] 458.6201"
            ]
          },
          "metadata": {}
        },
        {
          "output_type": "display_data",
          "data": {
            "text/html": [
              "384.335081387191"
            ],
            "text/markdown": "384.335081387191",
            "text/latex": "384.335081387191",
            "text/plain": [
              "[1] 384.3351"
            ]
          },
          "metadata": {}
        },
        {
          "output_type": "display_data",
          "data": {
            "text/html": [
              "501.476153828442"
            ],
            "text/markdown": "501.476153828442",
            "text/latex": "501.476153828442",
            "text/plain": [
              "[1] 501.4762"
            ]
          },
          "metadata": {}
        }
      ]
    },
    {
      "cell_type": "markdown",
      "source": [
        "### <a name=\"Sol10d\">Solution to Question 10d</a>\n",
        "\n",
        "---\n",
        "\n",
        "<br>  \n",
        "\n",
        "-  The species with the largest mean bill length is Chinstrap. Their mean bill length is 48.8 mm. (round to one decimal place)\n",
        "\n",
        "\n",
        "- The species with the largest standard deviation for body mass is Gentoo. Their standard deviation for body mass is 501.5 g. (round to one decimal place)\n",
        "\n",
        "<br>  \n",
        "<br>  "
      ],
      "metadata": {
        "id": "m343Idh1Mxl1"
      }
    },
    {
      "cell_type": "markdown",
      "source": [
        "## <a name=\"Q10e\">Question 10e</a>\n",
        "\n",
        "---\n",
        "\n",
        "\n",
        "Use the `plot()` function to construct three separate scatter plots (one for each species from the `adelie`, `chinstrap`, and `gentoo` data frames). For each scatter plot:\n",
        "\n",
        "- Change the $x$ and $y$-axis labels to, \"body mass (g)\" and \"bill length (mm)\", respectively.\n",
        "- Add a main that indicates which species data is being plotted.\n",
        "- Use an option to change plotting character symbol to a solid point from the default (which is an open point).\n",
        "- Use the `col` option to set the color of the points to the same color used in the scatter plot you created in [Question 9](#Q9).\n",
        "\n",
        "\n",
        "<br>  \n",
        "<br>  \n",
        "\n"
      ],
      "metadata": {
        "id": "OEFeTHw0NgwQ"
      }
    },
    {
      "cell_type": "code",
      "source": [
        "# Making a plot using the Adelie subset, and use arguments to add labels, title, color, and style\n",
        "plot(bill_length_mm ~ body_mass_g, data = adelie,\n",
        "     xlab = \"body mass (g)\", ylab = \"bill length (mm)\",\n",
        "     main = \"Bill length and body mass relationship of species: Adelie\", pch = 17,\n",
        "     col = 3)  # Use col = 2 to match question's 9 Adelie species color"
      ],
      "metadata": {
        "id": "wV64kKLA3m3z",
        "colab": {
          "base_uri": "https://localhost:8080/",
          "height": 437
        },
        "outputId": "45398469-5574-481b-bac2-57a9913a2f02"
      },
      "execution_count": 66,
      "outputs": [
        {
          "output_type": "display_data",
          "data": {
            "text/plain": [
              "Plot with title “Bill length and body mass relationship of species: Adelie”"
            ],
            "image/png": "[encoded data removed]"
          },
          "metadata": {
            "image/png": {
              "width": 420,
              "height": 420
            }
          }
        }
      ]
    },
    {
      "cell_type": "code",
      "source": [
        "# Making a plot using the Adelie subset, and use arguments to add labels, title, color, and style\n",
        "plot(bill_length_mm ~ body_mass_g, data = chinstrap,\n",
        "     xlab = \"body mass (g)\", ylab = \"bill length (mm)\",\n",
        "     main = \"Bill length and body mass relationship of species: Chinstrap\", pch = 17,\n",
        "     col = 1)  # Use col = 2 to match question's 9 Chinstrap species color"
      ],
      "metadata": {
        "id": "5zpJA1Tq3mvV",
        "colab": {
          "base_uri": "https://localhost:8080/",
          "height": 437
        },
        "outputId": "b8ee4b95-994a-4555-bedb-04f8daaf72ba"
      },
      "execution_count": 67,
      "outputs": [
        {
          "output_type": "display_data",
          "data": {
            "text/plain": [
              "Plot with title “Bill length and body mass relationship of species: Chinstrap”"
            ],
            "image/png": "[encoded data removed]"
          },
          "metadata": {
            "image/png": {
              "width": 420,
              "height": 420
            }
          }
        }
      ]
    },
    {
      "cell_type": "code",
      "source": [
        "# Making a plot using the Adelie subset, and use arguments to add labels, title, color, and style\n",
        "plot(bill_length_mm ~ body_mass_g, data = gentoo,\n",
        "     xlab = \"body mass (g)\", ylab = \"bill length (mm)\",\n",
        "     main = \"Bill length and body mass relationship of species: Gentoo\", pch = 17,\n",
        "     col = 2)  # Use col = 2 to match question's 9 Gentoo species color"
      ],
      "metadata": {
        "id": "6TxQ_n7m3mm6",
        "colab": {
          "base_uri": "https://localhost:8080/",
          "height": 437
        },
        "outputId": "8e90f3be-c7cc-4c30-b2a5-29711dd9fc46"
      },
      "execution_count": 68,
      "outputs": [
        {
          "output_type": "display_data",
          "data": {
            "text/plain": [
              "Plot with title “Bill length and body mass relationship of species: Gentoo”"
            ],
            "image/png": "[encoded data removed]"
          },
          "metadata": {
            "image/png": {
              "width": 420,
              "height": 420
            }
          }
        }
      ]
    },
    {
      "cell_type": "markdown",
      "source": [
        "# <a name=\"Q11\">Question 11</a>\n",
        "\n",
        "---\n",
        "\n",
        "R has a built-in function `var()` that computes the sample variance of a numeric vector. The sample variance is defined as\n",
        "\n",
        "$$\\text{Var}(x) = \\frac{\\sum_{i=1}^n (x_i - \\bar{x})^2}{n -1}$$\n",
        "\n",
        "where $\\bar{x}$ and $n$ denote the sample mean and number of elements of `x`, respectively.\n",
        "\n",
        "<br>\n",
        "\n",
        "In this question you will create a function to compute the sample variance and verify that it works by comparing results with the output of the `var()` function.\n",
        "\n",
        "<br>  \n",
        "<br>  \n",
        "\n"
      ],
      "metadata": {
        "id": "ERJvs6hcqEOM"
      }
    },
    {
      "cell_type": "markdown",
      "source": [
        "## <a name=\"Q11a\">Question 11a</a>\n",
        "\n",
        "---\n",
        "\n",
        "In the code cell below, create a function named `my_var` that computes the sample variance of a numeric vector `x`. The function should only have one input, a vector `x`. Run the code cell to define the function. No output will be generated yet since you are just assigning the function to `my_var` at this point.\n",
        "\n",
        "<br>\n",
        "\n",
        "- *Hint 1: You may use the `sum()` function among the operations involved in defining `my_var`.*\n",
        "- *Hint 2: You may use the `mean()` function among the operations involved in defining `my_var`.*\n",
        "- *Hint 3: You may use the `length()` function among the operations involved in defining `my_var`.*\n",
        "- *Hint 4: You do not need to peform all of the calculations in one step. You can break them up into smaller steps that combine together in the end.*\n",
        "\n",
        "<br>  \n"
      ],
      "metadata": {
        "id": "WWYKTluisI0l"
      }
    },
    {
      "cell_type": "code",
      "source": [
        "# Creating a function called my_var, this function will calculate the variance of the input vector just like var()\n",
        "my_var <- function(x){\n",
        "  # Slowly compute each variables, make the nominator, make the denominator, and finally divide the nominator by the denominator\n",
        "  mean_x <- mean(x)\n",
        "  difference_x <- x - mean_x\n",
        "  square_x <- difference_x ^ 2\n",
        "  sum_top <- sum(square_x)\n",
        "  bottom <- length(x) - 1\n",
        "  result <- sum_top / bottom\n",
        "  result\n",
        "}"
      ],
      "metadata": {
        "id": "_gIBIrNp3_cS"
      },
      "execution_count": 69,
      "outputs": []
    },
    {
      "cell_type": "markdown",
      "source": [
        "## <a name=\"Q11b\">Question 11b</a>\n",
        "\n",
        "---\n",
        "\n",
        "Use the `rnorm()` function to generate a random sample of 40 values from a normal distribution with mean $\\mu = 100$ and standard deviation $\\sigma = 20$. Store the random sample to a vector named `samp`. You do not need to display the output to the screen.\n",
        "\n",
        "<br>  \n"
      ],
      "metadata": {
        "id": "7scFBBo8uGYk"
      }
    },
    {
      "cell_type": "code",
      "source": [
        "# Create a random sample of 40 values with mean = 100 and sd = 20\n",
        "samp <- rnorm(40, mean = 100, sd = 20)"
      ],
      "metadata": {
        "id": "baJBK4Gy4DE0"
      },
      "execution_count": 70,
      "outputs": []
    },
    {
      "cell_type": "markdown",
      "source": [
        "## <a name=\"Q11c\">Question 11c</a>\n",
        "\n",
        "---\n",
        "\n",
        "In the first code cell below, use the function `my_var()` you created in [Question 11a](#Q11a) to compute the sample variance of the random sample of $n=40$ values stored in `samp` in [Question 11b](#Q11b).\n",
        "\n",
        "<br>\n",
        "\n",
        "In the second code cell, use the `var()` function to compute the sample variance of the values stored in `samp` and check to make sure the two functions return the same result.\n",
        "\n",
        "<br>\n",
        "\n",
        "If the results are different, go back to [Question 11a](#Q11a) and try to fix your function `my_var()` until you get the same output in this part. Once the output matches in this part of the question, you know your solution to [Question 11a](#Q11a) is correct!\n",
        "\n",
        "<br>  \n",
        "<br>  "
      ],
      "metadata": {
        "id": "5dSKRT2JfxUV"
      }
    },
    {
      "cell_type": "code",
      "source": [
        "# Using my function (my_var) to calculate the variance\n",
        "(my_var(samp))"
      ],
      "metadata": {
        "id": "IpkYsk2w4hOQ",
        "colab": {
          "base_uri": "https://localhost:8080/",
          "height": 34
        },
        "outputId": "ffb27782-7b8c-4efc-d850-994bc9fb5f98"
      },
      "execution_count": 71,
      "outputs": [
        {
          "output_type": "display_data",
          "data": {
            "text/html": [
              "522.686732173104"
            ],
            "text/markdown": "522.686732173104",
            "text/latex": "522.686732173104",
            "text/plain": [
              "[1] 522.6867"
            ]
          },
          "metadata": {}
        }
      ]
    },
    {
      "cell_type": "code",
      "source": [
        "# Using var() function to check the values with my_var() and see if my function calculates the value correctly\n",
        "(var(samp))"
      ],
      "metadata": {
        "id": "hgd_mVqR4hEE",
        "colab": {
          "base_uri": "https://localhost:8080/",
          "height": 34
        },
        "outputId": "f9a36bbf-c672-4320-9764-cea16d938b76"
      },
      "execution_count": 72,
      "outputs": [
        {
          "output_type": "display_data",
          "data": {
            "text/html": [
              "522.686732173104"
            ],
            "text/markdown": "522.686732173104",
            "text/latex": "522.686732173104",
            "text/plain": [
              "[1] 522.6867"
            ]
          },
          "metadata": {}
        }
      ]
    },
    {
      "cell_type": "markdown",
      "source": [
        "# <a name=\"save2\">Be Sure You Have Saved Your Work!</a>\n",
        "\n",
        "---\n",
        "\n",
        "This notebook is a shared Colab notebook available for anyone to view. However, since everyone is sharing this notebook, you do not have permission to save changes to this shared Colab notebook. In order to save your work:\n",
        "\n",
        "1. You will need to set up a free Google Drive account. If you already have a Google Drive account, you are ready to go!\n",
        "2. Click the `Copy to Drive` button to the right of the `+ Code` and `+ Text` buttons on top of the notebook.\n",
        "3. Select from the menu `File/Save a Copy in Drive`.\n",
        "  - By default, the notebook will be saved in a folder named **Colab Notebooks** in your Drive.\n",
        "  - Feel free to rename and store the notebook wherever you like.\n"
      ],
      "metadata": {
        "id": "iBmMPoh1CkEf"
      }
    }
  ]
}