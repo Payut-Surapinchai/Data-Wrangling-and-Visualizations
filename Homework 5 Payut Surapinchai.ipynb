{
  "nbformat": 4,
  "nbformat_minor": 0,
  "metadata": {
    "colab": {
      "provenance": []
    },
    "kernelspec": {
      "name": "ir",
      "display_name": "R"
    },
    "language_info": {
      "name": "R"
    }
  },
  "cells": [
    {
      "cell_type": "markdown",
      "source": [
        "# Homework 5: Due Wednesday, March 5 at 11:59 PM\n",
        "\n",
        "---"
      ],
      "metadata": {
        "id": "TLH2NCL-V8J_"
      }
    },
    {
      "cell_type": "markdown",
      "source": [
        "## <a name=\"HW1Inst\">Instructions:</a>\n",
        "---\n",
        "\n",
        "1. <font color=\"tomato\">Either click the COPY TO DRIVE button or use the menu File/Save/Save a Copy to save your own version of the notebook in your own folder in Google Drive.</font>\n",
        "\n",
        "  - If you do not have a Google account, you will need to create a Google account in order to create your own individual copy of this notebook.\n",
        "  - By default, the notebook will be saved in a folder named **Colab Notebooks** in your drive.\n",
        "  - Feel free to name and store the notebook wherever you like!\n",
        "\n",
        "2. <font color=\"mediumseagreen\">After you have copied the notebook into your Drive, you can begin editing and saving your work.</font>\n",
        "\n",
        "**Upload your completed assignment into Canvas as a Google Colab (or Jupyter) Notebook with file extension `.ipynb`.**\n",
        "\n",
        "Upload your file into the Homework 5 assignment in Canvas before <font color=\"dodgerblue\">**11:59PM on Wednesday, March 5.**</font>\n",
        "\n",
        "**You must provide supporting work for your all of your answers.**\n",
        "\n",
        "  - <font color=\"dodgerblue\">That work will include using R code cells.</font>\n",
        "    - **Feel free to insert as much R code as you like.**\n",
        "    - You must interpret or explain how the output of a code cell is being utilized to solve the problem.\n",
        "    - **Code with incomplete or missing explanations of why the output is useful may not receive full credit.**\n",
        "  - <font color=\"dodgerblue\">Your work will also involve writing explanations and justifications in text cells.</font>\n",
        "    - **Be sure to type/write out the steps of your work/explanation so I can see how you arrived at your answer.**\n",
        "\n",
        "\n",
        "## Important Academic Policies:\n",
        "---\n",
        "\n",
        "- **Be your own work.** Though you may collaborate with others, everyone is responsible for writing up the work in their own way using their own methods. Plagiarism of any form is not tolerated.\n",
        "- **Be complete.** You must provide all work and/or explanations needed to find the solution. Answers with insufficient or incomplete supporting work may lose credit.\n",
        "- **Adhere to the Code of Academic Honesty.**\n",
        "- **Be clearly written (and legible if written).** Your solution to a problem must be clear, written in complete sentences. You may lose credit for work that is unclear or hard to follow.\n",
        "\n",
        "## <font color=\"dodgerblue\">Let me know if you need help, and **GOOD LUCK!!!**</font>\n",
        "\n",
        "----"
      ],
      "metadata": {
        "id": "gr9nGY7MSp23"
      }
    },
    {
      "cell_type": "markdown",
      "source": [
        "# <a name=\"Getting Started\">Before You Get Started: Loading Packages</a>\n",
        "\n",
        "---\n",
        "\n",
        "<font color=\"dodgerblue\">**You will need to load packages each time you start a new Colab session to work on the problems in this assignment:**</font>\n",
        "\n",
        "1. `MASS` to access the `Pima.te` data frame that will be the data used in questions on this assignment.\n",
        "2. `tidyverse` to load both the `dplyr` and `ggplot2` packages (among others).\n",
        "\n",
        "\n",
        "<font color=\"dodgerblue\">**Make sure to you run these first code cells to load the `MASS` and `tidyverse`  packages each time you work on this assignment!**</font>\n",
        "\n",
        "\n",
        "\n"
      ],
      "metadata": {
        "id": "HcM22Ds_ITr3"
      }
    },
    {
      "cell_type": "code",
      "source": [
        "# write code to install and/or load required packages\n",
        "install.packages(\"MASS\")\n",
        "data(Pima.te, package = \"MASS\")\n",
        "library(tidyverse)"
      ],
      "metadata": {
        "id": "0Gbz52MQHCMF",
        "outputId": "f24e5817-0c5e-4828-cc31-6c411d7619a9",
        "colab": {
          "base_uri": "https://localhost:8080/"
        }
      },
      "execution_count": 1,
      "outputs": [
        {
          "output_type": "stream",
          "name": "stderr",
          "text": [
            "Installing package into ‘/usr/local/lib/R/site-library’\n",
            "(as ‘lib’ is unspecified)\n",
            "\n",
            "── \u001b[1mAttaching core tidyverse packages\u001b[22m ──────────────────────── tidyverse 2.0.0 ──\n",
            "\u001b[32m✔\u001b[39m \u001b[34mdplyr    \u001b[39m 1.1.4     \u001b[32m✔\u001b[39m \u001b[34mreadr    \u001b[39m 2.1.5\n",
            "\u001b[32m✔\u001b[39m \u001b[34mforcats  \u001b[39m 1.0.0     \u001b[32m✔\u001b[39m \u001b[34mstringr  \u001b[39m 1.5.1\n",
            "\u001b[32m✔\u001b[39m \u001b[34mggplot2  \u001b[39m 3.5.1     \u001b[32m✔\u001b[39m \u001b[34mtibble   \u001b[39m 3.2.1\n",
            "\u001b[32m✔\u001b[39m \u001b[34mlubridate\u001b[39m 1.9.4     \u001b[32m✔\u001b[39m \u001b[34mtidyr    \u001b[39m 1.3.1\n",
            "\u001b[32m✔\u001b[39m \u001b[34mpurrr    \u001b[39m 1.0.4     \n",
            "── \u001b[1mConflicts\u001b[22m ────────────────────────────────────────── tidyverse_conflicts() ──\n",
            "\u001b[31m✖\u001b[39m \u001b[34mdplyr\u001b[39m::\u001b[32mfilter()\u001b[39m masks \u001b[34mstats\u001b[39m::filter()\n",
            "\u001b[31m✖\u001b[39m \u001b[34mdplyr\u001b[39m::\u001b[32mlag()\u001b[39m    masks \u001b[34mstats\u001b[39m::lag()\n",
            "\u001b[36mℹ\u001b[39m Use the conflicted package (\u001b[3m\u001b[34m<http://conflicted.r-lib.org/>\u001b[39m\u001b[23m) to force all conflicts to become errors\n"
          ]
        }
      ]
    },
    {
      "cell_type": "markdown",
      "source": [
        "## <a name=\"about-hawks\">Data Dictionary: Pima Indian Data Frame</a>\n",
        "\n",
        "---\n",
        "\n",
        "A population of women who were at least 21 years old, of [Pima Indian heritage](https://itcaonline.com/member-tribes/salt-river-pima-maricopa-indian-community/) and living near Phoenix, Arizona, was tested for diabetes according to World Health Organization criteria.  The data<sup>1</sup> were collected by the US National Institute of Diabetes and Digestive and Kidney Diseases.  They used the 532 complete records after dropping the (mainly missing) data on serum insulin. Some of the observations were randomly split into training data sets and some were set aside in a testing data set named `Pima.te` that we will use in this assignment. The variables included in `Pima.te` are:\n",
        "\n",
        "\n",
        "- `npreg`: number of pregnancies\n",
        "- `glu`: \tplasma glucose concentration in an oral glucose tolerance test\n",
        "- `bp`:\tdiastolic blood pressure (mm Hg)\n",
        "- `skin`:\ttriceps skin fold thickness (mm)\n",
        "- `bmi`:\tbody mass index, (weight, in kg)/(height, in m)$^2$\n",
        "- `ped`: diabetes pedigree function.\n",
        "- `age`: age in years.\n",
        "- `type`: diabetic according to WHO criteria, `Yes` or `No`.\n",
        "\n",
        "<br>\n",
        "\n",
        "<font size=\"2\"> 1. Smith, J. W., Everhart, J. E., Dickson, W. C., Knowler, W. C. and Johannes, R. S. (1988) \"Using the ADAP learning algorithm to forecast the onset of diabetes mellitus\". In *Proceedings of the Symposium on Computer Applications in Medical Care* (Washington, 1988), ed. R. A. Greenes, pp. 261-265. Los Alamitos, CA: IEEE Computer Society Press. </font>\n"
      ],
      "metadata": {
        "id": "r54nH146K5m7"
      }
    },
    {
      "cell_type": "markdown",
      "source": [
        "## <a name=\"Q1\">Question 1</a>\n",
        "\n",
        "---\n",
        "\n",
        "How many observations are in the data frame `Pima.te`? Which variables are initially stored as decimals? Which are  stored as integers? Which are stored as characters? Which are stored as factors?\n",
        "\n",
        "Insert one code cell below and run one command to generate output that you can use to answer the questions above. Then type your answers in the text cell below.\n",
        "\n",
        "<br>  \n",
        "\n",
        "<font color=\"dodgerblue\">DO NOT print the entire data frame to the screen. Answer the questions using a command that generates output other than the entire data frame being displayed on screen. No credit will be earned for displaying the full data frame on screen.</font>\n",
        "\n",
        "<br>  \n"
      ],
      "metadata": {
        "id": "6ztNa0flPr0b"
      }
    },
    {
      "cell_type": "code",
      "source": [
        "# Use str(data.frame) to grasp the basic structure of the variables including its type\n",
        "str(Pima.te)"
      ],
      "metadata": {
        "id": "UBBzY4X5IBXR",
        "outputId": "e470a603-2a64-4379-91a3-2eac404a201c",
        "colab": {
          "base_uri": "https://localhost:8080/"
        }
      },
      "execution_count": 2,
      "outputs": [
        {
          "output_type": "stream",
          "name": "stdout",
          "text": [
            "'data.frame':\t332 obs. of  8 variables:\n",
            " $ npreg: int  6 1 1 3 2 5 0 1 3 9 ...\n",
            " $ glu  : int  148 85 89 78 197 166 118 103 126 119 ...\n",
            " $ bp   : int  72 66 66 50 70 72 84 30 88 80 ...\n",
            " $ skin : int  35 29 23 32 45 19 47 38 41 35 ...\n",
            " $ bmi  : num  33.6 26.6 28.1 31 30.5 25.8 45.8 43.3 39.3 29 ...\n",
            " $ ped  : num  0.627 0.351 0.167 0.248 0.158 0.587 0.551 0.183 0.704 0.263 ...\n",
            " $ age  : int  50 31 21 26 53 51 31 33 27 29 ...\n",
            " $ type : Factor w/ 2 levels \"No\",\"Yes\": 2 1 1 2 2 2 2 1 1 2 ...\n"
          ]
        }
      ]
    },
    {
      "cell_type": "markdown",
      "source": [
        "## <a name=\"sol1\">Solution to Question 1</a>\n",
        "\n",
        "---\n",
        "\n",
        "<br>  \n",
        "\n",
        "- There are 322 observations in `Pima.te`.\n",
        "- The variables stored as decimals are: bmi, and ped\n",
        "- The variables stored as integers are: npreg, glu, bp, skin, and age\n",
        "- The variables stored as characters are: NONE\n",
        "- The variables stored as factors are: type\n",
        "\n",
        "\n",
        "\n",
        "<br>  \n",
        "<br>  "
      ],
      "metadata": {
        "id": "Q9cFqpczQ2wM"
      }
    },
    {
      "cell_type": "markdown",
      "source": [
        "# <a name=\"Q2\">Question 2</a>\n",
        "\n",
        "---\n",
        "\n",
        "Use `ggplot2` (which is loaded with the `tidyverse`) to construct a density plot to display the distribution of plasma glucose concentration (`glu`) of the people in the `Pima.te` sample clearly showing two different different density plots (overlayed on the same plot) for the two subpopulations of `type` (`Yes` diabetic compared to `No` not diabetic).\n",
        "\n",
        "<br>  \n",
        "\n",
        "Add the following elements to your plot:\n",
        "\n",
        "1. Add a title to the plot and a descriptive labels to the $x$-axis.\n",
        "2. Use a built-in `theme()` of your choice.\n",
        "3. Move the legend to the bottom of the plot and increase the font size of all elements in the plot.\n",
        "\n",
        "<br>  \n"
      ],
      "metadata": {
        "id": "cxcR-DXmCBSo"
      }
    },
    {
      "cell_type": "code",
      "source": [
        "# Use fill = type to make 2 density plots in one plot in correspondence to type, (Yes = diabetic, No = not diabetic)\n",
        "ggplot(Pima.te, aes(x = glu, fill = type)\n",
        "\n",
        "# geom_density() for creating a density plot and alpha is for the opacity of each plot\n",
        ") + geom_density(alpha = 0.3) +\n",
        "\n",
        "# Create a title, subtitle, and x-axis label using labs()\n",
        "  labs(title = \"Density plot of Plasma Glucose Concentration\",\n",
        "       subtitle = \"between people who are diabetic and not diabetic\",\n",
        "       x = \"Plasma Glucose Concentration in an oral glucose test\") +\n",
        "\n",
        "         # Use a built-in theme black & white\n",
        "         theme_bw() +\n",
        "\n",
        "         # Use theme() to customize text size and the legend position\n",
        "         theme(text = element_text(size = 16), legend.position = \"bottom\")"
      ],
      "metadata": {
        "id": "4hknzcvOKdmD",
        "outputId": "6856f55d-f6ab-418b-a487-ff8258e6650e",
        "colab": {
          "base_uri": "https://localhost:8080/",
          "height": 437
        }
      },
      "execution_count": 18,
      "outputs": [
        {
          "output_type": "display_data",
          "data": {
            "text/plain": [
              "plot without title"
            ],
            "image/png": "[encoded data removed]"
          },
          "metadata": {
            "image/png": {
              "width": 420,
              "height": 420
            }
          }
        }
      ]
    },
    {
      "cell_type": "markdown",
      "source": [
        "# <a name=\"Q3\">Question 3</a>\n",
        "\n",
        "---\n",
        "\n",
        "Use `ggplot2` to construct a \"basic\" scatter plot of `skin` (response variable on $y$-axis) versus `bmi` (predictor variable on $x$-axis) that maps `type` to the `color` and `shape` aesthetics. Just add a geom layer for the scatter plot and do not worry about formatting non-data elements of the plot, but you **must map a `size` aesthetic locally inside the geom to slightly increase the size of the points** to a size of your liking.\n",
        "\n",
        "\n",
        "<br>  \n"
      ],
      "metadata": {
        "id": "lkFGy0yAUH_p"
      }
    },
    {
      "cell_type": "code",
      "source": [
        "# Construct a basic scatter plot using ggplot() and geom_point(), and use aes() as the question instructed, and size in geom_point() to increase point size\n",
        "ggplot(Pima.te, aes(x = bmi, y = skin, color = type, shape = type)\n",
        ") + geom_point(size = 3)"
      ],
      "metadata": {
        "id": "3vwm-xFZNwks",
        "outputId": "fd1e827d-9a26-4671-91e9-c6a37752c6be",
        "colab": {
          "base_uri": "https://localhost:8080/",
          "height": 437
        }
      },
      "execution_count": 4,
      "outputs": [
        {
          "output_type": "display_data",
          "data": {
            "text/plain": [
              "plot without title"
            ],
            "image/png": "[encoded data removed]"
          },
          "metadata": {
            "image/png": {
              "width": 420,
              "height": 420
            }
          }
        }
      ]
    },
    {
      "cell_type": "markdown",
      "source": [
        "# <a name=\"Q4\">Question 4</a>\n",
        "\n",
        "---\n",
        "\n",
        "Run the first code cell below to convert the data frame `Pima.te` to a tibble and assign the result back to an object named `Pima.te`. No output will be generated after running the first code cell. Converting to a tibble will help the data frame work more smoothly with functions in the `dplyr` package.\n",
        "\n",
        "\n",
        "<br>  \n",
        "\n",
        "Then in the second code cell, use the `rename()` function to change the name of the variable `npreg` in the `Pima.te` data frame to a new, different name that you feel is descriptive of the values stored in that variable and still follows the [`snake_case` naming convention](https://r4ds.hadley.nz/workflow-basics.html#sec-whats-in-a-name).\n",
        "\n",
        "- Store the new data frame to a data frame named `pima`.\n",
        "- Print or display the first 4 rows of your updated `pima` data frame to the screen.\n",
        "\n",
        "\n",
        "<br>  \n"
      ],
      "metadata": {
        "id": "6ttS8bhhUnHr"
      }
    },
    {
      "cell_type": "code",
      "source": [
        "# run to convert Pima.te to a tibble\n",
        "Pima.te <- as_tibble(Pima.te)"
      ],
      "metadata": {
        "id": "BxF8h0X-aeB2"
      },
      "execution_count": 5,
      "outputs": []
    },
    {
      "cell_type": "code",
      "source": [
        "# use code cell to change name of npreg in Pima.te\n",
        "# store result to new data frame named pima\n",
        "# print first 4 rows of new data frame pima\n",
        "\n",
        "# Use rename() to rename a column's name in Pima.te, and store it in the pima variable\n",
        "pima <- rename(Pima.te, num_preg = npreg)\n",
        "\n",
        "# Print out the first 4 rows of pima to check if the column name changed\n",
        "print(pima, n = 4)"
      ],
      "metadata": {
        "id": "BNzj6a8yWoww",
        "outputId": "824e22a4-ccdb-4c7f-e8ce-5568a94055e4",
        "colab": {
          "base_uri": "https://localhost:8080/"
        }
      },
      "execution_count": 6,
      "outputs": [
        {
          "output_type": "stream",
          "name": "stdout",
          "text": [
            "\u001b[90m# A tibble: 332 × 8\u001b[39m\n",
            "  num_preg   glu    bp  skin   bmi   ped   age type \n",
            "     \u001b[3m\u001b[90m<int>\u001b[39m\u001b[23m \u001b[3m\u001b[90m<int>\u001b[39m\u001b[23m \u001b[3m\u001b[90m<int>\u001b[39m\u001b[23m \u001b[3m\u001b[90m<int>\u001b[39m\u001b[23m \u001b[3m\u001b[90m<dbl>\u001b[39m\u001b[23m \u001b[3m\u001b[90m<dbl>\u001b[39m\u001b[23m \u001b[3m\u001b[90m<int>\u001b[39m\u001b[23m \u001b[3m\u001b[90m<fct>\u001b[39m\u001b[23m\n",
            "\u001b[90m1\u001b[39m        6   148    72    35  33.6 0.627    50 Yes  \n",
            "\u001b[90m2\u001b[39m        1    85    66    29  26.6 0.351    31 No   \n",
            "\u001b[90m3\u001b[39m        1    89    66    23  28.1 0.167    21 No   \n",
            "\u001b[90m4\u001b[39m        3    78    50    32  31   0.248    26 Yes  \n",
            "\u001b[90m# ℹ 328 more rows\u001b[39m\n"
          ]
        }
      ]
    },
    {
      "cell_type": "markdown",
      "source": [
        "# <a name=\"Q5\">Question 5</a>\n",
        "\n",
        "---\n",
        "\n",
        "Use the `filter()` function to only keep the rows of the data frame `pima` created in [Question 4](#Q4) with the number of pregnancies greater than 10. You don't need to save the updated object; simply let the filtered object print to the screen.\n",
        "\n",
        "\n",
        "<br>  \n"
      ],
      "metadata": {
        "id": "2SYpdZIrWT9p"
      }
    },
    {
      "cell_type": "code",
      "source": [
        "# Use filter() to filter the rows in pima df where num_preg is more than 10, this is similar to slicing like df[conditions1,]\n",
        "filter(pima, num_preg > 10)"
      ],
      "metadata": {
        "id": "rEOjZ2hrPgVE",
        "outputId": "c129d95b-d84b-4e92-a6a8-7a3beeb63d81",
        "colab": {
          "base_uri": "https://localhost:8080/",
          "height": 506
        }
      },
      "execution_count": 7,
      "outputs": [
        {
          "output_type": "display_data",
          "data": {
            "text/html": [
              "<table class=\"dataframe\">\n",
              "<caption>A tibble: 13 × 8</caption>\n",
              "<thead>\n",
              "\t<tr><th scope=col>num_preg</th><th scope=col>glu</th><th scope=col>bp</th><th scope=col>skin</th><th scope=col>bmi</th><th scope=col>ped</th><th scope=col>age</th><th scope=col>type</th></tr>\n",
              "\t<tr><th scope=col>&lt;int&gt;</th><th scope=col>&lt;int&gt;</th><th scope=col>&lt;int&gt;</th><th scope=col>&lt;int&gt;</th><th scope=col>&lt;dbl&gt;</th><th scope=col>&lt;dbl&gt;</th><th scope=col>&lt;int&gt;</th><th scope=col>&lt;fct&gt;</th></tr>\n",
              "</thead>\n",
              "<tbody>\n",
              "\t<tr><td>13</td><td>106</td><td>72</td><td>54</td><td>36.6</td><td>0.178</td><td>45</td><td>No </td></tr>\n",
              "\t<tr><td>15</td><td>136</td><td>70</td><td>32</td><td>37.1</td><td>0.153</td><td>43</td><td>Yes</td></tr>\n",
              "\t<tr><td>17</td><td>163</td><td>72</td><td>41</td><td>40.9</td><td>0.817</td><td>47</td><td>Yes</td></tr>\n",
              "\t<tr><td>11</td><td>155</td><td>76</td><td>28</td><td>33.3</td><td>1.353</td><td>51</td><td>Yes</td></tr>\n",
              "\t<tr><td>13</td><td>152</td><td>90</td><td>33</td><td>26.8</td><td>0.731</td><td>43</td><td>Yes</td></tr>\n",
              "\t<tr><td>12</td><td> 84</td><td>72</td><td>31</td><td>29.7</td><td>0.297</td><td>46</td><td>Yes</td></tr>\n",
              "\t<tr><td>11</td><td>103</td><td>68</td><td>40</td><td>46.2</td><td>0.126</td><td>42</td><td>No </td></tr>\n",
              "\t<tr><td>11</td><td>111</td><td>84</td><td>40</td><td>46.8</td><td>0.925</td><td>45</td><td>Yes</td></tr>\n",
              "\t<tr><td>11</td><td>138</td><td>74</td><td>26</td><td>36.1</td><td>0.557</td><td>50</td><td>Yes</td></tr>\n",
              "\t<tr><td>11</td><td>136</td><td>84</td><td>35</td><td>28.3</td><td>0.260</td><td>42</td><td>Yes</td></tr>\n",
              "\t<tr><td>11</td><td>120</td><td>80</td><td>37</td><td>42.3</td><td>0.785</td><td>48</td><td>Yes</td></tr>\n",
              "\t<tr><td>13</td><td>153</td><td>88</td><td>37</td><td>40.6</td><td>1.174</td><td>39</td><td>No </td></tr>\n",
              "\t<tr><td>12</td><td>100</td><td>84</td><td>33</td><td>30.0</td><td>0.488</td><td>46</td><td>No </td></tr>\n",
              "</tbody>\n",
              "</table>\n"
            ],
            "text/markdown": "\nA tibble: 13 × 8\n\n| num_preg &lt;int&gt; | glu &lt;int&gt; | bp &lt;int&gt; | skin &lt;int&gt; | bmi &lt;dbl&gt; | ped &lt;dbl&gt; | age &lt;int&gt; | type &lt;fct&gt; |\n|---|---|---|---|---|---|---|---|\n| 13 | 106 | 72 | 54 | 36.6 | 0.178 | 45 | No  |\n| 15 | 136 | 70 | 32 | 37.1 | 0.153 | 43 | Yes |\n| 17 | 163 | 72 | 41 | 40.9 | 0.817 | 47 | Yes |\n| 11 | 155 | 76 | 28 | 33.3 | 1.353 | 51 | Yes |\n| 13 | 152 | 90 | 33 | 26.8 | 0.731 | 43 | Yes |\n| 12 |  84 | 72 | 31 | 29.7 | 0.297 | 46 | Yes |\n| 11 | 103 | 68 | 40 | 46.2 | 0.126 | 42 | No  |\n| 11 | 111 | 84 | 40 | 46.8 | 0.925 | 45 | Yes |\n| 11 | 138 | 74 | 26 | 36.1 | 0.557 | 50 | Yes |\n| 11 | 136 | 84 | 35 | 28.3 | 0.260 | 42 | Yes |\n| 11 | 120 | 80 | 37 | 42.3 | 0.785 | 48 | Yes |\n| 13 | 153 | 88 | 37 | 40.6 | 1.174 | 39 | No  |\n| 12 | 100 | 84 | 33 | 30.0 | 0.488 | 46 | No  |\n\n",
            "text/latex": "A tibble: 13 × 8\n\\begin{tabular}{llllllll}\n num\\_preg & glu & bp & skin & bmi & ped & age & type\\\\\n <int> & <int> & <int> & <int> & <dbl> & <dbl> & <int> & <fct>\\\\\n\\hline\n\t 13 & 106 & 72 & 54 & 36.6 & 0.178 & 45 & No \\\\\n\t 15 & 136 & 70 & 32 & 37.1 & 0.153 & 43 & Yes\\\\\n\t 17 & 163 & 72 & 41 & 40.9 & 0.817 & 47 & Yes\\\\\n\t 11 & 155 & 76 & 28 & 33.3 & 1.353 & 51 & Yes\\\\\n\t 13 & 152 & 90 & 33 & 26.8 & 0.731 & 43 & Yes\\\\\n\t 12 &  84 & 72 & 31 & 29.7 & 0.297 & 46 & Yes\\\\\n\t 11 & 103 & 68 & 40 & 46.2 & 0.126 & 42 & No \\\\\n\t 11 & 111 & 84 & 40 & 46.8 & 0.925 & 45 & Yes\\\\\n\t 11 & 138 & 74 & 26 & 36.1 & 0.557 & 50 & Yes\\\\\n\t 11 & 136 & 84 & 35 & 28.3 & 0.260 & 42 & Yes\\\\\n\t 11 & 120 & 80 & 37 & 42.3 & 0.785 & 48 & Yes\\\\\n\t 13 & 153 & 88 & 37 & 40.6 & 1.174 & 39 & No \\\\\n\t 12 & 100 & 84 & 33 & 30.0 & 0.488 & 46 & No \\\\\n\\end{tabular}\n",
            "text/plain": [
              "   num_preg glu bp skin bmi  ped   age type\n",
              "1  13       106 72 54   36.6 0.178 45  No  \n",
              "2  15       136 70 32   37.1 0.153 43  Yes \n",
              "3  17       163 72 41   40.9 0.817 47  Yes \n",
              "4  11       155 76 28   33.3 1.353 51  Yes \n",
              "5  13       152 90 33   26.8 0.731 43  Yes \n",
              "6  12        84 72 31   29.7 0.297 46  Yes \n",
              "7  11       103 68 40   46.2 0.126 42  No  \n",
              "8  11       111 84 40   46.8 0.925 45  Yes \n",
              "9  11       138 74 26   36.1 0.557 50  Yes \n",
              "10 11       136 84 35   28.3 0.260 42  Yes \n",
              "11 11       120 80 37   42.3 0.785 48  Yes \n",
              "12 13       153 88 37   40.6 1.174 39  No  \n",
              "13 12       100 84 33   30.0 0.488 46  No  "
            ]
          },
          "metadata": {}
        }
      ]
    },
    {
      "cell_type": "markdown",
      "source": [
        "# <a name=\"Q6\">Question 6</a>\n",
        "\n",
        "---\n",
        "\n",
        "Use the pipe to string together the following actions:\n",
        "\n",
        "- Use the `filter` function to  keep the rows of `pima` (created in [Question 4](#Q4)) with `type` equal to Yes and `bmi` greater than 47, and\n",
        "- Use the `arrange` function to arrange the rows in descending order by `glu`.\n",
        "\n",
        "You do not need to save the object; simply let the results print to the screen.\n",
        "\n",
        "\n",
        "<br>  \n"
      ],
      "metadata": {
        "id": "dJelMXYvUs4Q"
      }
    },
    {
      "cell_type": "code",
      "source": [
        "# Use pima df and use piping (|>) to do the actions as the question said, in order. Piping is the same as saying \"then\".\n",
        "# The code below is the same as, \"Use pima df, then filter it, then arrange it\"\n",
        "pima |> filter(type == \"Yes\", bmi > 47) |> arrange(desc(glu))"
      ],
      "metadata": {
        "id": "Aj6dtW9gQmHU",
        "outputId": "7a3598e6-e871-4ec0-e851-960e992a2e3b",
        "colab": {
          "base_uri": "https://localhost:8080/",
          "height": 349
        }
      },
      "execution_count": 8,
      "outputs": [
        {
          "output_type": "display_data",
          "data": {
            "text/html": [
              "<table class=\"dataframe\">\n",
              "<caption>A tibble: 8 × 8</caption>\n",
              "<thead>\n",
              "\t<tr><th scope=col>num_preg</th><th scope=col>glu</th><th scope=col>bp</th><th scope=col>skin</th><th scope=col>bmi</th><th scope=col>ped</th><th scope=col>age</th><th scope=col>type</th></tr>\n",
              "\t<tr><th scope=col>&lt;int&gt;</th><th scope=col>&lt;int&gt;</th><th scope=col>&lt;int&gt;</th><th scope=col>&lt;int&gt;</th><th scope=col>&lt;dbl&gt;</th><th scope=col>&lt;dbl&gt;</th><th scope=col>&lt;int&gt;</th><th scope=col>&lt;fct&gt;</th></tr>\n",
              "</thead>\n",
              "<tbody>\n",
              "\t<tr><td>0</td><td>180</td><td> 78</td><td>63</td><td>59.4</td><td>2.420</td><td>25</td><td>Yes</td></tr>\n",
              "\t<tr><td>0</td><td>162</td><td> 76</td><td>56</td><td>53.2</td><td>0.759</td><td>25</td><td>Yes</td></tr>\n",
              "\t<tr><td>0</td><td>162</td><td> 76</td><td>36</td><td>49.6</td><td>0.364</td><td>26</td><td>Yes</td></tr>\n",
              "\t<tr><td>7</td><td>152</td><td> 88</td><td>44</td><td>50.0</td><td>0.337</td><td>36</td><td>Yes</td></tr>\n",
              "\t<tr><td>1</td><td>147</td><td> 94</td><td>41</td><td>49.3</td><td>0.358</td><td>27</td><td>Yes</td></tr>\n",
              "\t<tr><td>0</td><td>129</td><td>110</td><td>46</td><td>67.1</td><td>0.319</td><td>26</td><td>Yes</td></tr>\n",
              "\t<tr><td>1</td><td>122</td><td> 90</td><td>51</td><td>49.7</td><td>0.325</td><td>31</td><td>Yes</td></tr>\n",
              "\t<tr><td>1</td><td> 88</td><td> 30</td><td>42</td><td>55.0</td><td>0.496</td><td>26</td><td>Yes</td></tr>\n",
              "</tbody>\n",
              "</table>\n"
            ],
            "text/markdown": "\nA tibble: 8 × 8\n\n| num_preg &lt;int&gt; | glu &lt;int&gt; | bp &lt;int&gt; | skin &lt;int&gt; | bmi &lt;dbl&gt; | ped &lt;dbl&gt; | age &lt;int&gt; | type &lt;fct&gt; |\n|---|---|---|---|---|---|---|---|\n| 0 | 180 |  78 | 63 | 59.4 | 2.420 | 25 | Yes |\n| 0 | 162 |  76 | 56 | 53.2 | 0.759 | 25 | Yes |\n| 0 | 162 |  76 | 36 | 49.6 | 0.364 | 26 | Yes |\n| 7 | 152 |  88 | 44 | 50.0 | 0.337 | 36 | Yes |\n| 1 | 147 |  94 | 41 | 49.3 | 0.358 | 27 | Yes |\n| 0 | 129 | 110 | 46 | 67.1 | 0.319 | 26 | Yes |\n| 1 | 122 |  90 | 51 | 49.7 | 0.325 | 31 | Yes |\n| 1 |  88 |  30 | 42 | 55.0 | 0.496 | 26 | Yes |\n\n",
            "text/latex": "A tibble: 8 × 8\n\\begin{tabular}{llllllll}\n num\\_preg & glu & bp & skin & bmi & ped & age & type\\\\\n <int> & <int> & <int> & <int> & <dbl> & <dbl> & <int> & <fct>\\\\\n\\hline\n\t 0 & 180 &  78 & 63 & 59.4 & 2.420 & 25 & Yes\\\\\n\t 0 & 162 &  76 & 56 & 53.2 & 0.759 & 25 & Yes\\\\\n\t 0 & 162 &  76 & 36 & 49.6 & 0.364 & 26 & Yes\\\\\n\t 7 & 152 &  88 & 44 & 50.0 & 0.337 & 36 & Yes\\\\\n\t 1 & 147 &  94 & 41 & 49.3 & 0.358 & 27 & Yes\\\\\n\t 0 & 129 & 110 & 46 & 67.1 & 0.319 & 26 & Yes\\\\\n\t 1 & 122 &  90 & 51 & 49.7 & 0.325 & 31 & Yes\\\\\n\t 1 &  88 &  30 & 42 & 55.0 & 0.496 & 26 & Yes\\\\\n\\end{tabular}\n",
            "text/plain": [
              "  num_preg glu bp  skin bmi  ped   age type\n",
              "1 0        180  78 63   59.4 2.420 25  Yes \n",
              "2 0        162  76 56   53.2 0.759 25  Yes \n",
              "3 0        162  76 36   49.6 0.364 26  Yes \n",
              "4 7        152  88 44   50.0 0.337 36  Yes \n",
              "5 1        147  94 41   49.3 0.358 27  Yes \n",
              "6 0        129 110 46   67.1 0.319 26  Yes \n",
              "7 1        122  90 51   49.7 0.325 31  Yes \n",
              "8 1         88  30 42   55.0 0.496 26  Yes "
            ]
          },
          "metadata": {}
        }
      ]
    },
    {
      "cell_type": "markdown",
      "source": [
        "# <a name=\"Q7\">Question 7</a>\n",
        "\n",
        "---\n",
        "\n",
        "Use the `summarize` function on `pima` (created in [Question 4](#Q4)) to compute the mean diastolic blood pressure (`bp`), the standard deviation of the diastolic blood pressure, the mean `bmi`, the standard deviation of `bmi`, and the median number of pregnancies.\n",
        "\n",
        "<br>  \n",
        "\n",
        "Make sure to give each column a suitable name (e.g., `mean_bp`). You do not need to save the object; simply let the results print to the screen.\n",
        "\n",
        "<br>  \n"
      ],
      "metadata": {
        "id": "s9nQLRpWb7CF"
      }
    },
    {
      "cell_type": "code",
      "source": [
        "# Use summarize() to create column names and its value, i.e. mean_bp = mean(bp) -> create a column name mean_bp and calculate the mean of bp using mean(bp) and store it in the column mean_bp\n",
        "# and do the same for other statistics\n",
        "summarize(pima,mean_bp = mean(bp),\n",
        "               std_bp = sd(bp),\n",
        "               mean_bmi = mean(bmi),\n",
        "               std_bmp = sd(bmi),\n",
        "               median_num_preg = median(num_preg))"
      ],
      "metadata": {
        "id": "KeLg_QVlQ9RP",
        "outputId": "fd937cba-10d8-4221-80e6-6597a85bb4aa",
        "colab": {
          "base_uri": "https://localhost:8080/",
          "height": 129
        }
      },
      "execution_count": 9,
      "outputs": [
        {
          "output_type": "display_data",
          "data": {
            "text/html": [
              "<table class=\"dataframe\">\n",
              "<caption>A tibble: 1 × 5</caption>\n",
              "<thead>\n",
              "\t<tr><th scope=col>mean_bp</th><th scope=col>std_bp</th><th scope=col>mean_bmi</th><th scope=col>std_bmp</th><th scope=col>median_num_preg</th></tr>\n",
              "\t<tr><th scope=col>&lt;dbl&gt;</th><th scope=col>&lt;dbl&gt;</th><th scope=col>&lt;dbl&gt;</th><th scope=col>&lt;dbl&gt;</th><th scope=col>&lt;dbl&gt;</th></tr>\n",
              "</thead>\n",
              "<tbody>\n",
              "\t<tr><td>71.65361</td><td>12.79931</td><td>33.23976</td><td>7.282901</td><td>2</td></tr>\n",
              "</tbody>\n",
              "</table>\n"
            ],
            "text/markdown": "\nA tibble: 1 × 5\n\n| mean_bp &lt;dbl&gt; | std_bp &lt;dbl&gt; | mean_bmi &lt;dbl&gt; | std_bmp &lt;dbl&gt; | median_num_preg &lt;dbl&gt; |\n|---|---|---|---|---|\n| 71.65361 | 12.79931 | 33.23976 | 7.282901 | 2 |\n\n",
            "text/latex": "A tibble: 1 × 5\n\\begin{tabular}{lllll}\n mean\\_bp & std\\_bp & mean\\_bmi & std\\_bmp & median\\_num\\_preg\\\\\n <dbl> & <dbl> & <dbl> & <dbl> & <dbl>\\\\\n\\hline\n\t 71.65361 & 12.79931 & 33.23976 & 7.282901 & 2\\\\\n\\end{tabular}\n",
            "text/plain": [
              "  mean_bp  std_bp   mean_bmi std_bmp  median_num_preg\n",
              "1 71.65361 12.79931 33.23976 7.282901 2              "
            ]
          },
          "metadata": {}
        }
      ]
    },
    {
      "cell_type": "markdown",
      "source": [
        "# <a name=\"Q8\">Question 8</a>\n",
        "\n",
        "---\n",
        "\n",
        "Use the `group_by` function to group the rows of `pima` (created in [Question 4](#Q4)) by `type` and then use the `summarize` function to compute the mean diastolic blood pressure (`bp`), the standard deviation of the diastolic blood pressure, the mean `bmi`, the standard deviation of `bmi`, and the median number of pregnancies. You do not need to save the object; simply let the results print to the screen.\n",
        "\n",
        "\n",
        "<br>  \n"
      ],
      "metadata": {
        "id": "jtdgbVk_dDUK"
      }
    },
    {
      "cell_type": "code",
      "source": [
        "# Do the same thing as question 7, but add group_by(type) which groups the type together, and I used piping for purpose of reading.\n",
        "pima |> group_by(type) |> summarize(mean_bp = mean(bp),\n",
        "                                              std_bp = sd(bp),\n",
        "                                              mean_bmi = mean(bmi),\n",
        "                                              std_bmp = sd(bmi),\n",
        "                                              median_num_preg = median(num_preg))\n"
      ],
      "metadata": {
        "id": "y3Fbzn_DTEcK",
        "outputId": "eded19f3-d7c9-4cb7-ff47-f0e8b2440c87",
        "colab": {
          "base_uri": "https://localhost:8080/",
          "height": 161
        }
      },
      "execution_count": 10,
      "outputs": [
        {
          "output_type": "display_data",
          "data": {
            "text/html": [
              "<table class=\"dataframe\">\n",
              "<caption>A tibble: 2 × 6</caption>\n",
              "<thead>\n",
              "\t<tr><th scope=col>type</th><th scope=col>mean_bp</th><th scope=col>std_bp</th><th scope=col>mean_bmi</th><th scope=col>std_bmp</th><th scope=col>median_num_preg</th></tr>\n",
              "\t<tr><th scope=col>&lt;fct&gt;</th><th scope=col>&lt;dbl&gt;</th><th scope=col>&lt;dbl&gt;</th><th scope=col>&lt;dbl&gt;</th><th scope=col>&lt;dbl&gt;</th><th scope=col>&lt;int&gt;</th></tr>\n",
              "</thead>\n",
              "<tbody>\n",
              "\t<tr><td>No </td><td>70.13004</td><td>12.38192</td><td>31.63991</td><td>6.648015</td><td>2</td></tr>\n",
              "\t<tr><td>Yes</td><td>74.77064</td><td>13.12803</td><td>36.51284</td><td>7.457548</td><td>3</td></tr>\n",
              "</tbody>\n",
              "</table>\n"
            ],
            "text/markdown": "\nA tibble: 2 × 6\n\n| type &lt;fct&gt; | mean_bp &lt;dbl&gt; | std_bp &lt;dbl&gt; | mean_bmi &lt;dbl&gt; | std_bmp &lt;dbl&gt; | median_num_preg &lt;int&gt; |\n|---|---|---|---|---|---|\n| No  | 70.13004 | 12.38192 | 31.63991 | 6.648015 | 2 |\n| Yes | 74.77064 | 13.12803 | 36.51284 | 7.457548 | 3 |\n\n",
            "text/latex": "A tibble: 2 × 6\n\\begin{tabular}{llllll}\n type & mean\\_bp & std\\_bp & mean\\_bmi & std\\_bmp & median\\_num\\_preg\\\\\n <fct> & <dbl> & <dbl> & <dbl> & <dbl> & <int>\\\\\n\\hline\n\t No  & 70.13004 & 12.38192 & 31.63991 & 6.648015 & 2\\\\\n\t Yes & 74.77064 & 13.12803 & 36.51284 & 7.457548 & 3\\\\\n\\end{tabular}\n",
            "text/plain": [
              "  type mean_bp  std_bp   mean_bmi std_bmp  median_num_preg\n",
              "1 No   70.13004 12.38192 31.63991 6.648015 2              \n",
              "2 Yes  74.77064 13.12803 36.51284 7.457548 3              "
            ]
          },
          "metadata": {}
        }
      ]
    },
    {
      "cell_type": "markdown",
      "source": [
        "# <a name=\"Q9\">Question 9</a>\n",
        "\n",
        "---\n",
        "\n",
        "Use the `relocate` function to move the `type` column of `pima` (created in [Question 4](#Q4)) to after the `glu` column. Then print the first 10 rows of the result to the screen. You do not need to save the object.\n",
        "\n",
        "<br>  \n"
      ],
      "metadata": {
        "id": "drOdkwt1e8zB"
      }
    },
    {
      "cell_type": "code",
      "source": [
        "# Use piping and use relocate() to move the type column after the glu column then print out 10 rows of the df\n",
        "pima |> relocate(type, .after = glu) |> print(n = 10)"
      ],
      "metadata": {
        "id": "IwefPrTUTuQ1",
        "outputId": "ef4e17a5-f6b7-41c3-f544-a3464aadb82e",
        "colab": {
          "base_uri": "https://localhost:8080/"
        }
      },
      "execution_count": 11,
      "outputs": [
        {
          "output_type": "stream",
          "name": "stdout",
          "text": [
            "\u001b[90m# A tibble: 332 × 8\u001b[39m\n",
            "   num_preg   glu type     bp  skin   bmi   ped   age\n",
            "      \u001b[3m\u001b[90m<int>\u001b[39m\u001b[23m \u001b[3m\u001b[90m<int>\u001b[39m\u001b[23m \u001b[3m\u001b[90m<fct>\u001b[39m\u001b[23m \u001b[3m\u001b[90m<int>\u001b[39m\u001b[23m \u001b[3m\u001b[90m<int>\u001b[39m\u001b[23m \u001b[3m\u001b[90m<dbl>\u001b[39m\u001b[23m \u001b[3m\u001b[90m<dbl>\u001b[39m\u001b[23m \u001b[3m\u001b[90m<int>\u001b[39m\u001b[23m\n",
            "\u001b[90m 1\u001b[39m        6   148 Yes      72    35  33.6 0.627    50\n",
            "\u001b[90m 2\u001b[39m        1    85 No       66    29  26.6 0.351    31\n",
            "\u001b[90m 3\u001b[39m        1    89 No       66    23  28.1 0.167    21\n",
            "\u001b[90m 4\u001b[39m        3    78 Yes      50    32  31   0.248    26\n",
            "\u001b[90m 5\u001b[39m        2   197 Yes      70    45  30.5 0.158    53\n",
            "\u001b[90m 6\u001b[39m        5   166 Yes      72    19  25.8 0.587    51\n",
            "\u001b[90m 7\u001b[39m        0   118 Yes      84    47  45.8 0.551    31\n",
            "\u001b[90m 8\u001b[39m        1   103 No       30    38  43.3 0.183    33\n",
            "\u001b[90m 9\u001b[39m        3   126 No       88    41  39.3 0.704    27\n",
            "\u001b[90m10\u001b[39m        9   119 Yes      80    35  29   0.263    29\n",
            "\u001b[90m# ℹ 322 more rows\u001b[39m\n"
          ]
        }
      ]
    },
    {
      "cell_type": "markdown",
      "source": [
        "# <a name=\"Q10\">Question 10</a>\n",
        "\n",
        "---\n",
        "\n",
        "The standard formula for the body mass index (BMI) in metric units which is used in this data is\n",
        "\n",
        "$$\\text{BMI} = \\frac{\\text{weight in kg}}{(\\text{height in m})^2}$$\n",
        "\n",
        "We can roughly approximate a person's weight from their BMI using the following information:\n",
        "\n",
        "- Since we do not know each person's height in this data, we approximate each person's height with $1.625$ meters (5 feet 4 inches) which is the average height of Pima Indian women.\n",
        "\n",
        "- We can use the fact that $1$ kilogram is equal to $2.20462$ pounds to convert weight to pounds.\n",
        "\n",
        "Use the `mutate()` function on the `pima` data frame (created in [Question 4](#Q4)) to create a new variable, `weight`, that is equal to `bmi` times $(1.625)^2$ (which gives an approximate weight in kg.), which is then multiplied by $2.20462$ to convert the weight to pounds.  \n",
        "\n",
        "- Store the output to a new data frame called `new_pima`.\n",
        "- Then print the first 10 rows of `new_pima`.\n",
        "\n",
        "<br>  \n"
      ],
      "metadata": {
        "id": "LA-NVsKLi7Pa"
      }
    },
    {
      "cell_type": "code",
      "source": [
        "# Use piping and use mutate() to create a new column and store the calculation of BMI from each rows in that column, and store the new df that contains the new column in new_pima\n",
        "new_pima <- pima |> mutate(weight = bmi * (1.625^2) * 2.20462)\n",
        "\n",
        "# Print out the first 10 rows of new_pima\n",
        "print(new_pima,n = 10)"
      ],
      "metadata": {
        "id": "IbwQUckWT86F",
        "outputId": "9aec8a98-69a5-48ca-cce7-6398b80003e7",
        "colab": {
          "base_uri": "https://localhost:8080/"
        }
      },
      "execution_count": 19,
      "outputs": [
        {
          "output_type": "stream",
          "name": "stdout",
          "text": [
            "\u001b[90m# A tibble: 332 × 9\u001b[39m\n",
            "   num_preg   glu    bp  skin   bmi   ped   age type  weight\n",
            "      \u001b[3m\u001b[90m<int>\u001b[39m\u001b[23m \u001b[3m\u001b[90m<int>\u001b[39m\u001b[23m \u001b[3m\u001b[90m<int>\u001b[39m\u001b[23m \u001b[3m\u001b[90m<int>\u001b[39m\u001b[23m \u001b[3m\u001b[90m<dbl>\u001b[39m\u001b[23m \u001b[3m\u001b[90m<dbl>\u001b[39m\u001b[23m \u001b[3m\u001b[90m<int>\u001b[39m\u001b[23m \u001b[3m\u001b[90m<fct>\u001b[39m\u001b[23m  \u001b[3m\u001b[90m<dbl>\u001b[39m\u001b[23m\n",
            "\u001b[90m 1\u001b[39m        6   148    72    35  33.6 0.627    50 Yes     196.\n",
            "\u001b[90m 2\u001b[39m        1    85    66    29  26.6 0.351    31 No      155.\n",
            "\u001b[90m 3\u001b[39m        1    89    66    23  28.1 0.167    21 No      164.\n",
            "\u001b[90m 4\u001b[39m        3    78    50    32  31   0.248    26 Yes     180.\n",
            "\u001b[90m 5\u001b[39m        2   197    70    45  30.5 0.158    53 Yes     178.\n",
            "\u001b[90m 6\u001b[39m        5   166    72    19  25.8 0.587    51 Yes     150.\n",
            "\u001b[90m 7\u001b[39m        0   118    84    47  45.8 0.551    31 Yes     267.\n",
            "\u001b[90m 8\u001b[39m        1   103    30    38  43.3 0.183    33 No      252.\n",
            "\u001b[90m 9\u001b[39m        3   126    88    41  39.3 0.704    27 No      229.\n",
            "\u001b[90m10\u001b[39m        9   119    80    35  29   0.263    29 Yes     169.\n",
            "\u001b[90m# ℹ 322 more rows\u001b[39m\n"
          ]
        }
      ]
    },
    {
      "cell_type": "markdown",
      "source": [
        "# <a name=\"Q11\">Question 11</a>\n",
        "\n",
        "---\n",
        "\n",
        "Slice the `new_pima` data frame you created in [Question 10](#Q10) so that the rows with the 4 smallest weights are returned. You do not need to save the object; simply let the results print to the screen.\n",
        "\n",
        "\n",
        "<br>  \n"
      ],
      "metadata": {
        "id": "Va7iHOgnfiKD"
      }
    },
    {
      "cell_type": "code",
      "source": [
        "# Use slice_min() to slice the minimum values of a given df, slice_min(df, column_name, n (how many values))\n",
        "slice_min(new_pima, weight, n = 4)"
      ],
      "metadata": {
        "id": "8qQPv6rsWDx3",
        "outputId": "ac11072d-dba4-40f1-9e07-b182af4f8070",
        "colab": {
          "base_uri": "https://localhost:8080/",
          "height": 255
        }
      },
      "execution_count": 13,
      "outputs": [
        {
          "output_type": "display_data",
          "data": {
            "text/html": [
              "<table class=\"dataframe\">\n",
              "<caption>A tibble: 5 × 9</caption>\n",
              "<thead>\n",
              "\t<tr><th scope=col>num_preg</th><th scope=col>glu</th><th scope=col>bp</th><th scope=col>skin</th><th scope=col>bmi</th><th scope=col>ped</th><th scope=col>age</th><th scope=col>type</th><th scope=col>weight</th></tr>\n",
              "\t<tr><th scope=col>&lt;int&gt;</th><th scope=col>&lt;int&gt;</th><th scope=col>&lt;int&gt;</th><th scope=col>&lt;int&gt;</th><th scope=col>&lt;dbl&gt;</th><th scope=col>&lt;dbl&gt;</th><th scope=col>&lt;int&gt;</th><th scope=col>&lt;fct&gt;</th><th scope=col>&lt;dbl&gt;</th></tr>\n",
              "</thead>\n",
              "<tbody>\n",
              "\t<tr><td>1</td><td>103</td><td>80</td><td>11</td><td>19.4</td><td>0.491</td><td>22</td><td>No</td><td>112.9385</td></tr>\n",
              "\t<tr><td>1</td><td> 92</td><td>62</td><td>25</td><td>19.5</td><td>0.482</td><td>25</td><td>No</td><td>113.5207</td></tr>\n",
              "\t<tr><td>1</td><td>100</td><td>74</td><td>12</td><td>19.5</td><td>0.149</td><td>28</td><td>No</td><td>113.5207</td></tr>\n",
              "\t<tr><td>1</td><td> 95</td><td>66</td><td>13</td><td>19.6</td><td>0.334</td><td>25</td><td>No</td><td>114.1029</td></tr>\n",
              "\t<tr><td>6</td><td>129</td><td>90</td><td> 7</td><td>19.6</td><td>0.582</td><td>60</td><td>No</td><td>114.1029</td></tr>\n",
              "</tbody>\n",
              "</table>\n"
            ],
            "text/markdown": "\nA tibble: 5 × 9\n\n| num_preg &lt;int&gt; | glu &lt;int&gt; | bp &lt;int&gt; | skin &lt;int&gt; | bmi &lt;dbl&gt; | ped &lt;dbl&gt; | age &lt;int&gt; | type &lt;fct&gt; | weight &lt;dbl&gt; |\n|---|---|---|---|---|---|---|---|---|\n| 1 | 103 | 80 | 11 | 19.4 | 0.491 | 22 | No | 112.9385 |\n| 1 |  92 | 62 | 25 | 19.5 | 0.482 | 25 | No | 113.5207 |\n| 1 | 100 | 74 | 12 | 19.5 | 0.149 | 28 | No | 113.5207 |\n| 1 |  95 | 66 | 13 | 19.6 | 0.334 | 25 | No | 114.1029 |\n| 6 | 129 | 90 |  7 | 19.6 | 0.582 | 60 | No | 114.1029 |\n\n",
            "text/latex": "A tibble: 5 × 9\n\\begin{tabular}{lllllllll}\n num\\_preg & glu & bp & skin & bmi & ped & age & type & weight\\\\\n <int> & <int> & <int> & <int> & <dbl> & <dbl> & <int> & <fct> & <dbl>\\\\\n\\hline\n\t 1 & 103 & 80 & 11 & 19.4 & 0.491 & 22 & No & 112.9385\\\\\n\t 1 &  92 & 62 & 25 & 19.5 & 0.482 & 25 & No & 113.5207\\\\\n\t 1 & 100 & 74 & 12 & 19.5 & 0.149 & 28 & No & 113.5207\\\\\n\t 1 &  95 & 66 & 13 & 19.6 & 0.334 & 25 & No & 114.1029\\\\\n\t 6 & 129 & 90 &  7 & 19.6 & 0.582 & 60 & No & 114.1029\\\\\n\\end{tabular}\n",
            "text/plain": [
              "  num_preg glu bp skin bmi  ped   age type weight  \n",
              "1 1        103 80 11   19.4 0.491 22  No   112.9385\n",
              "2 1         92 62 25   19.5 0.482 25  No   113.5207\n",
              "3 1        100 74 12   19.5 0.149 28  No   113.5207\n",
              "4 1         95 66 13   19.6 0.334 25  No   114.1029\n",
              "5 6        129 90  7   19.6 0.582 60  No   114.1029"
            ]
          },
          "metadata": {}
        }
      ]
    },
    {
      "cell_type": "markdown",
      "source": [
        "# <a name=\"Q12\">Question 12</a>\n",
        "\n",
        "---\n",
        "\n",
        "Perform the following sequence of actions on the `new_pima` data frame created in [Question 10](#Q10).\n",
        "\n",
        "- Move the `type` column so it is position just before the `glu` column.\n",
        "\n",
        "-  Then group the rows of the by `type`.\n",
        "-  Then slice the rows within each `type` so that the birds with the four largest plasma glucose concentrations are returned within each of the two groups.\n",
        "- Finally, arrange the results so that rows are ordered within each group in ascending order of plasma glucose concentration value.\n",
        "\n",
        "You do not need to save the object; simply let the results print to the screen.\n",
        "\n",
        "\n",
        "<br>  \n"
      ],
      "metadata": {
        "id": "sc645pk0mXbn"
      }
    },
    {
      "cell_type": "code",
      "source": [
        "# Use relocate() to move the type column before the glu column, use group_by(type) to group the types, use slice_max() to slice the max n values of the given column name,\n",
        "# and use arrange() to group the types together and arrange in ascending order by glu\n",
        "new_pima |> relocate(type, .before = glu) |> group_by(type) |> slice_max(glu, n = 4) |> arrange(type,glu)"
      ],
      "metadata": {
        "id": "2cP67nTyYV9s",
        "outputId": "f3c6f4a3-2ed6-43b1-f3d1-e2bb1a82c146",
        "colab": {
          "base_uri": "https://localhost:8080/",
          "height": 380
        }
      },
      "execution_count": 15,
      "outputs": [
        {
          "output_type": "display_data",
          "data": {
            "text/html": [
              "<table class=\"dataframe\">\n",
              "<caption>A grouped_df: 9 × 9</caption>\n",
              "<thead>\n",
              "\t<tr><th scope=col>num_preg</th><th scope=col>type</th><th scope=col>glu</th><th scope=col>bp</th><th scope=col>skin</th><th scope=col>bmi</th><th scope=col>ped</th><th scope=col>age</th><th scope=col>weight</th></tr>\n",
              "\t<tr><th scope=col>&lt;int&gt;</th><th scope=col>&lt;fct&gt;</th><th scope=col>&lt;int&gt;</th><th scope=col>&lt;int&gt;</th><th scope=col>&lt;int&gt;</th><th scope=col>&lt;dbl&gt;</th><th scope=col>&lt;dbl&gt;</th><th scope=col>&lt;int&gt;</th><th scope=col>&lt;dbl&gt;</th></tr>\n",
              "</thead>\n",
              "<tbody>\n",
              "\t<tr><td>0</td><td>No </td><td>165</td><td>90</td><td>33</td><td>52.3</td><td>0.427</td><td>23</td><td>304.4684</td></tr>\n",
              "\t<tr><td>6</td><td>No </td><td>165</td><td>68</td><td>26</td><td>33.6</td><td>0.631</td><td>49</td><td>195.6049</td></tr>\n",
              "\t<tr><td>0</td><td>No </td><td>173</td><td>78</td><td>32</td><td>46.5</td><td>1.159</td><td>58</td><td>270.7032</td></tr>\n",
              "\t<tr><td>3</td><td>No </td><td>180</td><td>64</td><td>25</td><td>34.0</td><td>0.271</td><td>26</td><td>197.9335</td></tr>\n",
              "\t<tr><td>4</td><td>No </td><td>197</td><td>70</td><td>39</td><td>36.7</td><td>2.329</td><td>31</td><td>213.6518</td></tr>\n",
              "\t<tr><td>3</td><td>Yes</td><td>193</td><td>70</td><td>31</td><td>34.9</td><td>0.241</td><td>25</td><td>203.1730</td></tr>\n",
              "\t<tr><td>8</td><td>Yes</td><td>196</td><td>76</td><td>29</td><td>37.5</td><td>0.605</td><td>57</td><td>218.3091</td></tr>\n",
              "\t<tr><td>1</td><td>Yes</td><td>196</td><td>76</td><td>36</td><td>36.5</td><td>0.875</td><td>29</td><td>212.4875</td></tr>\n",
              "\t<tr><td>2</td><td>Yes</td><td>197</td><td>70</td><td>45</td><td>30.5</td><td>0.158</td><td>53</td><td>177.5580</td></tr>\n",
              "</tbody>\n",
              "</table>\n"
            ],
            "text/markdown": "\nA grouped_df: 9 × 9\n\n| num_preg &lt;int&gt; | type &lt;fct&gt; | glu &lt;int&gt; | bp &lt;int&gt; | skin &lt;int&gt; | bmi &lt;dbl&gt; | ped &lt;dbl&gt; | age &lt;int&gt; | weight &lt;dbl&gt; |\n|---|---|---|---|---|---|---|---|---|\n| 0 | No  | 165 | 90 | 33 | 52.3 | 0.427 | 23 | 304.4684 |\n| 6 | No  | 165 | 68 | 26 | 33.6 | 0.631 | 49 | 195.6049 |\n| 0 | No  | 173 | 78 | 32 | 46.5 | 1.159 | 58 | 270.7032 |\n| 3 | No  | 180 | 64 | 25 | 34.0 | 0.271 | 26 | 197.9335 |\n| 4 | No  | 197 | 70 | 39 | 36.7 | 2.329 | 31 | 213.6518 |\n| 3 | Yes | 193 | 70 | 31 | 34.9 | 0.241 | 25 | 203.1730 |\n| 8 | Yes | 196 | 76 | 29 | 37.5 | 0.605 | 57 | 218.3091 |\n| 1 | Yes | 196 | 76 | 36 | 36.5 | 0.875 | 29 | 212.4875 |\n| 2 | Yes | 197 | 70 | 45 | 30.5 | 0.158 | 53 | 177.5580 |\n\n",
            "text/latex": "A grouped\\_df: 9 × 9\n\\begin{tabular}{lllllllll}\n num\\_preg & type & glu & bp & skin & bmi & ped & age & weight\\\\\n <int> & <fct> & <int> & <int> & <int> & <dbl> & <dbl> & <int> & <dbl>\\\\\n\\hline\n\t 0 & No  & 165 & 90 & 33 & 52.3 & 0.427 & 23 & 304.4684\\\\\n\t 6 & No  & 165 & 68 & 26 & 33.6 & 0.631 & 49 & 195.6049\\\\\n\t 0 & No  & 173 & 78 & 32 & 46.5 & 1.159 & 58 & 270.7032\\\\\n\t 3 & No  & 180 & 64 & 25 & 34.0 & 0.271 & 26 & 197.9335\\\\\n\t 4 & No  & 197 & 70 & 39 & 36.7 & 2.329 & 31 & 213.6518\\\\\n\t 3 & Yes & 193 & 70 & 31 & 34.9 & 0.241 & 25 & 203.1730\\\\\n\t 8 & Yes & 196 & 76 & 29 & 37.5 & 0.605 & 57 & 218.3091\\\\\n\t 1 & Yes & 196 & 76 & 36 & 36.5 & 0.875 & 29 & 212.4875\\\\\n\t 2 & Yes & 197 & 70 & 45 & 30.5 & 0.158 & 53 & 177.5580\\\\\n\\end{tabular}\n",
            "text/plain": [
              "  num_preg type glu bp skin bmi  ped   age weight  \n",
              "1 0        No   165 90 33   52.3 0.427 23  304.4684\n",
              "2 6        No   165 68 26   33.6 0.631 49  195.6049\n",
              "3 0        No   173 78 32   46.5 1.159 58  270.7032\n",
              "4 3        No   180 64 25   34.0 0.271 26  197.9335\n",
              "5 4        No   197 70 39   36.7 2.329 31  213.6518\n",
              "6 3        Yes  193 70 31   34.9 0.241 25  203.1730\n",
              "7 8        Yes  196 76 29   37.5 0.605 57  218.3091\n",
              "8 1        Yes  196 76 36   36.5 0.875 29  212.4875\n",
              "9 2        Yes  197 70 45   30.5 0.158 53  177.5580"
            ]
          },
          "metadata": {}
        }
      ]
    },
    {
      "cell_type": "markdown",
      "source": [
        "# <a name=\"save2\">Be Sure You Have Saved Your Work!</a>\n",
        "\n",
        "---\n",
        "\n",
        "This notebook is a shared Colab notebook available for anyone to view. However, since everyone is sharing this notebook, you do not have permission to save changes to this shared Colab notebook. In order to save your work:\n",
        "\n",
        "1. You will need to set up a free Google Drive account. If you already have a Google Drive account, you are ready to go!\n",
        "2. Click the `Copy to Drive` button to the right of the `+ Code` and `+ Text` buttons on top of the notebook.\n",
        "3. Select from the menu `File/Save a Copy in Drive`.\n",
        "  - By default, the notebook will be saved in a folder named **Colab Notebooks** in your Drive.\n",
        "  - Feel free to rename and store the notebook wherever you like.\n"
      ],
      "metadata": {
        "id": "iBmMPoh1CkEf"
      }
    }
  ]
}