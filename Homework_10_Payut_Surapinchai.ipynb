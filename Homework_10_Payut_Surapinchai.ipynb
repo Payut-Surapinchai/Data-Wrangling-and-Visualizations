{
  "nbformat": 4,
  "nbformat_minor": 0,
  "metadata": {
    "colab": {
      "provenance": []
    },
    "kernelspec": {
      "name": "ir",
      "display_name": "R"
    },
    "language_info": {
      "name": "R"
    }
  },
  "cells": [
    {
      "cell_type": "markdown",
      "source": [
        "# Homework 10: Due Wednesday, April 16 at 11:59 PM\n",
        "\n",
        "---"
      ],
      "metadata": {
        "id": "TLH2NCL-V8J_"
      }
    },
    {
      "cell_type": "markdown",
      "source": [
        "## <a name=\"HW1Inst\">Instructions:</a>\n",
        "---\n",
        "\n",
        "1. <font color=\"tomato\">Either click the COPY TO DRIVE button or use the menu File/Save/Save a Copy to save your own version of the notebook in your own folder in Google Drive.</font>\n",
        "\n",
        "  - If you do not have a Google account, you will need to create a Google account in order to create your own individual copy of this notebook.\n",
        "  - By default, the notebook will be saved in a folder named **Colab Notebooks** in your drive.\n",
        "  - Feel free to name and store the notebook wherever you like!\n",
        "\n",
        "2. <font color=\"mediumseagreen\">After you have copied the notebook into your Drive, you can begin editing and saving your work.</font>\n",
        "\n",
        "**Upload your completed assignment into Canvas as a Google Colab (or Jupyter) Notebook with file extension `.ipynb`.**\n",
        "\n",
        "Upload your file into the Homework 10 assignment in Canvas before <font color=\"dodgerblue\">**11:59PM on Wednesday, April 16.**</font>\n",
        "\n",
        "**You must provide supporting work for your all of your answers.**\n",
        "\n",
        "  - <font color=\"dodgerblue\">That work will include using R code cells.</font>\n",
        "    - **Feel free to insert as much R code as you like.**\n",
        "    - You must interpret or explain how the output of a code cell is being utilized to solve the problem.\n",
        "    - **Code with incomplete or missing explanations of why the output is useful may not receive full credit.**\n",
        "  - <font color=\"dodgerblue\">Your work will also involve writing explanations and justifications in text cells.</font>\n",
        "    - **Be sure to type/write out the steps of your work/explanation so I can see how you arrived at your answer.**\n",
        "\n",
        "\n",
        "## Important Academic Policies:\n",
        "---\n",
        "\n",
        "- **Be your own work.** Though you may collaborate with others, everyone is responsible for writing up the work in their own way using their own methods. Plagiarism of any form is not tolerated.\n",
        "- **Be complete.** You must provide all work and/or explanations needed to find the solution. Answers with insufficient or incomplete supporting work may lose credit.\n",
        "- **Adhere to the Code of Academic Honesty.**\n",
        "- **Be clearly written (and legible if written).** Your solution to a problem must be clear, written in complete sentences. You may lose credit for work that is unclear or hard to follow.\n",
        "\n",
        "## <font color=\"dodgerblue\">Let me know if you need help, and **GOOD LUCK!!!**</font>\n",
        "\n",
        "----"
      ],
      "metadata": {
        "id": "G65tVJGG0ObO"
      }
    },
    {
      "cell_type": "markdown",
      "source": [
        "# <a name=\"Q1\">Question 1</a>\n",
        "---\n",
        "\n",
        "Create each of the following matrices in R and be sure to print the output to the screen so the matrix is displayed on the screen.\n",
        "\n"
      ],
      "metadata": {
        "id": "YAndr8n2SAzO"
      }
    },
    {
      "cell_type": "markdown",
      "source": [
        "## <a name=\"Q1a\">Question 1a</a>\n",
        "\n",
        "---\n",
        "\n",
        "A matrix named $\\mathbf{A}$ that has:\n",
        "\n",
        "- First row has the values $2$, $9$, $11$, and $-5$ (in that order).\n",
        "- Second row has the values $5$, $8$, $-1$, and $10$ (in that order).\n",
        "- The last row has the values $-3$, $-8$, $12$, and $2$ (in that order).\n",
        "\n",
        "Create the matrix using the `matrix()` function in R.\n"
      ],
      "metadata": {
        "id": "RQvt2CsWSS-J"
      }
    },
    {
      "cell_type": "code",
      "source": [
        "# create matrix A and display the output to screen\n",
        "\n",
        "# Use matrix() to create a matrix, then in the first argument, input all the numbers inside this matrix, then use nrow to specify the number of rows,\n",
        "# finally use byrow to tell the function to fill the first row with the first couple values until the row is filled, then move to the next row.\n",
        "# And store the matrix in A.\n",
        "A <- matrix(c(2, 9, 11, -5, 5, 8, -1, 10, -3, -8, 12, 2), nrow = 3, byrow = TRUE)\n",
        "\n",
        "# Print out A to see its matrix.\n",
        "print(A)"
      ],
      "metadata": {
        "id": "a6lMz2omS8m2",
        "outputId": "11e0cb59-a193-4e2c-85c8-4a2b4c496249",
        "colab": {
          "base_uri": "https://localhost:8080/"
        }
      },
      "execution_count": 34,
      "outputs": [
        {
          "output_type": "stream",
          "name": "stdout",
          "text": [
            "     [,1] [,2] [,3] [,4]\n",
            "[1,]    2    9   11   -5\n",
            "[2,]    5    8   -1   10\n",
            "[3,]   -3   -8   12    2\n"
          ]
        }
      ]
    },
    {
      "cell_type": "markdown",
      "source": [
        "## <a name=\"Q1b\">Question 1b</a>\n",
        "\n",
        "---\n",
        "\n",
        "A matrix named $\\mathbf{B}$ that has:\n",
        "\n",
        "- First row has the values $1$, $0.9$, and $0.25$ (in that order).\n",
        "- Second row has the values $2$, $0.3$, and $0.65$ (in that order).\n",
        "- The third row has the values $3$, $0.1$, and $0.14$ (in that order).\n",
        "\n",
        "Create the matrix by row or column binding vectors together with either the `cbind()` or `rbind()` functions. You may not use the `matrix()` function in R to create matrix $\\mathbf{B}$.\n"
      ],
      "metadata": {
        "id": "qNZGis7WTDCv"
      }
    },
    {
      "cell_type": "code",
      "source": [
        "# create matrix B and display the output to screen\n",
        "\n",
        "# Create 3 vectors where each vector represents each row in the matrix.\n",
        "vec1 <- c(1, 0.9, 0.25)\n",
        "vec2 <- c(2, 0.3, 0.65)\n",
        "vec3 <- c(3, 0.1, 0.14)\n",
        "\n",
        "# Bind the 3 matrices using rbind which makes each vector becomes each row of this new matrix, and store it in B.\n",
        "B <- rbind(vec1, vec2, vec3)\n",
        "\n",
        "# Print out B to check its matrix.\n",
        "print(B)"
      ],
      "metadata": {
        "id": "ylnT7TLOTDCw",
        "outputId": "e1c0583b-020c-41bd-86a6-b042596df11a",
        "colab": {
          "base_uri": "https://localhost:8080/"
        }
      },
      "execution_count": 35,
      "outputs": [
        {
          "output_type": "stream",
          "name": "stdout",
          "text": [
            "     [,1] [,2] [,3]\n",
            "vec1    1  0.9 0.25\n",
            "vec2    2  0.3 0.65\n",
            "vec3    3  0.1 0.14\n"
          ]
        }
      ]
    },
    {
      "cell_type": "markdown",
      "source": [
        "## <a name=\"Q1c\">Question 1c</a>\n",
        "\n",
        "---\n",
        "\n",
        "A matrix named $\\mathbf{C}$ that has:\n",
        "\n",
        "- First row has the values $2$, $4$, $6$, and $8$ (in that order).\n",
        "- Second row has the values $1$, $5$, $9$, and $13$ (in that order).\n",
        "- The third row has the values $1$, $2$, $3$, and $4$ (in that order).\n",
        "\n",
        "You may create matrix $\\mathbf{C}$ using any method you like."
      ],
      "metadata": {
        "id": "mrzIGpqJUXcv"
      }
    },
    {
      "cell_type": "code",
      "source": [
        "# create matrix C and display the output to screen\n",
        "\n",
        "# I'll omit the detailed explanations of creating the matrix using matrix() because it's the same as in question 1a.\n",
        "\n",
        "# Use matrix() to create the matrix and store it in C.\n",
        "C <- matrix(c(2, 4, 6, 8, 1, 5, 9, 13, 1, 2, 3, 4), nrow = 3, byrow = TRUE)\n",
        "\n",
        "# Print out C to check its matrix.\n",
        "print(C)"
      ],
      "metadata": {
        "id": "p60eE2d_UXcw",
        "outputId": "5412660f-42e6-4cec-9545-2844fe4eb5a3",
        "colab": {
          "base_uri": "https://localhost:8080/"
        }
      },
      "execution_count": 36,
      "outputs": [
        {
          "output_type": "stream",
          "name": "stdout",
          "text": [
            "     [,1] [,2] [,3] [,4]\n",
            "[1,]    2    4    6    8\n",
            "[2,]    1    5    9   13\n",
            "[3,]    1    2    3    4\n"
          ]
        }
      ]
    },
    {
      "cell_type": "markdown",
      "source": [
        "## <a name=\"Q1d\">Question 1d</a>\n",
        "\n",
        "---\n",
        "\n",
        "A  matrix named $\\mathbf{D}$ that is a column vector with:\n",
        "\n",
        "- Value in row 1 is $0.2$.\n",
        "- Value in row 2 is $-0.7$.\n",
        "- Value in row 3 is $0.9$.\n",
        "- Value in last row 4 is $0.5$.\n",
        "\n",
        "Be sure you create a $4 \\times 1$ matrix and not a one-dimensional vector. You may create matrix $\\mathbf{D}$ using any method you like."
      ],
      "metadata": {
        "id": "7WhYQWQOUYNa"
      }
    },
    {
      "cell_type": "code",
      "source": [
        "# create matrix D and display the output to screen\n",
        "\n",
        "# Create a vector with the values specified in the question.\n",
        "vecD <- c(0.2, -0.7, 0.9, 0.5)\n",
        "\n",
        "# Use cbind() to make the vector a matrix and not a vector because cbind will put all the values from the vector in the same column. After that, store the result in D.\n",
        "D <- cbind(vecD)\n",
        "\n",
        "# Print D without using print() to show that it is still a matrix with the dimension of 4 x 1.\n",
        "D"
      ],
      "metadata": {
        "id": "-IK4jVm3UYNa",
        "outputId": "2c6ab26e-46ea-44f7-eefd-a1b47febc5f4",
        "colab": {
          "base_uri": "https://localhost:8080/",
          "height": 262
        }
      },
      "execution_count": 37,
      "outputs": [
        {
          "output_type": "display_data",
          "data": {
            "text/html": [
              "<table class=\"dataframe\">\n",
              "<caption>A matrix: 4 × 1 of type dbl</caption>\n",
              "<thead>\n",
              "\t<tr><th scope=col>vecD</th></tr>\n",
              "</thead>\n",
              "<tbody>\n",
              "\t<tr><td> 0.2</td></tr>\n",
              "\t<tr><td>-0.7</td></tr>\n",
              "\t<tr><td> 0.9</td></tr>\n",
              "\t<tr><td> 0.5</td></tr>\n",
              "</tbody>\n",
              "</table>\n"
            ],
            "text/markdown": "\nA matrix: 4 × 1 of type dbl\n\n| vecD |\n|---|\n|  0.2 |\n| -0.7 |\n|  0.9 |\n|  0.5 |\n\n",
            "text/latex": "A matrix: 4 × 1 of type dbl\n\\begin{tabular}{l}\n vecD\\\\\n\\hline\n\t  0.2\\\\\n\t -0.7\\\\\n\t  0.9\\\\\n\t  0.5\\\\\n\\end{tabular}\n",
            "text/plain": [
              "     vecD\n",
              "[1,]  0.2\n",
              "[2,] -0.7\n",
              "[3,]  0.9\n",
              "[4,]  0.5"
            ]
          },
          "metadata": {}
        }
      ]
    },
    {
      "cell_type": "markdown",
      "source": [
        "# <a name=\"Q2\">Question 2</a>\n",
        "\n",
        "---\n",
        "\n",
        "Determine whether each operation exists or not.\n",
        "\n",
        "- If the operation is defined, use a code cell below to compute it in R and be sure to display the output to the screen.\n",
        "- If the operation is undefined, write a complete sentence to explain why not."
      ],
      "metadata": {
        "id": "34eqOJMnXFKO"
      }
    },
    {
      "cell_type": "markdown",
      "source": [
        "## <a name=\"Q2\">Question 2a</a>\n",
        "\n",
        "---\n",
        "\n",
        "$5(\\mathbf{A} + \\mathbf{C})$"
      ],
      "metadata": {
        "id": "qsW68fh7upXl"
      }
    },
    {
      "cell_type": "markdown",
      "source": [
        "### <a name=\"sol2a\">Solution to Question 2a</a>\n",
        "\n",
        "---\n",
        "\n",
        "Either insert a code cell to compute the given expression or in the space below explain (in a complete sentence) why the operation does not exist.\n",
        "\n",
        "\n",
        "\n",
        "\n",
        "\n",
        "\n",
        "<br>  \n",
        "<br>  "
      ],
      "metadata": {
        "id": "19rfS9-uYBoP"
      }
    },
    {
      "cell_type": "code",
      "source": [
        "# Do the operation inside the parantheses first and store it in sum.\n",
        "sum <- A + C\n",
        "\n",
        "# then multiply sum by 5 and store it in result.\n",
        "result <- 5 * sum\n",
        "\n",
        "# Print out the result to check its matrix.\n",
        "print(result)"
      ],
      "metadata": {
        "id": "3L-OGNgpMHn3",
        "outputId": "86ac18fd-b590-423f-9118-3aca207c5271",
        "colab": {
          "base_uri": "https://localhost:8080/"
        }
      },
      "execution_count": 38,
      "outputs": [
        {
          "output_type": "stream",
          "name": "stdout",
          "text": [
            "     [,1] [,2] [,3] [,4]\n",
            "[1,]   20   65   85   15\n",
            "[2,]   30   65   40  115\n",
            "[3,]  -10  -30   75   30\n"
          ]
        }
      ]
    },
    {
      "cell_type": "markdown",
      "source": [
        "## <a name=\"Q2b\">Question 2b</a>\n",
        "\n",
        "---\n",
        "\n",
        "$\\mathbf{A} + \\mathbf{B}$"
      ],
      "metadata": {
        "id": "4QFiANFtXkwx"
      }
    },
    {
      "cell_type": "markdown",
      "source": [
        "### <a name=\"sol2b\">Solution to Question 2b</a>\n",
        "\n",
        "---\n",
        "\n",
        "Either insert a code cell to compute the given expression or in the space below explain (in a complete sentence) why the operation does not exist.\n",
        "\n",
        "This operation for this question doesn't exist because for matrices to perform addition operation, both of the matrices must have the same size. However, in this case, A has the size of 3 x 4 while B has the size of 3 x 3, which is not the same size. Therefore, the addition operation doesn't exist for this question.\n",
        "\n",
        "\n",
        "\n",
        "<br>  \n",
        "<br>  "
      ],
      "metadata": {
        "id": "-ZCtFIb-YZgA"
      }
    },
    {
      "cell_type": "markdown",
      "source": [
        "## <a name=\"Q2c\">Question 2c</a>\n",
        "\n",
        "---\n",
        "\n",
        "$\\mathbf{B} \\mathbf{A}$"
      ],
      "metadata": {
        "id": "Fpjzq90Tu-RF"
      }
    },
    {
      "cell_type": "markdown",
      "source": [
        "### <a name=\"sol2c\">Solution to Question 2c</a>\n",
        "\n",
        "---\n",
        "\n",
        "Either insert a code cell to compute the given expression or in the space below explain (in a complete sentence) why the operation does not exist.\n",
        "\n",
        "\n",
        "\n",
        "<br>  \n",
        "<br>  "
      ],
      "metadata": {
        "id": "2Nsj1sdvu-RF"
      }
    },
    {
      "cell_type": "code",
      "source": [
        "# Perform matrix multiplication using %*% and multiply the matrix B and A and store it in product.\n",
        "product <- B %*% A\n",
        "\n",
        "# Print out the product to see its matrix.\n",
        "print(product)"
      ],
      "metadata": {
        "id": "KAg1-p88MhtP",
        "outputId": "8b3aae12-3f2d-4dc5-953b-d356ec45dad4",
        "colab": {
          "base_uri": "https://localhost:8080/"
        }
      },
      "execution_count": 39,
      "outputs": [
        {
          "output_type": "stream",
          "name": "stdout",
          "text": [
            "     [,1]  [,2]  [,3]   [,4]\n",
            "vec1 5.75 14.20 13.10   4.50\n",
            "vec2 3.55 15.20 29.50  -5.70\n",
            "vec3 6.08 26.68 34.58 -13.72\n"
          ]
        }
      ]
    },
    {
      "cell_type": "markdown",
      "source": [
        "## <a name=\"Q2d\">Question 2d</a>\n",
        "\n",
        "---\n",
        "\n",
        "$\\mathbf{A} \\mathbf{C}$"
      ],
      "metadata": {
        "id": "amgQjnauvWvf"
      }
    },
    {
      "cell_type": "markdown",
      "source": [
        "### <a name=\"sol2d\">Solution to Question 2d</a>\n",
        "\n",
        "---\n",
        "\n",
        "Either insert a code cell to compute the given expression or in the space below explain (in a complete sentence) why the operation does not exist.\n",
        "\n",
        "This operation doesn't exist for this question because A and C has the wrong size for multplication operation. For matrices to be able to multiply each other, the columns of the first one has to match the rows of the second one. In this case, A has the size of 3 x 4, and C has the size of 3 x 4. The columns of A (which is 4) does not match with the rows of C (which is 3). Therefore, the multiplication operation for this question is not possible.\n",
        "\n",
        "\n",
        "\n",
        "<br>  \n",
        "<br>  "
      ],
      "metadata": {
        "id": "zIApl5BwvWvf"
      }
    },
    {
      "cell_type": "markdown",
      "source": [
        "## <a name=\"Q2e\">Question 2e</a>\n",
        "\n",
        "---\n",
        "\n",
        "$\\mathbf{B} \\mathbf{C} \\mathbf{D}$"
      ],
      "metadata": {
        "id": "ZLSABrgCv7nG"
      }
    },
    {
      "cell_type": "markdown",
      "source": [
        "### <a name=\"sol2e\">Solution to Question 2e</a>\n",
        "\n",
        "---\n",
        "\n",
        "Either insert a code cell to compute the given expression or in the space below explain (in a complete sentence) why the operation does not exist.\n",
        "\n",
        "\n",
        "<br>  \n",
        "<br>  "
      ],
      "metadata": {
        "id": "-uK_G4Vsv7nG"
      }
    },
    {
      "cell_type": "code",
      "source": [
        "# Perform matrix multiplication between B, C, and D and store it in answer.\n",
        "answer <- B %*% C %*% D\n",
        "\n",
        "# Print out the answer to check its matrix.\n",
        "print(answer)"
      ],
      "metadata": {
        "id": "iCG7U0FENGeV",
        "outputId": "1a1794c4-a9bb-4865-f3ba-066be0eb8c84",
        "colab": {
          "base_uri": "https://localhost:8080/"
        }
      },
      "execution_count": 40,
      "outputs": [
        {
          "output_type": "stream",
          "name": "stdout",
          "text": [
            "       vecD\n",
            "vec1 18.045\n",
            "vec2 19.665\n",
            "vec3 22.620\n"
          ]
        }
      ]
    },
    {
      "cell_type": "markdown",
      "source": [
        "# <a name=\"Q3\">Question 3</a>\n",
        "\n",
        "---\n",
        "\n",
        "Compute the following result: $(\\mathbf{A}\\mathbf{A}^T)^{-1}\\mathbf{C}\\mathbf{D}$."
      ],
      "metadata": {
        "id": "t3jn2WmotR2G"
      }
    },
    {
      "cell_type": "code",
      "source": [
        "# use code cell to compute the operations\n",
        "\n",
        "# Perform the operation inside the parantheses first and store it in AAt. (t(A) is used to transpose matrix A because in the question A is required to be transpose and multiply with A)\n",
        "AAt <- A %*% t(A)\n",
        "\n",
        "# After the first operation, find its inverse using solve() and store it in AAt.inv.\n",
        "AAt.inv <- solve(AAt)\n",
        "\n",
        "# Perform the matrix multiplication between C and D and store it in CD.\n",
        "CD <- C %*% D\n",
        "\n",
        "# Finally, calculate the result by multiplying the AAt.inv and CD and store it in result1.\n",
        "result1 <- AAt.inv %*% CD\n",
        "\n",
        "# Print out result1 to check its matrix.\n",
        "print(result1)"
      ],
      "metadata": {
        "id": "IWBdYTVYtqHm",
        "outputId": "4fd770e0-c80b-4891-925a-2e3e42379d70",
        "colab": {
          "base_uri": "https://localhost:8080/"
        }
      },
      "execution_count": 41,
      "outputs": [
        {
          "output_type": "stream",
          "name": "stdout",
          "text": [
            "           vecD\n",
            "[1,] 0.01718415\n",
            "[2,] 0.07070192\n",
            "[3,] 0.03513001\n"
          ]
        }
      ]
    },
    {
      "cell_type": "markdown",
      "source": [
        "# <a name=\"Q4\">Question 4</a>\n",
        "\n",
        "---\n",
        "\n",
        "Consider the following three matrices:\n",
        "\n",
        "- $\\mathbf{M}$ is a $5 \\times 20$ matrix.\n",
        "- $\\mathbf{N}$ is a $20 \\times 2$ matrix.\n",
        "- $\\mathbf{P}$ is a $2 \\times 300$ matrix.\n",
        "\n",
        "\n",
        "Is either of the following matrix algebra operations clearly faster?\n",
        "\n",
        "<br>  \n",
        "\n",
        "a. $\\big( MN \\big) P$\n",
        "\n",
        "<br>\n",
        "\n",
        "b. $M \\big( NP \\big)$\n",
        "\n",
        "Support your answer with an justification using complete sentences.\n"
      ],
      "metadata": {
        "id": "YyTRbKtMwbKC"
      }
    },
    {
      "cell_type": "markdown",
      "source": [
        "## <a name=\"sol4\">Solution to Question 4</a>\n",
        "\n",
        "---\n",
        "\n",
        "Support your answer with an justification using complete sentences.\n",
        "\n",
        "The matrix algebra operations in a. should be faster than b, because the product of MN is a matrix with the dimension of 5 x 2 which is much smaller than the dimension of the product of NP which is 20 x 300. Therefore, computing MN would be faster than computing NP which resulting in computing a. faster than b.\n",
        "\n",
        "\n",
        "\n",
        "\n",
        "<br>  \n",
        "<br>  "
      ],
      "metadata": {
        "id": "BPyHGQKnwgca"
      }
    },
    {
      "cell_type": "markdown",
      "source": [
        "# <a name=\"Q5\">Question 5</a>\n",
        "\n",
        "---\n",
        "\n",
        "Use the `cbind()` function to bind matrices $\\mathbf{A}$ and $\\mathbf{B}$ together. Assign this result the name $\\mathbf{E}$ and print the result to the screen."
      ],
      "metadata": {
        "id": "PnKk-xl2yaIT"
      }
    },
    {
      "cell_type": "code",
      "source": [
        "# use code cell to answer\n",
        "\n",
        "# Use cbind() to bind matrices together and store it in E.\n",
        "# (cbind() when binding matrices, it just put the matrix in the latter argument (B) behind the matrix A and extends it)\n",
        "E <- cbind(A, B)\n",
        "\n",
        "# Print out E to check the matrix.\n",
        "print(E)"
      ],
      "metadata": {
        "id": "jP8SmsZnzBNN",
        "outputId": "43d8e2b7-0a11-48cf-a8ff-f15561d88090",
        "colab": {
          "base_uri": "https://localhost:8080/"
        }
      },
      "execution_count": 42,
      "outputs": [
        {
          "output_type": "stream",
          "name": "stdout",
          "text": [
            "     [,1] [,2] [,3] [,4] [,5] [,6] [,7]\n",
            "vec1    2    9   11   -5    1  0.9 0.25\n",
            "vec2    5    8   -1   10    2  0.3 0.65\n",
            "vec3   -3   -8   12    2    3  0.1 0.14\n"
          ]
        }
      ]
    },
    {
      "cell_type": "markdown",
      "source": [
        "# <a name=\"Q6\">Question 6</a>\n",
        "\n",
        "---\n",
        "\n",
        "Use the `rbind` function to bind matrices $\\mathbf{A}$ and $\\mathbf{C}$ together. Assign this result the name $\\mathbf{G}$ and print the result to the screen."
      ],
      "metadata": {
        "id": "QWfK0ThMybbO"
      }
    },
    {
      "cell_type": "code",
      "source": [
        "# use code cell to answer\n",
        "\n",
        "# Use rbind() to bind matrix A and C and store it in G.\n",
        "# (rbind() will stack the two matrices on top of each other and extends it where the first argument will be at the top and the latter argument will be at the bottom.)\n",
        "G <- rbind(A, C)\n",
        "\n",
        "# Print out G to check the matrix.\n",
        "print(G)"
      ],
      "metadata": {
        "id": "Nw041HV0zJgE",
        "outputId": "9673399a-f38c-4c5d-e0a9-ee624778dde4",
        "colab": {
          "base_uri": "https://localhost:8080/"
        }
      },
      "execution_count": 43,
      "outputs": [
        {
          "output_type": "stream",
          "name": "stdout",
          "text": [
            "     [,1] [,2] [,3] [,4]\n",
            "[1,]    2    9   11   -5\n",
            "[2,]    5    8   -1   10\n",
            "[3,]   -3   -8   12    2\n",
            "[4,]    2    4    6    8\n",
            "[5,]    1    5    9   13\n",
            "[6,]    1    2    3    4\n"
          ]
        }
      ]
    },
    {
      "cell_type": "markdown",
      "source": [
        "# <a name=\"Q7\">Question 7</a>\n",
        "\n",
        "---\n",
        "\n",
        "Select the following subset of $\\mathbf{E}$: rows 2 and 3, and columns 4, 5 and 6. You do not need to store the result, but make sure it is printed on the screen."
      ],
      "metadata": {
        "id": "D5kDWGnMwqlQ"
      }
    },
    {
      "cell_type": "code",
      "source": [
        "# use code cell to answer\n",
        "\n",
        "# Select the rows 2 and 3, and the columns from 4-6 of E using the slicing index.\n",
        "E[2:3, 4:6]"
      ],
      "metadata": {
        "id": "5nCgy500zt7b",
        "outputId": "6f5716d2-85c7-4235-bf18-3f60d6a7516a",
        "colab": {
          "base_uri": "https://localhost:8080/",
          "height": 114
        }
      },
      "execution_count": 44,
      "outputs": [
        {
          "output_type": "display_data",
          "data": {
            "text/html": [
              "<table class=\"dataframe\">\n",
              "<caption>A matrix: 2 × 3 of type dbl</caption>\n",
              "<tbody>\n",
              "\t<tr><th scope=row>vec2</th><td>10</td><td>2</td><td>0.3</td></tr>\n",
              "\t<tr><th scope=row>vec3</th><td> 2</td><td>3</td><td>0.1</td></tr>\n",
              "</tbody>\n",
              "</table>\n"
            ],
            "text/markdown": "\nA matrix: 2 × 3 of type dbl\n\n| vec2 | 10 | 2 | 0.3 |\n| vec3 |  2 | 3 | 0.1 |\n\n",
            "text/latex": "A matrix: 2 × 3 of type dbl\n\\begin{tabular}{r|lll}\n\tvec2 & 10 & 2 & 0.3\\\\\n\tvec3 &  2 & 3 & 0.1\\\\\n\\end{tabular}\n",
            "text/plain": [
              "     [,1] [,2] [,3]\n",
              "vec2 10   2    0.3 \n",
              "vec3  2   3    0.1 "
            ]
          },
          "metadata": {}
        }
      ]
    },
    {
      "cell_type": "markdown",
      "source": [
        "# <a name=\"Q8\">Question 8</a>\n",
        "\n",
        "---\n",
        "\n",
        "Subset row 1 of $\\mathbf{E}$. Do not let the result be coerced to a `vector`. Rather make sure it is returned as a `matrix` object. You do not need to store the result, but make sure it is printed on the screen.\n"
      ],
      "metadata": {
        "id": "OKmbwaNXze_G"
      }
    },
    {
      "cell_type": "code",
      "source": [
        "# use code cell to answer\n",
        "\n",
        "# Select the 1st row of E using the slicing index,\n",
        "# and have drop = FALSE to make sure that the result will be a matrix object and not a vector object.\n",
        "E[1, ,drop = FALSE]"
      ],
      "metadata": {
        "id": "l6SilENV0Jqk",
        "outputId": "1045562c-9d74-4eca-8c32-2d03be010051",
        "colab": {
          "base_uri": "https://localhost:8080/",
          "height": 66
        }
      },
      "execution_count": 45,
      "outputs": [
        {
          "output_type": "display_data",
          "data": {
            "text/html": [
              "<table class=\"dataframe\">\n",
              "<caption>A matrix: 1 × 7 of type dbl</caption>\n",
              "<tbody>\n",
              "\t<tr><th scope=row>vec1</th><td>2</td><td>9</td><td>11</td><td>-5</td><td>1</td><td>0.9</td><td>0.25</td></tr>\n",
              "</tbody>\n",
              "</table>\n"
            ],
            "text/markdown": "\nA matrix: 1 × 7 of type dbl\n\n| vec1 | 2 | 9 | 11 | -5 | 1 | 0.9 | 0.25 |\n\n",
            "text/latex": "A matrix: 1 × 7 of type dbl\n\\begin{tabular}{r|lllllll}\n\tvec1 & 2 & 9 & 11 & -5 & 1 & 0.9 & 0.25\\\\\n\\end{tabular}\n",
            "text/plain": [
              "     [,1] [,2] [,3] [,4] [,5] [,6] [,7]\n",
              "vec1 2    9    11   -5   1    0.9  0.25"
            ]
          },
          "metadata": {}
        }
      ]
    },
    {
      "cell_type": "markdown",
      "source": [
        "# <a name=\"Q9\">Question 9</a>\n",
        "\n",
        "---\n",
        "\n",
        "\n",
        "Subset the following 3 elements from $\\mathbf{E}$ using at most 2 commands:\n",
        "\n",
        "- The $(1, 1)$ element in the first row and first colmn.\n",
        "- The $(3, 2)$ element in row 3 and column 2.\n",
        "- The $(2, 6)$ element in row 2 and column 6.\n",
        "\n",
        "You do not need to store the result, but make sure it is printed on the screen. Answers obtained using more than 2 commands will not earn credit."
      ],
      "metadata": {
        "id": "0mfcPYZ9zfFX"
      }
    },
    {
      "cell_type": "code",
      "source": [
        "# use code cell to enter at most 2 commands\n",
        "\n",
        "# Create a matrix that stores the position of each element where the first row stores 1 1, second row stores 3 2, and the third row stores 2 6.\n",
        "# And store this matrix in pos. (this matrix is created the same way as in question 1a)\n",
        "pos <- matrix(c(1, 1, 3, 2, 2, 6), nrow = 3, byrow = TRUE)\n",
        "\n",
        "# Find each element by using E[pos] which will subset the matrix E and find each element from the position given in the pos matrix.\n",
        "E[pos]"
      ],
      "metadata": {
        "id": "T3d2JKAZ0ye5",
        "outputId": "1d8e2d8f-6e75-49de-f5e1-838062e099ff",
        "colab": {
          "base_uri": "https://localhost:8080/",
          "height": 34
        }
      },
      "execution_count": 46,
      "outputs": [
        {
          "output_type": "display_data",
          "data": {
            "text/html": [
              "<style>\n",
              ".list-inline {list-style: none; margin:0; padding: 0}\n",
              ".list-inline>li {display: inline-block}\n",
              ".list-inline>li:not(:last-child)::after {content: \"\\00b7\"; padding: 0 .5ex}\n",
              "</style>\n",
              "<ol class=list-inline><li>2</li><li>-8</li><li>0.3</li></ol>\n"
            ],
            "text/markdown": "1. 2\n2. -8\n3. 0.3\n\n\n",
            "text/latex": "\\begin{enumerate*}\n\\item 2\n\\item -8\n\\item 0.3\n\\end{enumerate*}\n",
            "text/plain": [
              "[1]  2.0 -8.0  0.3"
            ]
          },
          "metadata": {}
        }
      ]
    },
    {
      "cell_type": "markdown",
      "source": [
        "# <a name=\"Q10\">Question 10</a>\n",
        "\n",
        "---\n",
        "\n",
        "Create arrays $\\mathbf{H}$ and $\\mathbf{J}$ described in each part.\n"
      ],
      "metadata": {
        "id": "G_TX8QxHzfJE"
      }
    },
    {
      "cell_type": "markdown",
      "source": [
        "## <a name=\"Q10a\">Question 10a</a>\n",
        "\n",
        "---\n",
        "\n",
        "Create a $2 \\times 2 \\times 3$ array with all 1's in the 1st slice (of the 3rd dimension), all 2's in the 2nd slice (of the 3rd dimension), all 3's in the 3rd slice (of the 3rd dimension). Assign this object the name $\\mathbf{H}$ and print the result to the screen **displayed as an array**.\n",
        "\n",
        "\n"
      ],
      "metadata": {
        "id": "9lp9PP3H804e"
      }
    },
    {
      "cell_type": "code",
      "source": [
        "# Install the packages abind to utilize abind for array binding.\n",
        "install.packages(\"abind\")\n",
        "library(abind)"
      ],
      "metadata": {
        "id": "HhCF6pZ-Rye7",
        "outputId": "eefe608c-2ff7-43be-8296-f54a6a8e926e",
        "colab": {
          "base_uri": "https://localhost:8080/"
        }
      },
      "execution_count": 47,
      "outputs": [
        {
          "output_type": "stream",
          "name": "stderr",
          "text": [
            "Installing package into ‘/usr/local/lib/R/site-library’\n",
            "(as ‘lib’ is unspecified)\n",
            "\n"
          ]
        }
      ]
    },
    {
      "cell_type": "code",
      "source": [
        "# use code cell to answer\n",
        "\n",
        "# Create 3 matrices that is each \"slice\" in the array where slice1 is the 1st slice, slice2 is the 2nd slice, and slice3 is the 3rd slice.\n",
        "# Each slice is a 2 x 2 matrix, this is from the question's saying to create a 2 x 2 x 3 array which means to create 3 matrices that are 2 x 2,\n",
        "# and stack it on top of each other.\n",
        "slice1 <- matrix(c(1, 1, 1, 1), nrow = 2, byrow = TRUE)\n",
        "slice2 <- matrix(c(2, 2, 2, 2), nrow = 2, byrow = TRUE)\n",
        "slice3 <- matrix(c(3, 3, 3, 3), nrow = 2, byrow = TRUE)\n",
        "\n",
        "# Bind these matrices using abind to create an array with these slices, and specify along = 3 to tell the abind function-\n",
        "# to bind these matrices in the third dimension. And store the result in H.\n",
        "H <- abind(slice1, slice2, slice3, along = 3)\n",
        "\n",
        "# Print out H to check its array.\n",
        "print(H)"
      ],
      "metadata": {
        "id": "jYspcv_b804e",
        "outputId": "07cbf56f-edff-49d7-8fa0-b2e6ec5f6420",
        "colab": {
          "base_uri": "https://localhost:8080/"
        }
      },
      "execution_count": 48,
      "outputs": [
        {
          "output_type": "stream",
          "name": "stdout",
          "text": [
            ", , 1\n",
            "\n",
            "     [,1] [,2]\n",
            "[1,]    1    1\n",
            "[2,]    1    1\n",
            "\n",
            ", , 2\n",
            "\n",
            "     [,1] [,2]\n",
            "[1,]    2    2\n",
            "[2,]    2    2\n",
            "\n",
            ", , 3\n",
            "\n",
            "     [,1] [,2]\n",
            "[1,]    3    3\n",
            "[2,]    3    3\n",
            "\n"
          ]
        }
      ]
    },
    {
      "cell_type": "code",
      "source": [
        "# This is another way of creating the same array without using abind.\n",
        "\n",
        "# Put all the numbers that are needed for each slice in the first argument, and specify the-\n",
        "# dimensions of the array using dim.\n",
        "test <- array(c(1,1,1,1,2,2,2,2,3,3,3,3), dim = c(2, 2, 3))\n",
        "\n",
        "# Print out the array to see if its the same as the H array.\n",
        "print(test)"
      ],
      "metadata": {
        "id": "E_Y6krwBSkRB",
        "outputId": "44136e42-d42f-470a-d35a-6ba1ddb2dbcb",
        "colab": {
          "base_uri": "https://localhost:8080/"
        }
      },
      "execution_count": 49,
      "outputs": [
        {
          "output_type": "stream",
          "name": "stdout",
          "text": [
            ", , 1\n",
            "\n",
            "     [,1] [,2]\n",
            "[1,]    1    1\n",
            "[2,]    1    1\n",
            "\n",
            ", , 2\n",
            "\n",
            "     [,1] [,2]\n",
            "[1,]    2    2\n",
            "[2,]    2    2\n",
            "\n",
            ", , 3\n",
            "\n",
            "     [,1] [,2]\n",
            "[1,]    3    3\n",
            "[2,]    3    3\n",
            "\n"
          ]
        }
      ]
    },
    {
      "cell_type": "markdown",
      "source": [
        "## <a name=\"Q10b\">Question 10b</a>\n",
        "\n",
        "---\n",
        "\n",
        "Create a $3 \\times 2 \\times 3$ array with all 4's in the 1st slice (of the 3rd dimension), all 5's in the 2nd slice (of the 3rd dimension), all 6's in the 3rd slice (of the 3rd dimension). Assign this object the name $\\mathbf{J}$ and print the result to the screen **displayed as an array**."
      ],
      "metadata": {
        "id": "C9_fkc13804f"
      }
    },
    {
      "cell_type": "code",
      "source": [
        "# use code cell to answer\n",
        "\n",
        "# This is the same procedure as in question 10a, so I will omit the detailed explanations.\n",
        "\n",
        "# Create 3 x 2 matrices to combine for the array.\n",
        "all4s <- matrix(c(4, 4, 4, 4, 4, 4), nrow = 3, byrow = TRUE)\n",
        "all5s <- matrix(c(5, 5, 5, 5, 5, 5), nrow = 3, byrow = TRUE)\n",
        "all6s <- matrix(c(6, 6, 6, 6, 6, 6), nrow = 3, byrow = TRUE)\n",
        "\n",
        "# Bind the matrices in the 3rd dimension to create the array and store it in J.\n",
        "J <- abind(all4s, all5s, all6s, along = 3)\n",
        "\n",
        "# Print out J to check the array.\n",
        "print(J)"
      ],
      "metadata": {
        "id": "8fltPbfu804g",
        "outputId": "dcd31946-ed93-48f5-d581-2e6f61b16804",
        "colab": {
          "base_uri": "https://localhost:8080/"
        }
      },
      "execution_count": 50,
      "outputs": [
        {
          "output_type": "stream",
          "name": "stdout",
          "text": [
            ", , 1\n",
            "\n",
            "     [,1] [,2]\n",
            "[1,]    4    4\n",
            "[2,]    4    4\n",
            "[3,]    4    4\n",
            "\n",
            ", , 2\n",
            "\n",
            "     [,1] [,2]\n",
            "[1,]    5    5\n",
            "[2,]    5    5\n",
            "[3,]    5    5\n",
            "\n",
            ", , 3\n",
            "\n",
            "     [,1] [,2]\n",
            "[1,]    6    6\n",
            "[2,]    6    6\n",
            "[3,]    6    6\n",
            "\n"
          ]
        }
      ]
    },
    {
      "cell_type": "markdown",
      "source": [
        "# <a name=\"Q11\">Question 11</a>\n",
        "\n",
        "---\n",
        "\n",
        "\n",
        "Can we bind $\\mathbf{H}$ and $\\mathbf{J}$ along the 3rd dimension of the arrays?\n",
        "\n",
        "\n",
        "- If so, use a code cell to bind the two arrays along the 3rd dimension and print the result to the screen **displayed as an array**.\n",
        "  - You do not need to store this array (if it exists).\n",
        "- If not, write a complete sentence to explain why not.\n",
        "\n",
        "You may need to load and install a package to help (if the two arrays can be bound together).\n"
      ],
      "metadata": {
        "id": "prRBr-yV804g"
      }
    },
    {
      "cell_type": "markdown",
      "source": [
        "## <a name=\"sol11a\">Solution to Question 11</a>\n",
        "\n",
        "---\n",
        "\n",
        "Either insert a code cell to bind the arrays or in the space below explain (in a complete sentence) why the arrays cannot be bound along the 3rd dimension.\n",
        "\n",
        "\n",
        "For the arrays to be bounded along the 3rd dimension, each matrices in the array of both arrays must match. In this case, the array H has 2x2 matrices stacking on top of each other 3 times where the array J has 3x2 matrices stacking on top of each other 3 times. You can see that the array H has 2x2 matrices while the array J has 3x2 matrices. Since, the size of the matrices in the array doesn't match, it is not possible to bind H and J along the 3rd dimension of the arrays.\n",
        "\n",
        "\n",
        "\n",
        "<br>  \n",
        "<br>  "
      ],
      "metadata": {
        "id": "fDmMdfRd804g"
      }
    },
    {
      "cell_type": "markdown",
      "source": [
        "# <a name=\"Q12\">Question 12</a>\n",
        "\n",
        "---\n",
        "\n",
        "Create a new array, $\\mathbf{K}$, by binding $\\mathbf{H}$ and $\\mathbf{J}$ along their first dimension. Print the result to the screen **displayed as an array**. In the solution space below, enter the size of the new array.\n",
        "\n",
        "If you have not already done so, you may need to load and install a package to help.\n",
        "\n"
      ],
      "metadata": {
        "id": "bWQO7Vwl804g"
      }
    },
    {
      "cell_type": "markdown",
      "source": [
        "## <a name=\"sol12\">Solution to Question 12</a>\n",
        "\n",
        "---\n",
        "\n",
        "<mark>Enter the dimension of $\\mathbf{K}$ in the space below.</mark>\n",
        "\n",
        "<br>  \n",
        "\n",
        "$\\mathbf{K}$ has dimension $5 \\times 2 \\times 3$.\n",
        "\n",
        "\n",
        "<br>  \n",
        "<br>  "
      ],
      "metadata": {
        "id": "NMWdwhNL804h"
      }
    },
    {
      "cell_type": "code",
      "source": [
        "# use code cell to create the array\n",
        "\n",
        "# Bind the arrays H and J along the first dimension using abind() and make sure the along argument is equal to 1.\n",
        "# Doing abind in the first dimension is similar to doing rbind to every matrix slices where H is the first argument and J is the latter argument.\n",
        "K <- abind(H, J, along = 1)\n",
        "\n",
        "# Print out K to check the array.\n",
        "print(K)"
      ],
      "metadata": {
        "id": "kKW0xR9A804h",
        "outputId": "bc030403-fbc4-4d6a-d77d-2884fbd0784b",
        "colab": {
          "base_uri": "https://localhost:8080/"
        }
      },
      "execution_count": 51,
      "outputs": [
        {
          "output_type": "stream",
          "name": "stdout",
          "text": [
            ", , 1\n",
            "\n",
            "     [,1] [,2]\n",
            "[1,]    1    1\n",
            "[2,]    1    1\n",
            "[3,]    4    4\n",
            "[4,]    4    4\n",
            "[5,]    4    4\n",
            "\n",
            ", , 2\n",
            "\n",
            "     [,1] [,2]\n",
            "[1,]    2    2\n",
            "[2,]    2    2\n",
            "[3,]    5    5\n",
            "[4,]    5    5\n",
            "[5,]    5    5\n",
            "\n",
            ", , 3\n",
            "\n",
            "     [,1] [,2]\n",
            "[1,]    3    3\n",
            "[2,]    3    3\n",
            "[3,]    6    6\n",
            "[4,]    6    6\n",
            "[5,]    6    6\n",
            "\n"
          ]
        }
      ]
    },
    {
      "cell_type": "markdown",
      "source": [
        "# <a name=\"Q13\">Question 13</a>\n",
        "\n",
        "---\n",
        "\n",
        "\n",
        "Select the following subset of $\\mathbf{K}$ and print the result to the screen:\n",
        "\n",
        "- Rows 2 and 3 (of the first dimension),\n",
        "- Column 1 (of the second dimension)\n",
        "- Slices 2 and 3 (of the third dimension).\n",
        "\n",
        "Ensure that the result remains an `array` and is not coerced to a `matrix`. You do not need to store the result, but **make sure it is displayed as an array on screen**."
      ],
      "metadata": {
        "id": "kvHx-XvG804h"
      }
    },
    {
      "cell_type": "code",
      "source": [
        "# use code cell to answer\n",
        "\n",
        "# Subset all the values using slicing index, and make sure drop = FALSE to make sure that the result is still an array object.\n",
        "# The array has 3 dimensions, so there are 3 arguments for the slicing index. The first argument is rows, second is columns, and third is dimensions.\n",
        "subset1 <- K[2:3, ,1, drop = FALSE]\n",
        "subset2 <- K[, 1, 2, drop = FALSE]\n",
        "subset3 <- K[, , 2:3, drop = FALSE]"
      ],
      "metadata": {
        "id": "-04gYYGA5VmC"
      },
      "execution_count": 52,
      "outputs": []
    },
    {
      "cell_type": "code",
      "source": [
        "# Print out the first subset.\n",
        "# (The , , 1 on top left of every subset shows that this is still an array object.)\n",
        "print(subset1)"
      ],
      "metadata": {
        "id": "1YfFl-XVV8KC",
        "outputId": "33f7cb25-65dc-474b-af20-5dba1233e23f",
        "colab": {
          "base_uri": "https://localhost:8080/"
        }
      },
      "execution_count": 53,
      "outputs": [
        {
          "output_type": "stream",
          "name": "stdout",
          "text": [
            ", , 1\n",
            "\n",
            "     [,1] [,2]\n",
            "[1,]    1    1\n",
            "[2,]    4    4\n",
            "\n"
          ]
        }
      ]
    },
    {
      "cell_type": "code",
      "source": [
        "# Print out the second subset.\n",
        "print(subset2)"
      ],
      "metadata": {
        "id": "zbkB-7PTV2vb",
        "outputId": "e41f9606-8326-4331-82a6-b7d857baef3f",
        "colab": {
          "base_uri": "https://localhost:8080/"
        }
      },
      "execution_count": 54,
      "outputs": [
        {
          "output_type": "stream",
          "name": "stdout",
          "text": [
            ", , 1\n",
            "\n",
            "     [,1]\n",
            "[1,]    2\n",
            "[2,]    2\n",
            "[3,]    5\n",
            "[4,]    5\n",
            "[5,]    5\n",
            "\n"
          ]
        }
      ]
    },
    {
      "cell_type": "code",
      "source": [
        "# Print out the third subset.\n",
        "print(subset3)"
      ],
      "metadata": {
        "id": "Bsee8oHFV4U_",
        "outputId": "cc1eabca-6db8-41eb-f95b-4b0b17459e7f",
        "colab": {
          "base_uri": "https://localhost:8080/"
        }
      },
      "execution_count": 55,
      "outputs": [
        {
          "output_type": "stream",
          "name": "stdout",
          "text": [
            ", , 1\n",
            "\n",
            "     [,1] [,2]\n",
            "[1,]    2    2\n",
            "[2,]    2    2\n",
            "[3,]    5    5\n",
            "[4,]    5    5\n",
            "[5,]    5    5\n",
            "\n",
            ", , 2\n",
            "\n",
            "     [,1] [,2]\n",
            "[1,]    3    3\n",
            "[2,]    3    3\n",
            "[3,]    6    6\n",
            "[4,]    6    6\n",
            "[5,]    6    6\n",
            "\n"
          ]
        }
      ]
    },
    {
      "cell_type": "markdown",
      "source": [
        "# <a name=\"Q14\">Question 14</a>\n",
        "\n",
        "---\n",
        "\n",
        "Create a `list` object named $\\mathbf{L}$ with the following three elements (in the given order):\n",
        "\n",
        "- First element is matrix $\\mathbf{A}$ (created in [Question 1a](#Q1a)).\n",
        "- Second element is array $\\mathbf{H}$ (created in [Question 10a](#Q10a)).\n",
        "- Third element is a vector containing the following three characters (in the given order),  \"a\", \"b\", and \"c\".\n",
        "\n",
        "Print the result to the screen.\n"
      ],
      "metadata": {
        "id": "omg1IpQGAirK"
      }
    },
    {
      "cell_type": "code",
      "source": [
        "# use code cell to answer\n",
        "\n",
        "# Create a list using list() and store the values as specified from the question, and store it in L.\n",
        "L <- list(A, H, c(\"a\",\"b\",\"c\"))\n",
        "\n",
        "# Print out L to check the list.\n",
        "print(L)"
      ],
      "metadata": {
        "id": "g-F6d5DL6bYl",
        "outputId": "5aea821e-73dd-4e82-f84b-169a7515e18f",
        "colab": {
          "base_uri": "https://localhost:8080/"
        }
      },
      "execution_count": 56,
      "outputs": [
        {
          "output_type": "stream",
          "name": "stdout",
          "text": [
            "[[1]]\n",
            "     [,1] [,2] [,3] [,4]\n",
            "[1,]    2    9   11   -5\n",
            "[2,]    5    8   -1   10\n",
            "[3,]   -3   -8   12    2\n",
            "\n",
            "[[2]]\n",
            ", , 1\n",
            "\n",
            "     [,1] [,2]\n",
            "[1,]    1    1\n",
            "[2,]    1    1\n",
            "\n",
            ", , 2\n",
            "\n",
            "     [,1] [,2]\n",
            "[1,]    2    2\n",
            "[2,]    2    2\n",
            "\n",
            ", , 3\n",
            "\n",
            "     [,1] [,2]\n",
            "[1,]    3    3\n",
            "[2,]    3    3\n",
            "\n",
            "\n",
            "[[3]]\n",
            "[1] \"a\" \"b\" \"c\"\n",
            "\n"
          ]
        }
      ]
    },
    {
      "cell_type": "markdown",
      "source": [
        "# <a name=\"Q15\">Question 15</a>\n",
        "\n",
        "---\n",
        "\n",
        "Subset elements 1 and 3 from list $\\mathbf{L}$. You do not need to store the result, but make sure the output is printed to the screen."
      ],
      "metadata": {
        "id": "uVtE03fozfZV"
      }
    },
    {
      "cell_type": "code",
      "source": [
        "# use code cell to answer\n",
        "\n",
        "# Use slicing index to subset the elements 1 and 3 from the list L.\n",
        "L[c(1,3)]"
      ],
      "metadata": {
        "id": "9MEZcycU672H",
        "outputId": "3aa647b5-ca6b-4229-f7dc-a00bff04dce0",
        "colab": {
          "base_uri": "https://localhost:8080/",
          "height": 191
        }
      },
      "execution_count": 57,
      "outputs": [
        {
          "output_type": "display_data",
          "data": {
            "text/html": [
              "<ol>\n",
              "\t<li><table class=\"dataframe\">\n",
              "<caption>A matrix: 3 × 4 of type dbl</caption>\n",
              "<tbody>\n",
              "\t<tr><td> 2</td><td> 9</td><td>11</td><td>-5</td></tr>\n",
              "\t<tr><td> 5</td><td> 8</td><td>-1</td><td>10</td></tr>\n",
              "\t<tr><td>-3</td><td>-8</td><td>12</td><td> 2</td></tr>\n",
              "</tbody>\n",
              "</table>\n",
              "</li>\n",
              "\t<li><style>\n",
              ".list-inline {list-style: none; margin:0; padding: 0}\n",
              ".list-inline>li {display: inline-block}\n",
              ".list-inline>li:not(:last-child)::after {content: \"\\00b7\"; padding: 0 .5ex}\n",
              "</style>\n",
              "<ol class=list-inline><li>'a'</li><li>'b'</li><li>'c'</li></ol>\n",
              "</li>\n",
              "</ol>\n"
            ],
            "text/markdown": "1. \nA matrix: 3 × 4 of type dbl\n\n|  2 |  9 | 11 | -5 |\n|  5 |  8 | -1 | 10 |\n| -3 | -8 | 12 |  2 |\n\n\n2. 1. 'a'\n2. 'b'\n3. 'c'\n\n\n\n\n\n",
            "text/latex": "\\begin{enumerate}\n\\item A matrix: 3 × 4 of type dbl\n\\begin{tabular}{llll}\n\t  2 &  9 & 11 & -5\\\\\n\t  5 &  8 & -1 & 10\\\\\n\t -3 & -8 & 12 &  2\\\\\n\\end{tabular}\n\n\\item \\begin{enumerate*}\n\\item 'a'\n\\item 'b'\n\\item 'c'\n\\end{enumerate*}\n\n\\end{enumerate}\n",
            "text/plain": [
              "[[1]]\n",
              "     [,1] [,2] [,3] [,4]\n",
              "[1,]    2    9   11   -5\n",
              "[2,]    5    8   -1   10\n",
              "[3,]   -3   -8   12    2\n",
              "\n",
              "[[2]]\n",
              "[1] \"a\" \"b\" \"c\"\n"
            ]
          },
          "metadata": {}
        }
      ]
    },
    {
      "cell_type": "markdown",
      "source": [
        "# <a name=\"Q16\">Question 16</a>\n",
        "\n",
        "---\n",
        "\n",
        "Extract the 3rd element out from list $\\mathbf{L}$. Note, we want to actually **pull this element out of** $\\mathbf{L}$, not simply subset $\\mathbf{L}$.\n"
      ],
      "metadata": {
        "id": "IZ93bEgtzfct"
      }
    },
    {
      "cell_type": "code",
      "source": [
        "# use code cell to answer\n",
        "\n",
        "# To \"extract\" the elements use two brackets and the index number of the element you want to extract.\n",
        "# This is different from subsetting because we get the values directly from the list, rather than just displaying the subsetted values.\n",
        "L[[3]]"
      ],
      "metadata": {
        "id": "Zo6yVo0-7UB4",
        "outputId": "ed5285d5-0188-4ed4-c619-97868bed86a3",
        "colab": {
          "base_uri": "https://localhost:8080/",
          "height": 34
        }
      },
      "execution_count": 58,
      "outputs": [
        {
          "output_type": "display_data",
          "data": {
            "text/html": [
              "<style>\n",
              ".list-inline {list-style: none; margin:0; padding: 0}\n",
              ".list-inline>li {display: inline-block}\n",
              ".list-inline>li:not(:last-child)::after {content: \"\\00b7\"; padding: 0 .5ex}\n",
              "</style>\n",
              "<ol class=list-inline><li>'a'</li><li>'b'</li><li>'c'</li></ol>\n"
            ],
            "text/markdown": "1. 'a'\n2. 'b'\n3. 'c'\n\n\n",
            "text/latex": "\\begin{enumerate*}\n\\item 'a'\n\\item 'b'\n\\item 'c'\n\\end{enumerate*}\n",
            "text/plain": [
              "[1] \"a\" \"b\" \"c\""
            ]
          },
          "metadata": {}
        }
      ]
    },
    {
      "cell_type": "markdown",
      "source": [
        "# <a name=\"save2\">Be Sure You Have Saved Your Work!</a>\n",
        "\n",
        "---\n",
        "\n",
        "This notebook is a shared Colab notebook available for anyone to view. However, since everyone is sharing this notebook, you do not have permission to save changes to this shared Colab notebook. In order to save your work:\n",
        "\n",
        "1. You will need to set up a free Google Drive account. If you already have a Google Drive account, you are ready to go!\n",
        "2. Click the `Copy to Drive` button to the right of the `+ Code` and `+ Text` buttons on top of the notebook.\n",
        "3. Select from the menu `File/Save a Copy in Drive`.\n",
        "  - By default, the notebook will be saved in a folder named **Colab Notebooks** in your Drive.\n",
        "  - Feel free to rename and store the notebook wherever you like.\n"
      ],
      "metadata": {
        "id": "iBmMPoh1CkEf"
      }
    }
  ]
}