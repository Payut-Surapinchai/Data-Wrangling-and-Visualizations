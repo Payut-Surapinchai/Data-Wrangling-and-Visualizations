{
  "nbformat": 4,
  "nbformat_minor": 0,
  "metadata": {
    "colab": {
      "provenance": []
    },
    "kernelspec": {
      "name": "ir",
      "display_name": "R"
    },
    "language_info": {
      "name": "R"
    }
  },
  "cells": [
    {
      "cell_type": "markdown",
      "source": [
        "# Homework 11: Due Wednesday, April 23 at 11:59 PM\n",
        "\n",
        "---"
      ],
      "metadata": {
        "id": "TLH2NCL-V8J_"
      }
    },
    {
      "cell_type": "markdown",
      "source": [
        "## <a name=\"HW1Inst\">Instructions:</a>\n",
        "---\n",
        "\n",
        "1. <font color=\"tomato\">Either click the COPY TO DRIVE button or use the menu File/Save/Save a Copy to save your own version of the notebook in your own folder in Google Drive.</font>\n",
        "\n",
        "  - If you do not have a Google account, you will need to create a Google account in order to create your own individual copy of this notebook.\n",
        "  - By default, the notebook will be saved in a folder named **Colab Notebooks** in your drive.\n",
        "  - Feel free to name and store the notebook wherever you like!\n",
        "\n",
        "2. <font color=\"mediumseagreen\">After you have copied the notebook into your Drive, you can begin editing and saving your work.</font>\n",
        "\n",
        "**Upload your completed assignment into Canvas as a Google Colab (or Jupyter) Notebook with file extension `.ipynb`.**\n",
        "\n",
        "Upload your file into the Homework 11 assignment in Canvas before <font color=\"dodgerblue\">**11:59PM on Wednesday, April 23.**</font>\n",
        "\n",
        "**You must provide supporting work for your all of your answers.**\n",
        "\n",
        "  - <font color=\"dodgerblue\">That work will include using R code cells.</font>\n",
        "    - **Feel free to insert as much R code as you like.**\n",
        "    - You must interpret or explain how the output of a code cell is being utilized to solve the problem.\n",
        "    - **Code with incomplete or missing explanations of why the output is useful may not receive full credit.**\n",
        "  - <font color=\"dodgerblue\">Your work will also involve writing explanations and justifications in text cells.</font>\n",
        "    - **Be sure to type/write out the steps of your work/explanation so I can see how you arrived at your answer.**\n",
        "\n",
        "\n",
        "## Important Academic Policies:\n",
        "---\n",
        "\n",
        "- **Be your own work.** Though you may collaborate with others, everyone is responsible for writing up the work in their own way using their own methods. Plagiarism of any form is not tolerated.\n",
        "- **Be complete.** You must provide all work and/or explanations needed to find the solution. Answers with insufficient or incomplete supporting work may lose credit.\n",
        "- **Adhere to the Code of Academic Honesty.**\n",
        "- **Be clearly written (and legible if written).** Your solution to a problem must be clear, written in complete sentences. You may lose credit for work that is unclear or hard to follow.\n",
        "\n",
        "## <font color=\"dodgerblue\">Let me know if you need help, and **GOOD LUCK!!!**</font>\n",
        "\n",
        "----"
      ],
      "metadata": {
        "id": "G65tVJGG0ObO"
      }
    },
    {
      "cell_type": "markdown",
      "source": [
        "# <a name=\"Q1\">Question 1</a>\n",
        "---\n",
        "\n",
        "Create a function called `is_even` that takes a single number, `n`, and returns `TRUE` if `n` is an even number and `FALSE` if `n` is an odd number.\n",
        "\n",
        "Then run the second code cell to check your work.\n",
        "\n",
        "\n",
        "## <font color=\"mediumseagreen\">Hint:</font>\n",
        "\n",
        "---\n",
        "\n",
        "\n",
        "<font color=\"mediumseagreen\">One way to determine if a number is even is to use the modulo operator, `%%`. The modulo operator returns the remainder of a quotient, e.g., `x %% y` returns the remainder of `x / y`. What is the remainder when you divide an even number by 2? An odd number by 2? Feel free to use another method other than the modulo operator.</a>\n",
        "\n",
        "\n"
      ],
      "metadata": {
        "id": "YAndr8n2SAzO"
      }
    },
    {
      "cell_type": "code",
      "source": [
        "# enter code to define is_even\n",
        "\n",
        "# Create a function called is_even that takes one parameter, n.\n",
        "is_even <- function(n)\n",
        "{\n",
        "  even_odd_check <- n %% 2  # Use modulo operator to check if the number \"n\" is even or odd.\n",
        "                            # If the number is even, the result would be 0, and if number is odd the result would be 1.\n",
        "\n",
        "  if (even_odd_check == 0)  # # If the result is 0, it means that n is an even number.\n",
        "  {\n",
        "    return (TRUE)  # Return TRUE.\n",
        "  }\n",
        "  else  # If the result is not 0, it means that n is not an odd number.\n",
        "  {\n",
        "    return (FALSE)  # Return FALSE.\n",
        "  }\n",
        "}"
      ],
      "metadata": {
        "id": "hffkzYZfEzPu"
      },
      "execution_count": null,
      "outputs": []
    },
    {
      "cell_type": "code",
      "source": [
        "# run to check your code\n",
        "is_even(1002)\n",
        "is_even(79)\n",
        "is_even(1002.2)  # This is not an even number because for numbers to be even, they must be an integer (whole number) as well.\n",
        "                 # However, 1002.2 is not an integer because it has decimals which makes it unqualified to be an even number."
      ],
      "metadata": {
        "id": "h2gI0FhCE4Vy",
        "colab": {
          "base_uri": "https://localhost:8080/",
          "height": 69
        },
        "outputId": "fd4b0ac5-779a-449c-8dee-f7517ad8575c"
      },
      "execution_count": null,
      "outputs": [
        {
          "output_type": "display_data",
          "data": {
            "text/html": [
              "TRUE"
            ],
            "text/markdown": "TRUE",
            "text/latex": "TRUE",
            "text/plain": [
              "[1] TRUE"
            ]
          },
          "metadata": {}
        },
        {
          "output_type": "display_data",
          "data": {
            "text/html": [
              "FALSE"
            ],
            "text/markdown": "FALSE",
            "text/latex": "FALSE",
            "text/plain": [
              "[1] FALSE"
            ]
          },
          "metadata": {}
        },
        {
          "output_type": "display_data",
          "data": {
            "text/html": [
              "FALSE"
            ],
            "text/markdown": "FALSE",
            "text/latex": "FALSE",
            "text/plain": [
              "[1] FALSE"
            ]
          },
          "metadata": {}
        }
      ]
    },
    {
      "cell_type": "markdown",
      "source": [
        "# <a name=\"Q2\">Question 2</a>\n",
        "---\n",
        "\n",
        "The `floor` function rounds a numeric value down to the nearest integer value. The `ceiling` function rounds a numeric value up to the nearest integer value. *You can gain some intuition with these commands by running the commands in the first code cell below if you like.*\n"
      ],
      "metadata": {
        "id": "ik0pMSoYD8nv"
      }
    },
    {
      "cell_type": "code",
      "source": [
        "# optional code cell to play around with these functions\n",
        "floor(3)\n",
        "floor(3.999)\n",
        "floor(4)\n",
        "ceiling(4)\n",
        "ceiling(4.001)\n",
        "ceiling(5)"
      ],
      "metadata": {
        "id": "6_0CNUdTFV9p",
        "colab": {
          "base_uri": "https://localhost:8080/",
          "height": 121
        },
        "outputId": "87303372-2c86-4e09-ea15-1fb059a2b672"
      },
      "execution_count": null,
      "outputs": [
        {
          "output_type": "display_data",
          "data": {
            "text/html": [
              "3"
            ],
            "text/markdown": "3",
            "text/latex": "3",
            "text/plain": [
              "[1] 3"
            ]
          },
          "metadata": {}
        },
        {
          "output_type": "display_data",
          "data": {
            "text/html": [
              "3"
            ],
            "text/markdown": "3",
            "text/latex": "3",
            "text/plain": [
              "[1] 3"
            ]
          },
          "metadata": {}
        },
        {
          "output_type": "display_data",
          "data": {
            "text/html": [
              "4"
            ],
            "text/markdown": "4",
            "text/latex": "4",
            "text/plain": [
              "[1] 4"
            ]
          },
          "metadata": {}
        },
        {
          "output_type": "display_data",
          "data": {
            "text/html": [
              "4"
            ],
            "text/markdown": "4",
            "text/latex": "4",
            "text/plain": [
              "[1] 4"
            ]
          },
          "metadata": {}
        },
        {
          "output_type": "display_data",
          "data": {
            "text/html": [
              "5"
            ],
            "text/markdown": "5",
            "text/latex": "5",
            "text/plain": [
              "[1] 5"
            ]
          },
          "metadata": {}
        },
        {
          "output_type": "display_data",
          "data": {
            "text/html": [
              "5"
            ],
            "text/markdown": "5",
            "text/latex": "5",
            "text/plain": [
              "[1] 5"
            ]
          },
          "metadata": {}
        }
      ]
    },
    {
      "cell_type": "markdown",
      "source": [
        "### Answer the following:\n",
        "\n",
        "---\n",
        "\n",
        "If we use `floor(x)` or `ceiling(x)` and `x` is an integer, than what does the function return?\n"
      ],
      "metadata": {
        "id": "3r-TptAzFVF_"
      }
    },
    {
      "cell_type": "code",
      "source": [
        "# use code cell to expirement and help answer!\n",
        "floor(9)\n",
        "floor(2837)\n",
        "ceiling(1000)\n",
        "ceiling(2763)"
      ],
      "metadata": {
        "id": "V_Jd8FmuGDK2",
        "colab": {
          "base_uri": "https://localhost:8080/",
          "height": 86
        },
        "outputId": "ac7ee8fa-8753-42f8-9f22-fc55c4cac7bd"
      },
      "execution_count": null,
      "outputs": [
        {
          "output_type": "display_data",
          "data": {
            "text/html": [
              "9"
            ],
            "text/markdown": "9",
            "text/latex": "9",
            "text/plain": [
              "[1] 9"
            ]
          },
          "metadata": {}
        },
        {
          "output_type": "display_data",
          "data": {
            "text/html": [
              "2837"
            ],
            "text/markdown": "2837",
            "text/latex": "2837",
            "text/plain": [
              "[1] 2837"
            ]
          },
          "metadata": {}
        },
        {
          "output_type": "display_data",
          "data": {
            "text/html": [
              "1000"
            ],
            "text/markdown": "1000",
            "text/latex": "1000",
            "text/plain": [
              "[1] 1000"
            ]
          },
          "metadata": {}
        },
        {
          "output_type": "display_data",
          "data": {
            "text/html": [
              "2763"
            ],
            "text/markdown": "2763",
            "text/latex": "2763",
            "text/plain": [
              "[1] 2763"
            ]
          },
          "metadata": {}
        }
      ]
    },
    {
      "cell_type": "markdown",
      "source": [
        "## <a name=\"sol2\">Solution to Question 2</a>\n",
        "\n",
        "---\n",
        "\n",
        "Type your answer here using complete sentence(s).\n",
        "\n",
        "When using floor(x) and ceiling(x) when x is an integer, the function just return the integer x.\n",
        "\n",
        "\n",
        "<br>  \n",
        "<br>  "
      ],
      "metadata": {
        "id": "62RefKOAD8nx"
      }
    },
    {
      "cell_type": "markdown",
      "source": [
        "# <a name=\"Q3\">Question 3</a>\n",
        "---\n",
        "\n",
        "\n",
        "Let's create a function we will name `mpos` to determine the middle *position* of a vector of length `n` (if `n` is odd) or the middle *positions* of a vector if `n` is even. For example:\n",
        "\n",
        "- If `x <- c(12, 18, 28, -17, 21)`, then the length of the vector is `n=5` whose middle position is element 3. Thus, we have `mpos(5)` <font color=\"dodgerblue\">**returns a single value**</font> `3`.\n",
        "\n",
        "- Similarly, if `x <- c(12, 18, 28, -17, 21, -25)`, then the length of the vector is `n=6` whose middle positions are elements 3 and 4. Thus,  `mpos(6)` <font color=\"dodgerblue\">**returns a vector of two values**</font> `3` and `4`.\n",
        "\n",
        "Our function `mpos` should take an integer value `n` (that ultimately will correspond to the length of some vector) and return either a single value or a vector of two values corresponding to the middle position (or positions) of integer `n`.\n",
        "\n",
        "- If `n` is even, then the middle positions are `n/2` and `n/2 + 1`.\n",
        "- If `n` is odd, then the middle position is `ceiling(n/2)`.\n",
        "\n",
        "Use the `is_even` function from [Question 1](#Q1), the `ceiling` function, and some control statements (`if-else` or `switch`) so that `mpos` returns either the middle position or a vector of middle positions based on the value of `n`.\n"
      ],
      "metadata": {
        "id": "zz2izP8sD8u2"
      }
    },
    {
      "cell_type": "code",
      "source": [
        "# use code cell to define function\n",
        "\n",
        "# Create a function to find the middle position of a given vector of length, n.\n",
        "mpos <- function(n)\n",
        "{\n",
        "  if (is_even(n))  # Check if the number is even, this function will return TRUE if even and FALSE if odd.\n",
        "  {\n",
        "    # If number is even then return a vector of n/2 and n/2 + 1 as specified in the question.\n",
        "    return (c(n/2, (n/2) + 1))\n",
        "  }\n",
        "  else  # If number is not even.\n",
        "  {\n",
        "    # Return ceiling(n/2) as specified in the question.\n",
        "    return (ceiling(n/2))\n",
        "  }\n",
        "}"
      ],
      "metadata": {
        "id": "S05MHkOfHc11"
      },
      "execution_count": null,
      "outputs": []
    },
    {
      "cell_type": "code",
      "source": [
        "# check your work by running the commands\n",
        "mpos(1000)  # should return a vector of two values: 500 and 501\n",
        "mpos(1001)  # should return 501"
      ],
      "metadata": {
        "id": "_7DLif1LHdu8",
        "colab": {
          "base_uri": "https://localhost:8080/",
          "height": 52
        },
        "outputId": "430fac79-504b-443f-a5d3-23680e865445"
      },
      "execution_count": null,
      "outputs": [
        {
          "output_type": "display_data",
          "data": {
            "text/html": [
              "<style>\n",
              ".list-inline {list-style: none; margin:0; padding: 0}\n",
              ".list-inline>li {display: inline-block}\n",
              ".list-inline>li:not(:last-child)::after {content: \"\\00b7\"; padding: 0 .5ex}\n",
              "</style>\n",
              "<ol class=list-inline><li>500</li><li>501</li></ol>\n"
            ],
            "text/markdown": "1. 500\n2. 501\n\n\n",
            "text/latex": "\\begin{enumerate*}\n\\item 500\n\\item 501\n\\end{enumerate*}\n",
            "text/plain": [
              "[1] 500 501"
            ]
          },
          "metadata": {}
        },
        {
          "output_type": "display_data",
          "data": {
            "text/html": [
              "501"
            ],
            "text/markdown": "501",
            "text/latex": "501",
            "text/plain": [
              "[1] 501"
            ]
          },
          "metadata": {}
        }
      ]
    },
    {
      "cell_type": "markdown",
      "source": [
        "# <a name=\"Q4\">Question 4</a>\n",
        "\n",
        "---\n",
        "\n",
        "In this problem, we are going to manually create a function named `my_med` that returns the median of a vector of values. Create a function called `my_med` that takes a `numeric` `vector`, `x` and performs the following actions:\n",
        "\n",
        "1. It sorts `x` from smallest to largest. Call the sorted vector `sx`.\n",
        "2. It computes `n <- length(x)`.\n",
        "3. It uses the `mpos` function to determine the middle position(s) of `sx` based on `n`.\n",
        "  - If `n` is odd, then `mpos` will contain one value.\n",
        "  - If `n` is even, then `mpos` will contain a vector of two values.\n",
        "4. It extracts the value(s) in the middle position(s) of `sx`. Call these values `msx`.\n",
        "  - If `n` is odd, then `msx` has one value.\n",
        "  - If `n` is even, then `msx` is a vector of two values.\n",
        "5. It returns the average of the value(s) of `msx`.\n",
        "  - The average of a single value is the value itself.\n",
        "\n",
        "After creating your function in the first code cell, run the second code cell to generate output we can use we reviewing your work to determine whether your code is working properly."
      ],
      "metadata": {
        "id": "pbp9paDrD81j"
      }
    },
    {
      "cell_type": "code",
      "source": [
        "# use code cell to define function\n",
        "\n",
        "# This function will take a numeric vector x, sort it, find the median of it, and return the median.\n",
        "my_med <- function(x)\n",
        "{\n",
        "  sx <- sort(x)  # Default is in ascending order, so this will sort x from smallest to largest.\n",
        "  n <- length(x)  # Store the length of vector x in n.\n",
        "\n",
        "  # Find the middle positions of this vector using our previous function, mpos.\n",
        "  determine_mid <- mpos(n)\n",
        "\n",
        "  # Slice the vector x according to the middle positions from my mpos function.\n",
        "  msx <- x[determine_mid]\n",
        "\n",
        "  # Return the average of the number(s) in msx (numbers sliced using the middle positions from mpos).\n",
        "  return (mean(msx))\n",
        "}"
      ],
      "metadata": {
        "id": "9bdGpmV5IoLS"
      },
      "execution_count": null,
      "outputs": []
    },
    {
      "cell_type": "code",
      "source": [
        "# run code cell to generate output\n",
        "set.seed(27)\n",
        "x1 <- rnorm(1000)  # generate a vector of 1000 values at random from N(0, 1)\n",
        "x2 <- rnorm(1001)  # generate a vector of 1001 values at random from N(0, 1)\n",
        "my_med(x1)\n",
        "my_med(x2)"
      ],
      "metadata": {
        "id": "nvxE4AfNIqrm",
        "colab": {
          "base_uri": "https://localhost:8080/",
          "height": 52
        },
        "outputId": "3d5d1bbd-d340-4534-b682-5a0f21884967"
      },
      "execution_count": null,
      "outputs": [
        {
          "output_type": "display_data",
          "data": {
            "text/html": [
              "-0.36406631418555"
            ],
            "text/markdown": "-0.36406631418555",
            "text/latex": "-0.36406631418555",
            "text/plain": [
              "[1] -0.3640663"
            ]
          },
          "metadata": {}
        },
        {
          "output_type": "display_data",
          "data": {
            "text/html": [
              "0.767704644598847"
            ],
            "text/markdown": "0.767704644598847",
            "text/latex": "0.767704644598847",
            "text/plain": [
              "[1] 0.7677046"
            ]
          },
          "metadata": {}
        }
      ]
    },
    {
      "cell_type": "markdown",
      "source": [
        "# <a name=\"Q5\">Question 5</a>\n",
        "---\n",
        "\n",
        "Create a function, `lotr_quotes`, that takes as input a character value, `character_name`, and returns a famous quote for that character from the Lord of the Rings movie trilogy. Here are the characters you need to consider and the associated quote:\n",
        "\n",
        "- `gandalf`: \"Fly you fools!\"\n",
        "- `arwen`: \"Wha's this, a ranger? Caught off his guard?\"\n",
        "- `bilbo`: \"It's a dangerous business, Frodo, going out your door.\"\n",
        "- `sam`: \"Po-tay-toes. Boil\\'em, mash\\'em, stick\\'em in a stew.\"\n",
        "- `eowyn`: \"I am no man.\"\n",
        "- `pippin`: \"What about second breakfast?\"\n",
        "- `gollum`: \"My precious.\"\n",
        "- `galadriel`: \"Even the smallest person can change the course of the future.\"\n",
        "- Any other `character_name` value: \"Oh, yes I remember. Elderly chap. Big grey beard, pointy hat.\"\n",
        "\n",
        "After creating the `lotr_quotes` function, run the second code cell below to check your work."
      ],
      "metadata": {
        "id": "1cgr97YJD886"
      }
    },
    {
      "cell_type": "code",
      "source": [
        "# use code cell to enter function\n",
        "\n",
        "# Create a function that takes an input of characters and return the corresponding characters that match the input characters.\n",
        "lotr_quotes <- function(character_name)\n",
        "{\n",
        "  # Use switch control statement to switch the output depending on the input.\n",
        "  # The input and output is done as specified by the question.\n",
        "  switch (character_name,  # The input.\n",
        "          \"gandalf\" = \"Fly you fools!\",  # If input is \"gandalf\", then return \"Fly you fools!\", and this is the same for other lines of code as well.\n",
        "          \"arwen\" = \"Wha's this, a ranger? Caught off his guard?\",\n",
        "          \"bilbo\" = \"It's a dangerous business, Frodo, going out your door.\",\n",
        "          \"sam\" = \"Po-tay-toes. Boil'em, mash'em, stick'em in a stew.\",\n",
        "          \"eowyn\" = \"I am no man.\",\n",
        "          \"pippin\" = \"What about second breakfast?\",\n",
        "          \"gollum\" = \"My precious.\",\n",
        "          \"galadriel\" = \"Even the smallest person can change the course of the future.\",\n",
        "\n",
        "          # This a default statement which would print only if the input is not specified in any of the switch statements.\n",
        "          \"Oh, yes I remember. Elderly chap. Big grey beard, pointy hat.\")\n",
        "}"
      ],
      "metadata": {
        "id": "twXu56B_N62-"
      },
      "execution_count": null,
      "outputs": []
    },
    {
      "cell_type": "code",
      "source": [
        "# run code cell to verify your function works properly\n",
        "lotr_quotes(\"gandalf\")\n",
        "lotr_quotes(\"eowyn\")\n",
        "lotr_quotes(\"bilbo\")\n",
        "lotr_quotes(\"arwen\")\n",
        "lotr_quotes(\"sam\")\n",
        "lotr_quotes(\"galdriel\")\n",
        "lotr_quotes(\"gollum\")\n",
        "lotr_quotes(\"pippin\")\n",
        "lotr_quotes(\"tim\")"
      ],
      "metadata": {
        "id": "r-1mkIpiN6vz",
        "colab": {
          "base_uri": "https://localhost:8080/",
          "height": 173
        },
        "outputId": "6deffc44-86ee-49a5-afab-8004753471b7"
      },
      "execution_count": null,
      "outputs": [
        {
          "output_type": "display_data",
          "data": {
            "text/html": [
              "'Fly you fools!'"
            ],
            "text/markdown": "'Fly you fools!'",
            "text/latex": "'Fly you fools!'",
            "text/plain": [
              "[1] \"Fly you fools!\""
            ]
          },
          "metadata": {}
        },
        {
          "output_type": "display_data",
          "data": {
            "text/html": [
              "'I am no man.'"
            ],
            "text/markdown": "'I am no man.'",
            "text/latex": "'I am no man.'",
            "text/plain": [
              "[1] \"I am no man.\""
            ]
          },
          "metadata": {}
        },
        {
          "output_type": "display_data",
          "data": {
            "text/html": [
              "'It\\'s a dangerous business, Frodo, going out your door.'"
            ],
            "text/markdown": "'It\\'s a dangerous business, Frodo, going out your door.'",
            "text/latex": "'It\\textbackslash{}'s a dangerous business, Frodo, going out your door.'",
            "text/plain": [
              "[1] \"It's a dangerous business, Frodo, going out your door.\""
            ]
          },
          "metadata": {}
        },
        {
          "output_type": "display_data",
          "data": {
            "text/html": [
              "'Wha\\'s this, a ranger? Caught off his guard?'"
            ],
            "text/markdown": "'Wha\\'s this, a ranger? Caught off his guard?'",
            "text/latex": "'Wha\\textbackslash{}'s this, a ranger? Caught off his guard?'",
            "text/plain": [
              "[1] \"Wha's this, a ranger? Caught off his guard?\""
            ]
          },
          "metadata": {}
        },
        {
          "output_type": "display_data",
          "data": {
            "text/html": [
              "'Po-tay-toes. Boil\\'em, mash\\'em, stick\\'em in a stew.'"
            ],
            "text/markdown": "'Po-tay-toes. Boil\\'em, mash\\'em, stick\\'em in a stew.'",
            "text/latex": "'Po-tay-toes. Boil\\textbackslash{}'em, mash\\textbackslash{}'em, stick\\textbackslash{}'em in a stew.'",
            "text/plain": [
              "[1] \"Po-tay-toes. Boil'em, mash'em, stick'em in a stew.\""
            ]
          },
          "metadata": {}
        },
        {
          "output_type": "display_data",
          "data": {
            "text/html": [
              "'Oh, yes I remember. Elderly chap. Big grey beard, pointy hat.'"
            ],
            "text/markdown": "'Oh, yes I remember. Elderly chap. Big grey beard, pointy hat.'",
            "text/latex": "'Oh, yes I remember. Elderly chap. Big grey beard, pointy hat.'",
            "text/plain": [
              "[1] \"Oh, yes I remember. Elderly chap. Big grey beard, pointy hat.\""
            ]
          },
          "metadata": {}
        },
        {
          "output_type": "display_data",
          "data": {
            "text/html": [
              "'My precious.'"
            ],
            "text/markdown": "'My precious.'",
            "text/latex": "'My precious.'",
            "text/plain": [
              "[1] \"My precious.\""
            ]
          },
          "metadata": {}
        },
        {
          "output_type": "display_data",
          "data": {
            "text/html": [
              "'What about second breakfast?'"
            ],
            "text/markdown": "'What about second breakfast?'",
            "text/latex": "'What about second breakfast?'",
            "text/plain": [
              "[1] \"What about second breakfast?\""
            ]
          },
          "metadata": {}
        },
        {
          "output_type": "display_data",
          "data": {
            "text/html": [
              "'Oh, yes I remember. Elderly chap. Big grey beard, pointy hat.'"
            ],
            "text/markdown": "'Oh, yes I remember. Elderly chap. Big grey beard, pointy hat.'",
            "text/latex": "'Oh, yes I remember. Elderly chap. Big grey beard, pointy hat.'",
            "text/plain": [
              "[1] \"Oh, yes I remember. Elderly chap. Big grey beard, pointy hat.\""
            ]
          },
          "metadata": {}
        }
      ]
    },
    {
      "cell_type": "markdown",
      "source": [
        "# <a name=\"background\">Background for Problems 6-12</a>\n",
        "\n",
        "---\n",
        "\n",
        "We are familiar with the mathematical concept of area, and you recall formulas for some basic geometric shapes:\n",
        "\n",
        "- The area of rectangle is the product of its width and height.\n",
        "- The area of a triangle is one-half the base times its height.\n",
        "- The area of a circle with radius $r$ is $A = \\pi r^2$.\n",
        "\n",
        "Calculating areas under curves is useful in many contexts in mathematics, statistics, probability, and data science. In probability, if $X$ is a random variable with pdf $f_X(x)$, then $P(a < X < b)$ is equal to the area between the graph of the pdf $f_X(x)$ and the $x$-axis over the interval $a < x < b$.  In calculus, we often work with data that tells us information about a rate of change, for example a velocity which is the rate of change of position.\n",
        "\n",
        "> Given information about our velocity, how can determine the total change in a position (distance traveled)?\n",
        "\n",
        "Let $v=f(t)$ denote the velocity of an object at time $t$. Let $t$ denote the time since we initially begin changing our position. If we have a constant velocity such as $v(t) = 60$ mph, then the total distance traveled over a 3 hour trip would be\n",
        "\n",
        "$$\\text{change in position} = \\text{velocity} \\cdot \\text{time of travel} = 60 \\cdot 3 = 180 \\text{ miles}.$$\n",
        "\n",
        "We can represent this calculation as an area below the graph of the velocity $v(t) = 60$ over the interval from $t=0$ to $t=3$ (the time period over which we have been moving).\n",
        "\n",
        "<figure>\n",
        "<img src=\"https://raw.githubusercontent.com/CU-Denver-MathStats-OER/Data-Wrangling-and-Visualization/main/Images/hw11-constant-fig.png\" alt=\"Distance Traveled with Constant Velocity\" width=\"50%\">\n",
        "<figcaption>Distance Traveled with Constant Velocity</figcaption>\n",
        "</figure>\n"
      ],
      "metadata": {
        "id": "p5OrWbnWOXC5"
      }
    },
    {
      "cell_type": "markdown",
      "source": [
        "More generally, velocities are not constant when we change are position. How can we calculate the change in position over a period time in which the velocity is changing and not constant? The total change in position is still equal to the area below the graph of the velocity, but what happens when the area is not a rectangle or some other geometric object whose area we can compute from a formula?\n",
        "\n",
        "We can use calculus! The <font color=\"dodgerblue\">**definite integral**</font> is used to compute the  area that lies between a continuous function and the $x$-axis. This course doesn't require calculus, so we won't discuss the details of integration further. Definite integrals are used to calculate areas, and when we integrate a rate of change, we can interpret the area as a total change.\n",
        "\n",
        "One method for approximating the area between the graph of a function and the $x$-axis is to use a <font color=\"dodgerblue\">**Riemann sum**</font> which approximates the area in the following way:\n",
        "-  Break the region up into thin rectangles each with the same (small) width we denote $\\Delta x$.\n",
        "- Calculate the area of each rectangle.\n",
        "- Add up the areas of all the rectangles.\n",
        "\n",
        "Making the widths of the rectangles smaller (making $\\Delta x$ very small) tends to reduce the error in our estimate. See the graphic below for an illustration.\n",
        "\n",
        "<figure>\n",
        "<img src=\"https://raw.githubusercontent.com/CU-Denver-MathStats-OER/Data-Wrangling-and-Visualization/main/Images/hw11-riemann-fig.png\" alt=\"Approximating Area Under Graph with a Rectangles\" width=\"50%\">\n",
        "<figcaption>A Riemann sum gives an approximation for the area under graph using thin rectangles.</figcaption>\n",
        "</figure>\n",
        "\n",
        "The next several problems will break this process up into simpler tasks. The approach we use may not be the optimal approach as far as efficiency of code goes, but it should be reasonable based on the material we have learned."
      ],
      "metadata": {
        "id": "xmfkwgU3Q3eU"
      }
    },
    {
      "cell_type": "markdown",
      "source": [
        "# <a name=\"Q6\">Question 6</a>\n",
        "---\n",
        "\n",
        "Create a function, `midpoints`, that takes `x`, a vector of increasing `numeric` values, and computes the midpoints (i.e., average) of each successive pair of points. E.g., if the vector `x <- c(0, 0.5, 1, 2)`, then the `midpoints` function would return a vector with 3 values:\n",
        "\n",
        "- The first value is `0.25`, the midpoint between `0` and `0.5`.\n",
        "- The second value is `0.75`, the midpoint between `0.5` and `1`.\n",
        "- The final value is `1.5`, the midpoint between `1` and `2`.\n",
        "\n",
        "\n",
        "There are many approaches that would work for this. Here is one approach:\n",
        "\n",
        "1. Create a `numeric` `vector` named `results` with `length` equal to `length(x) - 1`.\n",
        "2. Create a `for` loop that iterates `i` over the values `1`, `2`, up to `length(results)`. For each value of `i`: <br>\n",
        "\n",
        "    a. Compute the `mean` of `x[i]` and `x[i + 1]`. <br>\n",
        "    b. Store the mean in `results[i]`.\n",
        "<br>  \n",
        "\n",
        "3. Once the `for` loop completes, return `results` from the function.\n",
        "\n",
        "Other approaches are allowed if you have a more efficient solution using standard R functions and not functions from a package that must be installed. After creating your function in the first code cell, run the second code cell to check your work.\n",
        "\n",
        "\n"
      ],
      "metadata": {
        "id": "K7kd10YCD9EO"
      }
    },
    {
      "cell_type": "code",
      "source": [
        "# use code cell to enter formula\n",
        "\n",
        "# Create a function that finds the midpoints of the values from the given vector, x.\n",
        "midpoints <- function(x)\n",
        "{\n",
        "  # Sort the vector x to make sure that the given vector is sorted. (Question didn't specify, but I wanted to make sure)\n",
        "  x <- sort(x)\n",
        "\n",
        "  # Create a numeric vector to contain the results from finding the midpoints called \"results.\"\n",
        "  results <- numeric(length = length(x) - 1)  # length of the numeric vector is equal to the length of numeric vector x subtracted by 1.\n",
        "                                              # This is because when we do midpoints we do them in pair and will result in a vector that has the length less than the original vector (you can see that in the question E.g.).\n",
        "\n",
        "  # Create a for loop that iterates i over the values from 1 until the length of numeric vector called \"results\".\n",
        "  for (i in 1:length(results))\n",
        "  {\n",
        "    # For each iteration, calculate the mean between the value at index i and the value at index i + 1.\n",
        "    mean_xi <- mean(c(x[i], x[i+1]))\n",
        "\n",
        "    # After calculating the midpoint between the value i and i + 1, store it in the results vector at position i.\n",
        "    results[i] <- mean_xi\n",
        "\n",
        "  }\n",
        "\n",
        "  # Once the for loop finishes, return the numeric vector, results.\n",
        "  return (results)\n",
        "}"
      ],
      "metadata": {
        "id": "wUdj6yYccDI2"
      },
      "execution_count": null,
      "outputs": []
    },
    {
      "cell_type": "code",
      "source": [
        "# run code to verify your function works properly\n",
        "check_vec <- seq(0, 10, len = 11)\n",
        "check_vec\n",
        "midpoints(check_vec)"
      ],
      "metadata": {
        "id": "AESMASHzcLEu",
        "colab": {
          "base_uri": "https://localhost:8080/",
          "height": 52
        },
        "outputId": "b081a794-91a9-4130-bd8d-928d48df3680"
      },
      "execution_count": null,
      "outputs": [
        {
          "output_type": "display_data",
          "data": {
            "text/html": [
              "<style>\n",
              ".list-inline {list-style: none; margin:0; padding: 0}\n",
              ".list-inline>li {display: inline-block}\n",
              ".list-inline>li:not(:last-child)::after {content: \"\\00b7\"; padding: 0 .5ex}\n",
              "</style>\n",
              "<ol class=list-inline><li>0</li><li>1</li><li>2</li><li>3</li><li>4</li><li>5</li><li>6</li><li>7</li><li>8</li><li>9</li><li>10</li></ol>\n"
            ],
            "text/markdown": "1. 0\n2. 1\n3. 2\n4. 3\n5. 4\n6. 5\n7. 6\n8. 7\n9. 8\n10. 9\n11. 10\n\n\n",
            "text/latex": "\\begin{enumerate*}\n\\item 0\n\\item 1\n\\item 2\n\\item 3\n\\item 4\n\\item 5\n\\item 6\n\\item 7\n\\item 8\n\\item 9\n\\item 10\n\\end{enumerate*}\n",
            "text/plain": [
              " [1]  0  1  2  3  4  5  6  7  8  9 10"
            ]
          },
          "metadata": {}
        },
        {
          "output_type": "display_data",
          "data": {
            "text/html": [
              "<style>\n",
              ".list-inline {list-style: none; margin:0; padding: 0}\n",
              ".list-inline>li {display: inline-block}\n",
              ".list-inline>li:not(:last-child)::after {content: \"\\00b7\"; padding: 0 .5ex}\n",
              "</style>\n",
              "<ol class=list-inline><li>0.5</li><li>1.5</li><li>2.5</li><li>3.5</li><li>4.5</li><li>5.5</li><li>6.5</li><li>7.5</li><li>8.5</li><li>9.5</li></ol>\n"
            ],
            "text/markdown": "1. 0.5\n2. 1.5\n3. 2.5\n4. 3.5\n5. 4.5\n6. 5.5\n7. 6.5\n8. 7.5\n9. 8.5\n10. 9.5\n\n\n",
            "text/latex": "\\begin{enumerate*}\n\\item 0.5\n\\item 1.5\n\\item 2.5\n\\item 3.5\n\\item 4.5\n\\item 5.5\n\\item 6.5\n\\item 7.5\n\\item 8.5\n\\item 9.5\n\\end{enumerate*}\n",
            "text/plain": [
              " [1] 0.5 1.5 2.5 3.5 4.5 5.5 6.5 7.5 8.5 9.5"
            ]
          },
          "metadata": {}
        }
      ]
    },
    {
      "cell_type": "markdown",
      "source": [
        "# <a name=\"Q7\">Question 7</a>\n",
        "---\n",
        "\n",
        "\n",
        "Create a function, `dx`, that takes `x`, a vector of increasing `numeric` values, and determines the difference between each successive pair of points. E.g., if the vector `x <- c(0, 0.5, 1, 2)`, then the `dx` function would return a vector with the values `0.5, 0.5, 1`.\n",
        "\n",
        "Here is one approach:\n",
        "\n",
        "1. Create a `numeric` `vector` names `results` with `length` equal to `length(x) - 1`.\n",
        "2. Create a `for` loop that iterates `i` over the values `1`, `2` up to `length(results)`. For each value of `i`: <br>\n",
        "\n",
        "    a. Compute the `x[i + 1] - x[i]`.<br>\n",
        "    b. Store the difference from the previous step in `results[i]`.<br>\n",
        "\n",
        "3. Once the `for` loop completes, return `results` from the function.\n",
        "\n",
        "<font color=\"red\">**You cannot use the `diff` function in `dx`**</font>. Other approaches are allowed if you have a more efficient solution using standard R functions and not functions from a package that must be installed. After creating your function in the first code cell, run the second code cell to check your work.\n"
      ],
      "metadata": {
        "id": "SDVgO6_UD9K1"
      }
    },
    {
      "cell_type": "code",
      "source": [
        "# use code cell to define function\n",
        "\n",
        "# Create a function that takes a numeric vector x and finds the difference between the adjacent pairs in that vector.\n",
        "dx <- function(x)\n",
        "{\n",
        "  # Sort the values in the input vector x, to make sure it is in an ascending order.\n",
        "  x <- sort(x)\n",
        "\n",
        "  # Create a numeric vector to store the results of the for loop.\n",
        "  results <- numeric(length = length(x) - 1)\n",
        "\n",
        "  # Create a for loop that iterates from 1 until the length of the vector results.\n",
        "  for(i in 1:length(results))\n",
        "  {\n",
        "    # Find the difference between the element at i + 1 and i and store it in subtraction.\n",
        "    subtraction <- x[i+1] - x[i]\n",
        "\n",
        "    # Then, store that value into the results vector at position i.\n",
        "    results[i] <- subtraction\n",
        "  }\n",
        "\n",
        "  # Once for loop finishes, return the vector results.\n",
        "  return (results)\n",
        "}"
      ],
      "metadata": {
        "id": "pGClT-aUdMjL"
      },
      "execution_count": null,
      "outputs": []
    },
    {
      "cell_type": "code",
      "source": [
        "# run code to verify your function works properly\n",
        "dx(seq(0, 10, len = 11))"
      ],
      "metadata": {
        "id": "KKx8FjirdMbo",
        "colab": {
          "base_uri": "https://localhost:8080/",
          "height": 34
        },
        "outputId": "720ccd95-fc8b-431a-d8d3-7409bb7f0b8f"
      },
      "execution_count": null,
      "outputs": [
        {
          "output_type": "display_data",
          "data": {
            "text/html": [
              "<style>\n",
              ".list-inline {list-style: none; margin:0; padding: 0}\n",
              ".list-inline>li {display: inline-block}\n",
              ".list-inline>li:not(:last-child)::after {content: \"\\00b7\"; padding: 0 .5ex}\n",
              "</style>\n",
              "<ol class=list-inline><li>1</li><li>1</li><li>1</li><li>1</li><li>1</li><li>1</li><li>1</li><li>1</li><li>1</li><li>1</li></ol>\n"
            ],
            "text/markdown": "1. 1\n2. 1\n3. 1\n4. 1\n5. 1\n6. 1\n7. 1\n8. 1\n9. 1\n10. 1\n\n\n",
            "text/latex": "\\begin{enumerate*}\n\\item 1\n\\item 1\n\\item 1\n\\item 1\n\\item 1\n\\item 1\n\\item 1\n\\item 1\n\\item 1\n\\item 1\n\\end{enumerate*}\n",
            "text/plain": [
              " [1] 1 1 1 1 1 1 1 1 1 1"
            ]
          },
          "metadata": {}
        }
      ]
    },
    {
      "cell_type": "markdown",
      "source": [
        "# <a name=\"Q8\">Question 8</a>\n",
        "---\n",
        "\n",
        "Create a function, `rarea`, that takes `numeric` `vector`s `dx` and `dy` and returns the sum of the elementwise products of `dx` and `dy`. For example:\n",
        "\n",
        "```\n",
        "dx[1] * dy[1] + dx[2] * dy[2] + ...\n",
        "```\n",
        "\n",
        "This function is computing the sum of the areas of several rectangles given their width (`dx[i]`) and height (`dy[i]`). So we compute the area of a rectangle for each value of `i` (`dx[i] * dy[i]`) and then sum all of the areas together to approximate the area under the graph of a continuous function $y=f(x)$.\n",
        "\n",
        "After creating your function in the first code cell, run the second code cell to generate output we can use we reviewing your work to determine whether your code is working properly.\n"
      ],
      "metadata": {
        "id": "2AD93AgrD9Q1"
      }
    },
    {
      "cell_type": "code",
      "source": [
        "# use code cell to define function\n",
        "\n",
        "# Create a function that takes two numeric vectors and return the sum of elementwise products. (Finding the area under the graph by finding area of each bar and adding them up)\n",
        "# (dx[1] * dy[1] + dx[2] * dy[2] +...)\n",
        "rarea <- function(dx, dy)\n",
        "{\n",
        "  # Initiate a variable called sum. (I will use this to store the additions from the products)\n",
        "  sum <- 0\n",
        "\n",
        "  # Create a for loop that iterates from 1 to the length of vector dx. (using dy wouldn't matter too, these two vectors should have the same length)\n",
        "  for(i in 1:length(dx))\n",
        "  {\n",
        "    # Find the product of the elementwise product between dx and dy and store it in product. (dx[1] * dy[1], dx[2] * dy[2]...)\n",
        "    product <- dx[i] * dy[i]\n",
        "\n",
        "    # Then add that product into the sum variable, and in every iteration, keep adding the product into the sum to sum the products up.\n",
        "    # (this acts like a summation)\n",
        "    sum <- sum + product\n",
        "  }\n",
        "\n",
        "  # Once the for loop is done, return the sum.\n",
        "  return (sum)\n",
        "}"
      ],
      "metadata": {
        "id": "PpfK4Tz9eGdw"
      },
      "execution_count": null,
      "outputs": []
    },
    {
      "cell_type": "code",
      "source": [
        "# run code cell to generate output\n",
        "# we will verify when reviewing your work\n",
        "rarea(c(1, 2, 1, 0.5, 3), c(1, 2, 1, 2, 1/3))"
      ],
      "metadata": {
        "id": "ojZycTlieKZ0",
        "colab": {
          "base_uri": "https://localhost:8080/",
          "height": 34
        },
        "outputId": "8433907b-9adf-444f-9d3c-f33b01677060"
      },
      "execution_count": null,
      "outputs": [
        {
          "output_type": "display_data",
          "data": {
            "text/html": [
              "8"
            ],
            "text/markdown": "8",
            "text/latex": "8",
            "text/plain": [
              "[1] 8"
            ]
          },
          "metadata": {}
        }
      ]
    },
    {
      "cell_type": "markdown",
      "source": [
        "# <a name=\"Q9\">Question 9</a>\n",
        "---\n",
        "\n",
        "We now create a function, `auc` (short for *area under curve*), that takes the following arguments:\n",
        "\n",
        "- `f`: a continuous, positive function.\n",
        "- `lower`: the lower limit for where we want to start our approximation.\n",
        "- `upper`: the upper limit for where we want to end our approximation.\n",
        "- `nrec`: the number of rectangles to use for our approximation.\n",
        "\n",
        "Have `auc` perform the following steps:\n",
        "\n",
        "1. Compute `x <- seq(lower, upper, length = nrec + 1)`.\n",
        "2. Use the `midpoints` function to compute the midpoints of `x`. Assign the result the name `mp`.\n",
        "3. Evaluate `f` for the values stored in `mp`. Assign this the name `fmp`. `fmp` contains the heights of our rectangles.\n",
        "4. Use the `dx` function to compute the difference between successive values of `x`. Assign the result the name `dxvals`. `dxvals` contains the widths of our rectangles.\n",
        "5. Use the `rarea` function to compute the sum of the area of the rectangles used for our approximation: supply `dxvals` as the `dx` argument and `fmp` as the `dy` argument.\n",
        "6. Have `auc` return the result of `rarea`.\n",
        "\n",
        "After creating your function in the first code cell, run the second code cell to generate output we can use we reviewing your work to determine whether your code is working properly."
      ],
      "metadata": {
        "id": "9Wv5XNf1D_8M"
      }
    },
    {
      "cell_type": "code",
      "source": [
        "# use code cell to define function\n",
        "\n",
        "# Create a function that calculates the area under the curve given the function, the lower bound, upper bound, and number of rectangles.\n",
        "auc <- function(f, lower, upper, nrec)\n",
        "{\n",
        "  # Create x values from lower bound to upper bound, the length of this vector should be number of rectangles + 1 and store it in x.\n",
        "  x <- seq(lower, upper, length = nrec + 1)\n",
        "\n",
        "  # Find the midpoints of the x values and store it in mp.\n",
        "  mp <- midpoints(x)\n",
        "\n",
        "  # Evaluate the function for the values stored in mp and store it in fmp. (Calculating the height of the current x value, or finding the y value based on the x values (midpoints))\n",
        "  fmp <- f(mp)\n",
        "\n",
        "  # Find the difference between each values of x. (Finding the width of the rectangles)\n",
        "  dxvals <- dx(x)\n",
        "\n",
        "  # Finally, calculate the area under the rectangles using rarea(dxvals, fmp) and store it in result. (dxvals are width of rectangles, and fmp are the height of the rectangles)\n",
        "  result <- rarea(dxvals, fmp)\n",
        "\n",
        "  # Once done, return the result.\n",
        "  return (result)\n",
        "}"
      ],
      "metadata": {
        "id": "7avpREoXfExq"
      },
      "execution_count": null,
      "outputs": []
    },
    {
      "cell_type": "code",
      "source": [
        "# run code cell to generate output\n",
        "# we will verify when reviewing your work\n",
        "f <- function(x) {\n",
        "  0.5 * sin(x) + 1.5\n",
        "}\n",
        "auc(f, lower = 0, upper = 10, nrec = 10)"
      ],
      "metadata": {
        "id": "qhrtA1A5fFQk",
        "colab": {
          "base_uri": "https://localhost:8080/",
          "height": 34
        },
        "outputId": "566c0775-e645-40e3-ace5-8b0dccaac2f9"
      },
      "execution_count": null,
      "outputs": [
        {
          "output_type": "display_data",
          "data": {
            "text/html": [
              "15.9589974777057"
            ],
            "text/markdown": "15.9589974777057",
            "text/latex": "15.9589974777057",
            "text/plain": [
              "[1] 15.959"
            ]
          },
          "metadata": {}
        }
      ]
    },
    {
      "cell_type": "markdown",
      "source": [
        "# <a name=\"Q10\">Question 10</a>\n",
        "---\n",
        "\n",
        "The previous problem allowed us to approximate the area under a curve for a fixed number of rectangles. However, it's tough to know how many rectangles we should use ahead of time. We are going to use a `while` loop to improve our approximation by doubling the number of rectangles used in our approximation until the change in our approximation is small.\n",
        "\n",
        "Create a new function, `adaptive_auc`, that takes the following arguments:\n",
        "\n",
        "- `f`: a continuous, positive function.\n",
        "- `lower`: the lower limit for where we want to start our approximation.\n",
        "- `upper`: the upper limit for where we want to end our approximation.\n",
        "- `nrec`: the starting number of rectangles to use for our approximation.\n",
        "- `tol`: a number that controls how accurate our approximation should be. This should be a small number like 0.001.\n",
        "\n",
        "Here is what `adaptive_auc` should do:\n",
        "\n",
        "1. Use the `auc` function to compute the approximate area under `f` between `lower` and `upper` using `nrec` rectangles. Assign the result the name `a_old`.\n",
        "2. Double `nrec` and assign it the name `nrec`.\n",
        "3. Use the `auc` function to compute the approximate area under `f` between `lower` and `upper` using `nrec` rectangles. Assign the result the name `a_new`. (This will probably not be the same as `a_old` because we are using twice as many rectangles.)\n",
        "4. Compute `error <- abs(a_old - a_new)`. This computes the absolute value (`abs`) of the difference between the approximation using the two different values of `nrec`.\n",
        "5. Start a `while` loop with the condition `error > tol` (i.e., the loop will keep running as long as `error > tol`). Perform the following actions inside the loop: <br>\n",
        "\n",
        "    a. Set `a_old` equal to the value of `a_new`. <br>\n",
        "    b. Double `nrec` and assign it the name `nrec`. <br>\n",
        "    c. Use the `auc` function to compute the approximate area under `f` between `lower` and `upper` using `nrec` rectangles. Assign this the name `a_new`.  <br>\n",
        "    d. Compute `error <- abs(a_old - a_new)`. <br>\n",
        "    e. Run the following command: `message(\"Using \", nrec, \" rectangles changes the estimated area by \", round(error, 4))`. (This allows us to track the progress of our algorithm.)  <br>\n",
        "\n",
        "6. Once the `while` loop completes, return `a_new`.\n",
        "\n",
        "After creating your function in the first code cell, run the second code cell to generate output we can use we reviewing your work to determine whether your code is working properly.\n"
      ],
      "metadata": {
        "id": "hMxKRDGsEACQ"
      }
    },
    {
      "cell_type": "code",
      "source": [
        "# use code cell to define function\n",
        "\n",
        "# Create a similar function auc, but this time, the function will improve its approximation by making sure that the error is less than the input tol.\n",
        "adaptive_auc <- function(f, lower, upper, nrec, tol)\n",
        "{\n",
        "  # Find the area under the curve using auc and store it in a_old.\n",
        "  a_old <- auc(f, lower, upper, nrec)\n",
        "\n",
        "  # Double the number of rectangles and store it in nrec again.\n",
        "  nrec <- nrec ^ 2\n",
        "\n",
        "  # Now find the area under the curve of the doubled number of rectangles.\n",
        "  a_new <- auc(f, lower, upper, nrec)\n",
        "\n",
        "  # Find the error of the area under the curve with doubled number of rectangles and without the doubled number of rectangles.\n",
        "  # Use abs() to make sure the answer is not negative. (absolute value)\n",
        "  error <- abs(a_old - a_new)\n",
        "\n",
        "  # Create a while loop that will iterate as long as the error is still bigger than the tol variable from the input.\n",
        "  while(error > tol)\n",
        "  {\n",
        "    # Set a_old equal to a_new.\n",
        "    a_old <- a_new\n",
        "\n",
        "    # Double the number of rectangles again and store in nrec.\n",
        "    nrec <- nrec ^ 2\n",
        "\n",
        "    # Then find the area under the curve with this new doubled number of rectangles.\n",
        "    a_new <- auc(f, lower, upper, nrec)\n",
        "\n",
        "    # Find the error between the old approximation and the new approximation.\n",
        "    error <- abs(a_old - a_new)\n",
        "\n",
        "    # This is use to keep track of how many rectangles and how many times this while loop ran.\n",
        "    message(\"Using \", nrec, \" rectangles changes the estimated area by \", round(error, 4))\n",
        "  }\n",
        "\n",
        "  # Once the while loop is done, return a_new which will be the estimate of the area under the curve that has the error lower than tol.\n",
        "  return (a_new)\n",
        "}"
      ],
      "metadata": {
        "id": "2kDjebRsgYT6"
      },
      "execution_count": null,
      "outputs": []
    },
    {
      "cell_type": "code",
      "source": [
        "# run code cell to generate output\n",
        "# we will verify when reviewing your work\n",
        "adaptive_auc(f, 0, 10, 10, tol = 0.001)"
      ],
      "metadata": {
        "id": "7Yt5tu_WgdnK",
        "colab": {
          "base_uri": "https://localhost:8080/",
          "height": 69
        },
        "outputId": "c45c16e4-9118-4f3a-a7a8-a5cd2d8a2baf"
      },
      "execution_count": null,
      "outputs": [
        {
          "output_type": "stream",
          "name": "stderr",
          "text": [
            "Using 10000 rectangles changes the estimated area by 4e-04\n",
            "\n"
          ]
        },
        {
          "output_type": "display_data",
          "data": {
            "text/html": [
              "15.9195358028522"
            ],
            "text/markdown": "15.9195358028522",
            "text/latex": "15.9195358028522",
            "text/plain": [
              "[1] 15.91954"
            ]
          },
          "metadata": {}
        }
      ]
    },
    {
      "cell_type": "markdown",
      "source": [
        "# <a name=\"Q11\">Question 11</a>\n",
        "---\n",
        "\n",
        "\n",
        "Numerical integration in R can be performed using the `integrate` function. The main arguments to `integrate(f, lower, upper)` are:\n",
        "\n",
        "- `f`: an R function taking a numeric first argument and returning a numeric vector of the same length.\n",
        "- `lower`: the lower limit of integration.\n",
        "- `upper`: the upper limit of integration.\n",
        "\n",
        "In the code cell below, use the `integrate` function to check the output from the previous question using the same function for `f` as used in the previous two questions.\n"
      ],
      "metadata": {
        "id": "cSvzcHNgEAIU"
      }
    },
    {
      "cell_type": "code",
      "source": [
        "# use integrate() to check your work\n",
        "integrate(f, 0, 10)"
      ],
      "metadata": {
        "id": "n6hTzCGjg2I1",
        "colab": {
          "base_uri": "https://localhost:8080/",
          "height": 34
        },
        "outputId": "80c7721e-403a-460e-bc74-b2475d900bb7"
      },
      "execution_count": null,
      "outputs": [
        {
          "output_type": "display_data",
          "data": {
            "text/plain": [
              "15.91954 with absolute error < 5e-12"
            ]
          },
          "metadata": {}
        }
      ]
    },
    {
      "cell_type": "markdown",
      "source": [
        "# <a name=\"Q12\">Question 12</a>\n",
        "---\n",
        "\n",
        "Use the `microbenchmark` function from the **microbenchmark** package to compare the speed of the `dx` function created earlier to the speed of the `diff` function (which should produce the same result for a numeric vector `x`.)\n",
        "\n",
        "Run the following commands to create the data you will used in the timing:\n",
        "\n"
      ],
      "metadata": {
        "id": "XYABHq4jEAOj"
      }
    },
    {
      "cell_type": "code",
      "source": [
        "# run code to generate data in x to test speeds later in this question\n",
        "set.seed(27)\n",
        "x <- sort(rnorm(100))"
      ],
      "metadata": {
        "id": "hw1NQ2CnkbSP"
      },
      "execution_count": null,
      "outputs": []
    },
    {
      "cell_type": "markdown",
      "source": [
        "Use the `microbenchmark` function from the **microbenchmark** package to compare the speed of `dx(x)` and `diff(x)` using 1000 replications.\n",
        "\n",
        "- Run the first code to install and load the `microbenchmark` package.\n",
        "- In the second code cell, use the `microbenchmark` package to compare timings. Assign the output to an object (of your naming).\n",
        "- In the third code cell, use the `plot()` function to plot the `microbenchmark` output stored in the object you created in the previous code cell.\n",
        "\n",
        "\n",
        "Finally, in the text cell that follows the code cell, determine explain whether or not the vectorized `diff` function is substantially faster than our `dx` function?\n",
        "\n"
      ],
      "metadata": {
        "id": "qb9VW9BykapH"
      }
    },
    {
      "cell_type": "code",
      "source": [
        "# run to load and install microbenchmark package\n",
        "install.packages(\"microbenchmark\")\n",
        "library(microbenchmark)"
      ],
      "metadata": {
        "id": "l6Y0lOJ1jgHg",
        "colab": {
          "base_uri": "https://localhost:8080/"
        },
        "outputId": "7d06e813-c8d2-4162-8841-889b86e92e00"
      },
      "execution_count": null,
      "outputs": [
        {
          "output_type": "stream",
          "name": "stderr",
          "text": [
            "Installing package into ‘/usr/local/lib/R/site-library’\n",
            "(as ‘lib’ is unspecified)\n",
            "\n"
          ]
        }
      ]
    },
    {
      "cell_type": "code",
      "source": [
        "# use microbenchmark package to compare timings\n",
        "\n",
        "# Use the microbenchmark to test which is faster between dx(x) (that I made), and diff(x), by running the test 1000 times.\n",
        "timings <- microbenchmark(dx(x), diff(x), times = 1000)"
      ],
      "metadata": {
        "id": "9fb6gc9Tjs76"
      },
      "execution_count": null,
      "outputs": []
    },
    {
      "cell_type": "code",
      "source": [
        "# plot output from microbenchmark\n",
        "plot(timings)"
      ],
      "metadata": {
        "id": "NyJxW9qdjxjk",
        "colab": {
          "base_uri": "https://localhost:8080/",
          "height": 437
        },
        "outputId": "6fc32476-c463-49e1-87cf-029b625f56dc"
      },
      "execution_count": null,
      "outputs": [
        {
          "output_type": "display_data",
          "data": {
            "text/plain": [
              "plot without title"
            ],
            "image/png": "[encoded data removed]"
          },
          "metadata": {
            "image/png": {
              "width": 420,
              "height": 420
            }
          }
        }
      ]
    },
    {
      "cell_type": "markdown",
      "source": [
        "## <a name=\"sol12\">Solution to Question 12</a>\n",
        "\n",
        "---\n",
        "\n",
        "Use complete sentences to answer the question.\n",
        "\n",
        "The diff(x) function is faster than the dx(x) function.\n",
        "\n",
        "From the graph, you can see that the diff(x) function performs faster than the dx(x) function because the diff(x) boxplot seems to be grouped up at a time interval that is faster than dx(x). And in the middle of the boxplot is also the average of that function. Which also shows that on average, diff(x) would perform faster than dx(x).\n",
        "\n",
        "\n",
        "\n",
        "<br>  \n",
        "<br>  "
      ],
      "metadata": {
        "id": "0DLQUQK-EAOk"
      }
    },
    {
      "cell_type": "markdown",
      "source": [
        "# <a name=\"save2\">Be Sure You Have Saved Your Work!</a>\n",
        "\n",
        "---\n",
        "\n",
        "This notebook is a shared Colab notebook available for anyone to view. However, since everyone is sharing this notebook, you do not have permission to save changes to this shared Colab notebook. In order to save your work:\n",
        "\n",
        "1. You will need to set up a free Google Drive account. If you already have a Google Drive account, you are ready to go!\n",
        "2. Click the `Copy to Drive` button to the right of the `+ Code` and `+ Text` buttons on top of the notebook.\n",
        "3. Select from the menu `File/Save a Copy in Drive`.\n",
        "  - By default, the notebook will be saved in a folder named **Colab Notebooks** in your Drive.\n",
        "  - Feel free to rename and store the notebook wherever you like.\n"
      ],
      "metadata": {
        "id": "iBmMPoh1CkEf"
      }
    }
  ]
}